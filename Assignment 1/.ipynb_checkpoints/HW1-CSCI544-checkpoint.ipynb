{
 "cells": [
  {
   "cell_type": "code",
   "execution_count": 1,
   "metadata": {},
   "outputs": [
    {
     "name": "stderr",
     "output_type": "stream",
     "text": [
      "[nltk_data] Downloading package wordnet to\n",
      "[nltk_data]     C:\\Users\\Ayan\\AppData\\Roaming\\nltk_data...\n",
      "[nltk_data]   Package wordnet is already up-to-date!\n"
     ]
    }
   ],
   "source": [
    "import pandas as pd\n",
    "import numpy as np\n",
    "import nltk\n",
    "nltk.download('wordnet')\n",
    "import re\n",
    "from bs4 import BeautifulSoup\n",
    " "
   ]
  },
  {
   "cell_type": "code",
   "execution_count": 4,
   "metadata": {},
   "outputs": [],
   "source": [
    "# ! pip install bs4 # in case you don't have it installed\n",
    "\n",
    "# Dataset: https://s3.amazonaws.com/amazon-reviews-pds/tsv/amazon_reviews_us_Beauty_v1_00.tsv.gz"
   ]
  },
  {
   "cell_type": "markdown",
   "metadata": {},
   "source": [
    "## Read Data"
   ]
  },
  {
   "cell_type": "code",
   "execution_count": 2,
   "metadata": {},
   "outputs": [
    {
     "name": "stderr",
     "output_type": "stream",
     "text": [
      "C:\\Users\\Ayan\\AppData\\Local\\Temp\\ipykernel_12620\\3693539848.py:1: FutureWarning: The error_bad_lines argument has been deprecated and will be removed in a future version. Use on_bad_lines in the future.\n",
      "\n",
      "\n",
      "  df = pd.read_csv('./amazon_reviews_us_Beauty_v1_00.tsv', sep='\\t', error_bad_lines=False, warn_bad_lines=False)\n",
      "C:\\Users\\Ayan\\AppData\\Local\\Temp\\ipykernel_12620\\3693539848.py:1: FutureWarning: The warn_bad_lines argument has been deprecated and will be removed in a future version. Use on_bad_lines in the future.\n",
      "\n",
      "\n",
      "  df = pd.read_csv('./amazon_reviews_us_Beauty_v1_00.tsv', sep='\\t', error_bad_lines=False, warn_bad_lines=False)\n",
      "C:\\Users\\Ayan\\AppData\\Local\\Temp\\ipykernel_12620\\3693539848.py:1: DtypeWarning: Columns (7) have mixed types. Specify dtype option on import or set low_memory=False.\n",
      "  df = pd.read_csv('./amazon_reviews_us_Beauty_v1_00.tsv', sep='\\t', error_bad_lines=False, warn_bad_lines=False)\n"
     ]
    }
   ],
   "source": [
    "df = pd.read_csv('./amazon_reviews_us_Beauty_v1_00.tsv', sep='\\t', error_bad_lines=False, warn_bad_lines=False)\n"
   ]
  },
  {
   "cell_type": "markdown",
   "metadata": {},
   "source": [
    "## Keep Reviews and Ratings"
   ]
  },
  {
   "cell_type": "code",
   "execution_count": 20,
   "metadata": {},
   "outputs": [],
   "source": [
    "df = df[['star_rating', 'review_body']]"
   ]
  },
  {
   "cell_type": "markdown",
   "metadata": {},
   "source": [
    "# let ratings with the values of 1 and 2 form class 1, ratings with the value of 3 form class 2, and ratings with the values of 4 and 5 form class 3"
   ]
  },
  {
   "cell_type": "code",
   "execution_count": 21,
   "metadata": {},
   "outputs": [
    {
     "name": "stdout",
     "output_type": "stream",
     "text": [
      "588295 324095 3198869\n"
     ]
    }
   ],
   "source": [
    "class_one = df[(df['star_rating']==1) | (df['star_rating']==2)]\n",
    "class_two = df[df['star_rating']==3]\n",
    "class_three = df[(df['star_rating']==4) | (df['star_rating']==5)]\n",
    "print(len(class_one), len(class_two), len(class_three))"
   ]
  },
  {
   "cell_type": "markdown",
   "metadata": {},
   "source": [
    " ## We form three classes and select 20000 reviews randomly from each class.\n",
    "\n"
   ]
  },
  {
   "cell_type": "code",
   "execution_count": 45,
   "metadata": {},
   "outputs": [
    {
     "name": "stdout",
     "output_type": "stream",
     "text": [
      "48000 12000\n"
     ]
    }
   ],
   "source": [
    "class_one = class_one.sample(n=20000, random_state=100)\n",
    "class_two = class_two.sample(n=20000, random_state=100)\n",
    "class_three = class_three.sample(n=20000, random_state=100)\n",
    "dataset = pd.concat([class_one, class_two, class_three])\n",
    "dataset.reset_index(drop=True)\n",
    "train = dataset.sample(frac=0.8, random_state=100)\n",
    "test = dataset.drop(train.index)\n",
    "train = train.reset_index(drop = True)\n",
    "test = test.reset_index(drop = True)\n",
    "print(len(train), len(test))"
   ]
  },
  {
   "cell_type": "markdown",
   "metadata": {},
   "source": [
    "# Data Cleaning\n",
    "\n"
   ]
  },
  {
   "cell_type": "markdown",
   "metadata": {},
   "source": [
    "# convert all reviews into lowercase"
   ]
  },
  {
   "cell_type": "code",
   "execution_count": 65,
   "metadata": {},
   "outputs": [],
   "source": [
    "avg_len_before = (train['review_body'].str.len().sum() + test['review_body'].str.len().sum())/60000\n",
    "\n",
    "#Covert all reviews to lower case\n",
    "train['review_body'] = train['review_body'].str.lower()\n",
    "test['review_body'] = test['review_body'].str.lower()"
   ]
  },
  {
   "cell_type": "markdown",
   "metadata": {},
   "source": [
    "# remove the HTML and URLs from the reviews"
   ]
  },
  {
   "cell_type": "code",
   "execution_count": 74,
   "metadata": {},
   "outputs": [
    {
     "name": "stdout",
     "output_type": "stream",
     "text": [
      "   star_rating                                        review_body\n",
      "0            3                                              so so\n",
      "1            1  i haven't noticed any improvement. i've been u...\n",
      "2            2  very small amount of makeup in tube.  won't bu...\n",
      "3            1  this razor looks good but it is a piece of jun...\n",
      "4            1  my own fault- i read reviews for an hour but n...\n",
      "5            4  this baby lasts me about 10 shaves per charge ...\n",
      "6            3  bottle arrived open and leaking! this is ok bu...\n",
      "7            3  i saw this on a talk show, and it was so hyped...\n",
      "8          5.0  this product is wonderful.  a beauty and suppl...\n",
      "9            5  my significant other uses it to moisturizer hi...\n",
      "10           5                                         very good!\n",
      "11           3  i've been using this for about a month now, an...\n",
      "12           3  when placing order you have a choice of shade ...\n",
      "13           1  i have had these for a bit now and i still can...\n",
      "14           5  great product, hopefully this one will last lo...\n",
      "15           1  simply horrible item. would not attach to the ...\n",
      "16           3  i am the kind of person who shaves my legs eve...\n",
      "17         5.0  this wig was pretty inexpensive, but what a ni...\n",
      "18           3                      scent does not last very long\n",
      "19           3  got exactly what we wanted, and it fits nicely...\n",
      "20           1  i loved the original version of this product. ...\n",
      "21           2  after a few uses, the stuff doesn't come out w...\n",
      "22           5                             so nice and very chaep\n",
      "23         3.0  i definitely view this product as just \"okay\"....\n",
      "24         1.0  disappears as soon as i put it in my hair. the...\n",
      "25           5               worked really good for my nail drill\n",
      "26         2.0  first off, let me explain this: i live in the ...\n",
      "27         5.0  gifted to my grandma, and she loved it. said i...\n",
      "28           3  i have really enjoyed this light.  it worked f...\n",
      "29           1  looks nothing like the picture. big waste of m...\n",
      "30           5  i wear these to the gym & in the summer time. ...\n",
      "31           3  works well, but  difficult to get it mixed int...\n",
      "32         3.0                         this soap made my skin dry\n",
      "33           2  didn't do for me what the description said, i ...\n",
      "34           3  don't really use it honestly but i couldn't re...\n",
      "35           4  while i love the fragrance of poppy flowers, t...\n",
      "36           5  i wore these to a island. they are so lovely! ...\n",
      "37           5  i have been suffering from rosacea and dryness...\n",
      "38           5  two months ago, i switched from another major ...\n",
      "39           2  the mascara claims to volumize your lashes, bu...\n",
      "40           3  this waver is to heavy, and the style won't st...\n",
      "41           3  it kind of works - the vacuum is not impressiv...\n",
      "42           5  i use this sun cream 3 yrs!! really work for w...\n",
      "43           3  this is a very stripping shampoo, it makes my ...\n",
      "44           1  it's not worth the money the light is very dar...\n",
      "45           2  it used to work wonders on my hair and now its...\n",
      "46           2  the product is advertised as a lip plumper i h...\n",
      "47           3  i enjoyed the full view - i haven't had that i...\n",
      "48           4  i used the ibd acrylic, ibd, líquid acrylic an...\n",
      "49           4  the razor works very well but handle seems sho...\n"
     ]
    }
   ],
   "source": [
    "# URL Remover code (Ref:https://stackoverflow.com/questions/51994254/removing-url-from-a-column-in-pandas-dataframe)\n",
    "train['review_body'] = train['review_body'].apply(lambda x: re.split('https:\\/\\/.*', str(x))[0])\n",
    "test['review_body'] = test['review_body'].apply(lambda x: re.split('https:\\/\\/.*', str(x))[0])\n",
    "\n",
    "def html_tag_remover(review):\n",
    "    soup = BeautifulSoup(review, 'html.parser')\n",
    "    review = soup.get_text()\n",
    "    return review  \n",
    "\n",
    "train['review_body'] = train['review_body'].apply(lambda review: html_tag_remover(review))\n",
    "test['review_body'] = test['review_body'].apply(lambda review: html_tag_remover(review))"
   ]
  },
  {
   "cell_type": "markdown",
   "metadata": {},
   "source": [
    "# remove non-alphabetical characters"
   ]
  },
  {
   "cell_type": "code",
   "execution_count": null,
   "metadata": {},
   "outputs": [],
   "source": []
  },
  {
   "cell_type": "markdown",
   "metadata": {},
   "source": [
    "# remove extra spaces"
   ]
  },
  {
   "cell_type": "code",
   "execution_count": null,
   "metadata": {},
   "outputs": [],
   "source": []
  },
  {
   "cell_type": "markdown",
   "metadata": {},
   "source": [
    "# perform contractions on the reviews"
   ]
  },
  {
   "cell_type": "code",
   "execution_count": null,
   "metadata": {},
   "outputs": [],
   "source": []
  },
  {
   "cell_type": "markdown",
   "metadata": {},
   "source": [
    "# Pre-processing"
   ]
  },
  {
   "cell_type": "code",
   "execution_count": null,
   "metadata": {},
   "outputs": [],
   "source": []
  },
  {
   "cell_type": "markdown",
   "metadata": {},
   "source": [
    "## remove the stop words "
   ]
  },
  {
   "cell_type": "code",
   "execution_count": null,
   "metadata": {},
   "outputs": [],
   "source": [
    "from nltk.corpus import stopwords\n",
    " "
   ]
  },
  {
   "cell_type": "markdown",
   "metadata": {},
   "source": [
    "## perform lemmatization  "
   ]
  },
  {
   "cell_type": "code",
   "execution_count": null,
   "metadata": {},
   "outputs": [],
   "source": [
    "from nltk.stem import WordNetLemmatizer\n"
   ]
  },
  {
   "cell_type": "markdown",
   "metadata": {},
   "source": [
    "# TF-IDF Feature Extraction"
   ]
  },
  {
   "cell_type": "code",
   "execution_count": null,
   "metadata": {},
   "outputs": [],
   "source": [
    " "
   ]
  },
  {
   "cell_type": "markdown",
   "metadata": {},
   "source": [
    "# Perceptron"
   ]
  },
  {
   "cell_type": "code",
   "execution_count": null,
   "metadata": {},
   "outputs": [],
   "source": []
  },
  {
   "cell_type": "markdown",
   "metadata": {},
   "source": [
    "# SVM"
   ]
  },
  {
   "cell_type": "code",
   "execution_count": null,
   "metadata": {},
   "outputs": [],
   "source": []
  },
  {
   "cell_type": "markdown",
   "metadata": {},
   "source": [
    "# Logistic Regression"
   ]
  },
  {
   "cell_type": "code",
   "execution_count": null,
   "metadata": {},
   "outputs": [],
   "source": []
  },
  {
   "cell_type": "markdown",
   "metadata": {},
   "source": [
    "# Naive Bayes"
   ]
  },
  {
   "cell_type": "code",
   "execution_count": null,
   "metadata": {},
   "outputs": [],
   "source": []
  }
 ],
 "metadata": {
  "kernelspec": {
   "display_name": "Python 3 (ipykernel)",
   "language": "python",
   "name": "python3"
  },
  "language_info": {
   "codemirror_mode": {
    "name": "ipython",
    "version": 3
   },
   "file_extension": ".py",
   "mimetype": "text/x-python",
   "name": "python",
   "nbconvert_exporter": "python",
   "pygments_lexer": "ipython3",
   "version": "3.10.4"
  }
 },
 "nbformat": 4,
 "nbformat_minor": 4
}
