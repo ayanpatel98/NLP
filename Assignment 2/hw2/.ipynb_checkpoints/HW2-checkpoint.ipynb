{
 "cells": [
  {
   "cell_type": "code",
   "execution_count": 1,
   "id": "e8a0abec",
   "metadata": {},
   "outputs": [],
   "source": [
    "import pandas as pd\n",
    "import numpy as np\n",
    "import json"
   ]
  },
  {
   "cell_type": "markdown",
   "id": "64318c2c",
   "metadata": {},
   "source": [
    "Task 1: Vocabulary Creation "
   ]
  },
  {
   "cell_type": "code",
   "execution_count": 2,
   "id": "9af09273",
   "metadata": {},
   "outputs": [
    {
     "name": "stdout",
     "output_type": "stream",
     "text": [
      "What is the selected threshold for unknown words replacement? 2\n",
      "What is the total size of your vocabulary 16920\n",
      "What is the total occurrences of the special token '<unk>' after replacement? 32537\n"
     ]
    }
   ],
   "source": [
    "df = pd.read_csv('./data/train', sep='\\t', names=['idx', 'name', 'tag'])\n",
    "df['frequency'] = df['name'].map(df['name'].value_counts())\n",
    "def replace_unk(entry):\n",
    "    if entry['frequency']<=2:\n",
    "        return '<unk>'\n",
    "    else:\n",
    "        return entry['name']\n",
    "\n",
    "df['name'] = df.apply(lambda entry: replace_unk(entry), axis=1)\n",
    "\n",
    "# Sort by descending freq\n",
    "df = df.sort_values(by=['frequency'], ascending=False)\n",
    "# Return a Series containing counts of unique values.\n",
    "df_counted = df['name'].value_counts().reset_index()\n",
    "df_counted.columns = [''] * len(df_counted.columns)\n",
    "\n",
    "df_counted.columns = ['name', 'frequency']\n",
    "df_unknown = df_counted[df_counted['name']=='<unk>']\n",
    "\n",
    "unk_idx = df_counted[df_counted['name']=='<unk>'].index\n",
    "\n",
    "df_counted = df_counted.drop(index=unk_idx)\n",
    "df_counted = pd.concat([df_unknown, df_counted])\n",
    "df_counted = df_counted.reset_index()\n",
    "df_counted['index'] = df_counted.index+1\n",
    "columns_titles = [\"name\",\"index\", \"frequency\"]\n",
    "df_counted=df_counted.reindex(columns=columns_titles)\n",
    "df_counted.to_csv(\"vocab.txt\", sep=\"\\t\", header=None)\n",
    "\n",
    "print(\"What is the selected threshold for unknown words replacement?\", 2)\n",
    "print(\"What is the total size of your vocabulary\", len(df_counted))\n",
    "print(\"What is the total occurrences of the special token '<unk>' after replacement?\", int(df_unknown['frequency']\n",
    "                                                                                           [df_unknown['name']=='<unk>']))\n",
    "\n"
   ]
  },
  {
   "cell_type": "code",
   "execution_count": 63,
   "id": "b9a21974",
   "metadata": {
    "scrolled": true
   },
   "outputs": [],
   "source": [
    "# df = pd.read_csv('./data/train', sep='\\t', names=['idx', 'name', 'tag'])\n",
    "# df['frequency'] = df['name'].map(df['name'].value_counts())\n",
    "# df['name'] = df.apply(lambda entry: replace_unk(entry), axis=1)\n",
    "# df_pos = pd.DataFrame(df['tag'].value_counts()).reset_index()\n",
    "# df_pos.columns = [''] * len(df_pos.columns)\n",
    "# df_pos.columns = ['tag', 'count']\n",
    "# all_tags = list(df_pos['tag'])\n",
    "# print(all_tags)\n",
    "\n",
    "# all_sentences = []\n",
    "# temp_sentence = []\n",
    "# for i in range(len(df)):\n",
    "#     if df.loc[i]['idx']==1 and i!=0:\n",
    "#         all_sentences.append(temp_sentence)\n",
    "#         temp_sentence =[]\n",
    "#     temp_sentence.append((df.loc[i]['name'], df.loc[i]['tag']))\n",
    "    \n",
    "\n",
    "\n",
    "# Transition Matrix code\n",
    "transition_matrix = [[0 for j in range(len(all_tags))] for i in range(len(all_tags))]\n",
    "tag_freq = {} # format: key = <TAG>, value = <tag_freq>\n",
    "def generate_transition_matrix():\n",
    "    # Calculate tag frequency\n",
    "    for sentence in all_sentences:\n",
    "        for i in range(len(sentence)):\n",
    "            curr_tag = sentence[i][1]\n",
    "            if curr_tag not in tag_freq:\n",
    "                tag_freq[curr_tag]=1\n",
    "            else:\n",
    "                tag_freq[curr_tag]+=1\n",
    "    \n",
    "    # 1. Calculate the number of transitions from one tag to another for each sentence\n",
    "    for sentence in all_sentences:\n",
    "        for i in range(1, len(sentence)):\n",
    "            curr_tag_index = all_tags.index(sentence[i][1])\n",
    "            prev_tag_index = all_tags.index(sentence[i-1][1])\n",
    "            transition_matrix[prev_tag_index][curr_tag_index]+=1\n",
    "    \n",
    "    # 2. Calculate the transition probabilities for each transition\n",
    "    for i in range(len(transition_matrix)):\n",
    "        for j in range(len(transition_matrix[0])):\n",
    "            prev_tag_index = i\n",
    "            prev_tag_count = tag_freq[all_tags[i]]\n",
    "            transition_matrix[i][j]/=prev_tag_count\n",
    "            \n",
    "# Emmission Matrix code\n",
    "vocabulary = list(df_counted['name'])\n",
    "emmission_matrix = [[0 for j in range(len(vocabulary))] for i in range(len(all_tags))]\n",
    "def generate_emmission_matrix():    \n",
    "    # 1. Calculate the number of transitions from one tag to another for each sentence\n",
    "    for sentence in all_sentences:\n",
    "        for i in range(1, len(sentence)):\n",
    "            curr_word_index = vocabulary.index(sentence[i][0])\n",
    "            prev_tag_index = all_tags.index(sentence[i-1][1])\n",
    "            emmission_matrix[prev_tag_index][curr_word_index]+=1\n",
    "    \n",
    "    # 2. Calculate the transition probabilities for each transition\n",
    "    for i in range(len(emmission_matrix)):\n",
    "        for j in range(len(emmission_matrix[0])):\n",
    "            prev_tag_index = i\n",
    "            prev_tag_count = tag_freq[all_tags[i]]\n",
    "            emmission_matrix[i][j]/=prev_tag_count\n",
    "\n",
    "\n",
    "generate_transition_matrix()\n",
    "generate_emmission_matrix()\n",
    "    "
   ]
  }
 ],
 "metadata": {
  "kernelspec": {
   "display_name": "Python 3 (ipykernel)",
   "language": "python",
   "name": "python3"
  },
  "language_info": {
   "codemirror_mode": {
    "name": "ipython",
    "version": 3
   },
   "file_extension": ".py",
   "mimetype": "text/x-python",
   "name": "python",
   "nbconvert_exporter": "python",
   "pygments_lexer": "ipython3",
   "version": "3.10.4"
  }
 },
 "nbformat": 4,
 "nbformat_minor": 5
}
