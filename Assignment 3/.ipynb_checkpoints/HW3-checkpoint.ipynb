{
 "cells": [
  {
   "cell_type": "code",
   "execution_count": 45,
   "id": "48d65dff",
   "metadata": {},
   "outputs": [
    {
     "name": "stderr",
     "output_type": "stream",
     "text": [
      "[nltk_data] Downloading package wordnet to\n",
      "[nltk_data]     C:\\Users\\Ayan\\AppData\\Roaming\\nltk_data...\n",
      "[nltk_data]   Package wordnet is already up-to-date!\n",
      "[nltk_data] Downloading package stopwords to\n",
      "[nltk_data]     C:\\Users\\Ayan\\AppData\\Roaming\\nltk_data...\n",
      "[nltk_data]   Package stopwords is already up-to-date!\n",
      "[nltk_data] Downloading package punkt to\n",
      "[nltk_data]     C:\\Users\\Ayan\\AppData\\Roaming\\nltk_data...\n",
      "[nltk_data]   Package punkt is already up-to-date!\n"
     ]
    }
   ],
   "source": [
    "import pandas as pd\n",
    "import numpy as np\n",
    "import nltk\n",
    "import warnings\n",
    "warnings.filterwarnings(\"ignore\")\n",
    "nltk.download('wordnet')\n",
    "nltk.download('stopwords')\n",
    "nltk.download('punkt')\n",
    "import re\n",
    "from bs4 import BeautifulSoup\n",
    "import contractions\n",
    "from nltk.corpus import stopwords\n",
    "from nltk.tokenize import word_tokenize\n",
    "from nltk.stem import WordNetLemmatizer\n",
    "import gensim.downloader as api\n",
    "import gensim.models\n",
    "from sklearn.feature_extraction.text import TfidfVectorizer\n",
    "from sklearn.linear_model import Perceptron\n",
    "from sklearn.svm import SVC\n",
    "from sklearn.svm import LinearSVC\n",
    "from sklearn.metrics import classification_report\n",
    "from sklearn.metrics import accuracy_score\n",
    "from sklearn.metrics import confusion_matrix\n",
    "import tensorflow\n",
    "import torch\n",
    "import torch.nn as nn\n",
    "import torch.nn.functional as F\n",
    "import torch.optim as optim\n",
    "from torch.utils.data import Dataset, DataLoader,TensorDataset\n",
    "from torchvision import transforms, utils"
   ]
  },
  {
   "cell_type": "markdown",
   "id": "08b3eb19",
   "metadata": {},
   "source": [
    "# Task 1: Dataset Generation"
   ]
  },
  {
   "cell_type": "code",
   "execution_count": 2,
   "id": "084dd4f0",
   "metadata": {},
   "outputs": [
    {
     "name": "stdout",
     "output_type": "stream",
     "text": [
      "Check semantic similarities of the generated vectors:\n",
      "('queen', 0.7118193507194519)\n",
      "Excellent ~ Outstanding: 0.55674857\n",
      "time ~ schedule: 0.26993576\n"
     ]
    }
   ],
   "source": [
    "# Pretrained Word2Vec model:\n",
    "pretrained_w2v = api.load('word2vec-google-news-300')\n",
    "\n",
    "print('Check semantic similarities of the generated vectors:')\n",
    "print(pretrained_w2v.most_similar(positive=['king', 'woman'], negative=['man'], topn = 1)[0])\n",
    "print('Excellent ~ Outstanding:', pretrained_w2v.similarity('excellent', 'outstanding'))\n",
    "print('time ~ schedule:', pretrained_w2v.similarity('time', 'schedule'))"
   ]
  },
  {
   "cell_type": "code",
   "execution_count": 3,
   "id": "5176f682",
   "metadata": {},
   "outputs": [],
   "source": [
    "df = pd.read_csv('./data.tsv', sep='\\t', error_bad_lines=False, warn_bad_lines=False)\n",
    "df = df[['star_rating', 'review_body']]\n",
    "class_one = df[(df['star_rating']==1) | (df['star_rating']==2)]\n",
    "class_two = df[df['star_rating']==3]\n",
    "class_three = df[(df['star_rating']==4) | (df['star_rating']==5)]\n",
    "\n",
    "class_one.loc[:, \"label\"] =1\n",
    "class_two.loc[:, \"label\"] =2\n",
    "class_three.loc[:, \"label\"] =3\n",
    "\n",
    "class_one = class_one.sample(n=20000, random_state=100)\n",
    "class_two = class_two.sample(n=20000, random_state=100)\n",
    "class_three = class_three.sample(n=20000, random_state=100)\n",
    "dataset = pd.concat([class_one, class_two, class_three])\n",
    "del class_one, class_two, class_three\n",
    "dataset.reset_index(drop=True)\n",
    "train = dataset.sample(frac=0.8, random_state=100)\n",
    "test = dataset.drop(train.index)\n",
    "train = train.reset_index(drop = True)\n",
    "test = test.reset_index(drop = True)"
   ]
  },
  {
   "cell_type": "code",
   "execution_count": 4,
   "id": "02d5b529",
   "metadata": {},
   "outputs": [],
   "source": [
    "\n",
    "\n",
    "# Covert all reviews to lower case\n",
    "train['review_body'] = train['review_body'].str.lower()\n",
    "test['review_body'] = test['review_body'].str.lower()\n",
    "\n",
    "'''\n",
    "URL Remover code\n",
    "'''\n",
    "train['review_body'] = train['review_body'].apply(lambda x: re.split('https:\\/\\/.*', str(x))[0])\n",
    "test['review_body'] = test['review_body'].apply(lambda x: re.split('https:\\/\\/.*', str(x))[0])\n",
    "\n",
    "def html_tag_remover(review):\n",
    "    soup = BeautifulSoup(review, 'html.parser')\n",
    "    review = soup.get_text()\n",
    "    return review  \n",
    "\n",
    "train['review_body'] = train['review_body'].apply(lambda review: html_tag_remover(review))\n",
    "test['review_body'] = test['review_body'].apply(lambda review: html_tag_remover(review))\n",
    "\n",
    "'''\n",
    "remove non-alphabetical characters\n",
    "'''\n",
    "train['review_body'] = train['review_body'].apply(lambda review: re.sub('[^a-zA-Z]+',' ', review))\n",
    "test['review_body'] = test['review_body'].apply(lambda review: re.sub('[^a-zA-Z]+',' ', review))\n",
    "\n",
    "'''\n",
    "remove extra spaces\n",
    "'''\n",
    "train['review_body'] = train['review_body'].apply(lambda review: re.sub(' +', ' ', review))\n",
    "test['review_body'] = test['review_body'].apply(lambda review: re.sub(' +', ' ', review))\n",
    "\n",
    "'''\n",
    "perform contractions on the reviews\n",
    "'''\n",
    "def expand_contractions(review):\n",
    "    review = contractions.fix(review)\n",
    "    return review\n",
    "\n",
    "train['review_body'] = train['review_body'].apply(lambda review: expand_contractions(review))\n",
    "test['review_body'] = test['review_body'].apply(lambda review: expand_contractions(review))"
   ]
  },
  {
   "cell_type": "code",
   "execution_count": 5,
   "id": "c7713746",
   "metadata": {},
   "outputs": [],
   "source": [
    "'''\n",
    "remove the stop words AND perform lemmatization\n",
    "\n",
    "'''\n",
    "avg_len_before_prepro = (train['review_body'].str.len().sum() + test['review_body'].str.len().sum())/60000\n",
    "\n",
    "def remove_stopwords(review):\n",
    "    stop_words_english = set(stopwords.words('english'))\n",
    "    review_word_tokens = word_tokenize(review)\n",
    "    filtered_review = [word for word in review_word_tokens if not word in stop_words_english]\n",
    "    return filtered_review\n",
    "\n",
    "train['review_body'] = train['review_body'].apply(lambda review: remove_stopwords(review))\n",
    "test['review_body'] = test['review_body'].apply(lambda review: remove_stopwords(review))\n",
    "\n",
    "def review_lemmatize(review):\n",
    "    lemmatizer = WordNetLemmatizer()\n",
    "    lemmatized_review = [lemmatizer.lemmatize(word) for word in review]\n",
    "    return ' '.join(lemmatized_review)    \n",
    "\n",
    "train['review_body'] = train['review_body'].apply(lambda review: review_lemmatize(review))\n",
    "test['review_body'] = test['review_body'].apply(lambda review: review_lemmatize(review))\n",
    "\n",
    "avg_len_after_prepro = (train['review_body'].str.len().sum() + test['review_body'].str.len().sum())/60000"
   ]
  },
  {
   "cell_type": "markdown",
   "id": "0f0836a8",
   "metadata": {},
   "source": [
    "# Task 2: Word Embedding"
   ]
  },
  {
   "cell_type": "code",
   "execution_count": 6,
   "id": "38dd8f1e",
   "metadata": {},
   "outputs": [],
   "source": [
    "# class MyCorpus:\n",
    "#     def __init__(self):\n",
    "#         self.sentences = train['review_body']\n",
    "#     def __iter__(self):\n",
    "#         for sentence in self.sentences:\n",
    "#             yield sentence\n",
    "\n",
    "# all_Sentences = MyCorpus()\n",
    "all_Sentences = [sentence.split(' ') for sentence in train['review_body'].to_list()]"
   ]
  },
  {
   "cell_type": "code",
   "execution_count": null,
   "id": "d4950ed7",
   "metadata": {},
   "outputs": [],
   "source": []
  },
  {
   "cell_type": "code",
   "execution_count": 7,
   "id": "6e685c70",
   "metadata": {},
   "outputs": [],
   "source": [
    "# Custom Word2Vec\n",
    "custom_model = gensim.models.Word2Vec(all_Sentences, vector_size = 300, min_count=9, window=13)"
   ]
  },
  {
   "cell_type": "code",
   "execution_count": 8,
   "id": "31afd952",
   "metadata": {},
   "outputs": [
    {
     "name": "stdout",
     "output_type": "stream",
     "text": [
      "Check semantic similarities of the generated vectors:\n",
      "('battling', 0.7651929259300232)\n",
      "Excellent ~ Outstanding: 0.6753011\n",
      "time ~ schedule: 0.21418862\n"
     ]
    }
   ],
   "source": [
    "print('Check semantic similarities of the generated vectors:')\n",
    "print(custom_model.wv.most_similar(positive=['king', 'woman'], negative=['man'], topn = 1)[0])\n",
    "print('Excellent ~ Outstanding:', custom_model.wv.similarity('excellent', 'outstanding'))\n",
    "print('time ~ schedule:', custom_model.wv.similarity('time', 'schedule'))"
   ]
  },
  {
   "cell_type": "markdown",
   "id": "d821ed51",
   "metadata": {},
   "source": [
    "# Task 3: Simple Models"
   ]
  },
  {
   "cell_type": "code",
   "execution_count": 107,
   "id": "9fc2a40d",
   "metadata": {},
   "outputs": [],
   "source": [
    "# Average word2Vec vectors\n",
    "all_sentence_vector = pretrained_w2v\n",
    "def average_vectors(review, label):\n",
    "    temp_review = review.split(' ')\n",
    "    words = [word for word in temp_review if word in all_sentence_vector]\n",
    "    if len(words) >=1:\n",
    "        review_vector = []\n",
    "        for word in words:\n",
    "            review_vector.append(all_sentence_vector[word])\n",
    "        return review_vector, label\n",
    "\n",
    "def average_vectors_concat(review, label):\n",
    "    temp_review = review.split(' ')\n",
    "    words = [word for word in temp_review[:10] if word in all_sentence_vector]\n",
    "        \n",
    "    review_vector = []\n",
    "    for word in words:\n",
    "        review_vector.append(all_sentence_vector[word])\n",
    "    review_vector = np.array(review_vector)\n",
    "    \n",
    "    # can be the case where the words in the review are not found in the W2V vocabulary\n",
    "    if len(words)==0:\n",
    "        review_vector = np.zeros((1, 300))\n",
    "    data_vector = np.concatenate(review_vector, axis=0)\n",
    "    \n",
    "    # In the case where the total dim of the feature vector is <3000 add the padding with zeros\n",
    "    if len(data_vector)<3000:\n",
    "        data_vector = np.concatenate([data_vector, np.zeros(3000-len(data))])\n",
    "    return data_vector/10, label\n",
    "    \n",
    "    \n",
    "def featurization(dataset, concat = False):\n",
    "    features = []\n",
    "    y_labels = []\n",
    "    concat = concat\n",
    "    \n",
    "    for review, label in zip(dataset['review_body'], dataset['label']):\n",
    "        try:\n",
    "            if not concat:\n",
    "                x, y = average_vectors(review, label)\n",
    "                features.append(np.mean(x, axis=0))\n",
    "            else:\n",
    "                x, y = average_vectors_concat(review, label)\n",
    "                features.append(x)\n",
    "                \n",
    "            y_labels.append(y)\n",
    "        \n",
    "        except:\n",
    "            pass\n",
    "    return features, y_labels\n",
    "\n",
    "# Vectors without concatenation\n",
    "w2v_pretrain_train_x, w2v_pretrain_train_y = featurization(train)\n",
    "w2v_pretrain_test_x, w2v_pretrain_test_y = featurization(test)\n",
    "\n",
    "# Vectors with concatenation\n",
    "w2v_pretrain_train_concat_x, w2v_pretrain_train_concat_y = featurization(train, True)\n",
    "w2v_pretrain_test_concat_x, w2v_pretrain_test_concat_y = featurization(test, True)"
   ]
  },
  {
   "cell_type": "code",
   "execution_count": 109,
   "id": "e122cfdc",
   "metadata": {},
   "outputs": [
    {
     "data": {
      "text/plain": [
       "3000"
      ]
     },
     "execution_count": 109,
     "metadata": {},
     "output_type": "execute_result"
    }
   ],
   "source": [
    "len(w2v_pretrain_train_concat_x[1])"
   ]
  },
  {
   "cell_type": "code",
   "execution_count": 11,
   "id": "b5239dfc",
   "metadata": {},
   "outputs": [],
   "source": [
    "# TF-IDF Feature Extraction\n",
    "tfidf_vectorizer = TfidfVectorizer(min_df = 0.001)\n",
    "tfidf_X_train = tfidf_vectorizer.fit_transform(list(train['review_body']))\n",
    "tfidf_X_train = pd.DataFrame(tfidf_X_train.toarray())\n",
    "\n",
    "tfidf_X_test = tfidf_vectorizer.transform(list(test['review_body']))\n",
    "tfidf_X_test = pd.DataFrame(tfidf_X_test.toarray())\n",
    "\n",
    "tfidf_Y_train = train['label']\n",
    "tfidf_Y_test = test['label']\n",
    "\n",
    "tfidf_Y_train = tfidf_Y_train.astype('int')\n",
    "tfidf_Y_test = tfidf_Y_test.astype('int')"
   ]
  },
  {
   "cell_type": "code",
   "execution_count": 12,
   "id": "bebea69c",
   "metadata": {},
   "outputs": [],
   "source": [
    "# Training Perceptron Model on Average Word2Vec Features\n",
    "perceptr_w2v = Perceptron(random_state = 100, eta0=0.1)\n",
    "perceptr_w2v.fit(w2v_pretrain_train_x, w2v_pretrain_train_y)\n",
    "Y_pred_w2v_test = perceptr_w2v.predict(w2v_pretrain_test_x)\n",
    "\n",
    "# Training Perceptron Model on TF-IDF Features\n",
    "perceptr_tfidf = Perceptron(random_state = 100, eta0=0.1)\n",
    "perceptr_tfidf.fit(tfidf_X_train, tfidf_Y_train)\n",
    "Y_pred_tfidf_test = perceptr_tfidf.predict(tfidf_X_test)\n",
    "\n",
    "target_names = ['class 1', 'class 2', 'class 3']\n",
    "report_w2v = classification_report(w2v_pretrain_test_y, Y_pred_w2v_test, target_names=target_names, output_dict=True)\n",
    "report_tfidf = classification_report(tfidf_Y_test, Y_pred_tfidf_test, target_names=target_names, output_dict=True)"
   ]
  },
  {
   "cell_type": "code",
   "execution_count": 13,
   "id": "f7515f3c",
   "metadata": {
    "scrolled": true
   },
   "outputs": [
    {
     "name": "stdout",
     "output_type": "stream",
     "text": [
      "Accuracy values PERCEPTRON for w2v and tfidf features:\n",
      "0.5805374728759807 0.6170833333333333\n"
     ]
    }
   ],
   "source": [
    "print('Accuracy values PERCEPTRON for w2v and tfidf features:')\n",
    "print(report_w2v['accuracy'], report_tfidf['accuracy'])"
   ]
  },
  {
   "cell_type": "code",
   "execution_count": 14,
   "id": "2a35497f",
   "metadata": {},
   "outputs": [],
   "source": [
    "# Training SVM Model on Average Word2Vec Features\n",
    "svm_w2v = LinearSVC(random_state=100, max_iter=1000)\n",
    "svm_w2v.fit(w2v_pretrain_train_x, w2v_pretrain_train_y)\n",
    "Y_pred_w2v_svm_test = svm_w2v.predict(w2v_pretrain_test_x)\n",
    "\n",
    "# Training SVM Model on TFIDF Features\n",
    "svm_tfidf = LinearSVC(random_state=100, max_iter=1000)\n",
    "svm_tfidf.fit(tfidf_X_train, tfidf_Y_train)\n",
    "Y_pred_tfidf_svm_test = svm_tfidf.predict(tfidf_X_test)\n",
    "\n",
    "report_svm_w2v = classification_report(w2v_pretrain_test_y, Y_pred_w2v_svm_test, target_names=target_names, output_dict=True)\n",
    "report_svm_tfidf = classification_report(tfidf_Y_test, Y_pred_tfidf_svm_test, target_names=target_names, output_dict=True)"
   ]
  },
  {
   "cell_type": "code",
   "execution_count": 15,
   "id": "66f59b74",
   "metadata": {},
   "outputs": [
    {
     "name": "stdout",
     "output_type": "stream",
     "text": [
      "Accuracy values SVM for w2v and tfidf features:\n",
      "0.627691537305959 0.6685\n"
     ]
    }
   ],
   "source": [
    "print('Accuracy values SVM for w2v and tfidf features:')\n",
    "print(report_svm_w2v['accuracy'], report_svm_tfidf['accuracy'])"
   ]
  },
  {
   "cell_type": "markdown",
   "id": "6c042fdd",
   "metadata": {},
   "source": [
    "# Task 4: Feedforward Neural Networks"
   ]
  },
  {
   "cell_type": "code",
   "execution_count": 110,
   "id": "e99310ed",
   "metadata": {},
   "outputs": [
    {
     "name": "stdout",
     "output_type": "stream",
     "text": [
      "MLP(\n",
      "  (fc3): Linear(in_features=10, out_features=3, bias=True)\n",
      "  (fc1): Linear(in_features=300, out_features=100, bias=True)\n",
      "  (fc2): Linear(in_features=100, out_features=10, bias=True)\n",
      ")\n",
      "MLP_concat(\n",
      "  (fc3): Linear(in_features=10, out_features=3, bias=True)\n",
      "  (fc1): Linear(in_features=3000, out_features=100, bias=True)\n",
      "  (fc2): Linear(in_features=100, out_features=10, bias=True)\n",
      ")\n"
     ]
    }
   ],
   "source": [
    "class MLP(nn.Module):\n",
    "    def __init__(self, classification = \"binary\", vocab_size = 300):\n",
    "        super(MLP, self).__init__()\n",
    "        hidden_1 = 100\n",
    "        hidden_2 = 10\n",
    "        if classification == \"binary\":\n",
    "            self.fc3 = nn.Linear(hidden_2, 3)\n",
    "        else:\n",
    "            # For multi-classification\n",
    "            self.fc3 = nn.Linear(hidden_2, 4)  \n",
    "        self.fc1 = nn.Linear(vocab_size, hidden_1)\n",
    "        self.fc2 = nn.Linear(hidden_1, hidden_2)\n",
    "#         self.sig = nn.Sigmoid()\n",
    "#         self.soft = nn.Softmax(dim = 1)\n",
    "    \n",
    "    \n",
    "    def forward(self, x):\n",
    "        x = x.view(-1, x.shape[1])\n",
    "        x = F.relu(self.fc1(x))\n",
    "        x = F.relu(self.fc2(x))\n",
    "        x = self.fc3(x)\n",
    "        return x\n",
    "    \n",
    "class MLP_concat(nn.Module):\n",
    "    def __init__(self, classification = \"binary\", vocab_size = 3000):\n",
    "        super(MLP_concat, self).__init__()\n",
    "        hidden_1 = 100\n",
    "        hidden_2 = 10\n",
    "        if classification == \"binary\":\n",
    "            self.fc3 = nn.Linear(hidden_2, 3)\n",
    "        else:\n",
    "            # For multi-classification\n",
    "            self.fc3 = nn.Linear(hidden_2, 4)  \n",
    "        self.fc1 = nn.Linear(vocab_size, hidden_1)\n",
    "        self.fc2 = nn.Linear(hidden_1, hidden_2)\n",
    "#         self.sig = nn.Sigmoid()\n",
    "#         self.soft = nn.Softmax(dim = 1)\n",
    "    \n",
    "    \n",
    "    def forward(self, x):\n",
    "        x = x.view(-1, x.shape[1])\n",
    "        x = F.relu(self.fc1(x))\n",
    "        x = F.relu(self.fc2(x))\n",
    "        x = self.fc3(x)\n",
    "        return x\n",
    "\n",
    "model = MLP()\n",
    "model_concat = MLP_concat()\n",
    "print(model)\n",
    "print(model_concat)"
   ]
  },
  {
   "cell_type": "markdown",
   "id": "bc17d6f7",
   "metadata": {},
   "source": [
    "-- Task 4(a) using the average Word2Vec vectors"
   ]
  },
  {
   "cell_type": "code",
   "execution_count": 113,
   "id": "95bf3f26",
   "metadata": {},
   "outputs": [
    {
     "name": "stdout",
     "output_type": "stream",
     "text": [
      "Epoch: 1 \tTraining Loss: 1.098103 \tValidation Loss: 1.098125 \tEpoch Accuracy: 0.342430\n",
      "Epoch: 2 \tTraining Loss: 1.097882 \tValidation Loss: 1.097936 \tEpoch Accuracy: 0.349858\n",
      "Epoch: 3 \tTraining Loss: 1.097680 \tValidation Loss: 1.097678 \tEpoch Accuracy: 0.370222\n",
      "Epoch: 4 \tTraining Loss: 1.097471 \tValidation Loss: 1.097478 \tEpoch Accuracy: 0.375396\n",
      "Epoch: 5 \tTraining Loss: 1.097251 \tValidation Loss: 1.097255 \tEpoch Accuracy: 0.388166\n",
      "Epoch: 6 \tTraining Loss: 1.097013 \tValidation Loss: 1.097009 \tEpoch Accuracy: 0.407945\n",
      "Epoch: 7 \tTraining Loss: 1.096765 \tValidation Loss: 1.096772 \tEpoch Accuracy: 0.411784\n",
      "Epoch: 8 \tTraining Loss: 1.096504 \tValidation Loss: 1.096478 \tEpoch Accuracy: 0.442581\n",
      "Epoch: 9 \tTraining Loss: 1.096218 \tValidation Loss: 1.096216 \tEpoch Accuracy: 0.436905\n",
      "Epoch: 10 \tTraining Loss: 1.095903 \tValidation Loss: 1.095875 \tEpoch Accuracy: 0.456101\n"
     ]
    }
   ],
   "source": [
    "train_data=TensorDataset(torch.FloatTensor(w2v_pretrain_train_x), torch.LongTensor(w2v_pretrain_train_y))\n",
    "test_data=TensorDataset(torch.FloatTensor(w2v_pretrain_test_x), torch.LongTensor(w2v_pretrain_test_y))\n",
    "\n",
    "# Data Loader\n",
    "train_batch_size=256\n",
    "train_loader=DataLoader(train_data, batch_size=train_batch_size, shuffle=True)\n",
    "\n",
    "test_batch_size=256\n",
    "test_loader=DataLoader(test_data, batch_size=test_batch_size, shuffle=True)\n",
    "\n",
    "# specify loss function (categorical cross-entropy)\n",
    "criterion = nn.CrossEntropyLoss()\n",
    "# specify optimizer (stochastic gradient descent) and learning rate = 0.01\n",
    "optimizer = torch.optim.SGD(model.parameters(), lr=0.01)\n",
    "\n",
    "# number of epochs to train the model\n",
    "n_epochs = 10\n",
    "\n",
    "# initialize tracker for minimum validation loss\n",
    "valid_loss_min = np.Inf # set initial \"min\" to infinity\n",
    "best_acc = 0\n",
    "\n",
    "for epoch in range(n_epochs):\n",
    "    # monitor training loss\n",
    "    train_loss = 0.0\n",
    "    valid_loss = 0.0\n",
    "    \n",
    "    # train the model #\n",
    "    model.train() # prep model for training\n",
    "    for data, target in train_loader: # iterates upto number of batch size\n",
    "        # clear the gradients of all optimized variables\n",
    "        optimizer.zero_grad()\n",
    "        # forward pass: compute predicted outputs by passing inputs to the model\n",
    "        output = model(data)\n",
    "        # calculate the loss\n",
    "        loss = criterion(output, target-1)\n",
    "        # backward pass: compute gradient of the loss with respect to model parameters\n",
    "        loss.backward()\n",
    "        # perform a single optimization step (parameter update)\n",
    "        optimizer.step()\n",
    "        # update running training loss\n",
    "        train_loss += loss.item()*data.size(0)\n",
    "          \n",
    "    # validate the model #\n",
    "    model.eval() # prep model for evaluation\n",
    "    correct = 0\n",
    "    for data, target in test_loader:\n",
    "        # forward pass: compute predicted outputs by passing inputs to the model\n",
    "        output = model(data)\n",
    "        # calculate the loss\n",
    "        loss = criterion(output, target-1)\n",
    "        # update running validation loss \n",
    "        valid_loss += loss.item()*data.size(0)\n",
    "        ypred = output.argmax(dim = 1)\n",
    "        correct += (ypred == target-1).float().sum()\n",
    "        \n",
    "    # print training/validation statistics \n",
    "    # calculate average loss over an epoch\n",
    "    train_loss = train_loss/len(train_loader.dataset)\n",
    "    valid_loss = valid_loss/len(test_loader.dataset)\n",
    "    \n",
    "    \n",
    "    print('Epoch: {} \\tTraining Loss: {:.6f} \\tValidation Loss: {:.6f} \\tEpoch Accuracy: {:.6f}'.format(\n",
    "        epoch+1, \n",
    "        train_loss,\n",
    "        valid_loss,\n",
    "        correct/len(test_loader.dataset)\n",
    "        ))"
   ]
  },
  {
   "cell_type": "markdown",
   "id": "04bea9c9",
   "metadata": {},
   "source": [
    "-- Test Dataset Accuracy classwise"
   ]
  },
  {
   "cell_type": "code",
   "execution_count": 114,
   "id": "cac3daa3",
   "metadata": {},
   "outputs": [
    {
     "name": "stdout",
     "output_type": "stream",
     "text": [
      "Accuracy Values for each class\n",
      "Class 1 :  0.450184\n",
      "Class 2 :  0.266901\n",
      "Class 3 :  0.654416\n"
     ]
    }
   ],
   "source": [
    "test_batch_size= len(w2v_pretrain_test_x)\n",
    "test_loader=DataLoader(test_data, batch_size=test_batch_size, shuffle=True)\n",
    "model.eval() # prep model for evaluation\n",
    "\n",
    "with torch.no_grad():\n",
    "    for data, target in test_loader:\n",
    "        # forward pass: compute predicted outputs by passing inputs to the model\n",
    "        output = model(data)\n",
    "        # calculate the loss\n",
    "        loss = criterion(output, target-1)\n",
    "        # update running validation loss \n",
    "        #valid_loss += loss.item()*data.size(0)\n",
    "        ypred = output.argmax(dim = 1)\n",
    "        #correct += (ypred == target-1).float().sum()\n",
    "        \n",
    "        mat = confusion_matrix(target-1,ypred)\n",
    "        ans = mat.diagonal()/mat.sum(axis=1)\n",
    "        \n",
    "print(\"Accuracy Values for each class\")\n",
    "\n",
    "for i,acc in enumerate(ans):\n",
    "    print(f\"Class {i+1} : {acc: .6f}\")"
   ]
  },
  {
   "cell_type": "markdown",
   "id": "df12cf86",
   "metadata": {},
   "source": [
    "Task 4(b) 10 word vectors concatenated"
   ]
  },
  {
   "cell_type": "code",
   "execution_count": 66,
   "id": "ce0fb42e",
   "metadata": {},
   "outputs": [
    {
     "data": {
      "text/plain": [
       "0"
      ]
     },
     "execution_count": 66,
     "metadata": {},
     "output_type": "execute_result"
    }
   ],
   "source": []
  },
  {
   "cell_type": "code",
   "execution_count": 115,
   "id": "538558ff",
   "metadata": {},
   "outputs": [
    {
     "name": "stdout",
     "output_type": "stream",
     "text": [
      "Epoch: 1 \tTraining Loss: 1.100860 \tValidation Loss: 1.099532 \tEpoch Accuracy: 0.335778\n",
      "Epoch: 2 \tTraining Loss: 1.099141 \tValidation Loss: 1.098616 \tEpoch Accuracy: 0.340492\n",
      "Epoch: 3 \tTraining Loss: 1.098496 \tValidation Loss: 1.098282 \tEpoch Accuracy: 0.340492\n",
      "Epoch: 4 \tTraining Loss: 1.098246 \tValidation Loss: 1.098172 \tEpoch Accuracy: 0.348481\n",
      "Epoch: 5 \tTraining Loss: 1.098154 \tValidation Loss: 1.098140 \tEpoch Accuracy: 0.340754\n",
      "Epoch: 6 \tTraining Loss: 1.098118 \tValidation Loss: 1.098126 \tEpoch Accuracy: 0.340754\n",
      "Epoch: 7 \tTraining Loss: 1.098101 \tValidation Loss: 1.098121 \tEpoch Accuracy: 0.340754\n",
      "Epoch: 8 \tTraining Loss: 1.098091 \tValidation Loss: 1.098118 \tEpoch Accuracy: 0.340754\n",
      "Epoch: 9 \tTraining Loss: 1.098088 \tValidation Loss: 1.098117 \tEpoch Accuracy: 0.340754\n",
      "Epoch: 10 \tTraining Loss: 1.098083 \tValidation Loss: 1.098116 \tEpoch Accuracy: 0.340754\n"
     ]
    }
   ],
   "source": [
    "train_data = None\n",
    "test_data = None\n",
    "w2v_pretrain_train_x = 0\n",
    "w2v_pretrain_train_y = 0\n",
    "train_data=TensorDataset(torch.FloatTensor(w2v_pretrain_train_concat_x), torch.LongTensor(w2v_pretrain_train_concat_y))\n",
    "\n",
    "test_data=TensorDataset(torch.FloatTensor(w2v_pretrain_test_concat_x), torch.LongTensor(w2v_pretrain_test_concat_y))\n",
    "\n",
    "# Data Loader\n",
    "train_batch_size=256\n",
    "train_loader=DataLoader(train_data, batch_size=train_batch_size, shuffle=True)\n",
    "\n",
    "test_batch_size=256\n",
    "test_loader=DataLoader(test_data, batch_size=test_batch_size, shuffle=True)\n",
    "\n",
    "# specify loss function (categorical cross-entropy)\n",
    "criterion = nn.CrossEntropyLoss()\n",
    "# specify optimizer (stochastic gradient descent) and learning rate = 0.01\n",
    "optimizer = torch.optim.SGD(model_concat.parameters(), lr=0.01)\n",
    "\n",
    "# number of epochs to train the model\n",
    "n_epochs = 10\n",
    "\n",
    "# initialize tracker for minimum validation loss\n",
    "valid_loss_min = np.Inf # set initial \"min\" to infinity\n",
    "best_acc = 0\n",
    "\n",
    "for epoch in range(n_epochs):\n",
    "    # monitor training loss\n",
    "    train_loss = 0.0\n",
    "    valid_loss = 0.0\n",
    "    \n",
    "    # train the model #\n",
    "    model_concat.train() # prep model for training\n",
    "    for data, target in train_loader: # iterates upto number of batch size\n",
    "        # clear the gradients of all optimized variables\n",
    "        optimizer.zero_grad()\n",
    "        # forward pass: compute predicted outputs by passing inputs to the model\n",
    "        output = model_concat(data)\n",
    "        # calculate the loss\n",
    "        loss = criterion(output, target-1)\n",
    "        # backward pass: compute gradient of the loss with respect to model parameters\n",
    "        loss.backward()\n",
    "        # perform a single optimization step (parameter update)\n",
    "        optimizer.step()\n",
    "        # update running training loss\n",
    "        train_loss += loss.item()*data.size(0)\n",
    "          \n",
    "    # validate the model #\n",
    "    model_concat.eval() # prep model for evaluation\n",
    "    correct = 0\n",
    "    for data, target in test_loader:\n",
    "        # forward pass: compute predicted outputs by passing inputs to the model\n",
    "        output = model_concat(data)\n",
    "        # calculate the loss\n",
    "        loss = criterion(output, target-1)\n",
    "        # update running validation loss \n",
    "        valid_loss += loss.item()*data.size(0)\n",
    "        ypred = output.argmax(dim = 1)\n",
    "        correct += (ypred == target-1).float().sum()\n",
    "        \n",
    "    # print training/validation statistics \n",
    "    # calculate average loss over an epoch\n",
    "    train_loss = train_loss/len(train_loader.dataset)\n",
    "    valid_loss = valid_loss/len(test_loader.dataset)\n",
    "    \n",
    "    \n",
    "    print('Epoch: {} \\tTraining Loss: {:.6f} \\tValidation Loss: {:.6f} \\tEpoch Accuracy: {:.6f}'.format(\n",
    "        epoch+1, \n",
    "        train_loss,\n",
    "        valid_loss,\n",
    "        correct/len(test_loader.dataset)\n",
    "        ))"
   ]
  },
  {
   "cell_type": "code",
   "execution_count": 116,
   "id": "16d917b1",
   "metadata": {},
   "outputs": [
    {
     "name": "stdout",
     "output_type": "stream",
     "text": [
      "Accuracy Values for each class\n",
      "Class 1 :  0.000000\n",
      "Class 2 :  1.000000\n",
      "Class 3 :  0.000000\n"
     ]
    }
   ],
   "source": [
    "test_batch_size= len(w2v_pretrain_test_concat_x)\n",
    "test_loader=DataLoader(test_data, batch_size=test_batch_size, shuffle=True)\n",
    "model_concat.eval() # prep model for evaluation\n",
    "\n",
    "with torch.no_grad():\n",
    "    for data, target in test_loader:\n",
    "        # forward pass: compute predicted outputs by passing inputs to the model\n",
    "        output = model_concat(data)\n",
    "        # calculate the loss\n",
    "        loss = criterion(output, target-1)\n",
    "        # update running validation loss \n",
    "        #valid_loss += loss.item()*data.size(0)\n",
    "        ypred = output.argmax(dim = 1)\n",
    "        #correct += (ypred == target-1).float().sum()\n",
    "        \n",
    "        mat = confusion_matrix(target-1,ypred)\n",
    "        ans = mat.diagonal()/mat.sum(axis=1)\n",
    "        \n",
    "print(\"Accuracy Values for each class\")\n",
    "\n",
    "for i,acc in enumerate(ans):\n",
    "    print(f\"Class {i+1} : {acc: .6f}\")"
   ]
  },
  {
   "cell_type": "markdown",
   "id": "4d3a9aa9",
   "metadata": {},
   "source": [
    "# Task 5 Recurrent Neural Networks"
   ]
  },
  {
   "cell_type": "code",
   "execution_count": 19,
   "id": "8373e8ac",
   "metadata": {},
   "outputs": [
    {
     "name": "stdout",
     "output_type": "stream",
     "text": [
      "[ 0.11273871  0.1030409   0.05523004 -0.01557753 -0.0998603   0.04423692\n",
      "  0.04578993 -0.15211995  0.0093316   0.16543664 -0.09106445 -0.06024848\n",
      " -0.01518419  0.00665156 -0.17144945  0.07251655  0.00052897  0.09290992\n",
      "  0.0244005  -0.03846571 -0.04554113  0.04934353  0.03540039 -0.064426\n",
      "  0.00916884 -0.03409152 -0.07324897  0.11737739 -0.03534614  0.06281196\n",
      " -0.01115926 -0.00443522  0.00835503  0.03587511 -0.03143989  0.02558729\n",
      "  0.06398519  0.02889336  0.02478366  0.00231934  0.06609599 -0.16606988\n",
      "  0.02570597 -0.02735562 -0.120185   -0.15786403 -0.06496853  0.00253465\n",
      "  0.03051758  0.03773329  0.0274726   0.05703396 -0.08024088  0.00607639\n",
      "  0.08133952  0.03472561  0.03719075 -0.08318414  0.02023485 -0.01849704\n",
      " -0.00493707  0.0378418  -0.01204427 -0.10236274  0.03386095  0.04443359\n",
      " -0.09610833  0.05821398  0.04743746  0.0749126   0.00607766  0.11867608\n",
      "  0.10134549  0.05336973 -0.07149252 -0.00661892  0.10708279  0.10291883\n",
      "  0.09391276  0.06705729 -0.00164117 -0.08133613 -0.0246582  -0.01921929\n",
      " -0.05259874 -0.10689969 -0.08080038  0.14575195  0.06229655  0.13193089\n",
      "  0.00899251 -0.02216254 -0.06113688  0.00798882  0.03051419 -0.07568359\n",
      "  0.00291612  0.03518338  0.02227105 -0.01190864 -0.01997206 -0.0225491\n",
      "  0.07099745  0.03911167  0.0015191  -0.14431423  0.06320868  0.0527988\n",
      "  0.11098904 -0.03997125 -0.09256659  0.15668403  0.02605523 -0.01992459\n",
      "  0.09761386  0.02780151  0.01635742 -0.06377496 -0.06765408  0.0900099\n",
      " -0.04091729 -0.00634087 -0.02118598  0.08258057  0.06979709 -0.0003501\n",
      " -0.07115343 -0.02195401  0.13047451  0.12684461 -0.03470866  0.04998101\n",
      " -0.13064235  0.00730726 -0.10275608  0.03097873  0.07948133  0.04957411\n",
      " -0.00263129 -0.07188924  0.01469591 -0.08180067 -0.03715007 -0.12515259\n",
      "  0.16063097 -0.04066298  0.08449978 -0.04945204 -0.03329807 -0.09945679\n",
      "  0.00678168 -0.00945367  0.00124783  0.05593533  0.00703939 -0.03510199\n",
      " -0.18771702 -0.0901964  -0.11702474  0.04144965  0.04036458 -0.0400255\n",
      " -0.0308431   0.03127713  0.00710381 -0.06396145  0.01139662  0.00754123\n",
      "  0.01389228  0.00154622 -0.0367296   0.00827535 -0.08704969 -0.0603909\n",
      " -0.13483344 -0.01863607  0.07651096 -0.16004774 -0.08784994  0.01595222\n",
      " -0.01920573 -0.05059136 -0.04680718 -0.01957533 -0.10427517 -0.05112712\n",
      "  0.03190782  0.00860596  0.02360704  0.07860141 -0.04435221 -0.10160998\n",
      "  0.11709256 -0.02476671  0.01861572  0.09518772 -0.0296224   0.01115248\n",
      " -0.10639106 -0.02998861  0.11145698  0.02334679 -0.07297092  0.03092448\n",
      "  0.0402493  -0.03685167 -0.01894803  0.11412218  0.05672879 -0.04831272\n",
      " -0.13715278  0.00404188  0.02186415  0.0827179   0.00271267 -0.04345703\n",
      " -0.02745226 -0.004815   -0.00449117  0.04133436 -0.03567505  0.00899251\n",
      " -0.02631293  0.09379069  0.077663    0.05917019  0.0400149  -0.05137804\n",
      "  0.0667589   0.01863819 -0.04897902  0.02457682  0.05617947  0.12874348\n",
      "  0.03983561  0.01698134  0.09735785 -0.07811398  0.02746582 -0.02478027\n",
      "  0.07134332 -0.10248481 -0.0081198  -0.13983832  0.06119792  0.03282335\n",
      " -0.01818848  0.05841742 -0.03040229  0.02617645 -0.06863233  0.05050998\n",
      "  0.10816108  0.03385417  0.05711534 -0.09939575  0.01250203  0.05852593\n",
      "  0.01832411 -0.10300022  0.02393935 -0.02857124 -0.1383667   0.13190715\n",
      "  0.10807291  0.06943766 -0.11506144 -0.08148871 -0.01018609 -0.01753744\n",
      "  0.01693387  0.12919109  0.01545885 -0.00839572  0.04556741  0.01238399\n",
      " -0.12676662 -0.05942111 -0.01750353  0.08226183 -0.03803338 -0.03514269\n",
      "  0.09498426  0.09712049 -0.07061768 -0.03503418  0.00933838  0.04082574\n",
      "  0.07137045  0.07419162 -0.03568522  0.01691352 -0.11189779 -0.02172894\n",
      "  0.05912272 -0.05866157  0.04367404 -0.00354682  0.03830295 -0.02058241] [2, 1, 1, 1, 1, 3, 2, 2, 3, 3, 3, 2, 2, 1, 3, 1, 2, 3, 2, 2, 1, 1, 3, 2, 1, 3, 1, 3, 2, 1, 3, 2, 2, 1, 2, 3, 3, 3, 3, 1, 2, 2, 3, 2, 1, 1, 1, 2, 3, 3, 1, 1, 2, 2, 1, 1, 2, 1, 3, 3, 3, 2, 3, 1, 2, 2, 3, 1, 2, 2, 3, 2, 2, 1, 1, 3, 2, 2, 2, 1, 3, 2, 3, 1, 1, 2, 3, 2, 2, 1, 3, 2, 2, 2, 3, 3, 2, 1, 3, 3, 3, 2, 3, 1, 1, 3, 2, 3, 2, 2, 2, 2, 3, 3, 2, 3, 1, 1, 1, 1, 2, 1, 1, 1, 3, 3, 2, 2, 1, 2, 2, 3, 1, 2, 3, 3, 1, 3, 2, 1, 2, 3, 1, 3, 3, 3, 2, 2, 3, 3, 3, 3, 1, 1, 1, 3, 1, 1, 3, 2, 3, 1, 2, 1, 1, 1, 3, 3, 2, 3, 2, 3, 1, 1, 3, 3, 2, 1, 3, 2, 2, 3, 2, 1, 3, 2, 3, 2, 1, 3, 2, 2, 1, 1, 2, 3, 1, 2, 2, 1, 3, 3, 2, 1, 3, 2, 3, 3, 1, 2, 3, 3, 2, 3, 2, 2, 3, 3, 2, 1, 3, 2, 2, 3, 3, 3, 1, 2, 1, 2, 1, 1, 2, 2, 3, 2, 3, 1, 2, 2, 2, 2, 1, 3, 2, 1, 1, 3, 3, 2, 1, 2, 2, 3, 2, 1, 3, 2, 2, 2, 2, 3, 1, 2, 2, 3, 1, 1, 1, 3, 1, 1, 1, 3, 2, 3, 1, 3, 3, 3, 1, 3, 3, 3, 3, 2, 3, 2, 2, 2, 2, 2, 1, 3, 2, 1, 1, 1, 2, 3, 3, 3, 3, 3, 1, 1, 2, 2, 2, 2, 2, 3, 2, 1, 3, 1, 1, 3, 1, 1, 2, 3, 2, 3, 2, 1, 2, 3, 1, 2, 3, 2, 1, 3, 2, 3, 1, 3, 1, 2, 1, 3, 3, 3, 1, 1, 2, 1, 2, 2, 3, 2, 2, 1, 3, 2, 1, 3, 3, 2, 1, 3, 3, 1, 3, 1, 2, 2, 1, 3, 1, 1, 3, 3, 1, 1, 1, 1, 3, 1, 2, 3, 3, 1, 3, 1, 2, 1, 1, 3, 1, 2, 3, 1, 1, 3, 1, 2, 2, 2, 1, 2, 3, 2, 3, 3, 3, 3, 1, 1, 1, 1, 3, 2, 3, 3, 3, 1, 2, 3, 3, 2, 3, 1, 1, 3, 1, 1, 3, 2, 3, 3, 1, 1, 2, 3, 3, 2, 1, 3, 3, 3, 2, 2, 1, 1, 3, 3, 2, 1, 1, 3, 2, 2, 3, 1, 1, 1, 2, 1, 3, 2, 2, 3, 2, 3, 2, 3, 2, 2, 2, 3, 3, 3, 2, 2, 1, 2, 3, 1, 1, 1, 1, 2, 1, 1, 3, 2, 3, 1, 2, 2, 2, 2, 1, 2, 1, 2, 3, 3, 3, 2, 1, 3, 1, 3, 1, 2, 3, 3, 3, 1, 2, 2, 3, 2, 1, 3, 2, 2, 2, 3, 3, 1, 2, 1, 1, 3, 1, 2, 3, 3, 1, 2, 1, 2, 1, 2, 1, 1, 1, 2, 3, 1, 1, 1, 3, 1, 3, 2, 2, 2, 2, 2, 2, 2, 1, 1, 3, 1, 3, 2, 1, 3, 3, 3, 1, 1, 2, 2, 1, 1, 3, 3, 2, 3, 1, 2, 2, 3, 3, 3, 1, 3, 1, 1, 2, 2, 3, 2, 1, 2, 1, 2, 3, 2, 1, 3, 3, 3, 1, 3, 1, 2, 3, 3, 2, 2, 1, 3, 2, 3, 1, 3, 2, 2, 1, 3, 2, 3, 3, 3, 1, 1, 3, 3, 2, 1, 1, 3, 1, 1, 2, 3, 2, 3, 1, 3, 1, 1, 3, 2, 1, 1, 3, 2, 2, 1, 1, 3, 1, 2, 2, 2, 2, 1, 2, 2, 2, 2, 1, 2, 3, 1, 2, 2, 3, 2, 1, 2, 2, 3, 1, 1, 1, 3, 1, 3, 1, 2, 3, 1, 3, 1, 1, 3, 2, 3, 2, 1, 1, 2, 3, 2, 2, 2, 3, 1, 2, 1, 2, 1, 3, 2, 3, 1, 2, 2, 3, 3, 2, 1, 1, 2, 2, 3, 2, 3, 3, 3, 1, 1, 1, 2, 2, 1, 1, 2, 1, 2, 3, 1, 1, 2, 3, 3, 2, 1, 1, 1, 1, 1, 1, 3, 3, 2, 3, 3, 2, 3, 2, 1, 1, 2, 3, 2, 3, 1, 2, 2, 3, 1, 2, 3, 1, 2, 2, 3, 2, 2, 1, 3, 2, 3, 1, 1, 3, 2, 3, 1, 2, 1, 1, 2, 2, 2, 3, 3, 2, 3, 2, 1, 2, 3, 2, 3, 3, 1, 3, 3, 3, 2, 1, 2, 1, 3, 3, 3, 3, 2, 3, 2, 3, 1, 2, 3, 1, 3, 3, 1, 3, 2, 2, 1, 2, 1, 2, 1, 1, 1, 3, 3, 1, 3, 2, 3, 3, 2, 1, 1, 3, 1, 3, 3, 1, 3, 1, 3, 2, 3, 1, 2, 3, 3, 2, 3, 2, 2, 2, 1, 2, 3, 3, 1, 3, 3, 3, 3, 3, 3, 2, 3, 1, 3, 2, 1, 2, 1, 1, 3, 3, 1, 3, 1, 3, 2, 3, 2, 1, 1, 2, 2, 2, 2, 2, 3, 1, 2, 3, 3, 1, 2, 2, 3, 1, 3, 1, 2, 1, 3, 1, 3, 3, 2, 1, 1, 2, 1, 3, 3, 2, 1, 2, 1, 1, 2, 3, 2, 3, 2, 1, 3, 2, 1, 1, 3, 2, 2, 3, 1, 3, 3, 3, 1, 3, 1, 1, 1, 3, 1, 2, 2, 1, 3, 1, 3, 1, 1, 3, 3, 1, 1, 1, 2, 3, 3, 1, 3, 3, 3, 3, 2, 1, 1, 2, 3, 1, 1, 2, 1, 2, 3, 3, 1, 3, 1, 3, 2, 1, 3, 2, 2, 2, 3, 2, 3, 2, 2, 1, 2, 1, 1, 2, 2, 2, 3, 2, 1, 2, 3, 1, 2, 3, 2, 3, 3, 3, 3, 1, 2, 3, 3, 3, 1, 1, 2, 2, 1, 1, 1, 2, 1, 2, 1, 2, 2, 2, 2, 2, 3, 1, 3, 3, 2, 1, 3, 2, 3, 3, 1, 1, 3, 1, 3, 2, 2, 3, 3, 3, 2, 3, 1, 2, 1, 1, 1, 2, 1, 3, 1, 3, 3, 3, 2, 2, 3, 2, 1, 2, 3, 1, 3, 1, 2, 1, 1, 1, 1, 3, 2, 2, 3, 1, 1, 3, 1, 2, 1, 1, 2, 2, 3, 1, 1, 3, 2, 1, 2, 3, 2, 1, 3, 3, 2, 3, 1, 3, 3, 1, 3, 1, 1, 2, 1, 1, 3, 2, 2, 2, 3, 1, 2, 2, 2, 3, 1, 1, 3, 3, 1, 2, 3, 3, 2, 2, 1, 2, 2, 2, 2, 1, 3, 1, 1, 2, 2, 1, 3, 2, 1, 3, 2, 2, 1, 3, 2, 1, 2, 2, 2, 3, 2, 3, 3, 3, 1, 3, 1, 3, 3, 1, 3, 2, 2, 2, 3, 1, 1, 1, 2, 3, 3, 2, 3, 2, 3, 3, 1, 3, 2, 2, 1, 3, 2, 2, 2, 2, 3, 2, 1, 3, 2, 2, 3, 3, 1, 3, 2, 3, 2, 1, 2, 1, 1, 2, 2, 2, 2, 3, 3, 1, 1, 1, 3, 1, 3, 2, 3, 1, 3, 1, 1, 3, 2, 1, 3, 3, 1, 3, 3, 1, 2, 1, 2, 2, 2, 2, 1, 1, 1, 3, 1, 1, 3, 3, 3, 1, 2, 3, 2, 1, 1, 1, 1, 2, 1, 3, 3, 1, 1, 3, 2, 3, 2, 2, 1, 2, 1, 1, 1, 3, 1, 1, 2, 3, 1, 2, 3, 3, 1, 1, 1, 2, 3, 3, 2, 1, 1, 3, 3, 1, 3, 1, 1, 2, 2, 3, 1, 1, 3, 2, 3, 2, 1, 1, 3, 3, 3, 3, 3, 2, 3, 2, 3, 1, 1, 1, 3, 1, 3, 1, 3, 2, 3, 1, 2, 3, 2, 3, 3, 2, 3, 3, 3, 2, 3, 1, 2, 1, 2, 3, 1, 3, 1, 2, 1, 3, 2, 1, 3, 2, 3, 1, 3, 1, 3, 2, 3, 1, 3, 2, 1, 1, 3, 2, 2, 3, 3, 3, 3, 2, 2, 3, 1, 3, 3, 3, 3, 2, 2, 3, 2, 3, 1, 1, 1, 3, 3, 3, 3, 2, 1, 1, 3, 2, 2, 2, 3, 1, 2, 2, 2, 2, 3, 2, 3, 1, 2, 1, 3, 1, 3, 3, 2, 3, 2, 3, 2, 2, 3, 3, 2, 3, 2, 1, 1, 1, 1, 1, 1, 2, 3, 3, 3, 1, 3, 3, 2, 3, 1, 3, 2, 3, 1, 3, 2, 1, 2, 1, 3, 1, 2, 1, 1, 3, 1, 1, 2, 1, 2, 2, 2, 2, 3, 2, 2, 2, 3, 1, 2, 1, 1, 3, 2, 2, 1, 1, 3, 3, 1, 2, 2, 3, 3, 2, 1, 3, 2, 2, 1, 2, 1, 1, 3, 2, 2, 3, 3, 3, 2, 2, 1, 1, 1, 3, 3, 3, 3, 2, 1, 3, 3, 1, 1, 1, 1, 2, 2, 2, 2, 1, 1, 3, 1, 1, 3, 3, 2, 1, 2, 1, 1, 1, 1, 1, 2, 2, 3, 2, 3, 1, 1, 3, 2, 3, 3, 2, 1, 2, 1, 3, 1, 2, 1, 3, 1, 3, 1, 3, 1, 3, 1, 1, 3, 2, 2, 3, 2, 2, 1, 3, 3, 3, 1, 3, 1, 3, 1, 1, 2, 3, 3, 1, 2, 1, 1, 2, 1, 3, 3, 2, 2, 1, 1, 1, 3, 1, 1, 1, 1, 3, 2, 2, 3, 2, 3, 1, 1, 1, 3, 1, 3, 1, 3, 3, 2, 2, 3, 3, 1, 2, 1, 2, 2, 2, 1, 1, 1, 2, 2, 3, 2, 1, 3, 3, 3, 1, 3, 1, 3, 2, 1, 3, 3, 1, 3, 1, 1, 3, 2, 3, 1, 2, 1, 2, 3, 3, 1, 1, 2, 1, 2, 1, 3, 1, 3, 3, 2, 2, 2, 2, 1, 2, 3, 1, 3, 1, 2, 1, 1, 2, 2, 2, 3, 2, 2, 2, 2, 1, 2, 1, 2, 2, 1, 3, 1, 3, 2, 2, 1, 2, 2, 1, 3, 3, 3, 3, 3, 2, 3, 2, 1, 1, 1, 3, 3, 1, 3, 2, 3, 3, 1, 1, 3, 2, 3, 2, 3, 2, 2, 2, 2, 1, 2, 3, 1, 1, 3, 3, 1, 1, 2, 3, 2, 3, 1, 3, 3, 2, 3, 3, 2, 3, 1, 3, 2, 1, 3, 3, 1, 2, 1, 3, 2, 3, 1, 1, 1, 3, 1, 3, 3, 1, 1, 1, 3, 1, 2, 2, 2, 2, 1, 3, 2, 3, 1, 2, 2, 3, 3, 1, 2, 2, 1, 2, 1, 2, 3, 3, 3, 1, 3, 1, 2, 3, 3, 2, 1, 3, 2, 3, 3, 2, 1, 2, 3, 1, 3, 3, 2, 1, 1, 1, 2, 3, 1, 3, 3, 1, 3, 3, 3, 3, 2, 1, 3, 1, 3, 1, 3, 2, 1, 3, 3, 2, 3, 1, 1, 3, 2, 1, 3, 3, 2, 1, 1, 1, 1, 1, 1, 3, 1, 3, 2, 3, 1, 3, 3, 3, 1, 1, 1, 2, 1, 3, 3, 2, 2, 2, 3, 2, 3, 3, 2, 2, 1, 3, 3, 3, 2, 1, 3, 2, 3, 1, 2, 1, 1, 2, 2, 2, 3, 3, 3, 1, 1, 1, 3, 2, 1, 2, 1, 2, 3, 2, 2, 3, 1, 2, 1, 3, 3, 2, 1, 2, 3, 1, 1, 2, 2, 2, 2, 1, 1, 2, 3, 2, 3, 1, 3, 2, 2, 1, 3, 3, 2, 1, 2, 3, 3, 3, 3, 1, 1, 3, 3, 3, 1, 2, 3, 3, 1, 3, 2, 2, 1, 2, 1, 3, 1, 2, 2, 1, 1, 1, 2, 3, 1, 3, 3, 2, 1, 1, 3, 2, 3, 1, 1, 2, 2, 2, 2, 3, 3, 2, 3, 3, 1, 1, 2, 2, 1, 2, 3, 2, 2, 3, 1, 3, 3, 3, 3, 1, 2, 2, 3, 1, 2, 3, 3, 1, 2, 3, 3, 2, 1, 1, 2, 3, 2, 2, 2, 3, 2, 1, 3, 3, 2, 1, 1, 2, 3, 2, 3, 1, 2, 3, 1, 2, 3, 3, 3, 3, 2, 2, 1, 3, 2, 1, 3, 1, 2, 3, 2, 3, 3, 2, 3, 3, 3, 1, 2, 1, 3, 2, 1, 3, 3, 1, 2, 3, 3, 1, 1, 2, 1, 1, 2, 1, 2, 1, 2, 1, 3, 3, 3, 2, 2, 3, 1, 3, 3, 3, 2, 1, 3, 1, 3, 1, 3, 3, 2, 2, 3, 3, 1, 1, 3, 3, 1, 2, 2, 2, 3, 1, 3, 3, 2, 2, 2, 3, 1, 1, 1, 1, 3, 3, 1, 3, 2, 3, 3, 3, 1, 1, 3, 3, 3, 3, 3, 3, 3, 1, 3, 3, 2, 2, 3, 2, 1, 1, 3, 2, 2, 3, 1, 3, 3, 1, 1, 3, 2, 1, 1, 2, 2, 1, 1, 3, 3, 3, 1, 1, 3, 2, 2, 3, 1, 1, 3, 3, 2, 3, 3, 3, 1, 3, 2, 1, 1, 2, 2, 2, 2, 3, 3, 1, 3, 3, 3, 1, 2, 1, 1, 2, 2, 1, 1, 3, 1, 2, 3, 3, 1, 2, 2, 3, 2, 3, 2, 2, 3, 1, 1, 2, 3, 3, 3, 3, 2, 3, 3, 2, 2, 2, 3, 1, 3, 1, 1, 1, 1, 3, 3, 3, 2, 1, 1, 1, 2, 1, 2, 2, 1, 3, 3, 2, 2, 3, 3, 1, 3, 2, 1, 3, 2, 2, 1, 2, 2, 3, 3, 2, 3, 2, 3, 2, 1, 3, 2, 1, 1, 2, 1, 3, 1, 1, 1, 3, 2, 3, 3, 3, 3, 1, 3, 1, 1, 2, 1, 3, 2, 1, 3, 3, 2, 3, 1, 3, 3, 1, 3, 3, 3, 2, 1, 2, 3, 3, 1, 1, 2, 3, 3, 1, 2, 1, 1, 3, 3, 1, 2, 1, 1, 1, 1, 3, 3, 3, 2, 1, 1, 1, 2, 2, 3, 3, 2, 1, 3, 2, 2, 2, 3, 3, 2, 2, 2, 3, 2, 3, 2, 1, 3, 1, 2, 3, 1, 2, 3, 1, 1, 1, 3, 1, 1, 1, 3, 3, 3, 2, 2, 2, 3, 1, 3, 3, 1, 1, 1, 2, 2, 3, 3, 2, 2, 3, 3, 1, 1, 3, 1, 2, 2, 3, 1, 1, 1, 3, 1, 3, 3, 3, 1, 2, 1, 1, 2, 1, 3, 2, 1, 2, 3, 3, 1, 3, 1, 2, 3, 1, 1, 2, 1, 2, 3, 1, 2, 3, 3, 2, 1, 3, 3, 3, 3, 3, 3, 3, 2, 1, 3, 3, 2, 1, 3, 2, 2, 1, 2, 2, 1, 3, 1, 2, 3, 1, 2, 1, 1, 1, 2, 1, 2, 3, 2, 1, 3, 3, 3, 1, 3, 1, 3, 3, 3, 3, 3, 2, 2, 1, 2, 3, 3, 1, 2, 2, 3, 1, 3, 3, 2, 2, 2, 2, 2, 2, 1, 2, 3, 3, 1, 2, 2, 3, 1, 2, 2, 1, 2, 1, 3, 1, 2, 3, 3, 2, 1, 1, 2, 1, 2, 1, 3, 3, 3, 1, 1, 3, 1, 3, 2, 3, 2, 2, 3, 3, 1, 1, 2, 2, 2, 1, 3, 2, 3, 1, 2, 2, 3, 1, 2, 2, 2, 2, 2, 2, 2, 3, 3, 2, 2, 3, 1, 1, 1, 3, 2, 2, 2, 1, 3, 3, 3, 1, 2, 3, 2, 2, 1, 2, 1, 2, 1, 1, 2, 1, 2, 2, 3, 3, 2, 2, 3, 2, 2, 1, 2, 1, 1, 3, 2, 2, 3, 2, 3, 3, 3, 2, 1, 1, 2, 3, 1, 3, 2, 3, 2, 3, 2, 3, 1, 1, 3, 1, 2, 2, 3, 1, 2, 3, 1, 1, 3, 2, 2, 2, 2, 3, 2, 1, 2, 3, 3, 2, 1, 2, 1, 1, 3, 1, 2, 3, 1, 3, 1, 2, 2, 1, 1, 3, 1, 3, 3, 1, 2, 1, 3, 2, 2, 2, 1, 2, 3, 1, 2, 3, 2, 2, 1, 3, 3, 2, 3, 2, 3, 1, 2, 3, 3, 1, 3, 1, 1, 1, 1, 2, 3, 3, 2, 2, 3, 1, 3, 3, 1, 2, 3, 3, 3, 2, 1, 3, 1, 2, 1, 2, 1, 1, 3, 2, 2, 1, 2, 1, 2, 2, 3, 1, 3, 1, 3, 3, 2, 3, 3, 1, 1, 3, 2, 2, 1, 3, 2, 1, 3, 1, 2, 3, 3, 1, 2, 3, 2, 1, 1, 2, 1, 2, 1, 2, 2, 2, 2, 2, 1, 2, 2, 1, 1, 3, 1, 3, 3, 1, 1, 2, 2, 3, 3, 3, 3, 2, 2, 2, 3, 1, 1, 3, 1, 3, 3, 3, 3, 1, 2, 3, 1, 2, 2, 1, 2, 3, 2, 1, 3, 1, 2, 3, 3, 1, 1, 2, 3, 1, 2, 1, 3, 1, 1, 1, 1, 3, 3, 3, 3, 2, 3, 2, 2, 1, 2, 2, 1, 1, 2, 3, 1, 1, 3, 1, 3, 1, 1, 3, 2, 3, 1, 1, 1, 3, 1, 1, 1, 1, 2, 3, 2, 2, 3, 1, 1, 2, 2, 2, 2, 1, 1, 1, 3, 1, 1, 1, 3, 3, 1, 3, 1, 2, 3, 1, 3, 2, 2, 1, 3, 3, 1, 2, 2, 3, 3, 1, 1, 1, 3, 1, 1, 2, 1, 3, 3, 2, 2, 1, 2, 1, 1, 3, 3, 1, 3, 1, 2, 1, 1, 1, 3, 2, 3, 2, 2, 1, 3, 2, 3, 1, 3, 3, 3, 3, 3, 2, 1, 1, 3, 1, 1, 2, 2, 1, 3, 3, 1, 2, 1, 3, 3, 3, 1, 2, 1, 1, 1, 1, 2, 3, 1, 2, 1, 3, 1, 3, 3, 1, 1, 2, 3, 3, 1, 3, 3, 3, 3, 3, 3, 2, 2, 1, 3, 1, 2, 3, 2, 1, 1, 1, 2, 1, 3, 2, 1, 2, 1, 3, 1, 3, 1, 3, 3, 1, 1, 1, 1, 1, 1, 3, 2, 3, 3, 3, 2, 3, 3, 3, 3, 3, 1, 3, 2, 2, 2, 1, 1, 2, 1, 2, 1, 3, 3, 1, 2, 1, 3, 2, 1, 2, 2, 1, 2, 3, 1, 3, 3, 3, 1, 2, 3, 1, 1, 1, 1, 2, 2, 1, 3, 2, 3, 1, 1, 2, 3, 3, 2, 1, 1, 2, 2, 3, 3, 1, 2, 3, 1, 3, 1, 3, 2, 1, 1, 1, 3, 1, 2, 3, 1, 3, 1, 1, 2, 2, 1, 2, 2, 1, 2, 3, 1, 1, 2, 1, 2, 3, 2, 3, 1, 3, 3, 1, 3, 1, 2, 1, 1, 1, 1, 2, 2, 3, 3, 3, 2, 3, 1, 1, 3, 2, 1, 1, 1, 2, 2, 2, 2, 3, 2, 3, 3, 3, 3, 1, 1, 3, 2, 3, 3, 2, 1, 3, 2, 3, 1, 1, 3, 3, 3, 3, 3, 3, 1, 1, 3, 3, 3, 3, 3, 1, 3, 3, 2, 3, 1, 3, 1, 1, 1, 1, 3, 1, 1, 1, 3, 2, 2, 3, 2, 1, 1, 2, 3, 1, 3, 2, 3, 3, 3, 2, 1, 2, 2, 3, 3, 1, 2, 3, 2, 3, 1, 1, 2, 3, 1, 3, 1, 3, 2, 2, 1, 2, 3, 2, 2, 1, 2, 3, 3, 2, 2, 3, 1, 1, 3, 3, 3, 2, 1, 2, 1, 1, 3, 2, 1, 1, 2, 3, 2, 1, 1, 2, 3, 1, 1, 1, 3, 1, 1, 3, 3, 2, 1, 2, 2, 2, 2, 3, 1, 3, 2, 3, 3, 2, 1, 2, 3, 2, 2, 2, 2, 3, 1, 2, 2, 1, 3, 2, 2, 3, 1, 1, 1, 2, 3, 1, 1, 2, 1, 1, 1, 2, 2, 1, 1, 3, 1, 1, 3, 1, 2, 2, 1, 3, 3, 2, 3, 3, 2, 1, 1, 1, 2, 2, 3, 2, 3, 3, 2, 3, 2, 1, 1, 3, 1, 1, 3, 1, 3, 1, 2, 3, 2, 1, 3, 1, 2, 1, 1, 1, 3, 3, 2, 1, 1, 2, 2, 3, 3, 3, 1, 3, 3, 2, 2, 2, 1, 3, 3, 3, 1, 3, 2, 1, 3, 2, 3, 1, 2, 2, 2, 1, 1, 1, 3, 2, 2, 1, 1, 3, 3, 2, 2, 3, 1, 2, 1, 2, 3, 3, 1, 1, 2, 1, 3, 1, 1, 3, 2, 1, 3, 3, 3, 1, 2, 2, 1, 2, 1, 1, 3, 3, 1, 1, 3, 3, 3, 3, 1, 3, 1, 1, 1, 2, 1, 1, 3, 2, 1, 2, 3, 2, 3, 1, 1, 1, 1, 1, 1, 3, 2, 1, 2, 1, 2, 2, 2, 3, 1, 3, 3, 2, 3, 1, 3, 1, 3, 3, 1, 1, 2, 3, 3, 2, 2, 1, 1, 3, 3, 3, 3, 3, 1, 1, 3, 3, 3, 1, 3, 3, 3, 2, 3, 2, 2, 3, 2, 2, 2, 1, 2, 3, 1, 1, 3, 3, 1, 3, 3, 1, 2, 1, 3, 1, 1, 2, 3, 3, 3, 2, 3, 2, 1, 3, 1, 3, 1, 3, 2, 1, 1, 1, 2, 1, 1, 1, 3, 1, 3, 2, 1, 2, 3, 1, 3, 2, 3, 2, 2, 3, 2, 3, 1, 1, 2, 3, 2, 2, 2, 1, 2, 2, 3, 1, 2, 2, 2, 1, 3, 1, 3, 3, 1, 3, 3, 3, 1, 3, 1, 1, 3, 2, 1, 2, 1, 2, 1, 3, 3, 2, 2, 1, 1, 2, 2, 1, 1, 2, 1, 2, 3, 3, 3, 3, 3, 1, 3, 3, 3, 1, 1, 2, 1, 2, 2, 3, 3, 1, 3, 1, 1, 1, 2, 1, 2, 3, 2, 3, 2, 2, 3, 3, 1, 2, 1, 3, 1, 2, 2, 1, 2, 2, 1, 2, 3, 1, 3, 1, 3, 1, 2, 1, 3, 3, 3, 1, 3, 3, 2, 2, 1, 3, 3, 2, 3, 2, 2, 3, 2, 3, 2, 2, 1, 1, 1, 1, 3, 2, 2, 1, 3, 2, 1, 1, 3, 2, 1, 2, 1, 2, 3, 2, 3, 1, 1, 2, 2, 1, 2, 3, 1, 2, 1, 1, 2, 2, 2, 1, 3, 2, 1, 2, 3, 1, 2, 2, 1, 1, 3, 1, 2, 2, 3, 3, 2, 3, 2, 3, 1, 2, 3, 3, 1, 2, 1, 2, 2, 1, 2, 3, 1, 3, 3, 1, 2, 2, 3, 3, 2, 3, 2, 2, 3, 3, 2, 2, 2, 2, 1, 1, 1, 3, 3, 3, 2, 2, 1, 1, 1, 2, 2, 3, 2, 1, 2, 1, 3, 2, 3, 2, 3, 1, 1, 3, 1, 2, 2, 2, 2, 3, 3, 1, 2, 2, 2, 3, 2, 3, 3, 3, 1, 2, 3, 3, 1, 1, 3, 2, 2, 3, 1, 1, 1, 3, 1, 1, 2, 1, 1, 3, 1, 1, 1, 2, 1, 3, 3, 1, 1, 3, 1, 1, 3, 2, 1, 3, 2, 3, 2, 2, 1, 2, 2, 1, 2, 2, 2, 1, 3, 1, 3, 2, 2, 1, 3, 3, 1, 1, 2, 3, 3, 3, 1, 3, 3, 3, 3, 1, 3, 3, 2, 1, 3, 3, 2, 1, 2, 1, 2, 2, 2, 1, 3, 1, 1, 1, 2, 3, 2, 3, 2, 3, 1, 3, 1, 2, 2, 1, 1, 3, 1, 1, 2, 2, 2, 1, 1, 2, 1, 2, 2, 1, 3, 1, 1, 2, 2, 3, 3, 3, 3, 2, 2, 2, 2, 3, 3, 3, 2, 3, 3, 1, 2, 2, 2, 2, 3, 3, 2, 1, 2, 2, 1, 1, 2, 3, 3, 1, 3, 2, 3, 2, 3, 3, 2, 3, 2, 2, 2, 1, 2, 1, 1, 2, 2, 3, 3, 2, 3, 1, 3, 1, 2, 3, 2, 2, 3, 1, 3, 2, 3, 1, 3, 2, 3, 3, 2, 1, 2, 1, 1, 2, 3, 2, 2, 3, 2, 1, 2, 1, 1, 1, 2, 3, 1, 1, 1, 3, 2, 1, 3, 1, 2, 1, 2, 2, 1, 2, 3, 1, 1, 2, 3, 1, 2, 3, 2, 1, 2, 1, 2, 3, 2, 1, 1, 2, 1, 3, 1, 1, 2, 3, 3, 3, 3, 1, 2, 2, 3, 2, 2, 1, 2, 1, 3, 3, 2, 1, 3, 1, 3, 2, 3, 2, 1, 2, 2, 1, 2, 1, 3, 1, 2, 2, 3, 3, 3, 3, 1, 3, 1, 3, 3, 3, 1, 2, 2, 1, 1, 2, 2, 3, 1, 2, 3, 2, 1, 1, 3, 3, 3, 1, 2, 2, 3, 2, 1, 1, 3, 1, 1, 1, 2, 1, 2, 1, 1, 3, 2, 2, 1, 2, 2, 2, 1, 2, 1, 1, 3, 3, 2, 1, 3, 3, 2, 3, 2, 1, 2, 2, 1, 3, 3, 2, 2, 1, 2, 3, 3, 2, 2, 3, 3, 3, 3, 2, 3, 1, 2, 2, 2, 2, 1, 2, 1, 3, 3, 1, 3, 2, 3, 3, 2, 2, 1, 2, 1, 3, 3, 1, 2, 1, 3, 3, 1, 3, 3, 1, 3, 3, 2, 3, 3, 1, 1, 2, 3, 2, 2, 3, 3, 2, 2, 1, 3, 3, 2, 1, 3, 3, 2, 2, 3, 3, 3, 1, 1, 1, 1, 2, 2, 3, 2, 3, 2, 1, 3, 2, 3, 2, 1, 2, 2, 3, 1, 2, 1, 3, 2, 2, 1, 2, 2, 2, 2, 1, 2, 1, 3, 1, 1, 3, 1, 1, 1, 2, 1, 3, 1, 2, 2, 1, 2, 3, 1, 1, 2, 1, 1, 2, 2, 3, 3, 1, 1, 3, 1, 1, 1, 1, 1, 3, 1, 2, 1, 2, 3, 2, 3, 2, 1, 2, 1, 3, 3, 1, 2, 3, 3, 2, 2, 1, 3, 1, 2, 3, 2, 2, 2, 2, 2, 2, 1, 3, 1, 2, 1, 3, 2, 3, 3, 2, 1, 1, 3, 2, 1, 2, 1, 3, 3, 2, 1, 3, 3, 1, 3, 2, 3, 2, 2, 3, 3, 3, 3, 1, 3, 1, 3, 2, 1, 2, 1, 1, 1, 1, 2, 3, 3, 3, 1, 2, 2, 2, 3, 2, 2, 2, 3, 3, 1, 1, 3, 2, 1, 3, 3, 2, 3, 3, 2, 3, 1, 1, 2, 3, 3, 3, 2, 2, 3, 2, 2, 2, 1, 3, 1, 1, 1, 2, 2, 1, 1, 1, 3, 3, 2, 1, 1, 1, 1, 3, 1, 1, 2, 3, 3, 2, 1, 1, 3, 2, 1, 1, 3, 3, 3, 1, 1, 1, 2, 3, 2, 3, 1, 3, 2, 1, 1, 2, 1, 1, 2, 2, 3, 2, 1, 2, 3, 1, 3, 3, 2, 3, 3, 1, 2, 1, 2, 3, 1, 2, 3, 2, 3, 2, 3, 1, 2, 2, 3, 3, 3, 1, 2, 3, 1, 3, 3, 1, 1, 1, 2, 1, 1, 3, 1, 2, 1, 2, 2, 1, 3, 2, 1, 2, 3, 3, 2, 3, 1, 1, 1, 1, 1, 3, 1, 3, 3, 2, 3, 3, 1, 1, 2, 1, 1, 1, 2, 3, 2, 1, 1, 2, 3, 2, 1, 3, 3, 1, 1, 1, 2, 2, 1, 1, 2, 3, 3, 3, 3, 3, 1, 2, 3, 2, 3, 2, 1, 2, 1, 3, 2, 3, 1, 3, 3, 2, 3, 2, 3, 1, 1, 1, 3, 2, 3, 3, 1, 2, 3, 3, 1, 1, 2, 1, 1, 2, 3, 1, 3, 2, 2, 2, 2, 2, 3, 2, 1, 3, 2, 1, 1, 3, 1, 2, 2, 1, 2, 3, 3, 3, 3, 3, 3, 2, 2, 3, 1, 1, 1, 3, 3, 3, 2, 2, 1, 2, 2, 1, 3, 3, 3, 2, 2, 3, 2, 1, 2, 1, 3, 2, 2, 1, 2, 1, 3, 3, 1, 3, 2, 3, 1, 1, 3, 3, 3, 3, 2, 3, 2, 3, 1, 1, 2, 1, 1, 1, 1, 2, 2, 1, 1, 3, 1, 2, 2, 2, 2, 2, 2, 2, 3, 3, 1, 1, 1, 3, 3, 2, 3, 2, 3, 1, 2, 2, 1, 3, 2, 2, 2, 1, 1, 1, 3, 2, 1, 2, 3, 2, 2, 2, 3, 2, 3, 3, 1, 2, 3, 3, 1, 1, 1, 1, 1, 3, 2, 3, 2, 2, 2, 1, 3, 1, 1, 2, 1, 1, 2, 2, 2, 3, 3, 2, 1, 1, 3, 1, 2, 1, 1, 2, 3, 3, 2, 3, 3, 1, 2, 1, 1, 3, 1, 3, 3, 1, 1, 2, 2, 1, 3, 1, 1, 1, 3, 3, 2, 3, 2, 2, 1, 3, 2, 2, 3, 1, 1, 1, 1, 3, 1, 1, 2, 1, 2, 1, 3, 3, 2, 1, 2, 2, 1, 3, 1, 1, 2, 1, 1, 3, 1, 2, 1, 1, 1, 3, 2, 3, 1, 3, 2, 3, 3, 3, 2, 2, 3, 2, 3, 1, 1, 3, 2, 3, 2, 2, 1, 3, 1, 2, 1, 2, 2, 1, 2, 1, 3, 1, 3, 3, 3, 1, 1, 2, 3, 2, 2, 2, 3, 2, 3, 3, 3, 2, 3, 1, 1, 1, 2, 2, 3, 1, 2, 2, 1, 2, 3, 1, 1, 3, 3, 2, 3, 3, 2, 2, 2, 1, 1, 1, 2, 2, 3, 1, 1, 3, 3, 2, 1, 3, 1, 3, 2, 3, 2, 2, 3, 2, 1, 1, 1, 3, 3, 3, 2, 2, 3, 3, 1, 3, 3, 3, 3, 2, 1, 1, 2, 3, 1, 1, 2, 1, 1, 3, 1, 1, 1, 2, 2, 1, 3, 3, 2, 2, 3, 2, 2, 3, 1, 1, 2, 3, 3, 3, 2, 3, 3, 2, 1, 1, 3, 2, 2, 1, 2, 3, 3, 3, 2, 2, 3, 2, 2, 2, 2, 3, 2, 1, 2, 1, 2, 3, 1, 1, 1, 1, 2, 1, 1, 3, 3, 2, 3, 1, 3, 2, 1, 1, 1, 3, 1, 1, 3, 3, 1, 2, 1, 2, 1, 3, 2, 2, 3, 2, 2, 2, 1, 1, 3, 1, 3, 1, 1, 2, 2, 1, 3, 2, 2, 1, 1, 2, 1, 2, 2, 1, 1, 1, 1, 3, 1, 3, 1, 1, 2, 3, 3, 2, 2, 3, 3, 3, 1, 2, 2, 2, 3, 3, 1, 3, 2, 2, 3, 2, 1, 1, 2, 2, 3, 2, 1, 2, 2, 1, 2, 2, 3, 2, 2, 3, 1, 1, 1, 1, 2, 2, 2, 3, 3, 3, 2, 1, 2, 1, 3, 3, 1, 3, 3, 1, 3, 2, 2, 3, 2, 1, 2, 2, 3, 1, 1, 2, 1, 3, 3, 1, 3, 3, 1, 1, 2, 2, 2, 2, 1, 2, 3, 3, 1, 1, 3, 1, 1, 2, 3, 1, 1, 2, 3, 3, 3, 2, 2, 3, 2, 2, 3, 3, 3, 1, 1, 1, 3, 3, 2, 2, 2, 2, 2, 3, 1, 2, 3, 1, 3, 2, 3, 3, 3, 3, 3, 2, 1, 3, 3, 1, 2, 3, 3, 2, 2, 3, 2, 2, 1, 2, 2, 3, 2, 2, 1, 1, 2, 1, 3, 1, 3, 1, 2, 2, 3, 1, 3, 3, 3, 3, 3, 1, 3, 2, 1, 2, 2, 1, 2, 3, 1, 2, 1, 2, 1, 1, 3, 1, 3, 1, 3, 1, 3, 3, 2, 3, 2, 3, 1, 2, 1, 1, 3, 3, 3, 2, 1, 2, 2, 3, 3, 3, 3, 1, 1, 3, 3, 2, 3, 2, 1, 1, 3, 1, 3, 3, 2, 1, 2, 3, 3, 1, 2, 1, 3, 3, 3, 2, 1, 2, 3, 1, 1, 1, 2, 2, 2, 2, 3, 2, 1, 2, 3, 1, 3, 3, 1, 3, 2, 3, 1, 3, 3, 1, 3, 2, 1, 2, 2, 1, 2, 2, 2, 3, 1, 1, 3, 1, 1, 1, 3, 2, 1, 2, 3, 2, 2, 2, 3, 3, 1, 3, 2, 1, 1, 2, 1, 3, 3, 3, 1, 2, 1, 2, 2, 2, 1, 3, 1, 2, 3, 3, 2, 3, 2, 1, 2, 3, 3, 2, 3, 2, 3, 2, 1, 2, 2, 3, 2, 3, 2, 1, 3, 3, 2, 1, 2, 1, 1, 2, 1, 1, 3, 2, 1, 3, 3, 3, 2, 2, 2, 1, 2, 1, 3, 2, 3, 3, 2, 1, 1, 2, 2, 3, 2, 1, 3, 1, 3, 2, 3, 3, 3, 1, 1, 3, 2, 3, 2, 3, 3, 2, 3, 3, 3, 2, 3, 3, 2, 1, 3, 3, 1, 3, 1, 3, 2, 1, 3, 3, 3, 3, 1, 3, 3, 2, 3, 2, 1, 2, 1, 3, 3, 3, 3, 2, 3, 2, 1, 3, 2, 1, 2, 2, 3, 1, 2, 2, 3, 1, 1, 1, 1, 1, 1, 1, 1, 3, 1, 3, 1, 3, 1, 3, 3, 2, 2, 1, 3, 2, 3, 1, 3, 1, 1, 2, 2, 1, 2, 1, 1, 1, 2, 1, 1, 2, 2, 2, 1, 3, 2, 3, 3, 3, 3, 1, 1, 3, 3, 3, 3, 2, 3, 1, 3, 2, 1, 2, 3, 3, 1, 2, 3, 1, 1, 3, 2, 1, 2, 1, 2, 3, 1, 3, 2, 1, 1, 3, 3, 1, 2, 2, 1, 1, 2, 2, 3, 1, 2, 1, 3, 1, 3, 2, 3, 1, 3, 3, 3, 2, 3, 2, 3, 2, 2, 3, 2, 1, 2, 2, 1, 3, 2, 1, 3, 3, 2, 3, 3, 2, 1, 1, 1, 1, 1, 1, 3, 1, 3, 1, 2, 3, 2, 1, 3, 3, 3, 1, 3, 1, 3, 3, 2, 3, 3, 2, 2, 1, 1, 1, 3, 3, 1, 1, 3, 2, 2, 2, 1, 3, 1, 2, 3, 2, 3, 3, 3, 1, 3, 1, 1, 3, 1, 2, 2, 2, 2, 3, 1, 3, 1, 2, 1, 3, 2, 2, 1, 1, 3, 3, 1, 1, 3, 1, 3, 1, 1, 2, 1, 1, 2, 1, 1, 3, 3, 2, 3, 2, 1, 3, 1, 1, 1, 3, 1, 3, 2, 2, 1, 2, 3, 2, 1, 2, 1, 1, 3, 3, 3, 3, 2, 1, 2, 2, 1, 1, 1, 3, 2, 1, 3, 1, 2, 3, 1, 2, 1, 3, 3, 1, 2, 2, 3, 2, 3, 2, 2, 3, 1, 3, 3, 3, 2, 2, 3, 1, 2, 2, 2, 1, 2, 3, 1, 2, 1, 3, 2, 3, 3, 3, 2, 1, 2, 3, 2, 2, 3, 3, 3, 1, 3, 2, 3, 1, 2, 1, 2, 2, 3, 2, 1, 2, 2, 1, 1, 2, 2, 3, 2, 2, 3, 2, 3, 1, 1, 2, 1, 2, 1, 2, 1, 1, 3, 2, 1, 1, 1, 2, 1, 3, 3, 3, 3, 2, 1, 3, 1, 2, 2, 2, 3, 2, 3, 3, 3, 1, 3, 3, 2, 2, 2, 2, 2, 3, 3, 1, 3, 3, 1, 3, 2, 2, 2, 1, 3, 1, 2, 3, 3, 3, 3, 3, 1, 2, 3, 2, 1, 1, 1, 3, 2, 2, 3, 3, 2, 3, 1, 2, 1, 1, 1, 2, 1, 2, 3, 3, 1, 2, 3, 1, 1, 3, 2, 1, 3, 2, 3, 3, 2, 2, 1, 1, 2, 3, 1, 1, 3, 3, 1, 3, 1, 2, 3, 3, 3, 3, 1, 3, 3, 3, 2, 3, 1, 1, 2, 1, 2, 2, 1, 2, 2, 3, 3, 3, 2, 3, 3, 3, 2, 1, 1, 2, 1, 1, 3, 1, 3, 1, 1, 3, 3, 3, 3, 2, 2, 1, 1, 3, 3, 3, 3, 1, 2, 1, 3, 2, 1, 2, 2, 1, 3, 2, 2, 3, 3, 3, 1, 3, 3, 3, 3, 3, 3, 1, 3, 1, 3, 3, 3, 1, 2, 3, 3, 1, 1, 2, 1, 2, 3, 2, 1, 3, 2, 1, 1, 1, 3, 3, 2, 3, 3, 2, 2, 3, 3, 2, 3, 1, 3, 1, 3, 1, 2, 2, 2, 2, 1, 2, 1, 3, 2, 3, 2, 3, 1, 3, 1, 2, 3, 2, 1, 1, 3, 1, 1, 3, 1, 2, 2, 1, 2, 3, 2, 1, 3, 1, 1, 1, 1, 3, 3, 3, 2, 3, 2, 1, 2, 1, 3, 3, 3, 3, 2, 3, 2, 3, 3, 1, 2, 2, 2, 2, 3, 3, 1, 1, 3, 3, 3, 2, 2, 1, 2, 3, 2, 3, 2, 3, 1, 3, 3, 1, 1, 3, 2, 3, 3, 3, 2, 3, 3, 3, 3, 1, 1, 3, 2, 2, 3, 2, 3, 3, 2, 3, 1, 1, 3, 1, 3, 3, 3, 2, 2, 1, 3, 2, 2, 1, 3, 3, 3, 2, 2, 2, 2, 1, 2, 3, 3, 2, 1, 1, 3, 1, 3, 3, 3, 1, 1, 3, 3, 1, 2, 2, 1, 1, 3, 2, 1, 2, 3, 3, 3, 3, 2, 3, 3, 1, 3, 2, 1, 2, 3, 1, 2, 1, 3, 2, 1, 1, 1, 1, 3, 1, 2, 1, 2, 2, 1, 2, 3, 3, 2, 2, 2, 2, 2, 3, 2, 3, 2, 3, 1, 3, 1, 1, 2, 3, 3, 3, 3, 2, 1, 1, 2, 1, 3, 3, 3, 2, 3, 1, 1, 3, 2, 2, 3, 1, 1, 1, 1, 1, 2, 1, 1, 3, 1, 3, 3, 2, 2, 3, 3, 1, 2, 2, 3, 3, 2, 2, 1, 3, 3, 2, 1, 2, 1, 2, 2, 2, 2, 2, 3, 2, 2, 2, 1, 1, 2, 2, 2, 2, 2, 3, 1, 1, 3, 1, 1, 3, 1, 2, 3, 2, 1, 3, 1, 2, 1, 3, 3, 3, 1, 3, 3, 1, 1, 1, 1, 2, 2, 1, 1, 3, 2, 1, 2, 1, 1, 2, 3, 2, 1, 1, 2, 2, 2, 2, 1, 1, 3, 1, 3, 2, 1, 2, 3, 3, 1, 1, 1, 1, 2, 1, 1, 1, 2, 3, 1, 1, 2, 2, 2, 1, 3, 3, 2, 1, 1, 3, 1, 3, 1, 2, 2, 2, 1, 1, 1, 3, 2, 1, 1, 3, 2, 3, 1, 2, 3, 1, 3, 2, 2, 3, 2, 1, 2, 1, 2, 3, 2, 2, 2, 1, 3, 1, 1, 3, 1, 1, 3, 2, 2, 2, 2, 2, 1, 2, 2, 2, 1, 1, 1, 3, 2, 1, 2, 3, 3, 2, 1, 1, 2, 2, 2, 3, 2, 3, 3, 3, 1, 1, 1, 2, 2, 1, 2, 1, 3, 2, 2, 1, 3, 3, 1, 2, 3, 1, 3, 1, 1, 2, 1, 1, 3, 2, 3, 1, 1, 2, 2, 1, 1, 3, 2, 2, 1, 3, 1, 1, 3, 1, 3, 2, 3, 3, 2, 1, 1, 3, 2, 2, 2, 1, 1, 2, 2, 3, 2, 1, 2, 2, 1, 3, 2, 1, 2, 2, 2, 1, 1, 1, 2, 2, 2, 1, 2, 2, 3, 3, 2, 3, 2, 2, 2, 3, 2, 1, 3, 1, 2, 1, 1, 2, 1, 3, 3, 3, 1, 2, 3, 3, 3, 1, 1, 1, 3, 2, 3, 2, 3, 2, 2, 1, 2, 3, 1, 1, 3, 3, 2, 1, 3, 3, 2, 2, 1, 1, 2, 2, 1, 1, 3, 2, 3, 3, 2, 2, 1, 2, 2, 1, 3, 1, 3, 2, 3, 3, 3, 2, 1, 3, 1, 1, 1, 2, 2, 2, 3, 3, 1, 3, 3, 3, 1, 2, 1, 3, 3, 1, 1, 1, 1, 1, 2, 3, 1, 3, 2, 3, 1, 2, 1, 2, 3, 2, 2, 3, 2, 3, 2, 2, 3, 1, 3, 1, 1, 2, 1, 3, 3, 2, 3, 3, 3, 2, 1, 2, 2, 2, 1, 2, 2, 3, 3, 3, 3, 2, 2, 1, 1, 1, 2, 1, 2, 3, 2, 1, 3, 3, 3, 1, 1, 2, 3, 2, 2, 2, 1, 1, 1, 2, 3, 1, 2, 3, 2, 3, 2, 1, 2, 2, 2, 2, 3, 1, 2, 1, 2, 3, 1, 2, 3, 1, 2, 1, 3, 3, 2, 3, 3, 2, 3, 2, 3, 3, 3, 1, 3, 1, 1, 2, 3, 1, 1, 3, 2, 1, 1, 1, 2, 3, 3, 3, 3, 3, 1, 1, 2, 1, 1, 1, 1, 1, 3, 1, 1, 3, 3, 2, 3, 3, 2, 1, 3, 3, 3, 2, 3, 2, 3, 2, 2, 1, 1, 1, 2, 2, 3, 2, 2, 2, 2, 3, 1, 1, 3, 3, 3, 2, 3, 2, 2, 2, 3, 1, 2, 3, 1, 2, 3, 3, 2, 3, 2, 1, 1, 1, 1, 1, 2, 3, 3, 3, 1, 3, 2, 3, 2, 2, 2, 1, 3, 1, 1, 2, 3, 2, 3, 3, 2, 3, 2, 2, 2, 1, 1, 1, 3, 3, 3, 3, 2, 1, 3, 2, 3, 1, 3, 2, 1, 2, 2, 3, 1, 1, 2, 2, 1, 2, 3, 2, 3, 1, 2, 1, 1, 1, 2, 3, 3, 3, 2, 2, 1, 2, 3, 2, 1, 2, 1, 3, 1, 3, 1, 3, 2, 3, 2, 1, 3, 3, 2, 3, 2, 3, 2, 1, 1, 3, 2, 1, 3, 2, 1, 1, 1, 2, 2, 3, 1, 3, 2, 2, 2, 2, 3, 3, 2, 2, 3, 2, 1, 1, 1, 2, 1, 3, 2, 3, 1, 3, 1, 1, 1, 3, 2, 2, 1, 1, 1, 2, 3, 3, 1, 3, 3, 1, 1, 3, 2, 1, 2, 2, 3, 1, 2, 3, 3, 1, 3, 1, 3, 1, 1, 2, 3, 1, 1, 2, 1, 2, 3, 3, 2, 1, 3, 3, 3, 3, 3, 3, 1, 3, 2, 1, 1, 3, 2, 2, 2, 1, 2, 1, 2, 2, 1, 3, 3, 3, 1, 3, 3, 3, 2, 2, 3, 2, 1, 1, 3, 1, 1, 3, 1, 2, 2, 3, 1, 3, 1, 1, 3, 1, 1, 1, 3, 1, 3, 3, 3, 1, 1, 2, 3, 1, 3, 1, 2, 1, 1, 1, 3, 3, 3, 2, 1, 1, 2, 3, 1, 1, 1, 3, 2, 1, 3, 3, 1, 2, 2, 3, 3, 1, 1, 1, 1, 2, 2, 1, 1, 3, 2, 2, 3, 2, 3, 2, 3, 3, 2, 3, 2, 2, 2, 1, 3, 2, 1, 1, 1, 3, 1, 1, 3, 3, 1, 3, 3, 1, 3, 2, 3, 2, 2, 2, 2, 3, 1, 2, 2, 1, 1, 1, 1, 3, 2, 1, 3, 3, 2, 1, 2, 1, 3, 1, 2, 1, 1, 3, 2, 1, 3, 3, 3, 2, 2, 1, 2, 2, 1, 3, 1, 2, 2, 3, 3, 1, 2, 2, 3, 3, 2, 1, 1, 2, 1, 1, 3, 3, 1, 1, 1, 2, 2, 3, 1, 2, 3, 1, 1, 1, 1, 1, 3, 2, 2, 1, 2, 2, 3, 2, 3, 1, 3, 3, 1, 3, 1, 1, 3, 3, 2, 3, 2, 3, 2, 2, 3, 1, 3, 3, 2, 2, 2, 3, 2, 1, 2, 2, 3, 2, 1, 3, 1, 1, 3, 1, 3, 2, 2, 3, 3, 1, 3, 2, 3, 2, 2, 3, 2, 3, 3, 1, 1, 2, 1, 1, 1, 3, 3, 3, 2, 1, 1, 1, 2, 3, 3, 3, 1, 3, 1, 3, 1, 1, 3, 1, 1, 3, 3, 3, 1, 3, 2, 1, 1, 1, 2, 2, 1, 2, 1, 2, 3, 1, 1, 1, 3, 2, 1, 3, 1, 3, 2, 2, 1, 3, 3, 3, 3, 2, 3, 1, 1, 2, 2, 1, 1, 1, 1, 2, 2, 2, 1, 2, 1, 2, 2, 3, 1, 3, 3, 2, 2, 1, 1, 2, 3, 3, 3, 1, 2, 1, 3, 3, 1, 1, 3, 1, 2, 1, 3, 1, 3, 3, 3, 1, 1, 1, 2, 3, 1, 3, 3, 3, 2, 3, 3, 3, 1, 2, 2, 1, 2, 3, 1, 3, 1, 3, 1, 3, 2, 2, 2, 1, 3, 2, 1, 1, 2, 3, 3, 2, 1, 3, 3, 3, 2, 2, 2, 3, 2, 2, 1, 1, 3, 3, 2, 3, 1, 2, 2, 3, 3, 1, 3, 3, 3, 2, 3, 2, 3, 1, 1, 2, 3, 3, 1, 2, 3, 2, 3, 2, 3, 1, 1, 1, 1, 1, 3, 3, 1, 1, 2, 1, 3, 3, 2, 2, 3, 3, 2, 3, 3, 2, 3, 3, 3, 1, 2, 2, 1, 1, 3, 3, 1, 1, 3, 2, 3, 2, 3, 2, 1, 2, 1, 1, 1, 2, 2, 2, 1, 2, 3, 3, 3, 1, 3, 1, 2, 2, 1, 3, 3, 1, 1, 2, 2, 1, 3, 2, 1, 2, 3, 2, 1, 2, 1, 1, 2, 3, 3, 3, 3, 3, 1, 2, 2, 3, 2, 1, 3, 3, 2, 2, 1, 1, 3, 2, 3, 3, 2, 1, 1, 3, 1, 1, 1, 1, 2, 2, 3, 1, 1, 1, 2, 1, 3, 1, 3, 1, 2, 1, 2, 2, 3, 2, 2, 3, 3, 2, 3, 2, 3, 3, 3, 1, 3, 1, 2, 2, 3, 1, 1, 1, 2, 3, 2, 2, 3, 1, 1, 3, 3, 3, 2, 1, 2, 3, 1, 1, 1, 3, 2, 2, 3, 3, 3, 1, 3, 3, 1, 1, 1, 3, 1, 1, 1, 2, 3, 3, 2, 1, 2, 3, 3, 3, 3, 2, 2, 1, 3, 1, 1, 3, 1, 2, 3, 3, 2, 1, 2, 1, 3, 3, 1, 3, 3, 3, 3, 2, 3, 3, 3, 2, 3, 1, 1, 3, 2, 3, 3, 2, 1, 3, 1, 2, 3, 1, 1, 3, 1, 1, 2, 2, 3, 3, 1, 2, 2, 2, 2, 2, 3, 2, 2, 2, 2, 2, 2, 2, 3, 3, 1, 1, 3, 1, 1, 3, 2, 2, 3, 2, 1, 1, 1, 2, 1, 1, 2, 1, 1, 3, 2, 2, 1, 3, 1, 2, 3, 3, 1, 1, 2, 2, 2, 1, 2, 3, 2, 2, 2, 1, 3, 1, 3, 2, 3, 1, 2, 1, 2, 1, 1, 3, 3, 3, 1, 3, 2, 1, 2, 1, 2, 2, 1, 1, 3, 3, 1, 2, 2, 3, 3, 2, 3, 3, 3, 1, 1, 2, 1, 1, 3, 3, 2, 1, 2, 1, 2, 1, 2, 3, 2, 2, 1, 1, 1, 1, 2, 3, 2, 1, 1, 1, 1, 3, 3, 3, 2, 3, 2, 2, 2, 2, 1, 3, 2, 1, 3, 1, 1, 2, 1, 1, 2, 1, 2, 1, 3, 1, 3, 1, 1, 2, 3, 2, 1, 3, 1, 2, 2, 2, 1, 1, 3, 3, 1, 2, 3, 1, 2, 2, 1, 3, 1, 1, 3, 1, 3, 3, 1, 1, 3, 3, 2, 1, 2, 2, 1, 1, 3, 2, 3, 1, 2, 3, 1, 2, 3, 2, 2, 2, 2, 3, 2, 2, 2, 3, 3, 1, 2, 3, 3, 3, 2, 1, 1, 1, 3, 3, 3, 1, 1, 2, 3, 1, 1, 1, 2, 2, 1, 3, 3, 3, 3, 2, 1, 3, 1, 1, 1, 2, 1, 2, 3, 1, 3, 1, 1, 3, 3, 2, 3, 1, 3, 3, 2, 3, 1, 1, 1, 1, 3, 2, 2, 2, 2, 2, 1, 3, 3, 3, 3, 3, 3, 2, 2, 1, 2, 2, 1, 1, 2, 2, 3, 3, 2, 3, 1, 2, 3, 1, 1, 1, 3, 3, 2, 2, 1, 2, 3, 2, 2, 3, 2, 1, 3, 1, 2, 2, 3, 2, 2, 1, 3, 3, 3, 3, 3, 3, 3, 3, 1, 3, 1, 1, 1, 2, 1, 3, 1, 3, 1, 2, 2, 1, 3, 1, 2, 3, 3, 2, 2, 3, 2, 1, 2, 1, 3, 1, 1, 3, 3, 1, 2, 3, 3, 3, 1, 2, 1, 1, 3, 2, 3, 3, 1, 3, 3, 2, 3, 1, 1, 3, 1, 2, 3, 1, 2, 3, 1, 1, 2, 1, 3, 2, 2, 2, 2, 1, 3, 3, 1, 2, 3, 3, 2, 3, 1, 3, 1, 3, 2, 3, 1, 3, 3, 2, 1, 1, 3, 1, 3, 1, 3, 3, 3, 2, 2, 3, 1, 3, 2, 1, 1, 2, 3, 3, 3, 1, 1, 1, 1, 3, 1, 2, 1, 3, 1, 3, 1, 1, 1, 2, 1, 1, 3, 3, 3, 1, 3, 3, 1, 3, 2, 3, 3, 2, 2, 3, 3, 2, 3, 2, 3, 2, 2, 3, 1, 2, 2, 1, 3, 3, 3, 3, 2, 3, 2, 2, 1, 2, 2, 2, 3, 2, 2, 2, 3, 2, 1, 2, 3, 3, 1, 3, 1, 1, 1, 2, 3, 2, 1, 1, 1, 2, 3, 2, 3, 2, 2, 3, 2, 2, 2, 2, 1, 2, 1, 1, 1, 1, 2, 3, 3, 1, 1, 2, 1, 1, 1, 1, 3, 3, 2, 2, 2, 1, 1, 3, 3, 1, 2, 3, 3, 2, 1, 3, 3, 2, 1, 2, 1, 2, 3, 1, 3, 3, 2, 1, 3, 1, 3, 1, 1, 3, 1, 2, 3, 1, 1, 2, 1, 3, 3, 1, 3, 2, 1, 2, 2, 3, 2, 1, 2, 1, 2, 1, 3, 1, 3, 3, 2, 3, 2, 3, 2, 2, 3, 1, 2, 1, 3, 2, 3, 2, 1, 1, 1, 3, 2, 3, 3, 2, 3, 3, 3, 1, 2, 3, 3, 2, 1, 2, 1, 1, 1, 3, 3, 3, 1, 3, 1, 3, 2, 1, 1, 1, 2, 1, 2, 2, 3, 1, 1, 3, 1, 1, 2, 2, 2, 2, 2, 1, 1, 2, 1, 3, 2, 1, 3, 2, 2, 2, 3, 2, 2, 1, 3, 3, 2, 3, 1, 2, 3, 3, 3, 2, 1, 3, 3, 3, 3, 2, 1, 2, 1, 3, 2, 1, 3, 3, 1, 3, 2, 1, 1, 1, 2, 2, 1, 1, 3, 3, 2, 1, 1, 3, 3, 3, 2, 1, 3, 2, 1, 1, 1, 2, 3, 1, 3, 3, 2, 3, 1, 3, 1, 1, 2, 1, 1, 1, 3, 1, 2, 2, 2, 1, 3, 3, 3, 2, 3, 3, 1, 1, 2, 1, 1, 1, 1, 3, 2, 1, 3, 1, 3, 1, 1, 3, 2, 3, 2, 1, 3, 3, 3, 1, 1, 2, 3, 1, 3, 1, 1, 2, 3, 2, 1, 3, 2, 1, 2, 1, 3, 1, 3, 2, 1, 1, 3, 3, 2, 1, 2, 2, 3, 3, 1, 1, 3, 3, 3, 1, 3, 3, 3, 1, 3, 2, 3, 3, 3, 1, 1, 1, 3, 3, 2, 3, 2, 1, 2, 3, 3, 2, 2, 2, 1, 1, 3, 1, 2, 3, 2, 2, 3, 1, 3, 2, 3, 3, 2, 3, 3, 3, 3, 2, 2, 2, 1, 1, 3, 2, 3, 3, 1, 1, 1, 3, 1, 2, 1, 3, 3, 3, 2, 2, 2, 2, 1, 1, 3, 2, 1, 1, 1, 2, 1, 2, 2, 2, 3, 2, 3, 2, 3, 3, 3, 1, 3, 1, 2, 2, 2, 1, 3, 3, 2, 1, 3, 1, 1, 3, 3, 3, 2, 1, 2, 1, 2, 3, 3, 1, 1, 3, 2, 1, 1, 1, 1, 3, 3, 2, 2, 1, 1, 3, 2, 1, 3, 1, 1, 2, 1, 1, 3, 1, 3, 3, 1, 2, 3, 3, 2, 3, 1, 1, 2, 3, 3, 1, 1, 3, 2, 2, 3, 2, 2, 1, 1, 1, 1, 2, 2, 1, 1, 3, 1, 1, 2, 2, 2, 2, 3, 2, 3, 3, 1, 1, 3, 2, 1, 3, 1, 3, 3, 1, 2, 2, 2, 1, 2, 3, 3, 3, 3, 1, 3, 3, 2, 1, 3, 2, 2, 3, 2, 3, 1, 2, 1, 3, 1, 1, 2, 3, 2, 1, 1, 2, 2, 1, 2, 1, 2, 2, 2, 1, 2, 2, 2, 2, 3, 3, 3, 2, 1, 3, 2, 2, 2, 3, 1, 2, 1, 3, 2, 2, 3, 2, 2, 2, 2, 1, 2, 1, 3, 2, 2, 2, 3, 2, 3, 1, 1, 3, 1, 2, 3, 2, 3, 2, 2, 3, 1, 3, 2, 2, 3, 2, 2, 3, 2, 2, 2, 2, 2, 1, 3, 3, 1, 1, 2, 3, 2, 1, 1, 2, 1, 1, 1, 3, 2, 3, 2, 3, 2, 3, 1, 3, 3, 2, 2, 2, 1, 2, 2, 2, 2, 1, 3, 3, 2, 1, 2, 1, 3, 2, 3, 1, 1, 3, 3, 2, 2, 2, 3, 2, 3, 2, 2, 2, 1, 2, 2, 1, 3, 2, 1, 1, 3, 1, 3, 1, 1, 2, 3, 1, 1, 1, 1, 2, 3, 1, 2, 1, 1, 1, 2, 2, 2, 1, 3, 3, 2, 3, 1, 3, 1, 2, 2, 2, 2, 2, 2, 3, 2, 1, 1, 1, 1, 2, 2, 3, 2, 1, 2, 3, 3, 1, 3, 1, 3, 3, 1, 2, 3, 1, 1, 1, 3, 3, 1, 3, 1, 2, 2, 2, 2, 3, 3, 3, 2, 2, 3, 3, 3, 3, 3, 2, 1, 3, 1, 2, 2, 3, 1, 3, 1, 2, 3, 1, 2, 1, 2, 3, 1, 2, 2, 1, 2, 3, 1, 3, 2, 3, 2, 2, 3, 3, 1, 3, 3, 1, 2, 1, 2, 3, 2, 3, 2, 3, 2, 3, 2, 1, 1, 1, 1, 3, 3, 3, 3, 2, 2, 2, 3, 2, 2, 1, 3, 3, 1, 3, 2, 3, 3, 1, 1, 2, 2, 1, 1, 3, 1, 1, 3, 3, 3, 1, 3, 1, 1, 1, 2, 2, 3, 1, 2, 1, 1, 1, 2, 1, 2, 1, 2, 1, 2, 3, 1, 1, 3, 1, 2, 2, 1, 3, 2, 2, 1, 2, 2, 1, 1, 1, 3, 1, 3, 3, 2, 1, 3, 3, 2, 1, 3, 2, 3, 1, 3, 3, 1, 1, 1, 1, 3, 1, 1, 1, 1, 1, 2, 2, 2, 1, 1, 3, 3, 2, 3, 1, 3, 1, 3, 1, 2, 2, 3, 1, 2, 1, 2, 2, 2, 2, 1, 3, 3, 3, 3, 3, 3, 2, 1, 2, 3, 1, 2, 1, 2, 2, 3, 3, 2, 3, 3, 2, 3, 3, 1, 2, 1, 1, 3, 2, 3, 3, 1, 1, 1, 3, 3, 3, 3, 1, 2, 2, 1, 2, 2, 1, 3, 1, 3, 3, 1, 2, 1, 2, 3, 3, 2, 2, 2, 3, 3, 2, 3, 1, 2, 3, 1, 3, 1, 1, 2, 2, 2, 3, 1, 1, 2, 3, 1, 3, 3, 2, 2, 2, 1, 1, 2, 1, 1, 3, 3, 2, 3, 1, 3, 2, 2, 2, 3, 3, 3, 3, 3, 3, 1, 3, 1, 1, 1, 2, 2, 2, 2, 1, 1, 3, 3, 2, 3, 1, 3, 3, 2, 2, 1, 3, 1, 3, 1, 2, 1, 3, 1, 3, 2, 1, 3, 2, 1, 1, 1, 2, 3, 3, 1, 1, 3, 2, 1, 2, 3, 1, 2, 2, 2, 1, 3, 2, 1, 3, 1, 2, 2, 1, 3, 1, 3, 2, 1, 1, 3, 1, 3, 2, 1, 2, 1, 2, 2, 2, 2, 2, 3, 2, 3, 1, 3, 2, 3, 3, 1, 1, 1, 2, 2, 3, 1, 1, 3, 1, 1, 1, 2, 2, 1, 2, 3, 3, 1, 3, 1, 1, 2, 2, 2, 3, 2, 3, 2, 3, 1, 1, 1, 2, 3, 1, 3, 3, 1, 2, 2, 3, 3, 2, 2, 3, 1, 2, 2, 2, 1, 1, 1, 2, 2, 1, 2, 2, 2, 3, 1, 3, 3, 3, 2, 3, 1, 1, 2, 1, 2, 1, 3, 1, 2, 3, 1, 3, 1, 1, 3, 2, 3, 2, 3, 1, 1, 2, 3, 2, 2, 3, 2, 2, 3, 2, 1, 3, 2, 3, 3, 3, 3, 1, 2, 1, 1, 1, 1, 3, 2, 3, 2, 3, 2, 2, 3, 1, 2, 2, 3, 1, 1, 3, 2, 1, 1, 3, 1, 1, 3, 3, 2, 1, 2, 2, 3, 1, 2, 1, 1, 1, 2, 2, 1, 2, 2, 2, 2, 3, 1, 3, 2, 1, 2, 1, 1, 3, 3, 2, 1, 3, 1, 2, 3, 2, 2, 3, 1, 1, 3, 3, 2, 1, 1, 1, 2, 3, 2, 2, 2, 1, 3, 3, 1, 3, 2, 2, 1, 2, 2, 2, 2, 3, 3, 3, 3, 1, 2, 2, 2, 3, 2, 2, 3, 3, 3, 2, 3, 3, 3, 3, 1, 2, 2, 1, 3, 1, 3, 3, 2, 3, 2, 3, 2, 3, 1, 1, 1, 1, 2, 2, 1, 1, 2, 1, 3, 2, 1, 3, 3, 1, 2, 3, 3, 3, 1, 1, 1, 3, 1, 3, 2, 3, 1, 3, 1, 3, 3, 3, 2, 2, 2, 3, 2, 2, 2, 1, 2, 1, 3, 2, 3, 3, 1, 2, 1, 2, 2, 3, 3, 1, 1, 2, 3, 1, 1, 3, 3, 2, 1, 3, 3, 1, 2, 3, 3, 1, 1, 3, 2, 3, 2, 1, 2, 3, 2, 1, 2, 3, 3, 3, 3, 3, 2, 1, 3, 1, 2, 3, 3, 3, 2, 3, 1, 3, 3, 1, 1, 1, 1, 3, 3, 1, 2, 3, 1, 3, 2, 2, 2, 3, 1, 1, 3, 3, 1, 1, 3, 2, 3, 1, 2, 1, 1, 1, 1, 2, 1, 2, 3, 2, 3, 1, 1, 1, 1, 1, 2, 1, 2, 1, 1, 2, 3, 1, 3, 1, 2, 1, 3, 3, 1, 1, 1, 3, 1, 1, 1, 3, 1, 1, 2, 2, 3, 1, 3, 1, 3, 3, 2, 1, 1, 1, 3, 2, 1, 2, 1, 3, 3, 3, 3, 1, 2, 3, 2, 3, 3, 3, 3, 1, 3, 1, 3, 3, 2, 3, 3, 1, 2, 3, 2, 2, 3, 3, 3, 3, 3, 3, 1, 2, 1, 1, 2, 2, 2, 2, 1, 3, 3, 1, 2, 3, 3, 2, 1, 2, 3, 1, 2, 3, 1, 1, 1, 1, 3, 2, 3, 2, 2, 3, 2, 1, 1, 3, 2, 2, 2, 1, 3, 1, 2, 2, 1, 1, 1, 3, 2, 3, 2, 3, 3, 2, 3, 2, 2, 3, 1, 2, 1, 3, 2, 2, 3, 3, 1, 3, 3, 2, 3, 1, 2, 2, 2, 2, 2, 3, 3, 3, 1, 3, 1, 2, 3, 3, 1, 2, 2, 3, 3, 1, 2, 1, 2, 2, 3, 3, 3, 2, 1, 3, 1, 3, 1, 2, 2, 3, 2, 1, 2, 1, 1, 3, 1, 2, 1, 1, 3, 1, 1, 3, 2, 1, 3, 2, 3, 1, 1, 1, 2, 3, 2, 2, 3, 1, 1, 3, 2, 1, 2, 1, 2, 3, 2, 1, 3, 2, 1, 3, 1, 2, 1, 3, 3, 3, 2, 2, 1, 2, 2, 3, 2, 1, 1, 3, 1, 1, 3, 2, 1, 3, 2, 2, 3, 3, 2, 1, 3, 1, 1, 2, 1, 2, 1, 2, 3, 2, 2, 1, 2, 3, 1, 1, 3, 3, 2, 1, 2, 1, 1, 3, 3, 2, 1, 1, 1, 3, 3, 3, 2, 3, 1, 3, 2, 3, 1, 1, 1, 1, 1, 2, 3, 2, 3, 2, 1, 2, 3, 3, 3, 3, 1, 1, 2, 1, 2, 2, 3, 1, 2, 2, 3, 3, 1, 2, 3, 2, 3, 3, 3, 3, 2, 3, 3, 2, 2, 2, 1, 3, 1, 1, 1, 3, 1, 2, 2, 2, 1, 3, 3, 1, 1, 1, 3, 2, 2, 3, 2, 1, 3, 1, 2, 1, 1, 3, 1, 2, 2, 2, 3, 2, 2, 3, 2, 3, 2, 1, 3, 3, 3, 3, 2, 3, 1, 2, 1, 3, 2, 2, 3, 1, 1, 1, 2, 3, 2, 3, 2, 2, 1, 2, 3, 1, 2, 3, 3, 3, 2, 1, 3, 3, 2, 1, 3, 2, 3, 2, 1, 2, 2, 2, 3, 1, 1, 1, 3, 1, 2, 2, 3, 3, 1, 1, 1, 2, 1, 2, 2, 2, 1, 2, 2, 2, 2, 3, 1, 1, 2, 3, 2, 1, 3, 2, 3, 1, 3, 1, 1, 1, 3, 3, 3, 1, 1, 3, 2, 3, 2, 1, 3, 3, 2, 2, 2, 1, 2, 2, 2, 2, 2, 2, 3, 1, 3, 2, 1, 3, 3, 3, 3, 2, 1, 3, 3, 3, 2, 2, 1, 2, 2, 1, 3, 1, 1, 2, 3, 1, 2, 2, 1, 1, 2, 2, 2, 3, 3, 1, 1, 2, 2, 2, 3, 2, 1, 1, 2, 2, 1, 2, 3, 1, 1, 2, 3, 2, 2, 2, 1, 2, 2, 1, 3, 3, 3, 3, 1, 3, 3, 1, 2, 3, 1, 1, 1, 3, 3, 2, 2, 1, 1, 1, 1, 2, 2, 3, 2, 3, 3, 1, 1, 3, 3, 3, 1, 1, 2, 2, 1, 1, 3, 1, 3, 2, 2, 1, 3, 3, 3, 1, 2, 3, 3, 2, 1, 2, 1, 1, 2, 3, 1, 3, 2, 3, 1, 1, 1, 3, 2, 3, 1, 2, 1, 1, 1, 3, 2, 1, 1, 2, 3, 3, 2, 3, 2, 2, 1, 3, 3, 2, 1, 2, 3, 1, 2, 3, 1, 2, 2, 2, 1, 2, 3, 2, 2, 1, 1, 2, 3, 2, 3, 1, 3, 1, 3, 3, 3, 1, 3, 3, 3, 3, 3, 2, 3, 2, 1, 1, 2, 3, 2, 1, 1, 1, 3, 2, 2, 1, 1, 2, 2, 2, 2, 2, 1, 3, 3, 3, 3, 3, 1, 3, 2, 3, 3, 3, 3, 2, 1, 3, 2, 2, 1, 2, 2, 2, 3, 3, 1, 1, 1, 1, 2, 1, 2, 3, 1, 1, 1, 2, 1, 1, 1, 2, 1, 1, 2, 3, 1, 2, 3, 2, 2, 1, 1, 1, 3, 3, 2, 3, 1, 3, 3, 3, 3, 3, 2, 2, 2, 2, 1, 3, 2, 1, 3, 1, 1, 3, 1, 2, 3, 2, 3, 1, 3, 3, 2, 1, 2, 3, 1, 3, 1, 2, 1, 3, 2, 2, 1, 2, 2, 3, 3, 1, 1, 3, 1, 3, 3, 2, 3, 3, 2, 3, 3, 2, 3, 3, 2, 3, 3, 1, 1, 1, 1, 1, 1, 3, 2, 3, 2, 2, 1, 1, 3, 2, 2, 2, 3, 1, 1, 2, 1, 3, 1, 3, 3, 2, 1, 1, 1, 2, 1, 2, 3, 2, 3, 3, 1, 1, 1, 2, 3, 3, 3, 2, 1, 3, 3, 2, 1, 2, 3, 2, 2, 1, 2, 3, 1, 2, 3, 3, 1, 1, 3, 2, 1, 1, 2, 2, 2, 3, 3, 1, 2, 1, 2, 1, 2, 3, 2, 2, 1, 3, 1, 3, 1, 3, 2, 3, 1, 3, 3, 1, 2, 3, 3, 3, 2, 3, 1, 1, 3, 2, 3, 1, 2, 2, 1, 2, 1, 1, 1, 2, 1, 2, 1, 3, 2, 2, 1, 2, 1, 1, 1, 1, 3, 3, 2, 1, 2, 3, 3, 2, 1, 2, 3, 2, 2, 2, 2, 2, 1, 2, 1, 2, 2, 3, 2, 1, 2, 2, 3, 2, 1, 2, 2, 1, 2, 3, 2, 1, 3, 1, 1, 2, 3, 1, 2, 2, 3, 2, 2, 1, 2, 3, 1, 3, 3, 2, 1, 3, 3, 3, 3, 1, 2, 3, 2, 3, 2, 2, 2, 1, 3, 1, 3, 3, 3, 3, 3, 1, 1, 3, 1, 3, 1, 3, 3, 1, 1, 1, 2, 1, 2, 2, 1, 3, 3, 2, 1, 1, 3, 2, 1, 3, 3, 2, 3, 2, 3, 2, 1, 1, 2, 2, 3, 3, 3, 3, 1, 2, 2, 1, 1, 3, 1, 1, 1, 3, 2, 1, 1, 2, 3, 2, 2, 3, 3, 3, 3, 3, 3, 3, 2, 3, 3, 1, 3, 3, 3, 1, 1, 2, 2, 3, 1, 2, 3, 1, 1, 3, 2, 3, 3, 2, 2, 1, 3, 3, 3, 1, 1, 1, 1, 3, 2, 1, 2, 2, 1, 2, 2, 2, 2, 3, 2, 3, 2, 2, 3, 3, 1, 2, 3, 2, 2, 1, 1, 2, 2, 2, 2, 3, 1, 3, 1, 1, 1, 2, 2, 2, 3, 3, 1, 1, 1, 3, 1, 3, 2, 1, 2, 3, 2, 1, 1, 3, 3, 1, 2, 3, 3, 3, 3, 2, 2, 3, 3, 1, 2, 3, 2, 2, 3, 1, 3, 1, 1, 2, 2, 1, 3, 1, 2, 3, 2, 3, 1, 2, 1, 1, 2, 3, 1, 3, 1, 2, 1, 3, 2, 3, 2, 2, 3, 1, 2, 3, 2, 1, 2, 2, 3, 1, 3, 3, 2, 2, 1, 1, 3, 1, 2, 1, 3, 3, 3, 2, 2, 1, 3, 1, 3, 3, 3, 2, 3, 2, 1, 2, 3, 1, 3, 1, 3, 2, 2, 1, 1, 3, 3, 3, 3, 1, 1, 2, 2, 3, 1, 1, 1, 2, 1, 2, 3, 3, 2, 2, 2, 2, 1, 1, 1, 2, 2, 2, 2, 1, 3, 1, 2, 2, 1, 3, 1, 3, 1, 3, 2, 3, 3, 3, 3, 2, 1, 2, 3, 2, 2, 3, 3, 1, 2, 3, 3, 2, 1, 1, 2, 1, 1, 3, 1, 3, 2, 2, 1, 2, 3, 3, 1, 1, 3, 1, 1, 1, 1, 3, 1, 1, 1, 3, 3, 3, 3, 2, 2, 1, 2, 2, 3, 2, 3, 3, 1, 2, 1, 3, 2, 1, 1, 2, 1, 1, 2, 1, 1, 2, 3, 3, 2, 2, 1, 1, 1, 1, 1, 1, 1, 1, 3, 2, 1, 2, 3, 3, 1, 2, 3, 1, 1, 2, 3, 2, 2, 3, 2, 1, 1, 1, 2, 1, 1, 2, 3, 2, 1, 1, 3, 3, 3, 3, 3, 3, 1, 3, 1, 1, 1, 3, 1, 2, 1, 2, 1, 3, 3, 3, 2, 2, 2, 1, 3, 1, 2, 3, 2, 3, 2, 1, 1, 3, 2, 2, 2, 2, 3, 2, 2, 1, 2, 3, 2, 1, 2, 1, 2, 2, 1, 3, 1, 2, 2, 2, 3, 3, 3, 2, 2, 1, 1, 1, 1, 3, 2, 1, 2, 3, 1, 1, 2, 1, 2, 2, 2, 2, 3, 1, 2, 1, 1, 3, 1, 3, 2, 1, 3, 1, 3, 2, 3, 2, 1, 3, 2, 3, 3, 2, 3, 1, 3, 2, 2, 3, 2, 3, 1, 3, 2, 1, 2, 2, 1, 1, 3, 3, 3, 2, 2, 1, 1, 1, 1, 3, 2, 1, 3, 2, 1, 2, 3, 3, 3, 3, 3, 3, 3, 1, 3, 3, 2, 2, 3, 1, 2, 1, 2, 1, 1, 2, 1, 1, 2, 3, 3, 2, 3, 1, 3, 1, 2, 2, 1, 1, 2, 3, 1, 2, 2, 3, 2, 1, 1, 3, 3, 2, 1, 2, 1, 1, 2, 3, 1, 3, 1, 3, 1, 2, 3, 1, 2, 2, 1, 1, 2, 3, 2, 1, 2, 2, 2, 3, 2, 3, 2, 2, 1, 3, 3, 2, 3, 3, 2, 1, 2, 1, 2, 1, 3, 3, 1, 3, 2, 2, 3, 3, 2, 2, 3, 3, 2, 3, 2, 3, 1, 3, 1, 1, 1, 3, 1, 2, 3, 3, 1, 2, 2, 3, 2, 1, 2, 1, 1, 1, 3, 2, 1, 3, 1, 2, 3, 3, 2, 1, 2, 2, 3, 2, 1, 1, 2, 3, 3, 3, 3, 2, 2, 3, 2, 3, 2, 3, 3, 3, 3, 3, 2, 2, 3, 2, 3, 2, 1, 3, 2, 3, 3, 2, 3, 1, 2, 1, 1, 1, 3, 3, 1, 3, 3, 1, 1, 1, 2, 2, 1, 3, 3, 1, 2, 1, 1, 3, 1, 3, 2, 3, 3, 1, 1, 1, 3, 3, 1, 1, 2, 1, 3, 2, 3, 2, 1, 3, 2, 1, 2, 2, 1, 2, 1, 3, 1, 2, 2, 2, 1, 2, 2, 1, 1, 2, 2, 2, 3, 1, 2, 3, 2, 2, 2, 2, 3, 1, 3, 1, 2, 1, 2, 3, 2, 1, 2, 2, 1, 2, 1, 1, 3, 1, 1, 3, 1, 2, 1, 2, 3, 2, 2, 1, 1, 2, 2, 2, 1, 2, 3, 1, 3, 1, 3, 1, 2, 2, 3, 1, 1, 2, 2, 1, 3, 1, 3, 1, 3, 3, 3, 3, 3, 3, 3, 3, 3, 1, 2, 3, 1, 2, 3, 1, 2, 1, 3, 1, 1, 2, 1, 3, 3, 2, 1, 1, 3, 2, 3, 3, 3, 3, 3, 2, 1, 1, 3, 3, 3, 2, 2, 3, 1, 1, 1, 2, 1, 1, 3, 3, 2, 2, 1, 1, 2, 2, 3, 2, 1, 2, 3, 1, 1, 1, 1, 2, 3, 3, 2, 1, 1, 1, 2, 1, 1, 2, 3, 2, 2, 1, 1, 2, 3, 2, 3, 1, 3, 2, 2, 3, 1, 3, 1, 2, 2, 1, 3, 1, 1, 2, 3, 2, 1, 2, 1, 3, 3, 3, 1, 1, 1, 3, 3, 2, 2, 1, 1, 3, 3, 3, 1, 1, 3, 1, 1, 3, 3, 2, 2, 2, 3, 1, 2, 1, 1, 1, 3, 1, 2, 3, 3, 1, 1, 3, 2, 1, 1, 3, 1, 3, 1, 2, 2, 2, 3, 3, 1, 2, 1, 3, 2, 1, 1, 1, 2, 1, 1, 2, 2, 1, 1, 2, 2, 2, 1, 2, 3, 3, 2, 2, 2, 1, 2, 1, 3, 3, 2, 2, 1, 2, 1, 2, 3, 2, 1, 2, 2, 1, 3, 1, 2, 1, 1, 3, 3, 3, 3, 2, 1, 2, 2, 2, 2, 1, 1, 1, 1, 2, 1, 3, 3, 1, 3, 3, 3, 2, 1, 1, 3, 2, 3, 3, 3, 2, 1, 2, 3, 2, 1, 3, 1, 1, 1, 1, 3, 2, 2, 3, 3, 3, 3, 1, 2, 2, 3, 2, 3, 1, 3, 2, 2, 3, 3, 2, 3, 3, 1, 1, 3, 3, 2, 2, 3, 2, 3, 3, 2, 1, 2, 1, 1, 2, 3, 3, 1, 2, 3, 2, 2, 2, 3, 1, 1, 2, 1, 1, 2, 1, 2, 2, 3, 1, 3, 1, 1, 3, 1, 1, 1, 2, 2, 1, 2, 2, 2, 3, 3, 2, 2, 2, 2, 2, 2, 3, 1, 3, 1, 1, 1, 2, 3, 1, 2, 3, 1, 3, 3, 2, 2, 3, 3, 2, 3, 3, 3, 1, 1, 1, 1, 1, 2, 3, 3, 1, 2, 3, 3, 3, 1, 2, 2, 2, 2, 3, 2, 3, 2, 3, 3, 3, 3, 1, 1, 3, 2, 1, 1, 2, 2, 1, 1, 2, 2, 2, 3, 1, 3, 3, 2, 2, 1, 2, 3, 3, 1, 1, 2, 2, 1, 2, 2, 3, 3, 1, 3, 1, 1, 3, 3, 3, 2, 3, 3, 3, 2, 3, 1, 1, 1, 2, 3, 1, 1, 2, 1, 3, 1, 1, 3, 3, 2, 3, 3, 2, 2, 2, 1, 1, 1, 3, 1, 2, 3, 3, 1, 2, 3, 3, 1, 3, 2, 1, 3, 1, 3, 3, 1, 2, 1, 3, 1, 2, 3, 3, 1, 1, 1, 2, 1, 2, 3, 1, 3, 1, 2, 3, 3, 1, 3, 3, 1, 3, 2, 1, 2, 2, 2, 2, 2, 3, 2, 2, 3, 1, 2, 2, 1, 3, 3, 1, 2, 2, 1, 2, 3, 1, 1, 2, 1, 2, 2, 2, 1, 3, 3, 2, 3, 2, 3, 2, 1, 2, 2, 1, 1, 1, 2, 3, 1, 2, 1, 2, 3, 3, 1, 2, 1, 1, 3, 2, 1, 2, 2, 1, 2, 2, 2, 1, 3, 3, 1, 1, 3, 2, 3, 2, 3, 1, 2, 2, 3, 2, 3, 3, 1, 1, 1, 3, 2, 2, 1, 1, 2, 3, 2, 2, 2, 1, 2, 3, 3, 2, 1, 2, 2, 3, 2, 3, 1, 2, 3, 3, 3, 3, 2, 2, 1, 1, 1, 3, 3, 1, 2, 2, 3, 1, 2, 3, 1, 3, 2, 2, 2, 1, 3, 1, 1, 3, 2, 2, 2, 3, 1, 3, 3, 1, 1, 2, 3, 1, 2, 2, 1, 2, 1, 1, 2, 3, 3, 3, 1, 3, 1, 3, 2, 2, 3, 1, 2, 1, 2, 1, 2, 2, 3, 2, 1, 2, 3, 2, 3, 2, 2, 2, 1, 1, 1, 2, 3, 3, 2, 1, 3, 2, 2, 2, 3, 1, 3, 2, 1, 1, 2, 1, 3, 3, 3, 1, 2, 3, 3, 2, 1, 1, 1, 1, 2, 1, 3, 3, 3, 3, 2, 2, 1, 2, 2, 2, 1, 3, 3, 1, 3, 1, 3, 2, 2, 3, 2, 1, 1, 1, 2, 1, 3, 2, 1, 1, 2, 2, 2, 3, 2, 2, 3, 3, 1, 1, 2, 1, 3, 3, 1, 1, 3, 1, 1, 3, 1, 2, 2, 3, 3, 3, 2, 1, 3, 1, 3, 1, 1, 2, 2, 3, 3, 3, 1, 1, 2, 3, 2, 2, 1, 2, 2, 1, 1, 3, 1, 2, 3, 1, 2, 1, 2, 3, 1, 3, 1, 3, 2, 1, 3, 1, 2, 1, 1, 2, 1, 3, 1, 3, 1, 2, 2, 2, 1, 1, 3, 1, 3, 3, 1, 3, 1, 2, 1, 2, 2, 1, 1, 3, 3, 3, 2, 1, 3, 3, 2, 2, 1, 1, 1, 3, 2, 2, 2, 1, 3, 3, 3, 1, 2, 1, 2, 3, 3, 3, 3, 1, 3, 1, 3, 3, 2, 3, 3, 3, 3, 3, 2, 3, 2, 2, 2, 2, 2, 2, 2, 2, 3, 2, 1, 1, 1, 3, 3, 1, 1, 1, 1, 2, 3, 3, 1, 1, 2, 3, 3, 2, 2, 2, 1, 3, 2, 3, 3, 3, 3, 2, 2, 1, 2, 1, 2, 2, 2, 3, 2, 3, 2, 1, 2, 2, 3, 1, 3, 3, 3, 3, 1, 2, 3, 2, 2, 1, 3, 2, 2, 2, 2, 2, 3, 1, 3, 1, 1, 2, 1, 1, 2, 1, 1, 2, 1, 2, 2, 2, 3, 2, 1, 2, 2, 1, 2, 3, 3, 1, 1, 1, 3, 1, 3, 1, 3, 2, 3, 3, 1, 1, 1, 2, 1, 1, 1, 2, 1, 3, 3, 1, 3, 2, 3, 1, 1, 2, 3, 3, 1, 1, 1, 1, 1, 1, 1, 2, 1, 1, 1, 3, 3, 1, 1, 3, 3, 1, 3, 1, 3, 3, 1, 3, 2, 1, 1, 2, 2, 1, 2, 2, 1, 3, 2, 3, 3, 2, 1, 3, 2, 2, 3, 1, 3, 1, 1, 2, 2, 3, 1, 1, 2, 1, 2, 1, 1, 3, 2, 3, 1, 2, 1, 2, 3, 1, 3, 3, 2, 2, 1, 1, 3, 1, 2, 2, 3, 1, 2, 3, 2, 1, 2, 3, 1, 3, 2, 3, 1, 2, 2, 2, 2, 1, 3, 2, 3, 1, 2, 3, 3, 1, 3, 1, 2, 1, 2, 3, 1, 2, 3, 1, 2, 1, 3, 3, 2, 2, 3, 3, 3, 1, 3, 3, 2, 1, 1, 3, 1, 2, 1, 2, 1, 1, 2, 1, 2, 1, 1, 3, 1, 2, 2, 2, 3, 1, 2, 2, 2, 2, 2, 3, 2, 3, 1, 2, 2, 3, 1, 2, 2, 1, 3, 2, 3, 1, 3, 1, 2, 2, 2, 3, 2, 3, 1, 3, 1, 2, 3, 2, 3, 1, 1, 3, 1, 3, 1, 2, 3, 1, 2, 3, 2, 3, 3, 1, 3, 1, 1, 1, 2, 3, 2, 1, 1, 1, 1, 1, 3, 1, 2, 3, 1, 3, 3, 3, 1, 2, 2, 1, 2, 1, 1, 1, 3, 1, 1, 1, 1, 1, 3, 1, 1, 1, 2, 1, 1, 3, 1, 2, 1, 2, 1, 2, 2, 1, 3, 1, 2, 2, 3, 3, 1, 2, 1, 1, 2, 2, 3, 1, 1, 1, 1, 1, 2, 2, 2, 2, 1, 2, 2, 1, 1, 2, 1, 1, 2, 2, 2, 2, 1, 1, 2, 1, 2, 3, 2, 1, 3, 1, 1, 3, 2, 2, 1, 1, 2, 2, 2, 1, 2, 3, 2, 1, 1, 2, 2, 3, 3, 2, 1, 2, 3, 2, 2, 2, 2, 1, 3, 2, 3, 3, 3, 1, 2, 1, 1, 1, 3, 2, 2, 2, 3, 1, 3, 3, 3, 3, 3, 1, 1, 2, 2, 2, 2, 1, 2, 1, 2, 3, 2, 1, 1, 3, 1, 2, 1, 2, 3, 1, 1, 2, 1, 1, 2, 1, 1, 1, 3, 3, 2, 1, 3, 1, 3, 2, 1, 3, 1, 2, 1, 1, 3, 3, 1, 1, 3, 1, 2, 3, 1, 3, 1, 3, 3, 2, 1, 2, 3, 1, 1, 3, 1, 3, 3, 2, 2, 3, 3, 1, 1, 3, 2, 2, 1, 2, 1, 1, 2, 3, 2, 2, 3, 3, 3, 3, 1, 1, 2, 1, 3, 2, 2, 3, 1, 2, 2, 2, 1, 2, 3, 2, 1, 3, 1, 1, 3, 1, 3, 3, 3, 3, 3, 1, 1, 3, 2, 1, 1, 2, 1, 3, 1, 2, 3, 3, 2, 2, 2, 2, 3, 2, 1, 2, 3, 1, 3, 2, 1, 1, 3, 1, 2, 1, 3, 1, 2, 3, 1, 1, 2, 1, 2, 3, 2, 2, 1, 1, 3, 3, 2, 1, 1, 2, 1, 3, 2, 2, 2, 2, 1, 3, 1, 1, 1, 1, 1, 1, 3, 1, 3, 3, 1, 3, 2, 3, 3, 1, 1, 3, 3, 1, 2, 3, 3, 1, 3, 2, 1, 2, 1, 2, 2, 1, 1, 3, 3, 1, 3, 2, 1, 2, 3, 1, 3, 3, 1, 3, 2, 3, 1, 1, 3, 3, 2, 1, 2, 1, 3, 1, 2, 1, 1, 3, 2, 1, 3, 2, 3, 2, 2, 2, 3, 2, 1, 1, 2, 2, 3, 2, 1, 3, 3, 2, 2, 2, 1, 2, 3, 2, 2, 1, 2, 2, 1, 3, 1, 2, 3, 2, 2, 3, 1, 2, 3, 3, 2, 3, 2, 3, 2, 1, 2, 2, 3, 2, 2, 1, 3, 1, 1, 3, 2, 1, 1, 2, 1, 2, 2, 1, 3, 1, 3, 1, 3, 2, 3, 3, 2, 3, 3, 3, 1, 3, 1, 2, 3, 3, 1, 2, 2, 2, 3, 3, 3, 2, 2, 1, 1, 3, 3, 3, 1, 2, 3, 2, 2, 3, 1, 3, 3, 2, 2, 3, 2, 2, 3, 1, 3, 3, 2, 2, 1, 1, 1, 2, 2, 1, 2, 1, 1, 2, 3, 1, 2, 1, 1, 2, 2, 3, 3, 1, 2, 2, 2, 2, 1, 1, 1, 3, 3, 3, 3, 2, 3, 2, 2, 3, 1, 3, 3, 3, 2, 2, 3, 1, 2, 2, 2, 2, 1, 2, 3, 2, 3, 2, 1, 1, 3, 1, 3, 1, 2, 1, 3, 3, 3, 1, 3, 3, 2, 3, 3, 3, 3, 2, 2, 2, 1, 3, 3, 1, 3, 3, 1, 3, 3, 1, 1, 1, 2, 1, 3, 1, 2, 3, 3, 2, 3, 2, 2, 3, 3, 1, 3, 1, 3, 3, 3, 1, 2, 2, 1, 2, 1, 1, 2, 1, 3, 2, 1, 2, 1, 3, 2, 1, 1, 1, 1, 1, 2, 1, 1, 2, 1, 2, 1, 3, 1, 3, 3, 2, 3, 3, 3, 3, 1, 2, 1, 2, 1, 1, 2, 3, 1, 1, 1, 2, 2, 2, 3, 3, 3, 2, 1, 3, 2, 1, 2, 3, 2, 2, 3, 3, 1, 1, 2, 2, 2, 1, 3, 2, 2, 1, 1, 3, 3, 3, 2, 1, 3, 3, 1, 2, 1, 2, 1, 2, 3, 2, 1, 2, 3, 1, 1, 1, 2, 3, 1, 3, 2, 3, 3, 2, 1, 1, 1, 1, 2, 2, 1, 2, 2, 2, 1, 2, 3, 3, 3, 1, 2, 3, 1, 1, 2, 1, 3, 1, 3, 2, 2, 3, 3, 1, 3, 1, 2, 3, 1, 3, 2, 2, 1, 3, 3, 3, 1, 1, 3, 3, 3, 1, 3, 3, 1, 2, 1, 3, 2, 2, 2, 3, 2, 1, 3, 1, 1, 1, 1, 1, 3, 2, 2, 2, 2, 3, 1, 3, 3, 1, 1, 3, 2, 2, 3, 1, 3, 3, 3, 1, 3, 2, 3, 3, 3, 3, 3, 1, 2, 2, 2, 2, 3, 1, 3, 3, 3, 3, 3, 2, 1, 3, 3, 2, 1, 2, 3, 1, 2, 1, 1, 3, 2, 3, 1, 1, 2, 3, 1, 2, 3, 2, 1, 3, 2, 3, 2, 3, 2, 1, 1, 1, 1, 2, 3, 3, 3, 2, 3, 2, 2, 1, 2, 1, 3, 3, 3, 1, 3, 2, 1, 3, 1, 2, 3, 3, 1, 1, 1, 1, 3, 1, 3, 3, 2, 1, 1, 3, 2, 2, 3, 3, 2, 3, 3, 3, 3, 3, 1, 1, 2, 3, 2, 2, 1, 1, 2, 1, 3, 3, 1, 2, 3, 2, 1, 1, 1, 3, 3, 3, 3, 3, 3, 3, 1, 3, 1, 2, 3, 2, 2, 1, 1, 3, 2, 1, 2, 3, 3, 1, 2, 3, 1, 2, 3, 3, 1, 3, 1, 1, 3, 3, 3, 1, 1, 2, 2, 2, 3, 3, 2, 1, 1, 2, 3, 2, 3, 1, 3, 3, 1, 1, 3, 3, 2, 1, 2, 2, 1, 3, 2, 1, 3, 2, 1, 1, 1, 1, 1, 1, 2, 2, 2, 1, 1, 1, 3, 1, 2, 1, 3, 3, 1, 3, 1, 1, 2, 2, 3, 2, 1, 3, 3, 1, 1, 1, 1, 3, 2, 2, 1, 2, 2, 2, 2, 2, 2, 1, 2, 1, 1, 3, 3, 2, 2, 2, 1, 1, 2, 3, 3, 1, 2, 1, 1, 2, 2, 1, 1, 3, 3, 3, 2, 3, 1, 2, 1, 2, 2, 3, 1, 1, 2, 2, 1, 1, 1, 1, 3, 3, 1, 3, 2, 1, 3, 2, 2, 3, 2, 2, 1, 1, 2, 2, 3, 1, 1, 2, 3, 1, 2, 1, 1, 2, 1, 3, 2, 1, 3, 1, 3, 3, 3, 1, 1, 3, 3, 3, 2, 2, 3, 3, 2, 3, 3, 2, 2, 3, 2, 1, 1, 2, 3, 3, 1, 1, 2, 2, 1, 1, 1, 2, 3, 2, 2, 3, 1, 2, 1, 3, 1, 1, 3, 1, 3, 3, 1, 1, 2, 2, 2, 1, 3, 1, 2, 1, 1, 1, 3, 3, 3, 3, 2, 2, 3, 3, 3, 2, 3, 3, 3, 2, 3, 3, 2, 1, 3, 1, 3, 2, 3, 3, 3, 1, 1, 1, 1, 3, 2, 1, 1, 1, 3, 2, 2, 1, 2, 2, 1, 3, 1, 2, 2, 2, 2, 2, 2, 3, 1, 1, 3, 3, 3, 1, 1, 2, 3, 1, 3, 1, 3, 3, 2, 1, 1, 3, 2, 1, 1, 2, 2, 2, 3, 2, 2, 1, 3, 3, 2, 1, 3, 2, 2, 2, 1, 1, 1, 1, 2, 2, 3, 2, 2, 1, 3, 1, 3, 2, 3, 3, 1, 1, 3, 1, 1, 3, 1, 2, 2, 2, 2, 3, 3, 2, 2, 2, 2, 2, 1, 1, 3, 2, 1, 2, 1, 3, 3, 2, 2, 2, 1, 2, 1, 2, 3, 1, 3, 3, 1, 2, 1, 1, 2, 1, 3, 2, 3, 3, 3, 1, 1, 2, 1, 2, 3, 3, 1, 1, 1, 1, 2, 3, 1, 2, 1, 3, 1, 1, 3, 2, 1, 2, 1, 3, 3, 3, 2, 2, 1, 3, 3, 2, 1, 2, 2, 3, 3, 1, 3, 1, 3, 1, 3, 1, 1, 2, 1, 2, 1, 1, 2, 1, 3, 2, 2, 3, 3, 1, 3, 1, 2, 2, 1, 1, 3, 1, 1, 3, 2, 1, 2, 3, 2, 1, 3, 2, 3, 2, 2, 1, 1, 2, 2, 1, 2, 3, 1, 1, 2, 3, 2, 3, 1, 1, 2, 2, 3, 2, 1, 3, 1, 2, 2, 3, 3, 1, 1, 2, 3, 1, 1, 2, 1, 2, 3, 3, 3, 3, 3, 2, 1, 3, 3, 3, 2, 1, 3, 1, 1, 1, 1, 3, 3, 1, 2, 3, 3, 2, 2, 1, 2, 2, 2, 2, 2, 3, 1, 1, 2, 2, 2, 1, 2, 1, 3, 3, 2, 3, 2, 3, 3, 2, 2, 2, 1, 1, 3, 3, 1, 3, 1, 1, 1, 2, 1, 3, 3, 3, 1, 3, 3, 2, 2, 3, 3, 3, 3, 2, 1, 3, 1, 1, 2, 1, 3, 3, 1, 1, 2, 3, 1, 1, 3, 1, 3, 3, 3, 2, 2, 3, 3, 2, 2, 3, 2, 3, 1, 1, 1, 3, 2, 2, 3, 1, 1, 3, 1, 2, 1, 2, 1, 2, 1, 1, 2, 3, 2, 1, 2, 3, 1, 3, 3, 1, 3, 3, 2, 2, 2, 1, 1, 2, 2, 1, 1, 1, 2, 1, 1, 1, 2, 1, 2, 3, 1, 2, 1, 1, 2, 1, 3, 1, 3, 3, 1, 3, 3, 1, 2, 1, 1, 1, 3, 3, 2, 2, 3, 2, 2, 3, 3, 2, 2, 3, 3, 3, 2, 1, 1, 2, 2, 2, 2, 3, 3, 1, 1, 1, 1, 2, 2, 3, 1, 3, 2, 2, 1, 1, 1, 1, 3, 2, 3, 3, 3, 3, 1, 3, 3, 3, 1, 1, 2, 3, 1, 1, 3, 1, 2, 2, 2, 3, 2, 2, 3, 2, 3, 3, 1, 3, 3, 3, 1, 3, 3, 3, 1, 1, 3, 1, 3, 1, 3, 3, 2, 2, 2, 1, 2, 1, 3, 2, 3, 1, 2, 1, 1, 3, 1, 2, 2, 1, 2, 1, 2, 3, 2, 1, 3, 1, 3, 3, 2, 3, 2, 1, 3, 3, 3, 2, 3, 3, 3, 3, 3, 2, 2, 1, 1, 3, 1, 2, 3, 3, 3, 2, 1, 3, 2, 3, 3, 3, 3, 2, 1, 2, 3, 3, 1, 1, 3, 1, 2, 1, 2, 2, 3, 2, 3, 3, 2, 2, 3, 3, 2, 1, 2, 1, 3, 2, 2, 2, 2, 1, 2, 2, 2, 1, 1, 2, 1, 2, 2, 3, 3, 2, 3, 2, 3, 1, 3, 1, 2, 1, 1, 1, 3, 3, 2, 2, 3, 2, 2, 2, 2, 2, 1, 3, 2, 2, 1, 1, 1, 1, 1, 2, 1, 1, 3, 1, 2, 2, 3, 1, 1, 1, 1, 3, 1, 2, 3, 1, 3, 3, 2, 3, 1, 3, 1, 1, 1, 2, 3, 1, 1, 1, 1, 1, 1, 1, 2, 3, 3, 2, 3, 3, 3, 1, 2, 2, 3, 1, 2, 1, 1, 3, 1, 2, 1, 3, 2, 3, 3, 2, 3, 1, 1, 3, 3, 1, 1, 2, 2, 1, 3, 1, 1, 2, 2, 2, 1, 2, 1, 2, 3, 3, 3, 2, 2, 2, 3, 3, 3, 3, 3, 1, 2, 1, 1, 3, 3, 3, 3, 1, 2, 2, 3, 1, 2, 2, 2, 2, 2, 2, 2, 1, 3, 2, 1, 1, 1, 1, 2, 1, 2, 2, 1, 2, 2, 1, 2, 1, 1, 2, 2, 1, 1, 1, 3, 1, 3, 1, 3, 1, 2, 3, 3, 1, 2, 3, 1, 3, 3, 1, 2, 3, 1, 1, 3, 2, 2, 2, 3, 2, 2, 3, 3, 1, 3, 2, 2, 2, 2, 2, 1, 3, 3, 3, 1, 1, 1, 1, 3, 2, 1, 2, 1, 2, 2, 3, 2, 3, 3, 1, 1, 2, 3, 3, 3, 2, 3, 3, 2, 2, 1, 1, 2, 3, 2, 3, 1, 2, 3, 2, 2, 2, 3, 2, 1, 3, 1, 3, 3, 2, 1, 2, 1, 2, 1, 1, 1, 1, 3, 1, 1, 3, 2, 1, 2, 3, 2, 3, 2, 3, 2, 1, 1, 3, 2, 2, 1, 3, 3, 2, 2, 3, 3, 3, 1, 1, 3, 2, 2, 3, 2, 1, 1, 2, 3, 1, 1, 2, 2, 3, 2, 3, 2, 1, 2, 3, 2, 1, 1, 2, 2, 3, 1, 3, 2, 1, 3, 3, 3, 3, 3, 2, 2, 2, 3, 1, 3, 3, 3, 3, 1, 2, 1, 2, 3, 1, 1, 2, 2, 3, 2, 3, 3, 2, 1, 3, 1, 3, 1, 2, 2, 1, 2, 1, 1, 1, 1, 3, 3, 2, 1, 2, 3, 3, 2, 1, 2, 3, 1, 2, 2, 3, 3, 3, 3, 2, 1, 2, 1, 2, 2, 1, 3, 3, 3, 3, 2, 1, 1, 2, 1, 1, 3, 1, 2, 2, 1, 3, 3, 1, 2, 3, 3, 1, 2, 1, 3, 2, 3, 1, 2, 1, 1, 1, 1, 1, 3, 2, 2, 2, 2, 1, 2, 1, 2, 3, 1, 1, 1, 3, 2, 3, 1, 2, 1, 3, 3, 3, 2, 2, 1, 3, 2, 1, 2, 3, 1, 2, 1, 3, 1, 3, 1, 2, 1, 3, 1, 3, 2, 3, 1, 2, 2, 2, 1, 3, 3, 3, 3, 1, 2, 2, 2, 3, 3, 3, 1, 1, 1, 2, 2, 1, 2, 1, 2, 3, 1, 1, 3, 3, 2, 2, 1, 2, 2, 3, 2, 2, 3, 1, 1, 2, 1, 1, 1, 1, 1, 3, 1, 1, 3, 3, 1, 2, 3, 2, 1, 2, 2, 3, 1, 3, 2, 3, 2, 1, 2, 2, 3, 1, 3, 3, 3, 3, 2, 3, 2, 2, 3, 3, 1, 2, 3, 2, 1, 2, 3, 2, 3, 2, 2, 1, 2, 3, 2, 1, 1, 3, 2, 1, 2, 1, 3, 3, 2, 2, 1, 1, 2, 3, 3, 1, 3, 3, 1, 3, 3, 3, 3, 3, 2, 3, 1, 3, 1, 3, 2, 3, 1, 1, 1, 1, 2, 3, 2, 2, 2, 2, 3, 3, 1, 1, 1, 2, 2, 3, 1, 1, 2, 1, 2, 3, 3, 3, 2, 3, 2, 2, 3, 2, 1, 2, 1, 3, 1, 2, 3, 3, 1, 1, 3, 1, 3, 1, 2, 1, 1, 1, 2, 2, 1, 2, 3, 2, 1, 1, 2, 2, 2, 3, 3, 2, 2, 3, 2, 1, 3, 3, 1, 3, 2, 3, 1, 1, 1, 2, 1, 3, 2, 1, 3, 2, 3, 1, 3, 3, 3, 2, 2, 1, 2, 2, 3, 2, 1, 3, 1, 1, 1, 3, 2, 2, 2, 2, 1, 3, 3, 1, 2, 2, 3, 1, 1, 3, 1, 2, 2, 2, 1, 2, 1, 2, 2, 1, 3, 2, 1, 3, 1, 3, 2, 1, 2, 1, 3, 3, 1, 3, 1, 1, 1, 2, 3, 1, 2, 2, 3, 1, 2, 3, 2, 2, 3, 3, 1, 1, 3, 3, 3, 3, 3, 2, 1, 3, 2, 2, 2, 3, 1, 2, 2, 2, 2, 3, 2, 3, 1, 2, 1, 2, 2, 3, 3, 2, 2, 1, 3, 3, 2, 3, 3, 2, 1, 1, 1, 3, 2, 1, 2, 3, 1, 1, 1, 3, 2, 1, 2, 2, 2, 3, 1, 1, 1, 2, 3, 2, 1, 3, 3, 1, 2, 3, 2, 2, 1, 2, 3, 2, 3, 3, 1, 3, 3, 1, 1, 1, 3, 3, 1, 1, 3, 1, 3, 3, 1, 1, 3, 2, 3, 2, 1, 1, 2, 2, 2, 2, 3, 3, 2, 1, 2, 2, 1, 3, 2, 2, 1, 2, 2, 3, 3, 3, 1, 1, 1, 1, 1, 3, 2, 1, 3, 1, 3, 3, 1, 1, 1, 1, 1, 3, 3, 3, 2, 2, 2, 3, 1, 3, 1, 2, 2, 1, 2, 2, 3, 1, 2, 1, 2, 2, 1, 3, 1, 1, 1, 1, 1, 1, 2, 2, 1, 3, 3, 2, 3, 1, 2, 2, 1, 2, 1, 2, 2, 2, 1, 3, 1, 3, 3, 2, 2, 2, 2, 2, 2, 1, 2, 2, 1, 2, 2, 3, 1, 1, 1, 1, 3, 2, 1, 3, 1, 2, 1, 1, 3, 3, 2, 2, 3, 2, 1, 3, 3, 3, 1, 1, 1, 3, 2, 3, 3, 1, 3, 1, 1, 3, 1, 3, 1, 3, 3, 3, 1, 2, 1, 2, 3, 1, 2, 1, 2, 3, 3, 1, 1, 1, 1, 2, 3, 3, 2, 1, 3, 2, 3, 1, 3, 2, 2, 3, 2, 3, 3, 2, 2, 3, 2, 3, 2, 1, 3, 2, 2, 3, 1, 1, 1, 3, 2, 3, 3, 3, 3, 1, 3, 3, 1, 2, 1, 3, 1, 2, 3, 1, 2, 2, 3, 1, 1, 3, 3, 3, 1, 1, 2, 3, 1, 3, 1, 3, 2, 2, 1, 2, 3, 2, 3, 2, 2, 3, 3, 3, 3, 3, 3, 3, 2, 2, 1, 2, 3, 3, 1, 1, 1, 2, 1, 2, 3, 2, 2, 1, 3, 3, 2, 3, 2, 1, 1, 1, 2, 2, 2, 3, 2, 3, 1, 2, 3, 2, 3, 3, 3, 1, 2, 1, 2, 2, 3, 3, 1, 1, 2, 1, 1, 2, 3, 2, 3, 3, 1, 3, 2, 1, 3, 1, 1, 3, 3, 1, 1, 3, 2, 1, 1, 3, 3, 2, 3, 3, 2, 2, 2, 2, 2, 1, 3, 1, 1, 3, 3, 1, 3, 1, 1, 3, 1, 2, 3, 3, 2, 2, 3, 2, 2, 1, 1, 1, 3, 2, 1, 1, 1, 3, 1, 1, 3, 3, 3, 1, 1, 2, 2, 2, 2, 2, 3, 3, 3, 2, 3, 1, 3, 3, 2, 2, 3, 2, 1, 2, 3, 3, 1, 2, 1, 2, 1, 1, 2, 3, 3, 3, 1, 2, 3, 2, 1, 1, 3, 3, 3, 1, 1, 1, 1, 2, 1, 3, 3, 2, 3, 2, 3, 3, 1, 2, 1, 2, 2, 3, 3, 2, 1, 3, 2, 1, 1, 2, 1, 3, 1, 2, 3, 3, 1, 1, 1, 1, 3, 2, 2, 1, 3, 1, 2, 3, 3, 3, 2, 2, 1, 2, 2, 2, 2, 1, 1, 3, 3, 3, 2, 2, 2, 1, 3, 2, 1, 1, 3, 2, 2, 3, 1, 3, 3, 2, 3, 3, 2, 1, 3, 3, 2, 2, 3, 2, 2, 1, 1, 2, 1, 2, 1, 3, 3, 2, 2, 3, 2, 2, 1, 2, 2, 1, 3, 3, 3, 3, 1, 2, 2, 3, 1, 3, 3, 3, 2, 3, 3, 1, 1, 1, 2, 2, 3, 3, 1, 2, 3, 3, 3, 2, 2, 1, 1, 1, 3, 2, 3, 3, 2, 3, 3, 2, 2, 3, 1, 2, 1, 3, 1, 1, 3, 2, 2, 1, 1, 1, 2, 2, 2, 2, 1, 3, 1, 3, 2, 3, 1, 1, 3, 2, 1, 3, 1, 1, 2, 3, 3, 1, 3, 3, 3, 3, 1, 3, 3, 3, 2, 2, 3, 1, 1, 1, 3, 3, 3, 1, 2, 1, 3, 1, 2, 1, 3, 1, 3, 1, 3, 3, 2, 3, 1, 2, 3, 1, 1, 1, 3, 3, 3, 3, 2, 1, 1, 3, 2, 1, 3, 3, 2, 1, 1, 2, 3, 2, 3, 2, 1, 3, 3, 2, 3, 3, 3, 2, 3, 2, 1, 3, 1, 3, 3, 2, 2, 2, 2, 1, 1, 3, 2, 1, 3, 2, 3, 1, 1, 3, 1, 1, 3, 1, 2, 1, 3, 1, 3, 3, 2, 2, 1, 2, 1, 1, 3, 1, 1, 3, 1, 1, 2, 1, 1, 2, 3, 1, 3, 2, 1, 3, 3, 1, 2, 3, 3, 2, 2, 3, 1, 2, 2, 3, 3, 3, 1, 2, 3, 1, 2, 2, 3, 3, 2, 2, 2, 3, 1, 2, 1, 2, 2, 3, 3, 3, 2, 2, 2, 2, 2, 3, 2, 2, 3, 2, 1, 3, 2, 3, 3, 3, 1, 3, 3, 3, 2, 2, 1, 2, 1, 1, 2, 1, 1, 2, 1, 2, 2, 1, 1, 1, 3, 2, 3, 1, 3, 3, 2, 1, 1, 2, 3, 3, 1, 1, 2, 1, 2, 1, 1, 2, 3, 1, 3, 1, 3, 1, 1, 1, 2, 1, 1, 1, 2, 2, 3, 2, 1, 1, 1, 2, 3, 1, 2, 2, 1, 3, 1, 1, 3, 2, 1, 2, 3, 1, 3, 3, 3, 1, 2, 3, 1, 3, 1, 2, 2, 3, 1, 2, 1, 3, 2, 3, 2, 2, 2, 2, 1, 1, 1, 1, 2, 2, 3, 3, 1, 3, 3, 1, 2, 2, 1, 3, 1, 3, 1, 3, 3, 1, 1, 3, 1, 3, 3, 1, 2, 1, 3, 1, 3, 3, 2, 2, 3, 2, 3, 3, 3, 2, 2, 1, 3, 1, 2, 1, 3, 2, 1, 3, 1, 3, 1, 2, 1, 2, 1, 1, 1, 1, 2, 3, 1, 1, 2, 1, 2, 1, 3, 2, 3, 2, 2, 2, 3, 3, 3, 2, 2, 1, 2, 2, 2, 2, 3, 3, 2, 2, 2, 1, 2, 3, 3, 2, 1, 2, 3, 1, 1, 3, 3, 2, 3, 2, 2, 3, 3, 1, 3, 1, 3, 3, 1, 2, 3, 2, 3, 2, 3, 2, 3, 2, 1, 1, 2, 3, 1, 3, 1, 3, 1, 2, 2, 2, 2, 3, 3, 2, 1, 2, 1, 2, 1, 2, 1, 1, 3, 3, 1, 2, 1, 1, 1, 1, 3, 1, 3, 2, 1, 3, 2, 3, 2, 2, 2, 1, 1, 3, 3, 1, 3, 3, 2, 3, 3, 2, 1, 2, 1, 2, 2, 3, 1, 3, 1, 2, 3, 2, 3, 1, 3, 2, 2, 2, 2, 2, 1, 1, 3, 3, 2, 3, 2, 1, 3, 2, 2, 3, 2, 2, 3, 3, 3, 3, 3, 3, 1, 2, 1, 2, 3, 2, 1, 3, 2, 2, 1, 2, 1, 3, 3, 2, 2, 1, 2, 2, 2, 3, 3, 1, 2, 1, 2, 1, 2, 1, 2, 1, 1, 3, 1, 2, 3, 2, 3, 2, 3, 3, 1, 3, 1, 1, 2, 1, 1, 3, 3, 2, 2, 2, 2, 2, 3, 2, 3, 3, 2, 2, 1, 1, 3, 2, 1, 3, 2, 3, 1, 3, 3, 3, 3, 3, 3, 3, 3, 1, 3, 1, 1, 3, 1, 3, 3, 2, 1, 3, 1, 3, 2, 2, 1, 1, 2, 3, 1, 1, 1, 1, 1, 2, 3, 3, 2, 2, 3, 3, 3, 3, 3, 1, 3, 1, 3, 2, 2, 1, 3, 3, 3, 2, 3, 1, 3, 3, 2, 2, 2, 2, 1, 1, 1, 1, 3, 2, 2, 1, 1, 2, 2, 2, 3, 2, 3, 2, 2, 1, 2, 1, 3, 2, 2, 2, 3, 3, 3, 2, 1, 2, 3, 3, 1, 3, 1, 1, 2, 1, 2, 1, 3, 2, 2, 3, 1, 2, 2, 3, 2, 2, 1, 2, 3, 2, 3, 1, 1, 2, 1, 1, 1, 3, 1, 3, 1, 3, 2, 2, 2, 3, 3, 3, 2, 3, 1, 1, 1, 3, 2, 2, 1, 2, 2, 3, 1, 2, 1, 1, 3, 3, 1, 1, 2, 3, 3, 2, 2, 3, 2, 1, 3, 2, 1, 2, 2, 3, 3, 3, 1, 2, 2, 3, 2, 2, 2, 2, 1, 2, 2, 2, 2, 1, 3, 3, 1, 2, 3, 1, 1, 2, 3, 1, 2, 3, 2, 3, 3, 1, 3, 2, 1, 1, 2, 1, 2, 3, 3, 3, 2, 3, 1, 2, 3, 3, 1, 1, 1, 2, 3, 1, 1, 3, 1, 1, 2, 1, 2, 2, 3, 1, 1, 3, 3, 1, 2, 1, 2, 2, 2, 3, 3, 2, 2, 1, 3, 3, 1, 3, 1, 2, 1, 3, 2, 2, 1, 1, 1, 3, 1, 1, 2, 3, 1, 2, 3, 2, 2, 1, 1, 2, 2, 1, 2, 1, 1, 2, 2, 3, 2, 2, 3, 1, 1, 1, 2, 1, 2, 3, 3, 3, 3, 1, 3, 2, 2, 3, 3, 2, 1, 2, 3, 3, 3, 1, 1, 3, 2, 1, 3, 3, 3, 1, 1, 1, 1, 3, 3, 1, 1, 2, 2, 3, 1, 2, 3, 3, 3, 1, 2, 2, 3, 3, 1, 2, 1, 1, 1, 3, 3, 2, 3, 1, 3, 1, 1, 3, 3, 1, 2, 1, 1, 3, 1, 2, 2, 2, 1, 1, 3, 1, 3, 1, 2, 2, 2, 1, 2, 3, 2, 1, 3, 2, 2, 1, 2, 2, 3, 1, 1, 3, 2, 2, 1, 2, 2, 1, 3, 3, 2, 1, 3, 2, 2, 3, 2, 2, 1, 2, 3, 1, 3, 1, 1, 3, 3, 1, 2, 1, 1, 1, 3, 1, 2, 3, 3, 1, 1, 1, 2, 1, 2, 3, 3, 3, 3, 2, 1, 2, 1, 3, 2, 2, 2, 2, 2, 1, 3, 2, 1, 3, 2, 2, 3, 2, 3, 3, 3, 2, 2, 3, 2, 2, 1, 2, 3, 2, 2, 3, 3, 1, 3, 2, 1, 2, 2, 3, 2, 1, 3, 3, 2, 2, 3, 2, 1, 3, 2, 2, 2, 2, 3, 1, 1, 2, 3, 1, 3, 1, 1, 3, 3, 3, 3, 3, 2, 2, 3, 3, 2, 1, 3, 3, 2, 1, 2, 1, 3, 3, 3, 3, 2, 1, 2, 3, 1, 3, 3, 3, 1, 3, 1, 1, 1, 2, 2, 2, 2, 1, 1, 2, 1, 2, 2, 1, 1, 3, 2, 1, 3, 3, 2, 3, 1, 2, 1, 1, 1, 1, 1, 2, 1, 3, 2, 1, 3, 1, 3, 1, 3, 1, 3, 3, 2, 1, 3, 3, 3, 3, 1, 2, 3, 1, 3, 2, 2, 3, 2, 2, 3, 2, 1, 2, 1, 3, 2, 1, 1, 1, 3, 1, 3, 1, 3, 1, 2, 2, 1, 1, 3, 1, 1, 1, 3, 1, 1, 2, 1, 2, 3, 2, 1, 2, 3, 1, 2, 1, 3, 1, 1, 1, 2, 2, 3, 3, 2, 3, 2, 1, 3, 1, 3, 1, 1, 2, 1, 1, 3, 1, 2, 1, 2, 3, 1, 1, 3, 1, 2, 1, 2, 1, 1, 1, 2, 2, 1, 1, 2, 1, 2, 1, 3, 1, 2, 2, 2, 1, 2, 3, 1, 1, 3, 1, 3, 2, 2, 3, 3, 1, 2, 1, 3, 1, 3, 1, 2, 3, 3, 2, 1, 2, 3, 3, 2, 3, 3, 1, 2, 3, 1, 2, 3, 3, 2, 1, 1, 1, 2, 2, 1, 3, 1, 2, 3, 2, 1, 3, 3, 1, 3, 2, 3, 1, 1, 3, 3, 1, 1, 3, 1, 2, 1, 1, 1, 3, 1, 2, 3, 2, 1, 1, 2, 3, 3, 1, 3, 2, 2, 1, 2, 2, 1, 2, 1, 1, 1, 1, 3, 1, 1, 3, 2, 3, 3, 3, 1, 2, 2, 2, 3, 2, 2, 1, 1, 1, 2, 3, 2, 3, 2, 2, 3, 2, 1, 1, 2, 2, 3, 3, 2, 2, 3, 2, 2, 3, 3, 3, 1, 2, 1, 3, 1, 2, 1, 1, 3, 1, 1, 2, 3, 3, 2, 1, 2, 3, 2, 2, 3, 2, 2, 3, 2, 3, 1, 1, 3, 2, 3, 1, 2, 1, 3, 2, 1, 1, 1, 2, 1, 3, 3, 1, 2, 3, 3, 2, 2, 1, 1, 1, 3, 2, 2, 3, 2, 3, 3, 3, 1, 3, 2, 3, 3, 1, 2, 2, 3, 1, 2, 2, 1, 2, 3, 1, 1, 2, 2, 3, 1, 3, 1, 3, 1, 1, 2, 3, 2, 1, 1, 2, 3, 2, 1, 3, 3, 1, 2, 1, 3, 3, 3, 1, 3, 1, 3, 3, 3, 3, 3, 1, 2, 1, 3, 2, 1, 3, 3, 3, 1, 1, 2, 2, 2, 2, 1, 3, 3, 3, 3, 1, 1, 2, 3, 2, 2, 1, 1, 3, 3, 1, 2, 1, 2, 3, 2, 1, 3, 3, 1, 1, 3, 1, 2, 2, 3, 2, 3, 3, 2, 3, 1, 3, 1, 1, 3, 2, 2, 3, 2, 3, 2, 1, 3, 1, 2, 3, 1, 1, 3, 2, 3, 2, 1, 1, 2, 3, 1, 2, 3, 1, 1, 1, 1, 1, 3, 1, 2, 2, 1, 2, 2, 1, 2, 3, 2, 3, 3, 3, 2, 1, 1, 1, 2, 1, 3, 2, 1, 2, 1, 2, 1, 1, 1, 3, 1, 1, 2, 2, 2, 3, 3, 1, 2, 2, 1, 3, 1, 2, 2, 2, 3, 1, 1, 3, 3, 3, 1, 1, 1, 2, 3, 2, 2, 3, 3, 2, 3, 3, 1, 2, 1, 1, 2, 1, 1, 1, 1, 1, 1, 1, 3, 2, 3, 1, 1, 3, 2, 2, 2, 3, 2, 1, 3, 2, 1, 2, 3, 2, 1, 3, 1, 2, 2, 3, 1, 3, 3, 1, 3, 3, 3, 2, 3, 3, 1, 2, 3, 1, 1, 1, 3, 2, 2, 1, 3, 1, 2, 3, 2, 1, 1, 1, 2, 3, 1, 2, 2, 3, 2, 3, 3, 2, 1, 2, 3, 2, 1, 1, 1, 2, 1, 2, 1, 1, 2, 2, 3, 3, 3, 2, 1, 1, 1, 3, 3, 3, 2, 3, 2, 2, 3, 1, 2, 1, 1, 1, 1, 3, 3, 2, 3, 1, 3, 1, 1, 2, 1, 1, 3, 2, 3, 2, 1, 1, 3, 1, 2, 1, 2, 2, 3, 3, 1, 2, 2, 1, 2, 1, 2, 3, 3, 1, 3, 3, 3, 1, 2, 1, 1, 2, 3, 1, 3, 2, 2, 2, 1, 3, 3, 3, 3, 3, 3, 3, 1, 2, 2, 2, 1, 2, 1, 3, 2, 3, 1, 3, 1, 3, 2, 3, 2, 1, 2, 3, 2, 3, 3, 3, 2, 1, 2, 3, 2, 2, 3, 2, 1, 3, 1, 3, 2, 2, 2, 1, 2, 2, 3, 1, 2, 3, 1, 3, 2, 1, 2, 3, 2, 1, 2, 3, 1, 2, 3, 1, 2, 1, 3, 1, 2, 2, 3, 1, 3, 1, 3, 1, 2, 1, 2, 2, 1, 2, 2, 3, 1, 3, 1, 1, 1, 3, 3, 1, 3, 3, 2, 3, 2, 3, 1, 1, 1, 2, 3, 3, 2, 2, 1, 1, 2, 1, 3, 3, 1, 3, 3, 1, 1, 3, 3, 2, 3, 3, 1, 2, 3, 2, 2, 3, 2, 2, 1, 1, 3, 1, 3, 3, 2, 1, 2, 3, 3, 2, 1, 3, 3, 3, 3, 1, 1, 2, 3, 3, 2, 1, 2, 3, 1, 3, 3, 3, 1, 2, 1, 3, 1, 1, 2, 3, 3, 2, 2, 1, 3, 3, 1, 1, 1, 3, 3, 2, 2, 2, 3, 3, 2, 1, 3, 1, 2, 1, 1, 3, 3, 3, 2, 2, 1, 3, 1, 3, 3, 3, 2, 3, 3, 1, 2, 3, 1, 3, 3, 3, 2, 2, 2, 2, 3, 2, 2, 2, 1, 1, 3, 2, 3, 1, 3, 2, 3, 3, 3, 3, 1, 1, 2, 1, 1, 1, 1, 1, 1, 1, 1, 2, 1, 3, 1, 3, 1, 3, 3, 1, 3, 1, 2, 1, 1, 3, 1, 2, 2, 3, 2, 3, 2, 2, 3, 1, 3, 1, 1, 1, 2, 3, 1, 3, 2, 1, 3, 1, 2, 3, 3, 3, 3, 2, 2, 1, 2, 1, 2, 1, 2, 1, 3, 2, 1, 3, 3, 3, 1, 1, 3, 2, 1, 3, 3, 1, 3, 2, 2, 3, 1, 3, 1, 3, 2, 1, 1, 3, 1, 1, 2, 2, 3, 3, 3, 2, 2, 2, 1, 1, 1, 1, 2, 3, 2, 1, 1, 2, 2, 1, 3, 3, 1, 3, 3, 1, 3, 3, 1, 2, 1, 3, 2, 1, 2, 3, 2, 3, 2, 1, 1, 3, 2, 3, 1, 3, 1, 2, 1, 1, 1, 2, 1, 1, 3, 2, 1, 3, 3, 2, 2, 1, 1, 3, 2, 3, 2, 3, 1, 3, 3, 2, 1, 2, 2, 1, 1, 2, 3, 3, 1, 1, 3, 2, 2, 2, 2, 3, 3, 1, 1, 1, 1, 2, 2, 2, 3, 2, 3, 2, 1, 2, 3, 2, 3, 3, 2, 2, 2, 1, 3, 2, 2, 2, 3, 2, 2, 1, 2, 3, 3, 3, 3, 2, 3, 1, 3, 1, 3, 3, 3, 2, 3, 3, 1, 3, 1, 2, 2, 2, 3, 3, 3, 3, 2, 2, 1, 1, 2, 1, 3, 2, 1, 2, 3, 3, 3, 2, 2, 3, 1, 3, 1, 2, 2, 2, 2, 1, 3, 2, 1, 3, 3, 1, 3, 1, 2, 3, 1, 3, 2, 1, 3, 3, 3, 3, 2, 1, 1, 3, 3, 3, 2, 3, 3, 3, 3, 3, 3, 1, 1, 1, 1, 3, 3, 2, 3, 1, 2, 3, 1, 1, 2, 3, 1, 1, 1, 2, 1, 2, 2, 1, 3, 3, 3, 3, 2, 2, 2, 3, 3, 3, 2, 2, 1, 1, 1, 1, 2, 1, 1, 2, 3, 2, 2, 3, 2, 1, 1, 2, 3, 1, 1, 3, 3, 3, 3, 1, 3, 3, 1, 3, 2, 1, 1, 2, 2, 1, 1, 2, 3, 2, 2, 3, 1, 2, 3, 2, 2, 1, 2, 3, 1, 1, 1, 2, 2, 1, 1, 1, 1, 2, 2, 3, 3, 1, 3, 2, 2, 2, 3, 2, 2, 1, 2, 1, 2, 3, 1, 2, 1, 3, 1, 2, 3, 3, 3, 2, 2, 2, 3, 3, 1, 1, 1, 1, 2, 1, 3, 3, 1, 2, 1, 1, 2, 3, 3, 1, 3, 2, 1, 3, 3, 1, 3, 1, 2, 1, 2, 1, 3, 3, 1, 1, 2, 1, 2, 3, 3, 2, 2, 3, 1, 3, 3, 1, 3, 2, 2, 2, 3, 1, 3, 2, 2, 3, 1, 1, 2, 1, 2, 1, 1, 2, 2, 2, 1, 2, 3, 2, 1, 3, 3, 2, 1, 2, 1, 2, 1, 2, 3, 2, 2, 2, 2, 1, 1, 3, 2, 1, 2, 2, 2, 2, 3, 1, 3, 2, 3, 1, 2, 1, 3, 3, 2, 3, 3, 1, 1, 3, 2, 3, 1, 1, 3, 1, 2, 3, 3, 2, 2, 1, 2, 1, 1, 1, 3, 2, 3, 2, 2, 2, 1, 3, 2, 1, 2, 1, 3, 1, 3, 3, 2, 1, 1, 1, 2, 1, 1, 2, 1, 3, 2, 3, 1, 2, 3, 2, 2, 1, 2, 1, 2, 1, 3, 1, 1, 3, 1, 3, 2, 2, 3, 1, 1, 2, 2, 2, 1, 1, 3, 1, 1, 1, 1, 1, 3, 2, 1, 2, 2, 2, 3, 2, 2, 3, 2, 3, 2, 2, 1, 3, 3, 2, 3, 2, 3, 2, 1, 1, 1, 3, 3, 1, 3, 2, 2, 3, 2, 3, 2, 1, 2, 3, 1, 1, 1, 1, 3, 2, 3, 2, 2, 2, 3, 1, 1, 3, 1, 1, 3, 1, 2, 2, 1, 2, 1, 1, 2, 1, 2, 3, 2, 1, 1, 2, 2, 3, 1, 1, 1, 1, 3, 2, 3, 3, 3, 2, 3, 1, 3, 2, 1, 2, 2, 3, 3, 1, 3, 2, 2, 3, 1, 2, 1, 1, 2, 1, 1, 2, 2, 1, 3, 3, 3, 2, 3, 2, 3, 2, 1, 1, 3, 3, 1, 2, 2, 3, 1, 2, 1, 3, 1, 2, 3, 3, 3, 1, 3, 2, 1, 2, 3, 2, 3, 2, 1, 2, 1, 3, 2, 3, 2, 2, 1, 3, 1, 2, 1, 2, 3, 2, 3, 1, 2, 1, 2, 3, 1, 3, 1, 3, 2, 3, 1, 2, 1, 3, 2, 1, 1, 2, 3, 1, 3, 1, 1, 2, 1, 2, 3, 1, 2, 3, 1, 2, 3, 1, 2, 1, 2, 2, 2, 1, 1, 2, 2, 3, 2, 1, 3, 3, 1, 2, 3, 1, 3, 3, 3, 2, 2, 2, 1, 2, 3, 1, 2, 1, 3, 3, 3, 3, 2, 1, 2, 2, 3, 2, 2, 3, 1, 2, 1, 2, 2, 1, 3, 2, 1, 2, 1, 3, 3, 1, 1, 2, 1, 2, 1, 3, 2, 2, 1, 2, 1, 1, 1, 3, 2, 3, 2, 2, 2, 2, 2, 3, 3, 3, 2, 2, 2, 3, 3, 3, 1, 1, 1, 2, 1, 1, 3, 1, 3, 1, 3, 1, 2, 2, 2, 2, 3, 2, 1, 1, 1, 2, 3, 3, 1, 2, 2, 3, 1, 1, 1, 1, 3, 1, 2, 3, 2, 3, 1, 3, 2, 2, 2, 2, 3, 1, 3, 1, 2, 1, 3, 3, 3, 3, 3, 1, 2, 3, 3, 3, 3, 1, 1, 3, 3, 1, 3, 2, 2, 2, 2, 1, 3, 1, 1, 2, 3, 1, 2, 1, 1, 3, 2, 2, 2, 1, 1, 2, 3, 2, 3, 3, 2, 1, 1, 1, 1, 2, 3, 2, 3, 2, 3, 2, 2, 3, 2, 2, 1, 1, 3, 3, 1, 3, 3, 1, 2, 1, 2, 2, 1, 1, 1, 1, 2, 3, 3, 2, 2, 2, 1, 2, 2, 1, 2, 3, 1, 3, 1, 1, 2, 1, 2, 2, 3, 2, 2, 1, 3, 1, 3, 2, 2, 2, 3, 3, 2, 3, 1, 2, 3, 2, 3, 1, 2, 2, 1, 1, 1, 1, 1, 1, 2, 3, 1, 2, 1, 1, 2, 1, 2, 1, 2, 2, 3, 1, 1, 2, 1, 2, 3, 2, 2, 2, 3, 1, 2, 2, 1, 1, 1, 3, 3, 3, 1, 2, 1, 2, 1, 2, 2, 2, 2, 2, 3, 2, 1, 1, 2, 1, 2, 3, 3, 2, 3, 2, 1, 2, 1, 2, 3, 2, 1, 3, 3, 2, 1, 3, 2, 2, 2, 1, 2, 3, 2, 2, 3, 2, 1, 3, 1, 1, 1, 2, 1, 1, 2, 2, 2, 2, 1, 2, 1, 1, 1, 1, 1, 3, 3, 1, 1, 3, 3, 2, 1, 3, 2, 1, 1, 2, 1, 3, 3, 3, 3, 3, 2, 3, 1, 1, 2, 1, 3, 2, 1, 3, 3, 1, 1, 2, 2, 3, 1, 2, 3, 3, 2, 2, 3, 3, 3, 1, 2, 2, 3, 3, 2, 2, 1, 2, 2, 1, 1, 1, 1, 2, 1, 1, 2, 1, 3, 3, 1, 3, 1, 1, 3, 1, 3, 1, 2, 2, 3, 3, 2, 1, 3, 2, 3, 2, 3, 1, 3, 1, 3, 2, 2, 1, 1, 3, 1, 2, 1, 2, 3, 2, 1, 1, 2, 2, 1, 3, 1, 2, 2, 2, 1, 3, 3, 3, 1, 1, 1, 3, 3, 1, 3, 1, 2, 3, 3, 3, 2, 3, 1, 3, 1, 1, 3, 1, 3, 1, 3, 1, 3, 1, 1, 1, 2, 2, 3, 2, 3, 1, 3, 3, 3, 1, 3, 2, 3, 3, 3, 3, 2, 3, 2, 1, 2, 3, 2, 2, 1, 3, 3, 2, 3, 3, 1, 3, 1, 2, 1, 3, 1, 3, 2, 1, 2, 3, 1, 1, 2, 3, 3, 3, 2, 1, 3, 2, 1, 2, 1, 3, 2, 3, 2, 1, 1, 1, 3, 2, 1, 1, 1, 1, 3, 3, 2, 2, 1, 3, 2, 1, 3, 3, 3, 1, 3, 1, 2, 3, 2, 1, 2, 2, 3, 1, 1, 2, 2, 2, 2, 2, 3, 3, 2, 3, 2, 1, 1, 3, 1, 1, 2, 2, 2, 3, 3, 1, 2, 1, 2, 3, 1, 1, 3, 3, 3, 3, 1, 3, 1, 2, 3, 2, 2, 3, 3, 2, 3, 2, 3, 3, 2, 3, 1, 2, 1, 3, 3, 3, 1, 2, 1, 1, 1, 2, 1, 3, 1, 1, 1, 3, 2, 2, 3, 2, 1, 1, 3, 2, 2, 2, 2, 3, 2, 3, 1, 1, 3, 3, 1, 2, 3, 2, 1, 3, 2, 2, 2, 1, 1, 3, 3, 1, 2, 2, 2, 3, 2, 1, 2, 1, 1, 2, 2, 2, 2, 2, 2, 2, 2, 3, 1, 3, 1, 3, 2, 1, 3, 2, 3, 3, 3, 1, 1, 3, 1, 2, 3, 2, 3, 2, 1, 2, 1, 2, 1, 1, 1, 3, 1, 2, 1, 2, 1, 3, 1, 1, 1, 1, 2, 3, 1, 3, 3, 2, 3, 2, 3, 1, 2, 2, 2, 1, 2, 3, 2, 1, 3, 3, 2, 3, 2, 2, 1, 3, 3, 2, 3, 2, 3, 1, 1, 1, 3, 1, 2, 3, 2, 1, 2, 3, 3, 2, 3, 2, 1, 1, 3, 1, 1, 2, 2, 2, 2, 3, 3, 1, 2, 1, 2, 1, 1, 1, 1, 1, 3, 3, 1, 1, 2, 3, 3, 3, 3, 1, 2, 1, 3, 3, 1, 1, 2, 1, 1, 1, 2, 1, 3, 1, 3, 1, 3, 2, 1, 2, 2, 2, 2, 2, 3, 3, 1, 2, 3, 1, 1, 1, 1, 2, 2, 3, 1, 2, 1, 2, 2, 3, 3, 3, 3, 1, 1, 2, 2, 3, 1, 1, 1, 2, 2, 3, 1, 1, 2, 3, 3, 1, 1, 2, 3, 2, 3, 1, 2, 2, 1, 2, 1, 2, 2, 2, 1, 2, 1, 3, 2, 3, 2, 1, 2, 3, 2, 3, 1, 1, 3, 1, 1, 1, 2, 1, 2, 2, 1, 1, 3, 2, 3, 3, 1, 2, 1, 2, 3, 1, 3, 2, 3, 1, 1, 3, 2, 2, 3, 1, 2, 3, 1, 2, 3, 2, 1, 1, 1, 2, 2, 1, 1, 2, 1, 2, 3, 2, 1, 1, 1, 3, 1, 3, 2, 3, 2, 2, 2, 3, 2, 1, 3, 2, 3, 1, 2, 3, 1, 3, 1, 2, 3, 3, 2, 1, 1, 3, 3, 1, 1, 2, 2, 1, 1, 1, 3, 3, 3, 2, 1, 3, 2, 2, 2, 3, 3, 1, 3, 2, 1, 2, 3, 3, 3, 2, 1, 3, 1, 2, 3, 3, 2, 2, 3, 2, 2, 3, 3, 1, 2, 2, 1, 3, 3, 3, 2, 2, 2, 2, 2, 1, 2, 2, 2, 3, 3, 2, 2, 3, 1, 2, 2, 2, 2, 2, 1, 1, 3, 1, 3, 1, 2, 2, 1, 3, 3, 3, 1, 3, 2, 1, 1, 2, 2, 2, 1, 2, 1, 2, 1, 2, 3, 1, 3, 2, 3, 3, 3, 1, 1, 1, 1, 2, 1, 2, 1, 3, 2, 3, 3, 2, 1, 2, 1, 1, 2, 3, 1, 2, 1, 3, 2, 3, 3, 3, 3, 1, 3, 2, 2, 3, 2, 3, 2, 1, 1, 1, 1, 2, 3, 2, 1, 3, 3, 1, 3, 1, 2, 1, 2, 3, 2, 3, 1, 1, 1, 2, 2, 1, 3, 2, 1, 2, 3, 3, 1, 2, 3, 3, 1, 2, 1, 3, 3, 2, 2, 2, 1, 3, 1, 3, 2, 1, 1, 2, 1, 1, 3, 1, 3, 2, 3, 1, 2, 3, 1, 1, 3, 2, 1, 3, 1, 1, 1, 2, 3, 1, 3, 1, 2, 3, 1, 1, 1, 1, 3, 3, 3, 1, 3, 1, 3, 2, 1, 2, 2, 1, 2, 2, 1, 1, 3, 3, 1, 2, 3, 1, 2, 3, 2, 1, 2, 2, 2, 3, 3, 3, 3, 1, 3, 1, 3, 3, 2, 2, 2, 3, 1, 3, 1, 3, 3, 3, 3, 3, 1, 1, 2, 2, 1, 3, 2, 2, 3, 2, 3, 2, 1, 2, 1, 1, 3, 2, 1, 1, 1, 2, 1, 3, 2, 2, 2, 1, 3, 2, 1, 2, 1, 3, 3, 3, 3, 2, 1, 2, 3, 3, 3, 1, 2, 3, 1, 1, 2, 3, 3, 3, 1, 3, 3, 1, 3, 3, 2, 1, 1, 1, 2, 2, 2, 3, 1, 1, 1, 2, 3, 1, 3, 2, 3, 3, 1, 2, 3, 2, 2, 2, 1, 3, 3, 2, 1, 2, 2, 3, 3, 2, 2, 2, 3, 1, 1, 2, 2, 2, 2, 1, 2, 2, 1, 2, 3, 3, 3, 2, 3, 3, 1, 3, 2, 3, 1, 1, 2, 2, 2, 1, 3, 2, 2, 1, 3, 2, 3, 1, 1, 2, 2, 3, 1, 3, 1, 2, 2, 3, 3, 3, 3, 2, 2, 2, 3, 2, 2, 1, 3, 2, 1, 2, 3, 1, 2, 2, 2, 1, 2, 2, 3, 2, 1, 3, 1, 2, 1, 2, 3, 2, 2, 1, 3, 3, 1, 2, 2, 1, 3, 2, 3, 1, 1, 3, 2, 3, 3, 3, 2, 3, 2, 1, 3, 3, 2, 2, 2, 2, 3, 1, 3, 2, 3, 3, 1, 2, 2, 2, 1, 3, 3, 3, 2, 3, 1, 2, 3, 1, 3, 2, 1, 2, 2, 1, 2, 2, 3, 1, 3, 1, 2, 1, 2, 3, 3, 1, 2, 2, 2, 2, 3, 1, 3, 3, 3, 3, 1, 3, 3, 1, 3, 3, 2, 1, 3, 1, 1, 2, 1, 3, 1, 1, 1, 1, 3, 3, 1, 1, 2, 2, 2, 1, 1, 1, 1, 1, 3, 1, 1, 3, 1, 2, 2, 1, 1, 3, 3, 3, 2, 2, 1, 2, 3, 1, 1, 2, 1, 1, 1, 1, 1, 1, 1, 3, 2, 3, 1, 2, 3, 2, 3, 1, 3, 3, 3, 2, 3, 3, 1, 2, 3, 3, 3, 1, 2, 2, 3, 2, 1, 1, 1, 1, 1, 1, 1, 3, 2, 3, 2, 1, 3, 2, 1, 3, 2, 2, 1, 3, 2, 3, 3, 1, 3, 3, 2, 3, 2, 3, 1, 2, 1, 2, 3, 1, 1, 3, 2, 2, 1, 2, 1, 1, 3, 1, 3, 2, 2, 3, 3, 3, 3, 3, 2, 3, 3, 3, 1, 2, 2, 3, 1, 2, 3, 3, 1, 3, 1, 2, 3, 2, 1, 3, 2, 1, 2, 2, 2, 2, 3, 2, 1, 1, 3, 1, 2, 2, 2, 2, 1, 2, 1, 2, 2, 3, 2, 2, 3, 2, 3, 1, 3, 2, 1, 1, 2, 1, 2, 3, 2, 1, 3, 3, 3, 3, 3, 2, 1, 3, 2, 1, 1, 2, 1, 1, 3, 2, 3, 3, 2, 2, 3, 3, 1, 3, 1, 2, 1, 2, 3, 2, 1, 3, 3, 1, 1, 3, 2, 1, 2, 1, 2, 1, 3, 2, 3, 2, 2, 2, 1, 2, 2, 2, 1, 2, 2, 1, 3, 2, 2, 2, 2, 2, 1, 1, 1, 3, 1, 1, 2, 3, 1, 1, 2, 1, 3, 2, 3, 3, 1, 1, 3, 3, 1, 2, 3, 1, 2, 3, 1, 2, 2, 2, 3, 2, 3, 1, 2, 3, 1, 3, 1, 2, 2, 2, 2, 1, 3, 3, 2, 1, 3, 1, 1, 2, 1, 3, 3, 1, 2, 1, 1, 3, 2, 1, 1, 1, 2, 1, 2, 3, 2, 2, 2, 1, 3, 2, 2, 3, 2, 3, 1, 2, 2, 2, 3, 2, 3, 3, 1, 2, 1, 1, 1, 1, 1, 2, 3, 1, 2, 3, 3, 1, 3, 1, 1, 2, 2, 1, 2, 3, 1, 2, 2, 1, 1, 3, 1, 1, 3, 2, 3, 1, 2, 1, 2, 2, 2, 3, 2, 1, 1, 3, 3, 2, 1, 2, 3, 2, 1, 2, 1, 3, 2, 1, 1, 2, 1, 1, 3, 3, 1, 1, 3, 1, 2, 1, 3, 2, 3, 3, 3, 1, 2, 2, 3, 1, 3, 3, 3, 2, 1, 3, 1, 2, 3, 1, 3, 1, 1, 2, 1, 2, 2, 1, 2, 2, 1, 1, 1, 1, 1, 1, 1, 1, 3, 1, 1, 2, 1, 2, 1, 1, 1, 3, 3, 1, 1, 2, 1, 2, 2, 3, 1, 3, 2, 2, 1, 2, 1, 3, 3, 3, 3, 2, 3, 3, 1, 1, 2, 3, 2, 3, 2, 3, 3, 1, 1, 1, 1, 3, 3, 3, 3, 2, 1, 1, 1, 3, 1, 1, 3, 3, 3, 2, 1, 2, 1, 1, 3, 1, 3, 3, 1, 2, 3, 2, 1, 1, 3, 3, 1, 1, 3, 2, 2, 3, 2, 1, 1, 1, 1, 3, 2, 3, 3, 3, 3, 2, 1, 3, 3, 3, 2, 3, 3, 1, 3, 1, 1, 1, 1, 2, 2, 1, 2, 1, 3, 1, 3, 1, 1, 2, 2, 2, 1, 1, 3, 2, 2, 2, 3, 2, 1, 3, 2, 1, 1, 2, 1, 2, 2, 2, 3, 3, 3, 1, 1, 3, 1, 2, 1, 2, 3, 2, 3, 1, 1, 2, 1, 1, 3, 3, 1, 3, 1, 3, 1, 2, 2, 3, 3, 3, 2, 1, 3, 1, 3, 1, 3, 2, 2, 1, 1, 3, 3, 3, 1, 3, 2, 1, 2, 3, 2, 3, 1, 2, 1, 3, 2, 3, 1, 2, 1, 2, 1, 2, 1, 3, 2, 3, 3, 1, 1, 1, 2, 1, 1, 1, 3, 2, 2, 1, 1, 3, 1, 2, 3, 1, 3, 1, 2, 2, 2, 1, 2, 3, 1, 2, 2, 1, 2, 1, 1, 3, 3, 3, 2, 2, 1, 3, 2, 2, 2, 2, 2, 3, 3, 2, 3, 1, 1, 3, 1, 1, 2, 3, 1, 1, 1, 2, 3, 2, 1, 2, 3, 2, 3, 1, 3, 1, 1, 2, 1, 3, 1, 2, 2, 3, 3, 2, 3, 2, 1, 2, 1, 1, 3, 3, 1, 1, 2, 3, 3, 3, 1, 3, 3, 3, 1, 1, 2, 2, 3, 1, 2, 2, 3, 1, 3, 2, 2, 1, 3, 1, 2, 1, 1, 1, 2, 1, 2, 2, 1, 2, 2, 3, 1, 2, 2, 3, 1, 3, 1, 3, 1, 1, 3, 1, 3, 3, 2, 1, 1, 1, 3, 3, 2, 2, 1, 3, 1, 2, 2, 3, 3, 2, 2, 3, 3, 2, 2, 3, 2, 3, 3, 2, 1, 3, 1, 3, 3, 1, 1, 3, 3, 3, 3, 1, 2, 1, 2, 1, 1, 1, 3, 3, 1, 3, 3, 2, 1, 3, 2, 3, 2, 3, 2, 1, 3, 2, 1, 3, 3, 1, 3, 1, 3, 3, 1, 2, 3, 2, 2, 2, 1, 1, 2, 2, 3, 2, 1, 1, 2, 3, 3, 3, 2, 2, 2, 1, 1, 1, 3, 3, 1, 1, 1, 1, 1, 3, 3, 2, 1, 1, 3, 2, 2, 1, 2, 3, 2, 3, 3, 2, 3, 1, 2, 3, 1, 2, 1, 2, 3, 1, 2, 2, 3, 2, 2, 1, 1, 2, 1, 2, 2, 1, 2, 3, 1, 1, 3, 2, 2, 2, 2, 2, 3, 3, 3, 1, 2, 2, 3, 2, 2, 1, 3, 2, 2, 2, 1, 2, 1, 3, 3, 2, 1, 2, 2, 3, 1, 1, 3, 3, 2, 2, 3, 3, 3, 3, 1, 1, 2, 2, 3, 1, 1, 1, 2, 2, 2, 3, 3, 2, 3, 2, 2, 3, 2, 1, 1, 2, 2, 2, 3, 1, 2, 3, 1, 3, 1, 2, 3, 2, 3, 2, 2, 2, 3, 3, 2, 2, 3, 1, 1, 3, 1, 1, 2, 2, 1, 1, 3, 1, 2, 2, 3, 3, 3, 1, 3, 2, 2, 2, 3, 2, 1, 3, 3, 3, 1, 3, 3, 3, 1, 3, 3, 1, 1, 1, 2, 1, 3, 1, 2, 2, 1, 1, 2, 2, 2, 1, 3, 3, 2, 2, 3, 2, 3, 2, 1, 3, 3, 2, 2, 1, 3, 3, 3, 3, 1, 3, 3, 2, 3, 2, 1, 2, 3, 1, 2, 3, 1, 1, 2, 3, 2, 1, 2, 1, 2, 1, 1, 3, 1, 2, 1, 3, 2, 2, 2, 3, 1, 3, 2, 1, 2, 3, 2, 3, 1, 3, 2, 1, 2, 1, 2, 2, 1, 1, 2, 1, 3, 3, 2, 1, 2, 2, 3, 1, 2, 1, 1, 1, 2, 3, 1, 3, 1, 3, 2, 1, 1, 3, 2, 3, 1, 3, 3, 1, 2, 2, 2, 3, 2, 3, 1, 1, 3, 2, 2, 2, 3, 1, 1, 3, 1, 2, 1, 3, 1, 1, 2, 2, 3, 2, 3, 2, 2, 1, 2, 1, 2, 2, 2, 1, 2, 1, 1, 3, 1, 3, 2, 3, 3, 1, 1, 1, 3, 2, 1, 3, 1, 3, 3, 1, 3, 3, 1, 2, 2, 2, 1, 1, 1, 3, 2, 3, 3, 1, 2, 2, 3, 3, 1, 2, 1, 2, 2, 2, 1, 3, 2, 3, 2, 2, 2, 3, 3, 3, 1, 2, 3, 1, 3, 1, 3, 3, 1, 1, 1, 2, 3, 1, 1, 3, 2, 2, 1, 1, 3, 3, 3, 3, 1, 2, 1, 1, 2, 1, 2, 3, 1, 2, 2, 3, 1, 1, 2, 3, 2, 1, 3, 1, 1, 1, 1, 3, 1, 1, 2, 3, 3, 3, 3, 2, 3, 3, 2, 1, 1, 1, 3, 3, 3, 1, 1, 1, 3, 3, 3, 2, 3, 1, 2, 2, 2, 2, 2, 1, 1, 2, 2, 3, 2, 3, 3, 3, 3, 2, 3, 2, 1, 2, 3, 3, 1, 2, 3, 1, 3, 2, 1, 1, 3, 3, 2, 3, 2, 3, 3, 1, 2, 2, 1, 1, 2, 3, 3, 3, 1, 1, 1, 3, 1, 3, 1, 1, 3, 3, 1, 3, 3, 1, 1, 3, 2, 1, 1, 2, 3, 1, 3, 1, 3, 1, 3, 3, 2, 3, 1, 1, 3, 3, 2, 1, 3, 2, 1, 1, 3, 2, 1, 3, 1, 2, 1, 3, 2, 3, 2, 1, 2, 2, 2, 1, 3, 1, 1, 1, 1, 3, 3, 3, 1, 3, 3, 1, 2, 1, 3, 2, 2, 1, 1, 2, 1, 2, 1, 3, 1, 1, 3, 2, 3, 2, 3, 2, 1, 2, 2, 2, 2, 1, 3, 1, 2, 3, 1, 1, 2, 2, 1, 3, 3, 2, 3, 2, 2, 3, 2, 2, 1, 2, 3, 1, 2, 2, 1, 2, 3, 1, 1, 2, 3, 2, 2, 3, 1, 1, 1, 2, 2, 3, 1, 1, 2, 3, 2, 3, 2, 2, 1, 1, 1, 2, 1, 3, 2, 3, 3, 1, 2, 1, 2, 1, 1, 2, 2, 1, 1, 1, 2, 1, 2, 2, 2, 1, 1, 1, 3, 3, 2, 2, 2, 3, 1, 1, 2, 1, 1, 1, 1, 2, 3, 3, 2, 1, 1, 1, 2, 3, 2, 3, 2, 2, 2, 2, 1, 1, 1, 1, 1, 3, 1, 3, 2, 2, 2, 1, 3, 3, 1, 2, 3, 3, 1, 1, 1, 3, 1, 1, 1, 3, 2, 1, 2, 3, 3, 3, 1, 1, 3, 1, 1, 2, 3, 1, 3, 2, 2, 1, 2, 3, 1, 3, 2, 3, 2, 1, 1, 2, 2, 2, 3, 2, 1, 1, 2, 1, 3, 1, 1, 1, 3, 1, 3, 3, 3, 3, 3, 3, 1, 2, 2, 3, 1, 2, 1, 3, 2, 1, 3, 1, 1, 2, 1, 2, 1, 3, 3, 1, 3, 1, 3, 2, 2, 2, 1, 2, 3, 1, 1, 1, 2, 2, 1, 3, 3, 3, 1, 2, 2, 2, 3, 3, 1, 2, 1, 2, 2, 3, 1, 2, 3, 3, 2, 1, 3, 1, 2, 3, 1, 2, 3, 3, 2, 2, 2, 3, 1, 1, 1, 2, 2, 1, 1, 3, 3, 2, 3, 3, 2, 1, 1, 1, 2, 3, 2, 3, 3, 2, 2, 3, 3, 1, 2, 2, 3, 3, 1, 3, 3, 1, 1, 3, 1, 3, 3, 3, 1, 1, 1, 1, 2, 3, 3, 3, 2, 3, 1, 2, 2, 3, 3, 2, 2, 1, 1, 1, 2, 2, 1, 3, 2, 2, 1, 2, 3, 1, 3, 1, 2, 1, 1, 3, 1, 2, 3, 1, 2, 2, 1, 3, 3, 3, 1, 3, 2, 1, 1, 2, 1, 3, 3, 3, 3, 2, 1, 1, 1, 2, 2, 3, 1, 2, 3, 2, 3, 2, 2, 3, 2, 3, 2, 1, 3, 2, 3, 2, 2, 3, 3, 2, 2, 2, 1, 1, 3, 2, 2, 1, 1, 2, 2, 3, 3, 1, 1, 3, 3, 3, 2, 2, 2, 2, 3, 1, 1, 1, 1, 1, 1, 1, 2, 3, 2, 3, 2, 2, 2, 1, 3, 3, 3, 2, 2, 3, 2, 1, 3, 2, 2, 1, 1, 3, 2, 2, 3, 2, 3, 3, 2, 1, 3, 1, 3, 2, 2, 3, 1, 3, 1, 3, 3, 2, 2, 2, 1, 3, 1, 1, 1, 3, 3, 1, 2, 2, 1, 1, 1, 2, 1, 2, 2, 3, 3, 1, 3, 2, 1, 1, 1, 1, 2, 2, 3, 2, 3, 2, 1, 2, 3, 1, 2, 3, 1, 2, 1, 2, 1, 1, 1, 1, 3, 3, 1, 1, 1, 2, 2, 3, 2, 3, 1, 2, 3, 3, 2, 3, 1, 2, 3, 3, 3, 2, 3, 2, 3, 2, 2, 1, 1, 3, 2, 3, 2, 1, 3, 3, 1, 2, 2, 2, 2, 1, 2, 2, 3, 2, 1, 1, 2, 2, 2, 2, 1, 2, 3, 1, 1, 1, 3, 1, 2, 1, 3, 1, 1, 1, 1, 2, 3, 3, 1, 2, 1, 3, 3, 2, 3, 2, 2, 2, 1, 1, 2, 3, 1, 3, 1, 1, 2, 3, 2, 1, 3, 3, 1, 1, 2, 2, 3, 2, 1, 1, 2, 1, 2, 3, 2, 3, 1, 2, 3, 3, 2, 3, 3, 1, 3, 1, 1, 2, 1, 3, 3, 3, 2, 1, 2, 2, 1, 3, 1, 2, 2, 3, 1, 3, 3, 3, 1, 1, 3, 2, 2, 2, 1, 1, 3, 3, 1, 2, 2, 2, 3, 2, 1, 1, 3, 2, 2, 1, 1, 2, 1, 1, 3, 3, 1, 3, 3, 2, 2, 2, 2, 3, 3, 3, 1, 1, 3, 1, 1, 1, 1, 3, 1, 3, 1, 1, 2, 2, 2, 2, 2, 1, 1, 1, 1, 3, 2, 1, 1, 1, 1, 2, 3, 1, 2, 3, 2, 1, 1, 3, 1, 3, 2, 1, 2, 1, 1, 2, 2, 3, 1, 3, 3, 2, 1, 3, 1, 2, 3, 1, 3, 2, 2, 1, 1, 1, 2, 3, 2, 2, 3, 1, 3, 2, 3, 3, 2, 2, 3, 3, 2, 2, 3, 3, 2, 2, 1, 3, 3, 1, 1, 2, 1, 2, 2, 3, 2, 3, 2, 3, 3, 2, 3, 1, 1, 1, 1, 1, 2, 1, 1, 1, 1, 3, 2, 1, 3, 3, 3, 3, 2, 3, 2, 3, 2, 3, 2, 1, 2, 2, 2, 3, 2, 2, 1, 1, 1, 1, 2, 3, 1, 1, 1, 1, 1, 2, 1, 2, 1, 1, 3, 1, 1, 1, 3, 1, 1, 1, 2, 2, 1, 3, 3, 1, 3, 3, 1, 1, 1, 3, 1, 3, 1, 2, 2, 2, 1, 3, 2, 3, 2, 2, 3, 1, 2, 1, 1, 3, 2, 3, 3, 2, 2, 2, 2, 3, 2, 1, 1, 2, 3, 3, 2, 2, 1, 2, 3, 3, 3, 2, 1, 3, 1, 2, 1, 3, 2, 1, 2, 3, 1, 2, 1, 1, 3, 1, 3, 2, 1, 3, 3, 1, 3, 2, 3, 2, 2, 3, 3, 3, 2, 1, 3, 3, 1, 3, 1, 2, 1, 2, 1, 2, 1, 2, 3, 1, 3, 2, 1, 2, 3, 1, 2, 3, 3, 2, 2, 1, 1, 2, 3, 1, 1, 1, 3, 1, 2, 3, 3, 3, 2, 1, 1, 1, 3, 1, 2, 2, 1, 1, 3, 3, 3, 1, 2, 1, 2, 1, 2, 3, 3, 1, 2, 3, 3, 3, 2, 2, 2, 1, 2, 2, 1, 1, 2, 3, 2, 1, 3, 1, 3, 3, 2, 1, 1, 1, 3, 2, 3, 1, 2, 2, 2, 2, 3, 2, 2, 2, 1, 3, 2, 3, 3, 1, 3, 3, 2, 3, 2, 1, 3, 1, 1, 1, 3, 2, 1, 1, 3, 1, 1, 3, 3, 2, 1, 2, 1, 1, 1, 3, 1, 3, 3, 3, 1, 2, 3, 2, 1, 3, 1, 3, 3, 1, 3, 2, 2, 2, 1, 3, 2, 3, 1, 2, 2, 2, 2, 3, 2, 2, 2, 1, 3, 2, 2, 1, 3, 1, 3, 3, 1, 1, 2, 3, 3, 3, 1, 2, 3, 1, 1, 1, 1, 3, 3, 3, 1, 2, 1, 2, 3, 3, 2, 3, 3, 1, 1, 3, 2, 1, 3, 2, 3, 3, 2, 1, 3, 2, 1, 1, 3, 3, 1, 1, 1, 2, 2, 1, 1, 3, 2, 2, 3, 3, 2, 3, 3, 1, 3, 2, 2, 3, 1, 3, 1, 2, 3, 2, 1, 3, 1, 3, 2, 1, 1, 2, 2, 1, 3, 3, 1, 3, 3, 3, 1, 2, 1, 2, 2, 2, 3, 3, 2, 1, 2, 2, 1, 1, 3, 1, 1, 1, 3, 2, 3, 3, 2, 3, 3, 2, 3, 2, 3, 1, 3, 3, 3, 2, 2, 3, 2, 2, 3, 1, 3, 3, 2, 1, 2, 3, 3, 1, 1, 3, 1, 2, 3, 3, 2, 3, 1, 2, 1, 3, 2, 1, 3, 1, 1, 3, 2, 2, 1, 3, 1, 2, 1, 1, 1, 2, 3, 3, 1, 1, 3, 3, 2, 1, 3, 2, 3, 1, 3, 2, 3, 1, 3, 2, 3, 3, 2, 1, 1, 1, 2, 2, 3, 1, 2, 2, 3, 2, 1, 2, 3, 3, 3, 2, 3, 1, 1, 1, 1, 2, 2, 3, 1, 2, 2, 2, 3, 1, 1, 1, 3, 3, 1, 2, 2, 3, 1, 1, 1, 1, 3, 1, 3, 2, 1, 3, 1, 3, 1, 1, 2, 2, 1, 2, 1, 1, 3, 1, 2, 2, 1, 3, 2, 1, 1, 3, 2, 3, 2, 2, 3, 2, 1, 1, 3, 3, 2, 1, 3, 3, 3, 3, 3, 2, 1, 1, 1, 3, 2, 2, 1, 1, 2, 3, 2, 3, 2, 2, 2, 1, 1, 1, 2, 2, 3, 2, 1, 2, 2, 3, 3, 3, 2, 3, 2, 2, 1, 2, 3, 1, 3, 3, 1, 2, 1, 1, 1, 2, 2, 2, 2, 3, 1, 2, 3, 1, 2, 1, 1, 1, 3, 1, 1, 2, 1, 1, 2, 1, 3, 2, 1, 3, 3, 2, 2, 2, 3, 1, 2, 2, 3, 2, 3, 1, 1, 3, 2, 1, 3, 3, 1, 2, 3, 3, 2, 3, 1, 2, 2, 3, 2, 1, 1, 2, 2, 3, 3, 2, 3, 3, 2, 2, 1, 2, 1, 3, 1, 3, 1, 1, 3, 2, 3, 1, 2, 3, 3, 1, 2, 2, 2, 3, 1, 3, 2, 3, 1, 2, 1, 2, 2, 1, 2, 2, 3, 2, 3, 3, 2, 2, 1, 1, 2, 3, 2, 2, 2, 1, 3, 2, 1, 3, 3, 1, 2, 3, 2, 1, 3, 1, 1, 2, 3, 1, 2, 2, 3, 3, 1, 1, 1, 1, 1, 3, 3, 3, 3, 2, 3, 1, 3, 1, 2, 3, 3, 3, 2, 1, 3, 3, 2, 2, 3, 1, 2, 3, 3, 3, 2, 3, 2, 3, 3, 1, 1, 1, 1, 3, 1, 1, 1, 2, 1, 1, 1, 1, 1, 2, 1, 1, 1, 1, 2, 1, 2, 2, 3, 2, 3, 3, 2, 1, 2, 1, 1, 2, 1, 3, 3, 2, 3, 2, 3, 2, 1, 2, 2, 3, 3, 1, 3, 2, 3, 1, 2, 3, 2, 3, 1, 2, 3, 1, 1, 3, 2, 1, 1, 3, 2, 1, 3, 1, 1, 1, 2, 2, 2, 3, 1, 3, 3, 2, 1, 2, 1, 1, 3, 3, 1, 2, 2, 2, 2, 2, 1, 2, 3, 2, 3, 1, 3, 2, 2, 1, 1, 2, 1, 3, 1, 1, 1, 1, 2, 3, 1, 2, 1, 2, 2, 1, 1, 3, 1, 1, 1, 2, 3, 3, 3, 2, 3, 1, 1, 2, 2, 3, 3, 1, 1, 2, 1, 2, 1, 3, 2, 1, 1, 1, 2, 2, 2, 3, 2, 2, 3, 1, 3, 3, 2, 2, 3, 2, 2, 2, 3, 2, 1, 2, 2, 1, 2, 1, 3, 3, 1, 3, 2, 1, 1, 2, 3, 2, 2, 2, 1, 3, 2, 3, 3, 2, 2, 3, 1, 3, 3, 2, 2, 1, 2, 1, 2, 1, 2, 3, 3, 3, 2, 1, 2, 2, 3, 2, 2, 3, 3, 3, 3, 3, 2, 1, 1, 2, 2, 3, 2, 1, 1, 2, 2, 1, 1, 1, 1, 3, 1, 2, 3, 3, 3, 2, 3, 3, 1, 3, 2, 2, 2, 1, 1, 1, 2, 3, 3, 1, 3, 2, 3, 3, 3, 2, 2, 1, 3, 1, 3, 1, 1, 2, 3, 2, 2, 1, 3, 1, 3, 3, 1, 1, 2, 2, 1, 1, 2, 2, 2, 1, 1, 3, 1, 1, 1, 1, 1, 3, 2, 3, 3, 3, 1, 3, 3, 2, 1, 1, 1, 1, 1, 3, 1, 1, 2, 2, 2, 2, 1, 1, 2, 1, 2, 2, 2, 1, 3, 3, 2, 3, 1, 1, 1, 3, 1, 2, 3, 3, 3, 3, 3, 1, 3, 2, 3, 3, 3, 2, 3, 1, 2, 3, 3, 3, 3, 2, 1, 1, 2, 1, 1, 1, 1, 2, 2, 1, 2, 1, 3, 3, 2, 2, 3, 3, 2, 2, 2, 2, 1, 2, 3, 3, 1, 2, 3, 3, 1, 2, 2, 1, 1, 3, 2, 1, 1, 3, 2, 1, 3, 3, 3, 1, 3, 2, 3, 3, 1, 1, 2, 1, 1, 2, 3, 2, 2, 1, 1, 1, 2, 2, 1, 3, 3, 2, 1, 2, 3, 2, 1, 2, 2, 1, 1, 2, 1, 3, 3, 1, 1, 1, 2, 2, 2, 2, 2, 2, 1, 1, 3, 3, 3, 1, 3, 3, 3, 2, 1, 1, 1, 3, 3, 3, 3, 1, 1, 2, 3, 1, 3, 2, 2, 2, 2, 2, 2, 1, 1, 1, 1, 3, 3, 1, 1, 3, 1, 1, 2, 3, 3, 3, 1, 3, 2, 2, 2, 1, 1, 3, 2, 2, 2, 3, 3, 3, 2, 3, 3, 3, 3, 2, 1, 2, 1, 1, 2, 3, 2, 1, 3, 1, 1, 1, 1, 2, 2, 1, 3, 3, 2, 1, 2, 1, 3, 3, 3, 2, 2, 3, 3, 1, 3, 1, 2, 1, 2, 1, 3, 2, 3, 1, 3, 3, 2, 1, 2, 2, 1, 1, 2, 1, 2, 3, 2, 1, 1, 3, 2, 3, 3, 1, 2, 3, 2, 3, 2, 2, 2, 2, 1, 1, 1, 3, 1, 2, 2, 1, 1, 1, 3, 2, 1, 2, 3, 1, 3, 3, 3, 2, 2, 3, 2, 1, 1, 1, 1, 2, 3, 2, 1, 3, 2, 2, 1, 1, 2, 2, 3, 1, 3, 3, 2, 2, 1, 3, 3, 2, 2, 3, 2, 1, 2, 2, 1, 1, 2, 1, 2, 1, 1, 1, 1, 2, 1, 3, 3, 2, 1, 2, 2, 1, 1, 2, 1, 1, 3, 1, 3, 1, 3, 3, 3, 3, 1, 2, 3, 1, 1, 2, 2, 2, 2, 2, 2, 3, 3, 1, 1, 2, 1, 3, 2, 1, 3, 3, 2, 3, 3, 2, 1, 3, 3, 1, 1, 2, 1, 3, 2, 2, 2, 2, 1, 2, 3, 3, 2, 1, 2, 2, 2, 1, 2, 3, 3, 2, 3, 2, 2, 1, 1, 3, 1, 2, 3, 2, 3, 2, 2, 2, 2, 1, 2, 2, 2, 2, 3, 2, 3, 2, 1, 2, 3, 2, 1, 1, 3, 3, 3, 2, 1, 3, 2, 1, 2, 3, 2, 1, 1, 3, 2, 1, 1, 3, 1, 3, 1, 2, 1, 2, 1, 3, 3, 2, 3, 1, 2, 1, 3, 2, 2, 2, 1, 2, 3, 2, 2, 3, 3, 2, 2, 3, 1, 2, 3, 3, 3, 3, 2, 2, 3, 1, 3, 3, 3, 3, 1, 2, 2, 1, 2, 1, 1, 2, 3, 2, 2, 3, 3, 2, 1, 2, 2, 3, 1, 1, 1, 1, 2, 1, 1, 3, 2, 1, 3, 3, 2, 1, 2, 3, 2, 3, 1, 2, 1, 2, 3, 2, 2, 2, 3, 2, 1, 3, 1, 1, 1, 1, 1, 2, 3, 2, 1, 1, 3, 3, 2, 3, 2, 1, 1, 1, 1, 3, 2, 1, 2, 3, 1, 3, 1, 3, 1, 3, 2, 3, 1, 3, 1, 2, 2, 3, 3, 3, 2, 2, 3, 3, 3, 2, 3, 1, 2, 2, 3, 2, 1, 1, 1, 1, 2, 1, 1, 1, 1, 2, 2, 2, 1, 1, 1, 2, 1, 3, 3, 1, 2, 2, 2, 3, 2, 1, 2, 3, 2, 1, 2, 2, 2, 3, 2, 2, 3, 2, 2, 2, 2, 3, 3, 3, 1, 3, 3, 3, 1, 1, 2, 2, 3, 3, 3, 3, 1, 1, 2, 2, 2, 3, 2, 3, 3, 2, 1, 3, 1, 2, 2, 1, 3, 3, 3, 1, 1, 2, 1, 3, 1, 3, 1, 3, 2, 1, 3, 1, 3, 3, 2, 1, 3, 1, 3, 3, 1, 1, 3, 1, 2, 3, 3, 1, 2, 1, 1, 1, 3, 3, 3, 3, 3, 2, 3, 1, 3, 2, 2, 2, 1, 1, 3, 2, 3, 2, 3, 2, 2, 2, 1, 3, 3, 3, 3, 3, 3, 1, 1, 3, 3, 1, 2, 1, 1, 2, 2, 2, 1, 2, 2, 2, 2, 2, 1, 3, 1, 2, 2, 2, 2, 1, 1, 2, 2, 1, 2, 3, 1, 2, 3, 1, 2, 1, 2, 1, 1, 2, 3, 2, 2, 1, 1, 3, 1, 2, 1, 1, 1, 2, 3, 2, 1, 1, 1, 2, 2, 3, 1, 1, 3, 2, 1, 2, 3, 1, 2, 3, 3, 2, 2, 2, 1, 3, 3, 2, 1, 3, 1, 2, 1, 3, 2, 1, 3, 2, 3, 2, 3, 3, 1, 1, 2, 1, 3, 1, 3, 3, 2, 2, 1, 1, 3, 2, 1, 3, 2, 3, 3, 3, 3, 1, 2, 1, 3, 3, 1, 2, 1, 1, 1, 3, 2, 2, 3, 3, 2, 3, 3, 1, 2, 2, 3, 3, 2, 3, 3, 2, 1, 1, 1, 3, 3, 2, 1, 1, 1, 3, 1, 1, 1, 3, 1, 2, 2, 3, 2, 2, 2, 3, 3, 1, 2, 1, 1, 3, 2, 2, 1, 2, 1, 2, 2, 1, 1, 2, 2, 3, 3, 1, 3, 2, 3, 2, 2, 1, 3, 2, 2, 2, 3, 1, 3, 3, 3, 3, 1, 2, 3, 3, 2, 1, 3, 3, 1, 1, 1, 1, 2, 1, 2, 3, 2, 1, 2, 2, 3, 3, 1, 3, 2, 1, 3, 3, 3, 2, 3, 2, 2, 3, 2, 1, 3, 3, 2, 3, 1, 2, 2, 2, 2, 1, 2, 3, 2, 3, 2, 2, 3, 1, 2, 2, 2, 1, 1, 3, 2, 2, 2, 1, 2, 1, 2, 2, 3, 2, 1, 3, 3, 2, 2, 2, 3, 3, 3, 1, 3, 1, 3, 3, 3, 3, 1, 2, 2, 3, 1, 1, 1, 1, 3, 3, 3, 2, 2, 1, 2, 3, 2, 3, 1, 3, 1, 1, 1, 2, 3, 2, 3, 3, 2, 3, 2, 1, 3, 1, 2, 3, 3, 2, 2, 2, 3, 3, 3, 2, 2, 2, 1, 2, 3, 3, 3, 3, 3, 1, 3, 2, 2, 1, 1, 3, 1, 2, 3, 1, 1, 3, 2, 3, 1, 2, 2, 2, 3, 1, 1, 1, 2, 3, 1, 2, 1, 3, 2, 2, 1, 2, 3, 2, 2, 1, 2, 3, 2, 1, 3, 1, 2, 3, 3, 2, 2, 1, 3, 2, 2, 3, 2, 3, 3, 3, 3, 1, 3, 2, 1, 3, 3, 3, 3, 3, 3, 3, 3, 2, 2, 2, 3, 1, 2, 2, 2, 1, 3, 1, 2, 3, 2, 1, 1, 2, 3, 2, 1, 1, 1, 2, 2, 2, 1, 3, 3, 2, 1, 3, 2, 1, 3, 2, 2, 1, 2, 3, 2, 2, 3, 3, 3, 3, 2, 3, 3, 3, 2, 2, 2, 3, 2, 3, 2, 3, 3, 2, 1, 1, 3, 2, 2, 1, 3, 1, 3, 2, 2, 2, 2, 1, 3, 2, 2, 2, 3, 3, 1, 1, 2, 1, 2, 2, 3, 3, 1, 3, 3, 1, 1, 1, 2, 1, 2, 2, 1, 3, 2, 3, 1, 2, 2, 1, 3, 2, 1, 2, 1, 2, 2, 1, 1, 1, 3, 2, 1, 3, 1, 2, 3, 1, 2, 1, 3, 3, 2, 3, 3, 2, 3, 3, 3, 3, 3, 3, 3, 1, 3, 1, 3, 3, 1, 3, 3, 3, 2, 1, 3, 3, 3, 3, 1, 1, 1, 3, 3, 3, 2, 2, 1, 2, 1, 2, 1, 2, 3, 3, 1, 1, 3, 2, 1, 3, 2, 2, 1, 2, 1, 2, 3, 3, 1, 3, 1, 3, 1, 1, 2, 2, 1, 2, 1, 3, 1, 1, 3, 3, 2, 2, 3, 1, 3, 1, 3, 3, 2, 2, 1, 1, 2, 1, 1, 1, 1, 2, 3, 1, 2, 3, 1, 3, 2, 1, 3, 3, 1, 2, 2, 2, 3, 1, 2, 3, 2, 1, 3, 3, 2, 1, 1, 3, 1, 1, 1, 2, 1, 2, 2, 1, 2, 1, 2, 1, 2, 1, 1, 1, 2, 3, 3, 1, 1, 3, 1, 1, 2, 2, 2, 3, 2, 2, 2, 3, 3, 1, 2, 3, 1, 3, 2, 2, 2, 2, 2, 2, 1, 3, 2, 1, 3, 2, 1, 1, 1, 2, 3, 2, 1, 2, 1, 2, 3, 2, 3, 1, 3, 3, 1, 1, 2, 2, 3, 2, 2, 2, 1, 2, 1, 3, 1, 1, 3, 1, 2, 1, 1, 2, 2, 2, 1, 2, 2, 1, 3, 2, 2, 3, 2, 1, 1, 1, 2, 3, 2, 3, 3, 1, 3, 3, 2, 1, 2, 2, 3, 3, 3, 1, 3, 1, 3, 2, 2, 1, 3, 2, 1, 1, 1, 2, 2, 1, 2, 3, 1, 2, 1, 3, 2, 2, 2, 1, 2, 1, 3, 1, 2, 2, 2, 1, 3, 1, 3, 1, 1, 1, 1, 2, 3, 1, 1, 3, 3, 1, 3, 3, 2, 2, 2, 1, 3, 2, 3, 1, 2, 1, 3, 3, 2, 3, 3, 1, 3, 1, 1, 3, 2, 1, 2, 2, 3, 3, 3, 1, 1, 3, 2, 3, 2, 3, 2, 3, 2, 2, 1, 3, 2, 2, 3, 3, 2, 1, 3, 1, 2, 1, 2, 1, 2, 3, 1, 1, 2, 2, 3, 2, 3, 3, 2, 1, 3, 1, 2, 1, 3, 2, 2, 3, 2, 1, 2, 1, 3, 3, 1, 1, 1, 1, 1, 2, 3, 3, 2, 3, 1, 3, 1, 3, 1, 2, 1, 1, 1, 3, 3, 2, 2, 3, 2, 2, 1, 3, 3, 2, 2, 2, 3, 1, 2, 3, 2, 2, 2, 3, 2, 1, 3, 2, 2, 3, 1, 2, 3, 2, 2, 3, 3, 1, 2, 3, 3, 1, 1, 2, 3, 2, 1, 3, 2, 1, 2, 2, 3, 1, 1, 2, 2, 2, 1, 1, 2, 3, 3, 2, 2, 3, 2, 3, 1, 3, 3, 2, 2, 2, 2, 2, 3, 1, 2, 3, 3, 2, 1, 3, 1, 2, 3, 1, 2, 1, 1, 2, 1, 2, 1, 1, 3, 3, 3, 2, 2, 2, 2, 2, 3, 1, 1, 2, 2, 3, 3, 1, 2, 1, 3, 3, 2, 2, 2, 3, 2, 1, 2, 2, 1, 3, 2, 2, 1, 3, 1, 1, 2, 3, 1, 2, 2, 1, 2, 2, 2, 3, 1, 2, 2, 1, 2, 3, 2, 3, 3, 3, 1, 3, 2, 3, 3, 1, 3, 1, 3, 2, 3, 1, 3, 1, 1, 1, 1, 3, 2, 2, 1, 1, 3, 2, 2, 3, 3, 3, 3, 3, 3, 2, 2, 3, 3, 3, 2, 1, 3, 2, 1, 1, 2, 3, 2, 1, 3, 1, 2, 1, 3, 1, 2, 1, 1, 2, 1, 3, 2, 2, 1, 3, 1, 1, 3, 3, 1, 3, 3, 2, 1, 2, 3, 1, 3, 3, 3, 2, 3, 3, 3, 2, 2, 2, 3, 3, 1, 1, 3, 3, 2, 2, 1, 3, 2, 3, 1, 2, 2, 3, 2, 3, 2, 3, 2, 1, 3, 2, 1, 2, 3, 1, 1, 3, 1, 1, 3, 3, 3, 2, 3, 3, 2, 2, 1, 3, 3, 2, 1, 3, 1, 1, 1, 1, 3, 3, 2, 3, 3, 1, 3, 2, 1, 2, 2, 3, 1, 1, 1, 1, 1, 2, 1, 3, 2, 2, 2, 1, 2, 3, 2, 3, 1, 3, 2, 3, 3, 2, 1, 3, 1, 2, 3, 2, 2, 1, 3, 1, 3, 2, 3, 2, 3, 2, 1, 1, 2, 3, 1, 1, 1, 3, 1, 2, 2, 2, 2, 1, 3, 3, 2, 2, 3, 3, 1, 1, 2, 2, 2, 2, 3, 3, 3, 2, 1, 3, 1, 3, 1, 1, 3, 3, 1, 2, 3, 3, 1, 3, 1, 3, 2, 1, 3, 3, 1, 2, 1, 1, 1, 2, 3, 2, 3, 2, 3, 2, 3, 3, 2, 2, 3, 3, 2, 3, 3, 3, 2, 2, 3, 3, 1, 2, 3, 3, 2, 3, 1, 3, 2, 1, 2, 2, 2, 1, 3, 2, 3, 3, 1, 2, 2, 1, 1, 3, 2, 3, 3, 2, 2, 3, 1, 2, 2, 2, 3, 2, 3, 2, 1, 1, 2, 1, 1, 3, 3, 2, 3, 1, 2, 2, 2, 1, 1, 3, 3, 1, 1, 3, 1, 2, 1, 3, 2, 3, 2, 2, 3, 2, 1, 1, 3, 1, 2, 1, 2, 3, 1, 3, 3, 3, 3, 1, 3, 1, 1, 1, 2, 2, 1, 3, 2, 1, 1, 1, 3, 3, 3, 3, 1, 2, 1, 2, 3, 2, 3, 3, 2, 1, 3, 1, 3, 3, 2, 3, 2, 2, 2, 3, 1, 2, 1, 1, 1, 1, 1, 3, 3, 2, 3, 3, 2, 3, 2, 1, 2, 2, 3, 1, 2, 1, 3, 3, 2, 1, 2, 1, 2, 3, 2, 3, 3, 3, 2, 3, 3, 1, 3, 2, 3, 2, 2, 1, 3, 2, 1, 1, 1, 3, 1, 3, 3, 1, 3, 1, 1, 3, 2, 2, 3, 1, 2, 1, 1, 3, 2, 2, 1, 2, 1, 3, 1, 2, 1, 2, 3, 1, 2, 1, 2, 3, 1, 2, 3, 1, 3, 3, 1, 3, 1, 1, 3, 3, 2, 3, 2, 2, 2, 2, 2, 3, 1, 2, 1, 3, 1, 3, 2, 1, 3, 1, 1, 2, 2, 2, 1, 2, 3, 2, 2, 3, 3, 1, 1, 3, 2, 1, 2, 3, 1, 1, 1, 3, 3, 3, 2, 2, 1, 3, 2, 3, 3, 3, 3, 3, 3, 3, 2, 1, 2, 2, 2, 1, 1, 1, 2, 3, 2, 1, 2, 3, 3, 3, 2, 3, 1, 2, 2, 2, 3, 2, 1, 1, 1, 2, 3, 2, 3, 3, 2, 2, 3, 3, 3, 2, 3, 2, 1, 1, 3, 1, 2, 2, 2, 3, 1, 3, 2, 1, 1, 1, 1, 3, 1, 3, 3, 3, 1, 3, 3, 1, 1, 1, 1, 1, 2, 3, 3, 3, 3, 1, 1, 2, 3, 1, 3, 3, 3, 3, 2, 1, 1, 3, 3, 2, 3, 2, 2, 2, 2, 2, 1, 3, 2, 1, 2, 1, 3, 2, 2, 1, 2, 1, 1, 2, 3, 2, 2, 1, 2, 2, 1, 2, 3, 3, 2, 1, 2, 2, 3, 2, 3, 3, 2, 3, 1, 1, 3, 2, 3, 3, 3, 2, 3, 3, 1, 1, 1, 1, 1, 1, 1, 1, 3, 3, 1, 1, 1, 1, 3, 2, 2, 1, 2, 1, 1, 2, 2, 1, 1, 3, 2, 2, 2, 1, 1, 2, 3, 2, 2, 3, 3, 2, 2, 1, 3, 1, 1, 3, 3, 2, 2, 3, 2, 3, 2, 2, 1, 3, 1, 2, 2, 2, 1, 3, 1, 2, 3, 1, 3, 2, 2, 1, 2, 3, 1, 2, 2, 1, 2, 1, 3, 1, 3, 2, 3, 3, 2, 3, 2, 3, 1, 1, 1, 1, 3, 1, 2, 3, 1, 3, 3, 2, 1, 2, 2, 1, 2, 2, 3, 2, 2, 1, 3, 2, 1, 1, 2, 2, 2, 1, 2, 3, 3, 2, 2, 2, 1, 3, 1, 3, 3, 2, 2, 3, 2, 1, 3, 1, 3, 1, 1, 1, 2, 1, 3, 2, 3, 1, 2, 3, 2, 3, 3, 2, 2, 1, 1, 2, 1, 2, 2, 1, 2, 2, 1, 1, 2, 3, 2, 1, 3, 1, 2, 1, 2, 3, 3, 3, 3, 2, 1, 3, 3, 3, 1, 3, 3, 2, 2, 1, 1, 3, 2, 3, 2, 1, 3, 3, 1, 1, 2, 3, 3, 3, 2, 3, 1, 1, 3, 3, 1, 1, 2, 3, 3, 1, 1, 1, 2, 1, 3, 3, 2, 1, 2, 2, 1, 3, 2, 3, 3, 3, 3, 2, 1, 1, 1, 3, 2, 1, 3, 1, 3, 3, 1, 1, 1, 2, 3, 2, 1, 1, 1, 1, 3, 3, 2, 2, 2, 1, 3, 2, 1, 3, 3, 1, 3, 3, 2, 1, 1, 3, 1, 3, 2, 3, 2, 2, 1, 1, 2, 1, 1, 2, 2, 2, 3, 3, 2, 3, 1, 1, 2, 3, 1, 3, 1, 3, 3, 3, 1, 2, 1, 3, 1, 1, 3, 2, 2, 3, 2, 1, 1, 2, 2, 3, 2, 1, 1, 1, 1, 2, 1, 3, 3, 1, 3, 3, 1, 3, 2, 3, 1, 3, 2, 3, 2, 2, 1, 3, 2, 3, 2, 1, 1, 1, 2, 3, 3, 2, 2, 3, 2, 1, 3, 3, 2, 1, 2, 1, 2, 1, 2, 3, 3, 2, 3, 1, 3, 3, 2, 3, 2, 2, 2, 2, 3, 3, 1, 2, 1, 3, 2, 3, 1, 3, 3, 1, 2, 1, 2, 3, 3, 1, 1, 1, 2, 1, 1, 2, 3, 2, 2, 3, 2, 2, 2, 3, 3, 1, 3, 1, 1, 3, 3, 3, 3, 1, 3, 3, 3, 2, 2, 1, 3, 2, 1, 1, 3, 1, 3, 3, 3, 3, 2, 2, 3, 2, 2, 1, 3, 3, 3, 2, 2, 3, 3, 1, 1, 3, 2, 2, 2, 3, 1, 1, 2, 3, 1, 2, 2, 1, 1, 2, 2, 1, 2, 1, 1, 3, 1, 2, 2, 2, 1, 1, 3, 3, 3, 3, 2, 1, 2, 2, 3, 1, 1, 1, 2, 3, 3, 2, 3, 2, 1, 2, 1, 2, 1, 1, 1, 1, 2, 1, 1, 2, 1, 1, 2, 2, 1, 3, 1, 1, 2, 2, 3, 2, 1, 1, 3, 3, 3, 1, 2, 1, 1, 1, 2, 2, 3, 3, 2, 1, 1, 1, 3, 3, 3, 1, 3, 1, 1, 1, 1, 1, 2, 1, 2, 3, 3, 3, 1, 2, 2, 3, 1, 1, 1, 1, 3, 1, 2, 3, 3, 1, 1, 3, 2, 2, 3, 3, 1, 2, 1, 1, 3, 1, 1, 2, 3, 2, 2, 2, 3, 1, 3, 3, 3, 1, 1, 3, 1, 2, 1, 1, 3, 3, 1, 1, 2, 3, 3, 1, 1, 3, 2, 2, 3, 2, 1, 3, 2, 1, 3, 2, 3, 1, 2, 1, 1, 3, 3, 1, 2, 3, 2, 2, 1, 2, 3, 1, 3, 2, 2, 3, 1, 1, 3, 2, 2, 2, 1, 3, 2, 2, 1, 3, 1, 1, 3, 1, 3, 3, 2, 3, 3, 1, 3, 3, 2, 2, 1, 3, 1, 1, 3, 2, 3, 2, 2, 2, 3, 2, 2, 3, 2, 1, 3, 3, 2, 3, 3, 2, 2, 2, 2, 1, 1, 2, 3, 2, 1, 1, 1, 3, 2, 3, 2, 2, 3, 1, 2, 2, 3, 2, 2, 3, 2, 3, 1, 1, 2, 3, 3, 2, 1, 1, 1, 2, 2, 1, 1, 2, 1, 1, 1, 3, 1, 3, 2, 2, 3, 3, 1, 2, 3, 2, 1, 3, 1, 2, 1, 1, 2, 1, 1, 2, 2, 3, 1, 2, 1, 3, 2, 2, 1, 3, 2, 3, 2, 3, 1, 1, 1, 1, 1, 2, 3, 1, 3, 1, 3, 1, 2, 2, 2, 3, 3, 1, 1, 1, 3, 2, 2, 3, 2, 2, 3, 1, 2, 3, 1, 2, 3, 2, 3, 1, 3, 3, 1, 1, 3, 1, 3, 2, 1, 3, 1, 1, 3, 2, 1, 3, 3, 2, 1, 1, 1, 2, 2, 2, 3, 3, 1, 1, 3, 1, 1, 1, 3, 3, 1, 3, 1, 2, 3, 3, 3, 3, 2, 2, 2, 2, 2, 3, 3, 2, 2, 3, 1, 3, 1, 2, 2, 2, 3, 2, 2, 2, 3, 1, 3, 2, 3, 1, 3, 3, 3, 2, 1, 3, 2, 1, 1, 2, 1, 1, 1, 1, 1, 2, 1, 1, 2, 3, 2, 1, 1, 2, 3, 1, 2, 1, 2, 2, 1, 3, 2, 1, 1, 3, 1, 3, 1, 1, 1, 2, 1, 2, 3, 3, 2, 3, 3, 2, 3, 2, 3, 2, 1, 2, 2, 1, 1, 1, 2, 2, 1, 2, 1, 2, 2, 2, 3, 2, 1, 2, 2, 3, 1, 2, 2, 3, 3, 2, 2, 2, 2, 2, 2, 3, 3, 3, 3, 1, 2, 3, 1, 3, 1, 2, 1, 3, 1, 2, 2, 1, 1, 3, 1, 2, 1, 2, 2, 3, 2, 3, 2, 3, 2, 1, 1, 3, 2, 3, 2, 1, 2, 1, 3, 2, 1, 3, 3, 1, 2, 2, 2, 2, 2, 1, 2, 1, 3, 2, 2, 2, 3, 3, 3, 3, 1, 1, 2, 3, 2, 1, 3, 3, 2, 1, 3, 2, 1, 3, 1, 3, 1, 3, 3, 2, 2, 1, 1, 3, 2, 1, 2, 3, 3, 3, 3, 3, 1, 3, 1, 2, 1, 2, 1, 2, 3, 1, 1, 2, 1, 1, 3, 3, 1, 1, 3, 3, 3, 2, 2, 3, 2, 3, 1, 2, 3, 2, 2, 3, 2, 1, 2, 2, 3, 3, 3, 3, 3, 2, 2, 1, 3, 2, 3, 3, 1, 2, 2, 1, 2, 1, 1, 1, 3, 2, 2, 2, 2, 3, 3, 1, 2, 1, 1, 2, 2, 1, 3, 3, 2, 3, 3, 3, 3, 3, 3, 3, 2, 1, 2, 3, 3, 3, 2, 1, 2, 3, 1, 2, 3, 2, 3, 3, 1, 3, 2, 1, 3, 2, 1, 2, 3, 3, 1, 3, 3, 2, 2, 3, 2, 2, 1, 3, 3, 1, 3, 3, 3, 3, 2, 3, 2, 3, 1, 1, 3, 1, 3, 1, 2, 3, 3, 2, 2, 1, 1, 2, 2, 2, 2, 3, 3, 3, 1, 1, 3, 2, 2, 1, 3, 1, 2, 1, 1, 3, 1, 3, 2, 2, 2, 1, 3, 2, 1, 2, 3, 1, 1, 2, 3, 2, 2, 1, 2, 1, 1, 2, 2, 3, 2, 2, 2, 2, 2, 3, 2, 1, 1, 3, 3, 1, 3, 1, 2, 1, 2, 1, 3, 1, 1, 3, 1, 3, 2, 2, 1, 1, 2, 1, 1, 1, 1, 1, 1, 2, 2, 3, 2, 2, 2, 2, 2, 3, 3, 1, 1, 1, 1, 3, 3, 2, 3, 1, 1, 3, 2, 3, 3, 2, 1, 1, 2, 3, 2, 1, 3, 2, 2, 3, 3, 3, 2, 1, 1, 2, 1, 3, 1, 3, 1, 2, 1, 3, 3, 1, 3, 2, 1, 2, 2, 1, 1, 3, 1, 2, 1, 3, 2, 3, 3, 2, 3, 3, 1, 2, 1, 2, 3, 2, 2, 1, 3, 1, 3, 1, 1, 3, 1, 2, 2, 1, 3, 1, 3, 2, 2, 2, 3, 2, 1, 3, 1, 2, 2, 2, 2, 3, 3, 2, 3, 1, 2, 3, 3, 2, 3, 1, 1, 1, 2, 3, 3, 2, 3, 2, 3, 2, 2, 3, 3, 3, 3, 1, 3, 3, 3, 2, 1, 2, 2, 1, 3, 2, 3, 1, 1, 3, 3, 3, 1, 2, 2, 1, 2, 2, 2, 1, 1, 3, 1, 1, 2, 1, 1, 1, 2, 2, 3, 1, 1, 1, 1, 3, 3, 2, 2, 1, 3, 1, 3, 3, 3, 3, 3, 3, 1, 1, 1, 1, 2, 1, 1, 3, 1, 2, 1, 1, 1, 2, 3, 1, 2, 2, 1, 3, 1, 1, 2, 2, 3, 1, 2, 1, 2, 3, 3, 3, 3, 3, 3, 2, 3, 3, 1, 3, 3, 3, 2, 2, 2, 1, 2, 1, 2, 2, 1, 3, 3, 2, 1, 1, 2, 2, 2, 1, 2, 1, 2, 1, 2, 3, 3, 2, 3, 1, 2, 3, 3, 3, 3, 2, 2, 2, 2, 3, 3, 2, 1, 2, 1, 2, 3, 1, 2, 3, 2, 2, 3, 3, 3, 2, 2, 3, 2, 1, 3, 2, 2, 1, 2, 3, 2, 1, 2, 2, 2, 2, 3, 1, 2, 3, 2, 3, 2, 2, 3, 1, 3, 3, 2, 3, 3, 2, 3, 2, 1, 1, 2, 1, 2, 2, 1, 2, 3, 1, 2, 3, 2, 3, 3, 2, 1, 1, 2, 2, 2, 2, 2, 2, 1, 1, 1, 2, 3, 1, 3, 1, 1, 3, 2, 1, 3, 1, 1, 2, 1, 1, 1, 1, 3, 2, 3, 2, 3, 3, 1, 2, 3, 1, 2, 3, 1, 1, 2, 2, 1, 3, 2, 3, 2, 1, 1, 1, 1, 2, 1, 1, 3, 1, 1, 1, 2, 2, 2, 2, 3, 1, 3, 2, 1, 1, 2, 3, 1, 2, 2, 2, 3, 2, 1, 2, 3, 3, 3, 3, 3, 3, 1, 2, 3, 1, 2, 3, 3, 3, 1, 1, 1, 2, 2, 1, 2, 2, 3, 3, 2, 3, 3, 1, 3, 3, 1, 3, 1, 3, 1, 1, 2, 2, 2, 2, 1, 1, 1, 2, 2, 2, 2, 1, 3, 1, 3, 3, 3, 1, 1, 3, 3, 3, 2, 2, 3, 3, 1, 2, 3, 2, 3, 1, 2, 2, 3, 2, 3, 3, 2, 1, 2, 1, 1, 2, 2, 3, 1, 3, 2, 2, 3, 2, 3, 3, 2, 3, 3, 2, 3, 1, 2, 1, 2, 2, 1, 3, 2, 3, 1, 1, 2, 2, 2, 1, 2, 1, 1, 1, 2, 1, 3, 3, 3, 2, 3, 2, 3, 3, 2, 3, 3, 3, 2, 3, 2, 3, 1, 3, 2, 2, 3, 2, 3, 2, 1, 2, 2, 3, 3, 3, 1, 2, 2, 1, 1, 3, 2, 3, 3, 1, 1, 1, 3, 1, 3, 2, 2, 3, 3, 3, 2, 2, 2, 2, 3, 1, 1, 1, 3, 2, 2, 3, 2, 3, 3, 3, 3, 1, 3, 3, 3, 1, 3, 3, 3, 2, 3, 2, 3, 1, 1, 3, 1, 1, 1, 1, 2, 1, 2, 2, 3, 2, 2, 3, 1, 1, 1, 3, 1, 1, 1, 3, 1, 1, 2, 3, 1, 1, 3, 1, 3, 1, 1, 2, 2, 3, 3, 1, 1, 3, 1, 3, 3, 1, 3, 3, 1, 3, 1, 1, 3, 3, 3, 3, 3, 1, 2, 1, 1, 3, 3, 1, 2, 3, 3, 1, 1, 2, 2, 3, 3, 1, 1, 1, 2, 3, 3, 1, 2, 1, 1, 2, 1, 2, 2, 2, 2, 2, 3, 3, 1, 1, 2, 1, 1, 2, 1, 1, 2, 2, 3, 1, 2, 3, 1, 2, 1, 2, 3, 1, 3, 1, 3, 1, 2, 1, 1, 1, 1, 3, 2, 3, 1, 2, 3, 1, 2, 2, 2, 2, 2, 2, 3, 1, 2, 1, 2, 2, 3, 3, 3, 2, 3, 1, 3, 1, 2, 1, 2, 2, 3, 1, 2, 1, 1, 1, 1, 2, 1, 2, 3, 3, 2, 2, 3, 3, 2, 2, 2, 2, 2, 2, 1, 2, 3, 2, 2, 2, 3, 2, 2, 2, 3, 1, 1, 3, 3, 2, 2, 2, 1, 3, 3, 1, 3, 3, 2, 2, 3, 1, 1, 1, 1, 1, 1, 2, 1, 1, 1, 2, 1, 2, 1, 2, 1, 1, 2, 1, 1, 2, 2, 2, 2, 2, 1, 2, 3, 3, 2, 3, 1, 2, 1, 3, 2, 2, 1, 2, 2, 3, 1, 1, 1, 3, 3, 2, 3, 1, 2, 3, 2, 3, 1, 1, 2, 3, 1, 3, 2, 2, 1, 3, 1, 3, 3, 2, 2, 2, 3, 2, 1, 3, 3, 3, 3, 1, 2, 1, 1, 1, 3, 1, 2, 2, 2, 3, 3, 1, 2, 3, 1, 1, 1, 1, 1, 2, 2, 1, 3, 3, 1, 2, 2, 3, 1, 1, 1, 1, 1, 2, 1, 2, 2, 2, 3, 3, 3, 2, 1, 3, 3, 1, 2, 1, 1, 3, 2, 3, 1, 1, 1, 3, 2, 1, 1, 1, 3, 2, 2, 3, 2, 3, 3, 2, 2, 2, 3, 2, 2, 3, 3, 2, 3, 3, 3, 1, 1, 3, 3, 3, 1, 1, 2, 1, 3, 2, 3, 2, 3, 3, 2, 2, 3, 2, 3, 3, 2, 3, 2, 3, 2, 3, 2, 2, 2, 3, 2, 3, 1, 3, 1, 2, 3, 1, 1, 3, 3, 3, 2, 1, 3, 3, 2, 1, 2, 1, 2, 1, 1, 1, 3, 2, 1, 2, 3, 2, 3, 2, 3, 1, 1, 1, 3, 2, 2, 1, 3, 3, 3, 2, 1, 3, 3, 2, 2, 3, 1, 2, 1, 1, 3, 1, 2, 1, 1, 3, 3, 1, 1, 1, 1, 1, 1, 3, 3, 3, 2, 3, 1, 1, 3, 3, 3, 2, 2, 2, 1, 2, 1, 1, 3, 3, 2, 1, 1, 1, 3, 2, 2, 1, 1, 3, 3, 2, 1, 1, 2, 1, 3, 2, 2, 3, 1, 3, 3, 1, 1, 3, 2, 3, 3, 3, 2, 2, 1, 2, 2, 2, 1, 1, 2, 3, 1, 1, 1, 2, 3, 2, 3, 3, 2, 3, 1, 3, 1, 3, 3, 2, 2, 3, 3, 1, 2, 2, 1, 1, 3, 3, 2, 3, 3, 3, 1, 1, 1, 2, 3, 1, 3, 1, 1, 1, 1, 1, 3, 2, 3, 3, 2, 1, 3, 1, 3, 1, 2, 1, 2, 3, 3, 1, 2, 1, 2, 3, 2, 3, 2, 3, 1, 1, 2, 3, 3, 2, 2, 1, 1, 1, 2, 1, 1, 2, 3, 1, 1, 2, 1, 2, 2, 1, 1, 3, 1, 1, 1, 2, 3, 3, 2, 2, 1, 2, 1, 3, 2, 2, 2, 3, 3, 1, 2, 2, 2, 2, 3, 1, 3, 3, 1, 2, 1, 2, 1, 2, 3, 2, 1, 1, 1, 2, 1, 1, 2, 2, 1, 3, 3, 2, 2, 1, 1, 3, 2, 3, 1, 3, 1, 2, 1, 2, 2, 2, 2, 1, 1, 1, 1, 2, 3, 2, 1, 2, 2, 3, 2, 2, 3, 3, 3, 2, 2, 2, 1, 1, 3, 3, 3, 2, 2, 2, 3, 3, 2, 1, 1, 3, 3, 3, 3, 2, 2, 1, 3, 1, 2, 1, 3, 1, 2, 2, 1, 3, 2, 2, 1, 1, 3, 3, 2, 3, 2, 3, 1, 2, 3, 3, 3, 1, 3, 1, 2, 2, 2, 1, 1, 1, 1, 1, 1, 2, 2, 2, 3, 2, 3, 1, 2, 1, 3, 3, 3, 3, 2, 3, 1, 3, 2, 1, 1, 3, 1, 1, 1, 3, 1, 1, 1, 1, 2, 2, 3, 2, 1, 2, 3, 1, 3, 2, 3, 1, 2, 3, 3, 3, 3, 2, 2, 3, 3, 1, 2, 1, 3, 2, 2, 1, 3, 3, 1, 1, 2, 1, 3, 2, 2, 2, 3, 1, 1, 1, 3, 1, 3, 3, 3, 3, 1, 1, 3, 3, 1, 1, 1, 3, 1, 3, 2, 3, 2, 1, 3, 2, 2, 1, 2, 2, 1, 2, 2, 3, 3, 3, 1, 1, 1, 1, 2, 3, 1, 3, 2, 3, 3, 2, 2, 2, 1, 1, 2, 3, 2, 2, 2, 2, 2, 3, 2, 3, 1, 3, 1, 3, 1, 1, 1, 2, 1, 2, 3, 3, 2, 1, 3, 2, 3, 3, 2, 1, 1, 2, 1, 3, 1, 2, 3, 3, 3, 3, 2, 2, 3, 1, 2, 1, 2, 2, 3, 2, 1, 1, 3, 2, 3, 3, 1, 3, 1, 3, 1, 3, 3, 2, 1, 2, 1, 3, 3, 1, 2, 3, 3, 2, 3, 3, 3, 2, 2, 2, 3, 3, 2, 2, 2, 2, 2, 3, 1, 3, 2, 3, 3, 3, 1, 1, 3, 1, 2, 2, 2, 1, 2, 2, 3, 3, 2, 3, 3, 3, 1, 3, 1, 2, 2, 3, 3, 3, 1, 3, 2, 2, 1, 2, 1, 1, 1, 2, 2, 2, 1, 1, 1, 3, 3, 2, 3, 1, 2, 1, 1, 2, 2, 2, 2, 1, 1, 3, 3, 2, 1, 2, 1, 1, 2, 1, 3, 2, 2, 2, 1, 3, 2, 1, 3, 3, 3, 1, 1, 3, 3, 1, 1, 2, 3, 3, 3, 3, 3, 3, 1, 1, 3, 2, 2, 3, 2, 3, 1, 1, 2, 3, 1, 2, 3, 3, 2, 1, 1, 3, 3, 2, 2, 1, 1, 1, 1, 3, 2, 3, 1, 2, 3, 2, 3, 2, 2, 2, 3, 3, 1, 3, 2, 1, 2, 3, 1, 1, 1, 1, 1, 3, 2, 2, 1, 3, 2, 3, 3, 1, 2, 2, 3, 3, 3, 2, 3, 2, 1, 1, 2, 1, 1, 1, 2, 2, 3, 3, 2, 2, 2, 3, 3, 3, 1, 3, 3, 3, 3, 3, 2, 2, 1, 1, 3, 3, 1, 1, 1, 2, 1, 1, 2, 1, 3, 3, 3, 2, 2, 2, 3, 3, 3, 1, 3, 1, 3, 1, 2, 1, 1, 2, 3, 2, 3, 2, 2, 1, 3, 2, 2, 1, 3, 1, 3, 2, 2, 2, 3, 2, 1, 3, 1, 3, 1, 1, 1, 2, 1, 3, 3, 2, 3, 1, 2, 3, 1, 2, 3, 3, 2, 2, 1, 2, 2, 3, 3, 3, 1, 1, 1, 1, 3, 3, 2, 2, 1, 3, 2, 3, 3, 2, 3, 1, 3, 3, 2, 1, 1, 3, 3, 3, 2, 3, 3, 1, 3, 2, 2, 2, 2, 1, 1, 3, 3, 2, 1, 1, 1, 1, 1, 2, 1, 1, 2, 2, 3, 2, 3, 1, 2, 3, 2, 1, 1, 2, 3, 1, 1, 3, 2, 1, 2, 1, 1, 3, 3, 3, 3, 3, 2, 1, 1, 1, 2, 2, 2, 1, 2, 3, 3, 1, 3, 1, 3, 1, 3, 2, 3, 1, 3, 3, 1, 1, 2, 3, 2, 3, 2, 1, 3, 1, 2, 2, 3, 3, 3, 2, 1, 2, 2, 3, 1, 2, 2, 3, 2, 2, 1, 1, 2, 2, 1, 2, 3, 3, 3, 1, 2, 3, 1, 3, 3, 3, 1, 3, 3, 2, 3, 2, 2, 1, 2, 2, 2, 2, 2, 1, 3, 3, 1, 3, 1, 3, 2, 3, 3, 1, 3, 1, 3, 3, 2, 3, 2, 2, 2, 1, 3, 1, 2, 2, 3, 1, 2, 1, 2, 1, 2, 2, 3, 2, 2, 2, 1, 3, 1, 1, 1, 1, 1, 2, 3, 3, 1, 2, 3, 1, 2, 3, 3, 1, 3, 1, 2, 2, 1, 3, 3, 3, 1, 1, 1, 2, 2, 2, 3, 3, 1, 2, 2, 3, 1, 2, 2, 1, 3, 3, 1, 1, 3, 1, 2, 3, 3, 3, 3, 2, 2, 2, 3, 1, 1, 2, 1, 3, 2, 3, 2, 2, 3, 2, 1, 2, 3, 3, 2, 2, 1, 3, 3, 3, 1, 2, 2, 1, 3, 2, 3, 2, 3, 3, 1, 1, 2, 1, 2, 2, 3, 3, 3, 2, 3, 3, 1, 2, 2, 3, 1, 2, 2, 3, 1, 1, 2, 2, 2, 1, 3, 2, 2, 2, 2, 3, 2, 1, 2, 1, 3, 1, 3, 2, 2, 3, 2, 2, 1, 1, 3, 3, 3, 2, 2, 3, 3, 3, 3, 3, 2, 1, 2, 1, 3, 2, 3, 2, 1, 1, 1, 2, 1, 2, 2, 1, 3, 3, 1, 3, 1, 1, 3, 3, 1, 1, 2, 1, 1, 3, 3, 2, 1, 1, 3, 3, 1, 1, 2, 2, 1, 1, 1, 3, 3, 2, 2, 1, 3, 2, 2, 3, 1, 3, 1, 1, 1, 1, 3, 3, 1, 1, 2, 1, 2, 1, 3, 3, 3, 3, 3, 2, 2, 1, 2, 3, 1, 2, 1, 2, 2, 1, 1, 1, 2, 2, 1, 2, 1, 2, 3, 1, 1, 1, 1, 1, 3, 3, 2, 1, 2, 1, 2, 1, 3, 3, 2, 3, 2, 3, 1, 2, 1, 3, 2, 2, 1, 2, 1, 1, 3, 2, 1, 1, 3, 2, 2, 3, 2, 2, 2, 3, 1, 1, 3, 3, 3, 1, 2, 3, 2, 3, 1, 2, 1, 3, 1, 2, 3, 2, 3, 3, 3, 3, 1, 1, 3, 3, 2, 1, 2, 1, 1, 2, 1, 2, 1, 2, 3, 2, 1, 2, 1, 3, 3, 3, 2, 1, 2, 3, 2, 1, 2, 2, 1, 1, 3, 3, 1, 3, 3, 1, 1, 3, 3, 3, 2, 1, 3, 2, 1, 1, 1, 3, 1, 1, 3, 2, 1, 3, 1, 2, 2, 1, 2, 3, 3, 1, 3, 3, 1, 3, 2, 3, 1, 1, 1, 1, 3, 2, 2, 2, 2, 1, 2, 2, 3, 2, 3, 3, 2, 2, 1, 2, 1, 2, 1, 3, 3, 3, 3, 3, 1, 2, 2, 1, 3, 2, 1, 3, 3, 2, 1, 1, 1, 2, 1, 2, 3, 1, 1, 3, 2, 2, 2, 1, 2, 3, 2, 3, 3, 3, 1, 2, 1, 2, 3, 2, 2, 2, 1, 1, 3, 1, 3, 2, 2, 3, 3, 1, 2, 3, 3, 1, 2, 2, 3, 3, 3, 2, 1, 3, 2, 3, 2, 2, 3, 2, 2, 2, 1, 2, 2, 1, 1, 2, 2, 1, 3, 3, 3, 1, 2, 2, 3, 3, 2, 2, 1, 1, 2, 2, 2, 1, 1, 2, 3, 3, 3, 2, 1, 1, 1, 1, 1, 3, 3, 1, 3, 1, 1, 2, 1, 3, 3, 3, 1, 1, 1, 3, 3, 2, 3, 1, 3, 1, 2, 2, 1, 1, 1, 3, 3, 3, 2, 1, 1, 3, 3, 1, 1, 1, 1, 1, 1, 3, 1, 1, 2, 3, 1, 2, 2, 1, 2, 3, 3, 3, 1, 1, 3, 3, 1, 3, 2, 3, 2, 3, 3, 3, 1, 3, 1, 3, 2, 3, 2, 1, 3, 3, 3, 1, 3, 1, 2, 2, 2, 3, 1, 2, 1, 2, 2, 3, 2, 3, 2, 3, 1, 2, 2, 3, 2, 3, 3, 3, 3, 2, 1, 3, 1, 3, 1, 1, 1, 1, 1, 1, 3, 3, 2, 2, 2, 3, 1, 2, 3, 3, 1, 2, 1, 2, 2, 1, 2, 2, 2, 3, 2, 2, 2, 3, 1, 2, 1, 3, 3, 3, 3, 1, 2, 2, 1, 2, 2, 1, 1, 2, 2, 1, 3, 3, 3, 3, 1, 1, 3, 2, 1, 2, 2, 2, 2, 3, 1, 2, 3, 2, 3, 3, 2, 1, 1, 2, 1, 2, 3, 1, 3, 2, 3, 1, 2, 1, 1, 1, 1, 1, 1, 3, 1, 1, 3, 1, 2, 3, 2, 1, 3, 3, 1, 1, 3, 2, 2, 2, 2, 1, 2, 1, 2, 2, 3, 1, 3, 2, 1, 1, 3, 1, 3, 2, 1, 3, 2, 1, 1, 1, 2, 1, 3, 1, 3, 1, 3, 3, 1, 1, 1, 1, 3, 1, 1, 3, 1, 1, 1, 1, 2, 2, 1, 2, 2, 3, 2, 1, 3, 3, 3, 2, 1, 1, 3, 3, 1, 1, 1, 3, 2, 3, 2, 2, 2, 2, 2, 1, 3, 2, 2, 1, 3, 1, 1, 1, 1, 1, 2, 2, 2, 1, 3, 3, 2, 3, 3, 1, 2, 2, 2, 3, 1, 1, 3, 2, 3, 3, 1, 1, 3, 3, 3, 3, 3, 2, 2, 2, 2, 1, 1, 1, 3, 2, 1, 2, 3, 2, 2, 1, 2, 2, 1, 3, 3, 1, 1, 2, 2, 2, 3, 1, 3, 1, 2, 3, 2, 2, 1, 3, 2, 2, 2, 1, 2, 2, 2, 1, 2, 2, 1, 3, 3, 1, 2, 2, 3, 1, 1, 1, 1, 2, 1, 1, 3, 2, 2, 3, 3, 2, 2, 2, 2, 3, 2, 3, 1, 3, 1, 2, 2, 1, 1, 1, 1, 1, 2, 3, 3, 2, 3, 3, 3, 2, 3, 2, 1, 2, 3, 3, 2, 2, 2, 3, 2, 2, 1, 2, 1, 2, 3, 2, 3, 1, 1, 2, 2, 3, 3, 1, 1, 2, 2, 1, 3, 2, 3, 2, 2, 2, 3, 2, 3, 3, 3, 2, 2, 3, 1, 2, 3, 3, 3, 1, 3, 1, 3, 2, 3, 1, 3, 3, 1, 3, 2, 2, 2, 1, 2, 1, 1, 1, 1, 2, 3, 3, 2, 3, 3, 3, 2, 2, 1, 1, 1, 3, 3, 2, 3, 2, 3, 1, 3, 2, 3, 3, 3, 3, 3, 2, 1, 1, 1, 1, 2, 3, 3, 2, 1, 1, 3, 2, 1, 1, 3, 2, 2, 1, 1, 3, 1, 3, 1, 1, 2, 2, 2, 1, 1, 1, 1, 2, 3, 2, 3, 3, 1, 3, 3, 3, 3, 2, 2, 2, 2, 2, 2, 2, 3, 2, 1, 2, 1, 3, 2, 3, 3, 2, 1, 1, 3, 2, 2, 1, 2, 2, 2, 2, 2, 3, 2, 2, 3, 1, 3, 1, 2, 2, 3, 2, 3, 2, 2, 2, 2, 2, 2, 2, 1, 2, 3, 3, 3, 2, 3, 3, 3, 1, 1, 1, 1, 3, 3, 1, 3, 1, 3, 1, 1, 3, 3, 3, 1, 3, 3, 3, 2, 3, 2, 3, 1, 2, 2, 2, 2, 2, 2, 1, 3, 3, 3, 2, 3, 2, 1, 2, 2, 3, 2, 3, 3, 2, 1, 3, 3, 2, 2, 2, 3, 2, 3, 3, 3, 1, 3, 2, 1, 2, 3, 1, 2, 2, 1, 2, 3, 3, 1, 2, 1, 3, 3, 3, 1, 2, 2, 1, 2, 3, 1, 1, 1, 1, 1, 1, 1, 2, 2, 1, 2, 2, 1, 1, 3, 2, 3, 1, 1, 1, 1, 3, 2, 2, 1, 1, 2, 2, 2, 2, 1, 3, 2, 2, 1, 1, 1, 1, 1, 1, 3, 1, 3, 2, 1, 2, 1, 1, 1, 2, 1, 1, 2, 2, 1, 3, 3, 2, 1, 1, 1, 2, 1, 3, 2, 1, 3, 1, 2, 3, 2, 3, 3, 2, 2, 2, 1, 2, 3, 3, 2, 3, 1, 3, 3, 2, 2, 2, 2, 2, 2, 1, 3, 3, 2, 3, 2, 3, 2, 2, 1, 3, 2, 3, 3, 1, 3, 3, 2, 3, 1, 1, 2, 1, 1, 3, 3, 3, 1, 2, 1, 3, 2, 1, 1, 1, 2, 1, 3, 3, 1, 1, 1, 3, 3, 1, 2, 1, 3, 1, 1, 3, 2, 3, 3, 3, 2, 3, 1, 2, 3, 3, 1, 3, 2, 2, 2, 1, 2, 3, 1, 1, 3, 3, 1, 2, 2, 1, 3, 2, 1, 1, 3, 3, 2, 3, 3, 2, 3, 1, 2, 2, 3, 2, 3, 1, 1, 2, 1, 1, 2, 1, 3, 3, 1, 1, 1, 2, 2, 1, 1, 1, 1, 2, 1, 2, 1, 3, 2, 2, 1, 3, 3, 3, 3, 2, 1, 1, 3, 1, 1, 1, 1, 1, 2, 2, 3, 1, 3, 3, 2, 1, 1, 3, 2, 3, 3, 2, 3, 2, 2, 1, 2, 3, 1, 2, 1, 1, 2, 1, 2, 3, 3, 2, 2, 1, 1, 2, 1, 1, 3, 1, 3, 3, 1, 1, 2, 1, 3, 2, 2, 2, 1, 2, 3, 2, 2, 2, 1, 2, 3, 1, 3, 1, 1, 2, 3, 2, 3, 2, 2, 3, 2, 1, 1, 3, 2, 2, 1, 3, 2, 1, 2, 3, 2, 2, 1, 2, 2, 2, 1, 1, 2, 3, 2, 3, 3, 3, 1, 2, 1, 2, 3, 3, 2, 3, 1, 1, 2, 3, 1, 3, 3, 3, 3, 1, 2, 3, 3, 1, 3, 2, 3, 1, 1, 1, 1, 3, 3, 1, 1, 2, 2, 3, 3, 1, 1, 2, 1, 2, 2, 3, 3, 2, 3, 3, 2, 3, 3, 1, 1, 2, 3, 3, 3, 1, 3, 1, 1, 3, 1, 3, 3, 1, 3, 1, 2, 2, 1, 1, 2, 3, 1, 2, 1, 1, 3, 3, 1, 3, 1, 2, 1, 3, 1, 2, 1, 3, 1, 3, 1, 3, 2, 1, 1, 2, 1, 1, 1, 1, 1, 2, 3, 2, 3, 1, 2, 2, 2, 1, 2, 3, 3, 2, 1, 1, 3, 1, 2, 2, 1, 3, 2, 3, 3, 2, 2, 3, 1, 1, 1, 1, 3, 2, 3, 3, 1, 2, 3, 3, 3, 1, 1, 2, 1, 2, 3, 3, 1, 2, 2, 1, 1, 1, 2, 1, 2, 3, 1, 2, 3, 1, 1, 2, 3, 1, 2, 1, 1, 2, 1, 1, 3, 2, 3, 1, 1, 2, 3, 1, 2, 2, 1, 2, 2, 1, 1, 2, 3, 2, 2, 2, 1, 2, 3, 1, 1, 1, 3, 3, 3, 3, 1, 1, 1, 2, 1, 3, 2, 1, 1, 3, 1, 1, 3, 2, 3, 1, 1, 3, 2, 2, 2, 3, 1, 2, 3, 1, 2, 3, 2, 3, 1, 3, 2, 2, 3, 3, 1, 3, 1, 3, 2, 1, 3, 2, 1, 1, 3, 2, 1, 3, 3, 1, 3, 1, 2, 3, 3, 3, 1, 1, 2, 3, 1, 2, 1, 3, 2, 3, 1, 1, 1, 1, 2, 3, 1, 2, 3, 2, 3, 3, 2, 3, 1, 1, 3, 2, 1, 2, 1, 1, 3, 3, 3, 1, 2, 3, 1, 2, 1, 2, 2, 2, 2, 3, 1, 3, 3, 1, 1, 2, 3, 1, 3, 1, 3, 1, 2, 1, 1, 3, 3, 2, 3, 1, 1, 3, 2, 3, 3, 1, 1, 2, 1, 2, 1, 1, 3, 3, 1, 1, 2, 1, 1, 1, 1, 2, 1, 1, 3, 2, 1, 1, 1, 1, 3, 2, 2, 3, 1, 2, 3, 1, 2, 1, 2, 1, 3, 2, 2, 3, 3, 2, 1, 3, 1, 1, 2, 2, 2, 2, 1, 3, 1, 2, 2, 3, 3, 1, 1, 1, 2, 2, 1, 1, 2, 1, 3, 1, 1, 2, 3, 2, 3, 2, 1, 1, 3, 3, 2, 3, 1, 2, 2, 1, 1, 3, 3, 2, 2, 1, 3, 3, 1, 2, 2, 1, 1, 3, 3, 1, 3, 2, 1, 3, 2, 3, 1, 3, 2, 2, 2, 1, 3, 1, 1, 3, 1, 2, 3, 2, 1, 2, 2, 3, 3, 2, 3, 1, 2, 2, 2, 2, 3, 3, 2, 1, 2, 3, 3, 2, 3, 3, 1, 2, 3, 1, 1, 3, 3, 3, 1, 3, 3, 1, 1, 2, 1, 1, 1, 1, 1, 2, 1, 3, 1, 2, 3, 1, 3, 2, 1, 3, 3, 2, 1, 2, 2, 1, 2, 2, 3, 1, 2, 2, 1, 1, 1, 2, 3, 2, 1, 2, 1, 2, 2, 2, 3, 2, 1, 1, 1, 3, 3, 3, 2, 2, 1, 1, 3, 3, 1, 2, 3, 2, 1, 2, 2, 3, 2, 1, 3, 3, 1, 1, 2, 3, 2, 3, 2, 2, 3, 2, 2, 1, 2, 2, 1, 3, 2, 1, 2, 3, 1, 1, 2, 3, 1, 3, 2, 3, 3, 1, 3, 1, 3, 1, 1, 3, 2, 3, 2, 2, 2, 1, 3, 1, 3, 1, 2, 3, 3, 3, 3, 1, 3, 2, 2, 1, 3, 3, 2, 3, 1, 3, 3, 1, 1, 3, 2, 2, 1, 1, 1, 1, 3, 2, 3, 2, 2, 2, 3, 3, 3, 3, 1, 1, 2, 2, 2, 3, 2, 3, 3, 1, 2, 3, 1, 2, 1, 1, 3, 3, 3, 1, 3, 2, 3, 2, 1, 2, 2, 2, 3, 3, 3, 3, 1, 3, 3, 1, 2, 2, 2, 2, 3, 3, 2, 3, 2, 3, 1, 3, 3, 1, 3, 1, 3, 1, 3, 2, 3, 2, 2, 3, 2, 2, 1, 3, 1, 3, 3, 3, 3, 1, 3, 2, 1, 2, 3, 3, 2, 3, 2, 3, 1, 2, 3, 2, 2, 1, 3, 3, 3, 2, 3, 2, 3, 3, 1, 2, 2, 2, 3, 1, 1, 2, 3, 1, 1, 1, 2, 2, 1, 1, 3, 3, 2, 2, 2, 2, 2, 3, 3, 1, 3, 1, 1, 3, 1, 2, 1, 2, 1, 3, 1, 2, 2, 2, 1, 1, 1, 2, 1, 3, 3, 1, 3, 1, 3, 2, 3, 3, 3, 1, 1, 2, 1, 2, 3, 2, 3, 1, 1, 2, 3, 3, 2, 2, 3, 1, 1, 1, 3, 3, 2, 3, 2, 2, 1, 3, 2, 1, 3, 3, 2, 1, 2, 1, 3, 2, 1, 1, 2, 2, 2, 1, 1, 2, 3, 2, 1, 3, 3, 3, 2, 2, 3, 2, 2, 2, 1, 1, 2, 1, 2, 3, 3, 1, 2, 1, 2, 3, 1, 2, 1, 2, 3, 3, 2, 2, 2, 2, 2, 2, 3, 1, 2, 3, 1, 1, 2, 2, 2, 2, 3, 2, 3, 2, 1, 3, 2, 1, 1, 2, 2, 3, 1, 3, 2, 3, 3, 1, 2, 3, 3, 3, 3, 2, 3, 1, 3, 1, 3, 2, 1, 3, 3, 3, 3, 2, 3, 1, 1, 2, 2, 3, 3, 1, 2, 1, 1, 1, 3, 3, 2, 2, 1, 2, 1, 1, 3, 1, 2, 2, 3, 1, 3, 2, 1, 3, 3, 2, 2, 2, 3, 3, 2, 1, 2, 3, 1, 2, 3, 2, 1, 2, 2, 2, 2, 1, 1, 2, 3, 1, 1, 3, 3, 2, 3, 1, 3, 2, 3, 1, 2, 2, 3, 1, 3, 3, 1, 2, 1, 3, 3, 3, 3, 3, 2, 2, 3, 3, 1, 2, 2, 2, 2, 3, 2, 3, 3, 2, 2, 2, 2, 3, 1, 3, 2, 2, 3, 2, 1, 1, 3, 2, 2, 3, 1, 2, 2, 3, 3, 2, 3, 3, 2, 2, 2, 3, 2, 1, 1, 3, 3, 3, 1, 1, 1, 3, 3, 3, 1, 1, 1, 1, 1, 1, 1, 2, 1, 2, 1, 3, 3, 2, 3, 2, 1, 1, 2, 3, 1, 1, 2, 2, 1, 2, 3, 1, 1, 1, 3, 2, 2, 3, 3, 1, 1, 3, 2, 1, 2, 3, 1, 3, 3, 3, 3, 2, 2, 2, 1, 3, 1, 2, 2, 1, 3, 1, 3, 1, 2, 3, 1, 1, 1, 2, 3, 1, 1, 2, 2, 2, 2, 2, 1, 2, 1, 2, 3, 1, 3, 1, 1, 1, 2, 3, 2, 1, 1, 1, 2, 3, 1, 2, 3, 1, 3, 2, 3, 2, 1, 3, 3, 3, 3, 2, 1, 1, 2, 1, 1, 3, 3, 2, 2, 3, 1, 1, 1, 2, 3, 3, 2, 3, 3, 3, 2, 1, 2, 3, 1, 1, 1, 3, 1, 2, 3, 3, 3, 2, 2, 3, 1, 1, 3, 3, 3, 3, 3, 2, 1, 3, 3, 2, 2, 2, 1, 2, 2, 2, 2, 1, 3, 2, 2, 3, 2, 1, 1, 2, 1, 1, 2, 3, 3, 2, 1, 3, 3, 2, 3, 3, 2, 2, 1, 1, 3, 1, 3, 1, 1, 1, 2, 2, 3, 3, 1, 2, 2, 1, 3, 2, 1, 1, 2, 3, 3, 1, 3, 2, 1, 1, 3, 1, 2, 1, 2, 1, 3, 2, 1, 1, 2, 2, 1, 3, 2, 1, 3, 2, 2, 2, 1, 3, 1, 2, 3, 3, 3, 1, 2, 3, 3, 3, 1, 2, 3, 3, 2, 1, 1, 2, 2, 3, 1, 3, 1, 3, 3, 2, 1, 3, 1, 1, 2, 3, 2, 3, 2, 3, 2, 2, 3, 3, 2, 1, 1, 2, 2, 2, 1, 2, 3, 2, 1, 3, 1, 2, 2, 3, 1, 1, 1, 1, 2, 1, 1, 3, 1, 3, 1, 1, 2, 3, 2, 1, 3, 1, 1, 1, 2, 1, 2, 3, 2, 3, 2, 3, 1, 3, 2, 1, 2, 1, 3, 3, 3, 2, 3, 2, 2, 2, 2, 1, 2, 2, 2, 2, 2, 2, 1, 1, 2, 3, 2, 2, 3, 2, 1, 3, 2, 3, 3, 2, 1, 1, 2, 2, 2, 3, 2, 2, 1, 1, 3, 3, 1, 2, 1, 1, 2, 3, 3, 1, 3, 3, 1, 1, 3, 3, 3, 1, 3, 1, 1, 3, 3, 1, 2, 2, 1, 3, 2, 2, 2, 3, 2, 1, 1, 1, 3, 3, 3, 2, 3, 3, 2, 3, 1, 2, 3, 1, 1, 2, 2, 1, 2, 2, 2, 1, 2, 1, 1, 2, 1, 2, 1, 1, 1, 1, 3, 2, 2, 3, 3, 3, 3, 1, 1, 1, 2, 1, 1, 1, 3, 3, 3, 2, 1, 1, 3, 2, 2, 2, 3, 2, 2, 1, 1, 2, 1, 1, 2, 2, 1, 3, 3, 2, 3, 2, 2, 1, 2, 3, 1, 3, 2, 3, 1, 2, 2, 2, 1, 2, 3, 2, 3, 2, 3, 1, 3, 1, 1, 3, 2, 2, 2, 3, 3, 3, 2, 1, 1, 2, 3, 1, 1, 1, 3, 1, 3, 2, 3, 1, 3, 3, 2, 1, 1, 3, 2, 2, 1, 3, 1, 3, 1, 2, 1, 3, 3, 2, 1, 3, 2, 1, 2, 1, 3, 3, 3, 3, 3, 3, 1, 2, 2, 2, 3, 2, 1, 3, 1, 3, 2, 3, 3, 1, 2, 1, 3, 1, 1, 1, 2, 2, 3, 3, 3, 1, 1, 1, 1, 1, 3, 2, 1, 3, 2, 2, 2, 2, 2, 2, 2, 3, 2, 2, 2, 3, 1, 1, 3, 2, 3, 2, 3, 1, 3, 1, 1, 3, 1, 3, 3, 1, 2, 1, 3, 1, 1, 3, 2, 3, 1, 1, 1, 1, 1, 1, 3, 2, 3, 1, 2, 3, 1, 1, 3, 1, 3, 3, 2, 1, 1, 3, 1, 2, 3, 3, 3, 2, 1, 3, 3, 1, 1, 2, 1, 1, 3, 2, 3, 1, 3, 1, 2, 2, 2, 1, 1, 1, 1, 1, 2, 2, 2, 3, 3, 3, 2, 2, 3, 1, 3, 2, 1, 3, 2, 1, 2, 2, 1, 3, 1, 2, 3, 2, 2, 1, 3, 3, 1, 3, 2, 1, 1, 3, 1, 2, 2, 1, 2, 2, 3, 3, 2, 3, 3, 3, 1, 1, 3, 2, 3, 2, 3, 2, 1, 2, 1, 2, 3, 2, 2, 1, 1, 2, 3, 3, 3, 1, 1, 2, 1, 1, 3, 3, 1, 3, 2, 3, 2, 1, 3, 1, 3, 2, 2, 3, 2, 1, 3, 3, 3, 3, 2, 3, 3, 3, 2, 1, 2, 1, 3, 1, 1, 1, 3, 1, 3, 1, 3, 1, 1, 1, 3, 2, 2, 3, 1, 1, 2, 3, 3, 2, 1, 3, 3, 3, 2, 3, 3, 1, 2, 1, 2, 2, 2, 2, 3, 2, 2, 1, 2, 2, 3, 3, 1, 2, 3, 2, 1, 3, 1, 3, 1, 3, 1, 3, 1, 3, 3, 3, 3, 1, 2, 3, 3, 3, 3, 2, 2, 3, 3, 1, 1, 3, 1, 2, 2, 3, 2, 2, 2, 3, 3, 1, 2, 1, 1, 1, 1, 2, 3, 2, 3, 2, 2, 3, 1, 2, 1, 1, 2, 3, 3, 2, 3, 3, 3, 3, 3, 1, 2, 1, 2, 2, 3, 1, 1, 1, 1, 1, 1, 2, 3, 1, 1, 2, 2, 2, 3, 2, 1, 1, 3, 3, 1, 2, 3, 1, 1, 3, 3, 1, 3, 2, 2, 1, 1, 2, 1, 1, 1, 1, 2, 3, 3, 3, 2, 2, 3, 3, 1, 2, 3, 1, 1, 2, 3, 3, 1, 2, 1, 3, 1, 1, 1, 2, 1, 1, 2, 1, 3, 1, 1, 2, 3, 1, 3, 3, 1, 2, 2, 2, 1, 2, 2, 2, 3, 1, 1, 2, 3, 2, 1, 1, 3, 1, 3, 3, 3, 1, 3, 1, 3, 2, 1, 3, 3, 2, 1, 2, 1, 3, 1, 2, 3, 2, 1, 2, 3, 3, 2, 2, 3, 3, 1, 3, 3, 1, 3, 3, 2, 2, 2, 2, 1, 3, 2, 2, 1, 2, 1, 3, 3, 3, 2, 2, 2, 1, 2, 2, 3, 3, 2, 3, 3, 1, 1, 2, 3, 2, 2, 2, 3, 2, 1, 2, 1, 3, 1, 2, 3, 2, 1, 2, 2, 2, 3, 3, 3, 2, 2, 2, 2, 2, 3, 1, 2, 3, 2, 2, 2, 2, 2, 2, 1, 3, 2, 3, 2, 3, 3, 1, 1, 1, 1, 3, 3, 2, 2, 2, 1, 3, 1, 2, 1, 2, 3, 1, 2, 3, 1, 1, 2, 2, 3, 1, 1, 3, 1, 1, 1, 1, 2, 1, 1, 3, 3, 1, 2, 3, 3, 3, 3, 3, 3, 2, 1, 3, 2, 2, 2, 1, 2, 1, 2, 3, 2, 1, 1, 2, 2, 1, 1, 3, 2, 2, 2, 3, 2, 2, 3, 3, 3, 2, 1, 1, 2, 3, 3, 1, 1, 2, 2, 2, 1, 1, 3, 2, 1, 3, 1, 3, 2, 3, 3, 2, 2, 2, 1, 1, 2, 3, 2, 1, 2, 2, 2, 3, 3, 3, 1, 2, 2, 3, 2, 1, 2, 1, 3, 2, 2, 1, 2, 3, 1, 1, 3, 1, 1, 2, 2, 2, 3, 2, 1, 1, 1, 1, 3, 3, 2, 3, 1, 1, 3, 3, 1, 1, 3, 2, 3, 2, 1, 1, 2, 2, 2, 3, 3, 3, 1, 2, 3, 3, 1, 2, 3, 1, 1, 2, 3, 3, 2, 2, 3, 1, 2, 1, 3, 1, 3, 2, 1, 1, 2, 1, 2, 3, 3, 1, 3, 2, 1, 1, 3, 3, 3, 3, 2, 3, 2, 1, 2, 3, 3, 3, 3, 1, 1, 2, 3, 1, 3, 2, 3, 1, 3, 2, 2, 3, 3, 2, 3, 2, 1, 1, 2, 1, 2, 2, 3, 1, 2, 3, 1, 2, 3, 2, 1, 2, 1, 1, 2, 1, 1, 1, 2, 1, 1, 3, 2, 1, 2, 3, 1, 2, 3, 2, 1, 3, 3, 2, 2, 1, 2, 1, 1, 3, 2, 3, 2, 3, 1, 1, 3, 1, 1, 2, 2, 1, 2, 2, 2, 3, 2, 1, 1, 3, 3, 3, 3, 3, 2, 1, 2, 3, 2, 1, 1, 1, 1, 3, 1, 2, 3, 3, 2, 3, 1, 2, 1, 1, 3, 1, 3, 3, 1, 3, 3, 1, 3, 1, 1, 1, 1, 2, 3, 3, 2, 3, 2, 1, 1, 1, 1, 1, 1, 1, 2, 2, 1, 2, 3, 1, 1, 2, 2, 3, 2, 2, 3, 1, 1, 3, 2, 2, 3, 3, 3, 1, 1, 3, 1, 2, 1, 3, 3, 3, 3, 3, 3, 2, 3, 1, 2, 1, 2, 2, 3, 2, 2, 1, 1, 3, 3, 3, 1, 2, 1, 2, 2, 1, 2, 1, 2, 1, 1, 1, 1, 2, 3, 2, 1, 3, 3, 1, 3, 3, 1, 3, 1, 2, 2, 3, 3, 3, 2, 2, 3, 3, 1, 2, 3, 3, 1, 3, 3, 1, 3, 1, 2, 2, 2, 1, 3, 3, 2, 3, 3, 1, 1, 2, 2, 2, 2, 1, 2, 3, 1, 3, 2, 2, 3, 1, 1, 1, 2, 2, 2, 3, 1, 1, 3, 1, 2, 2, 2, 3, 2, 1, 3, 3, 2, 3, 3, 3, 2, 2, 3, 1, 1, 3, 3, 2, 3, 1, 2, 3, 3, 2, 3, 1, 2, 2, 2, 2, 3, 1, 3, 2, 2, 1, 1, 1, 1, 1, 2, 3, 3, 3, 3, 2, 3, 1, 1, 3, 3, 3, 3, 3, 2, 1, 3, 2, 2, 2, 1, 3, 1, 2, 3, 3, 1, 3, 1, 3, 1, 2, 2, 3, 2, 1, 1, 2, 1, 1, 2, 3, 1, 1, 2, 2, 2, 1, 1, 1, 1, 3, 3, 2, 2, 1, 3, 1, 3, 1, 1, 1, 2, 2, 3, 2, 1, 3, 2, 2, 1, 1, 1, 2, 2, 3, 2, 3, 3, 2, 2, 3, 3, 3, 2, 2, 3, 3, 1, 2, 3, 1, 2, 2, 1, 2, 3, 1, 2, 3, 3, 1, 3, 2, 1, 1, 2, 3, 2, 2, 2, 3, 3, 2, 3, 1, 1, 2, 1, 1, 2, 3, 2, 1, 1, 3, 2, 2, 2, 2, 1, 3, 1, 3, 2, 2, 2, 1, 2, 2, 2, 3, 3, 3, 2, 3, 3, 3, 2, 1, 1, 2, 2, 1, 1, 1, 1, 3, 3, 3, 3, 2, 3, 2, 1, 3, 1, 2, 3, 2, 2, 3, 2, 2, 3, 1, 3, 2, 2, 2, 2, 3, 1, 2, 2, 1, 1, 2, 1, 3, 3, 3, 1, 2, 2, 2, 2, 2, 2, 2, 1, 2, 3, 1, 2, 2, 2, 1, 3, 1, 1, 1, 1, 3, 2, 2, 1, 2, 3, 2, 1, 1, 3, 1, 1, 1, 2, 2, 2, 1, 2, 1, 1, 2, 1, 1, 1, 2, 2, 1, 3, 2, 2, 1, 2, 2, 3, 1, 2, 2, 3, 3, 3, 1, 1, 3, 1, 2, 2, 3, 3, 2, 3, 3, 2, 3, 2, 3, 3, 3, 3, 3, 1, 2, 2, 3, 2, 3, 1, 1, 2, 1, 3, 2, 3, 2, 2, 3, 3, 2, 2, 1, 3, 1, 3, 3, 3, 1, 2, 2, 1, 1, 1, 1, 1, 3, 3, 3, 3, 3, 1, 3, 3, 1, 3, 3, 2, 2, 2, 1, 3, 3, 1, 1, 3, 1, 1, 3, 1, 3, 3, 3, 3, 3, 1, 1, 1, 3, 3, 2, 2, 3, 3, 3, 2, 3, 1, 2, 2, 3, 3, 1, 2, 1, 2, 2, 3, 3, 2, 2, 1, 1, 2, 3, 1, 2, 3, 2, 3, 2, 1, 1, 3, 3, 2, 3, 2, 3, 2, 2, 2, 1, 3, 1, 3, 3, 3, 2, 1, 1, 3, 1, 1, 1, 2, 3, 2, 3, 3, 1, 2, 2, 2, 3, 2, 3, 1, 3, 2, 3, 3, 3, 3, 3, 2, 3, 2, 3, 1, 2, 2, 1, 1, 3, 2, 2, 1, 1, 3, 1, 2, 1, 2, 1, 3, 2, 2, 1, 3, 3, 2, 3, 3, 2, 3, 1, 2, 1, 3, 1, 3, 2, 2, 2, 3, 2, 1, 2, 3, 1, 2, 1, 3, 2, 1, 3, 1, 1, 3, 2, 1, 2, 1, 1, 1, 2, 1, 2, 3, 3, 1, 2, 1, 2, 3, 2, 1, 1, 2, 2, 3, 3, 1, 2, 1, 1, 2, 1, 2, 3, 2, 1, 3, 1, 3, 3, 3, 1, 3, 3, 3, 1, 2, 3, 1, 1, 3, 2, 2, 1, 1, 3, 1, 2, 3, 3, 2, 1, 3, 2, 2, 1, 2, 2, 3, 3, 3, 3, 2, 2, 2, 3, 3, 2, 1, 2, 1, 1, 3, 1, 1, 3, 1, 1, 3, 1, 1, 2, 2, 1, 2, 3, 3, 3, 1, 2, 2, 1, 3, 1, 3, 2, 3, 2, 3, 2, 3, 1, 2, 2, 3, 3, 3, 2, 2, 3, 1, 2, 1, 2, 3, 2, 3, 1, 2, 1, 1, 3, 2, 2, 2, 1, 2, 3, 3, 2, 2, 3, 3, 3, 3, 1, 3, 1, 2, 3, 2, 1, 2, 3, 1, 2, 3, 1, 3, 1, 3, 3, 2, 3, 3, 1, 1, 1, 3, 2, 1, 1, 2, 1, 3, 2, 2, 3, 1, 3, 1, 1, 1, 2, 2, 2, 3, 2, 1, 2, 2, 1, 1, 1, 3, 2, 2, 2, 2, 1, 2, 2, 2, 1, 2, 2, 3, 3, 1, 1, 3, 2, 2, 3, 1, 1, 3, 1, 1, 2, 2, 2, 3, 3, 2, 2, 1, 1, 1, 3, 1, 2, 3, 2, 3, 3, 2, 1, 3, 2, 3, 3, 2, 2, 3, 3, 1, 1, 2, 1, 1, 3, 2, 1, 1, 2, 3, 3, 2, 2, 2, 1, 1, 1, 1, 3, 1, 3, 1, 1, 3, 1, 1, 1, 1, 1, 1, 2, 1, 3, 2, 1, 3, 3, 2, 2, 1, 1, 2, 2, 2, 1, 1, 1, 3, 2, 1, 1, 2, 2, 1, 2, 3, 3, 2, 3, 1, 3, 1, 3, 2, 2, 3, 3, 2, 3, 2, 2, 3, 3, 3, 1, 2, 2, 3, 3, 1, 3, 3, 2, 1, 3, 1, 3, 2, 3, 3, 1, 2, 3, 1, 1, 2, 2, 2, 3, 1, 3, 2, 1, 2, 3, 3, 2, 1, 1, 3, 3, 1, 3, 1, 3, 2, 3, 3, 3, 1, 2, 2, 1, 2, 1, 2, 3, 2, 2, 3, 3, 2, 1, 3, 1, 3, 1, 2, 2, 3, 2, 2, 2, 1, 3, 3, 1, 2, 1, 1, 2, 1, 2, 2, 3, 3, 3, 2, 1, 2, 3, 2, 2, 2, 3, 3, 2, 2, 2, 1, 1, 1, 1, 2, 2, 2, 2, 2, 2, 2, 3, 1, 3, 3, 2, 2, 3, 3, 1, 2, 2, 1, 2, 3, 2, 3, 3, 3, 3, 3, 3, 3, 3, 3, 3, 3, 2, 3, 1, 3, 2, 3, 1, 3, 3, 3, 1, 2, 1, 1, 2, 1, 1, 1, 1, 3, 2, 2, 2, 1, 3, 2, 2, 3, 3, 2, 1, 1, 2, 1, 2, 2, 1, 2, 2, 2, 1, 2, 2, 1, 1, 1, 1, 1, 2, 3, 2, 3, 2, 2, 3, 2, 2, 2, 3, 2, 3, 1, 1, 2, 3, 3, 3, 2, 1, 1, 2, 3, 2, 2, 2, 3, 3, 1, 1, 1, 2, 2, 1, 3, 2, 2, 2, 2, 3, 2, 1, 2, 2, 3, 3, 1, 3, 1, 3, 1, 1, 3, 3, 3, 2, 1, 3, 2, 3, 2, 3, 2, 2, 1, 1, 1, 1, 3, 1, 2, 3, 1, 2, 2, 1, 3, 1, 3, 3, 1, 1, 1, 1, 1, 2, 1, 1, 1, 2, 1, 3, 3, 1, 3, 2, 2, 3, 3, 1, 3, 3, 3, 3, 1, 2, 2, 2, 2, 1, 2, 2, 1, 3, 1, 3, 1, 2, 3, 2, 1, 2, 1, 2, 3, 3, 2, 3, 3, 2, 3, 1, 3, 2, 1, 1, 3, 1, 3, 1, 3, 1, 1, 2, 1, 3, 1, 1, 3, 3, 1, 2, 1, 2, 3, 2, 3, 3, 3, 2, 3, 3, 1, 2, 1, 1, 2, 2, 1, 1, 3, 1, 1, 2, 2, 3, 3, 1, 3, 1, 2, 3, 3, 2, 3, 1, 3, 3, 2, 3, 2, 3, 1, 3, 1, 2, 2, 2, 1, 2, 3, 1, 1, 3, 1, 1, 3, 1, 2, 2, 3, 2, 1, 3, 1, 2, 2, 3, 2, 1, 3, 1, 3, 3, 3, 3, 2, 2, 2, 3, 3, 3, 3, 3, 1, 2, 2, 2, 3, 3, 2, 3, 1, 2, 1, 3, 2, 3, 2, 2, 3, 3, 3, 1, 3, 1, 2, 1, 1, 2, 2, 2, 2, 1, 2, 1, 2, 3, 1, 3, 2, 2, 3, 3, 3, 2, 1, 3, 2, 2, 2, 1, 3, 2, 1, 2, 1, 3, 2, 1, 1, 1, 1, 1, 1, 3, 2, 1, 3, 2, 2, 3, 1, 2, 1, 3, 2, 1, 1, 2, 3, 1, 2, 2, 3, 2, 1, 3, 2, 3, 2, 3, 3, 1, 3, 1, 3, 1, 1, 2, 3, 3, 3, 2, 2, 1, 3, 3, 1, 2, 2, 1, 2, 2, 3, 2, 2, 2, 1, 1, 2, 1, 1, 2, 3, 2, 1, 2, 1, 1, 1, 3, 3, 1, 1, 1, 3, 1, 3, 3, 1, 3, 3, 2, 3, 1, 2, 3, 1, 2, 1, 3, 3, 3, 1, 2, 1, 3, 3, 3, 3, 1, 3, 3, 3, 1, 3, 1, 2, 1, 3, 2, 3, 1, 1, 2, 2, 3, 1, 2, 3, 3, 2, 2, 2, 1, 2, 3, 3, 3, 1, 3, 1, 2, 1, 3, 3, 1, 2, 3, 1, 1, 3, 1, 1, 1, 3, 2, 1, 2, 1, 2, 2, 2, 1, 3, 2, 1, 1, 2, 3, 1, 2, 1, 1, 2, 3, 3, 1, 3, 1, 2, 2, 1, 1, 1, 2, 1, 3, 1, 3, 3, 3, 1, 3, 3, 3, 1, 2, 2, 2, 1, 1, 3, 1, 2, 2, 1, 2, 1, 1, 3, 3, 1, 3, 2, 3, 2, 3, 2, 3, 3, 2, 1, 1, 3, 3, 2, 2, 2, 3, 2, 2, 2, 1, 1, 2, 3, 3, 2, 1, 1, 1, 3, 3, 3, 3, 3, 3, 3, 1, 2, 2, 3, 3, 2, 2, 1, 3, 3, 3, 3, 1, 3, 3, 2, 3, 2, 2, 2, 2, 3, 1, 2, 3, 1, 3, 3, 2, 3, 3, 3, 2, 2, 3, 1, 3, 3, 2, 2, 1, 2, 1, 2, 1, 1, 2, 1, 2, 2, 3, 1, 2, 1, 2, 1, 1, 1, 2, 3, 3, 3, 2, 1, 1, 1, 2, 1, 2, 2, 3, 3, 2, 2, 2, 3, 1, 3, 1, 3, 2, 2, 2, 2, 1, 3, 2, 3, 2, 2, 3, 1, 1, 1, 2, 3, 3, 2, 2, 3, 3, 3, 1, 2, 2, 2, 3, 3, 1, 3, 1, 3, 1, 3, 2, 2, 3, 1, 3, 2, 3, 3, 3, 1, 1, 2, 2, 3, 2, 1, 3, 3, 1, 2, 1, 1, 3, 3, 3, 2, 2, 3, 2, 2, 2, 3, 1, 1, 3, 3, 3, 2, 1, 3, 1, 1, 3, 3, 2, 2, 3, 1, 3, 3, 2, 2, 2, 1, 1, 3, 1, 2, 1, 3, 2, 2, 2, 2, 3, 3, 3, 2, 2, 3, 2, 1, 1, 1, 2, 1, 1, 2, 3, 3, 3, 1, 3, 2, 2, 3, 3, 2, 1, 2, 3, 3, 2, 1, 3, 3, 3, 3, 2, 3, 2, 1, 2, 3, 1, 2, 2, 2, 2, 3, 1, 1, 3, 2, 2, 2, 3, 1, 2, 2, 1, 2, 3, 3, 1, 2, 3, 3, 3, 2, 1, 3, 3, 1, 1, 3, 1, 2, 1, 2, 2, 1, 1, 2, 1, 2, 3, 2, 3, 1, 1, 2, 1, 1, 1, 2, 3, 1, 3, 3, 1, 1, 3, 3, 1, 1, 2, 3, 1, 1, 2, 1, 1, 2, 3, 3, 1, 1, 3, 2, 2, 3, 2, 1, 2, 3, 2, 2, 2, 1, 1, 3, 3, 1, 3, 1, 1, 2, 1, 3, 1, 1, 2, 3, 3, 1, 2, 1, 1, 3, 1, 3, 3, 2, 2, 1, 1, 3, 1, 3, 2, 2, 2, 2, 3, 3, 3, 1, 3, 2, 2, 1, 1, 1, 2, 3, 1, 1, 1, 2, 1, 3, 1, 1, 1, 3, 1, 1, 3, 2, 2, 3, 1, 1, 1, 2, 3, 1, 3, 2, 2, 2, 1, 2, 3, 2, 2, 2, 2, 1, 2, 1, 2, 3, 3, 3, 1, 3, 1, 1, 1, 3, 1, 1, 3, 3, 1, 1, 3, 3, 3, 2, 2, 2, 3, 3, 1, 2, 1, 1, 3, 3, 1, 1, 2, 2, 3, 3, 3, 2, 3, 1, 3, 3, 3, 3, 2, 1, 1, 2, 1, 1, 2, 3, 1, 1, 1, 1, 2, 3, 3, 3, 1, 3, 3, 3, 1, 2, 2, 2, 1, 2, 3, 2, 2, 3, 1, 2, 3, 3, 2, 2, 3, 3, 1, 2, 1, 2, 3, 1, 1, 2, 1, 3, 1, 3, 2, 3, 1, 2, 3, 3, 1, 1, 2, 2, 3, 2, 3, 1, 3, 3, 2, 1, 1, 3, 1, 1, 1, 3, 1, 1, 3, 1, 1, 3, 3, 1, 3, 1, 2, 3, 3, 1, 3, 1, 1, 2, 1, 2, 3, 3, 3, 3, 2, 2, 2, 1, 3, 3, 3, 2, 1, 3, 2, 3, 1, 1, 3, 1, 3, 1, 1, 2, 3, 2, 3, 2, 3, 3, 1, 1, 2, 2, 2, 1, 1, 3, 2, 1, 3, 2, 3, 1, 1, 1, 3, 2, 3, 2, 3, 2, 1, 1, 2, 2, 1, 2, 2, 2, 1, 2, 1, 3, 3, 3, 3, 3, 1, 2, 2, 2, 3, 1, 1, 3, 2, 3, 1, 2, 2, 2, 2, 2, 2, 2, 2, 1, 2, 2, 1, 2, 3, 2, 3, 2, 3, 3, 2, 2, 2, 2, 1, 1, 2, 1, 2, 1, 2, 2, 2, 3, 2, 3, 3, 1, 3, 3, 2, 1, 1, 3, 1, 1, 3, 3, 3, 3, 3, 2, 3, 1, 2, 2, 3, 3, 3, 2, 2, 2, 2, 2, 3, 2, 2, 2, 1, 1, 2, 1, 1, 1, 3, 2, 2, 2, 1, 1, 1, 1, 2, 3, 1, 3, 3, 2, 1, 2, 1, 2, 2, 3, 2, 1, 1, 1, 2, 2, 2, 1, 3, 1, 2, 1, 2, 3, 3, 1, 2, 3, 3, 3, 1, 2, 2, 3, 2, 3, 2, 3, 3, 1, 2, 3, 1, 2, 1, 1, 2, 2, 1, 1, 2, 1, 1, 3, 3, 1, 3, 1, 1, 1, 1, 3, 3, 3, 3, 2, 2, 3, 1, 2, 2, 2, 1, 3, 1, 3, 1, 3, 1, 2, 1, 3, 2, 1, 3, 1, 1, 3, 1, 2, 1, 3, 1, 2, 2, 2, 3, 2, 2, 1, 2, 2, 2, 3, 3, 2, 3, 3, 2, 1, 1, 2, 2, 3, 1, 2, 1, 2, 3, 2, 1, 3, 2, 1, 1, 3, 1, 2, 1, 2, 2, 3, 1, 1, 3, 1, 2, 1, 2, 2, 2, 3, 3, 2, 2, 3, 1, 1, 3, 1, 2, 2, 3, 2, 2, 1, 3, 2, 1, 2, 2, 3, 3, 1, 3, 3, 3, 1, 2, 2, 3, 1, 1, 2, 2, 2, 2, 3, 2, 1, 2, 3, 2, 3, 1, 1, 3, 2, 2, 2, 3, 3, 1, 1, 2, 3, 3, 2, 1, 2, 2, 3, 2, 2, 2, 2, 1, 3, 1, 3, 2, 3, 1, 2, 2, 3, 2, 1, 2, 3, 2, 3, 2, 3, 3, 1, 2, 2, 3, 2, 2, 3, 3, 2, 1, 3, 3, 1, 2, 1, 2, 2, 3, 3, 1, 1, 1, 1, 2, 1, 2, 3, 3, 3, 1, 1, 3, 1, 2, 2, 2, 3, 3, 2, 1, 2, 3, 3, 3, 2, 3, 2, 2, 1, 2, 1, 2, 3, 1, 1, 1, 2, 1, 1, 2, 2, 2, 3, 3, 2, 2, 2, 3, 2, 1, 1, 2, 1, 3, 1, 2, 1, 1, 2, 2, 3, 2, 3, 2, 2, 2, 2, 3, 3, 1, 3, 3, 3, 3, 1, 1, 2, 3, 1, 3, 1, 2, 2, 1, 1, 3, 3, 1, 2, 3, 3, 3, 1, 1, 2, 3, 1, 1, 1, 3, 2, 3, 2, 1, 2, 1, 3, 2, 3, 1, 3, 3, 1, 1, 1, 3, 2, 2, 1, 3, 2, 3, 1, 1, 1, 1, 2, 3, 3, 1, 2, 1, 3, 1, 2, 2, 3, 2, 3, 1, 2, 1, 3, 1, 2, 3, 2, 1, 3, 2, 2, 2, 1, 1, 1, 1, 1, 1, 3, 1, 1, 3, 1, 3, 2, 1, 3, 2, 3, 2, 1, 2, 1, 2, 3, 1, 3, 1, 2, 3, 2, 1, 3, 2, 2, 3, 1, 1, 2, 1, 1, 2, 1, 2, 1, 1, 1, 1, 3, 3, 1, 1, 1, 1, 1, 3, 1, 1, 2, 3, 2, 3, 2, 1, 3, 2, 3, 3, 2, 2, 3, 2, 3, 3, 1, 3, 1, 3, 1, 1, 2, 3, 3, 2, 2, 3, 1, 3, 1, 1, 3, 3, 2, 2, 3, 2, 1, 3, 3, 3, 3, 1, 1, 1, 1, 3, 3, 3, 1, 1, 3, 1, 2, 3, 2, 2, 1, 1, 2, 1, 1, 1, 3, 2, 3, 1, 1, 2, 1, 1, 1, 2, 2, 1, 3, 1, 1, 3, 2, 1, 3, 1, 1, 3, 1, 2, 2, 3, 3, 2, 3, 1, 1, 2, 2, 1, 2, 3, 1, 3, 1, 2, 1, 3, 2, 3, 2, 3, 3, 3, 3, 3, 2, 3, 3, 1, 2, 1, 2, 3, 3, 2, 1, 3, 1, 1, 2, 3, 2, 1, 2, 1, 2, 2, 1, 1, 3, 1, 2, 1, 1, 2, 3, 2, 3, 2, 3, 2, 2, 2, 2, 2, 2, 2, 1, 3, 1, 1, 1, 1, 2, 3, 1, 2, 1, 3, 1, 3, 3, 1, 1, 3, 3, 2, 2, 1, 3, 3, 2, 1, 2, 1, 1, 2, 3, 3, 1, 3, 1, 2, 3, 1, 3, 1, 2, 3, 2, 1, 3, 2, 2, 2, 3, 3, 1, 3, 1, 3, 1, 3, 1, 1, 2, 3, 2, 1, 3, 3, 2, 2, 2, 2, 2, 2, 3, 3, 2, 1, 2, 1, 2, 2, 2, 1, 1, 1, 3, 1, 1, 1, 3, 1, 1, 1, 1, 3, 2, 3, 1, 1, 1, 3, 3, 2, 2, 1, 3, 2, 2, 2, 1, 3, 3, 2, 3, 3, 1, 2, 3, 2, 1, 3, 2, 2, 2, 1, 1, 1, 3, 2, 2, 1, 2, 3, 3, 1, 1, 2, 1, 3, 3, 1, 2, 1, 1, 3, 2, 2, 2, 2, 3, 2, 3, 1, 2, 2, 3, 1, 3, 1, 3, 3, 3, 2, 3, 3, 3, 3, 1, 1, 3, 2, 1, 2, 3, 3, 3, 2, 2, 3, 1, 2, 3, 1, 2, 2, 3, 1, 1, 1, 1, 3, 1, 2, 1, 3, 2, 2, 1, 1, 3, 1, 1, 3, 3, 2, 3, 2, 3, 1, 3, 3, 3, 3, 3, 1, 3, 3, 1, 1, 3, 1, 3, 1, 2, 1, 2, 1, 1, 1, 3, 2, 1, 2, 2, 3, 3, 2, 3, 2, 2, 1, 2, 3, 3, 2, 3, 1, 3, 2, 2, 3, 1, 1, 3, 3, 1, 1, 2, 1, 1, 1, 3, 1, 1, 2, 3, 2, 1, 3, 1, 3, 3, 3, 3, 3, 1, 2, 2, 1, 2, 3, 2, 1, 1, 3, 2, 1, 3, 3, 1, 3, 2, 1, 1, 2, 2, 3, 3, 3, 3, 1, 3, 2, 2, 1, 3, 3, 1, 2, 1, 3, 2, 1, 1, 3, 2, 3, 2, 2, 2, 3, 2, 2, 1, 1, 1, 1, 3, 2, 3, 1, 2, 2, 2, 2, 2, 2, 3, 2, 2, 1, 2, 1, 3, 2, 2, 2, 2, 3, 2, 1, 3, 2, 1, 3, 3, 1, 2, 2, 2, 3, 1, 3, 2, 3, 2, 1, 1, 1, 3, 1, 3, 3, 1, 1, 2, 1, 3, 3, 1, 3, 1, 1, 1, 3, 2, 1, 2, 3, 2, 1, 1, 1, 2, 2, 3, 3, 3, 1, 2, 3, 1, 3, 3, 1, 1, 3, 1, 2, 1, 3, 1, 3, 3, 3, 1, 2, 3, 1, 3, 3, 2, 3, 1, 1, 3, 1, 3, 3, 2, 1, 1, 3, 3, 1, 3, 1, 2, 1, 3, 1, 3, 1, 3, 3, 2, 2, 1, 1, 3, 1, 2, 3, 2, 3, 3, 2, 1, 1, 3, 1, 2, 1, 3, 2, 1, 3, 1, 2, 2, 2, 3, 3, 1, 3, 2, 3, 3, 2, 2, 3, 2, 3, 3, 3, 1, 3, 3, 2, 1, 1, 1, 3, 1, 3, 3, 2, 3, 1, 3, 1, 2, 3, 1, 3, 2, 1, 3, 1, 2, 1, 3, 2, 3, 3, 3, 3, 3, 2, 2, 1, 2, 3, 1, 1, 3, 2, 3, 1, 1, 3, 2, 2, 2, 3, 3, 3, 2, 3, 3, 3, 1, 2, 2, 3, 2, 3, 2, 1, 2, 1, 1, 1, 3, 1, 1, 1, 3, 3, 2, 1, 2, 2, 2, 1, 2, 2, 3, 3, 1, 1, 1, 2, 2, 1, 2, 2, 1, 2, 1, 1, 3, 3, 1, 3, 2, 2, 1, 2, 3, 1, 2, 1, 1, 3, 3, 3, 3, 1, 2, 1, 3, 3, 1, 1, 1, 3, 3, 2, 2, 2, 1, 2, 1, 3, 1, 1, 2, 2, 3, 3, 1, 2, 2, 2, 3, 2, 2, 3, 3, 2, 2, 3, 3, 2, 1, 2, 2, 2, 1, 3, 3, 2, 3, 2, 2, 1, 2, 1, 2, 1, 3, 3, 3, 3, 1, 3, 3, 1, 3, 2, 3, 2, 3, 2, 1, 1, 3, 3, 3, 2, 1, 1, 2, 3, 3, 2, 3, 1, 3, 1, 2, 1, 3, 2, 1, 2, 2, 2, 2, 3, 1, 3, 1, 2, 2, 2, 1, 3, 3, 2, 2, 2, 1, 3, 2, 1, 2, 2, 1, 2, 1, 1, 1, 2, 2, 3, 1, 1, 1, 3, 1, 1, 1, 1, 1, 3, 2, 2, 1, 2, 3, 2, 1, 1, 1, 2, 1, 3, 3, 2, 1, 2, 3, 1, 2, 2, 3, 3, 3, 1, 2, 3, 1, 3, 3, 2, 3, 2, 1, 1, 1, 2, 3, 1, 1, 3, 1, 1, 2, 3, 2, 1, 1, 3, 3, 1, 2, 3, 3, 1, 3, 3, 2, 1, 1, 1, 1, 3, 2, 2, 2, 1, 2, 1, 2, 3, 1, 2, 3, 1, 3, 2, 1, 3, 2, 1, 2, 2, 3, 2, 2, 3, 1, 2, 1, 2, 3, 2, 3, 2, 3, 2, 2, 2, 1, 1, 1, 3, 3, 1, 1, 1, 3, 2, 2, 3, 2, 2, 3, 2, 2, 1, 3, 3, 2, 2, 2, 1, 2, 2, 1, 3, 3, 2, 3, 3, 1, 1, 1, 2, 1, 2, 2, 3, 3, 3, 1, 1, 2, 3, 3, 2, 3, 3, 1, 1, 1, 3, 2, 1, 1, 2, 1, 1, 1, 1, 3, 2, 2, 3, 3, 1, 2, 1, 2, 3, 3, 3, 2, 3, 1, 3, 3, 1, 1, 1, 2, 2, 2, 2, 2, 1, 2, 2, 3, 3, 3, 2, 1, 1, 3, 2, 2, 3, 2, 2, 1, 2, 1, 3, 1, 3, 1, 2, 2, 3, 2, 1, 1, 2, 1, 1, 3, 3, 2, 1, 1, 3, 2, 3, 2, 1, 2, 3, 3, 1, 2, 1, 2, 1, 2, 3, 1, 2, 1, 1, 2, 1, 1, 3, 1, 1, 3, 1, 1, 3, 2, 1, 2, 3, 3, 2, 1, 2, 1, 3, 3, 2, 1, 2, 1, 1, 2, 1, 2, 1, 2, 3, 2, 3, 2, 3, 3, 1, 1, 2, 2, 3, 2, 2, 1, 2, 2, 2, 1, 1, 1, 3, 2, 3, 2, 3, 3, 1, 3, 1, 1, 1, 2, 1, 3, 1, 1, 2, 1, 1, 3, 2, 3, 1, 1, 2, 1, 3, 3, 2, 3, 1, 2, 1, 3, 1, 3, 1, 1, 2, 1, 3, 3, 1, 1, 1, 1, 3, 3, 1, 2, 1, 2, 1, 2, 3, 3, 1, 3, 2, 3, 2, 3, 1, 3, 2, 1, 2, 3, 1, 2, 2, 1, 3, 3, 2, 2, 1, 3, 1, 3, 2, 2, 3, 1, 3, 2, 1, 3, 3, 2, 1, 1, 1, 2, 1, 2, 2, 2, 2, 1, 3, 2, 2, 2, 3, 2, 3, 3, 1, 3, 2, 2, 1, 3, 1, 1, 3, 2, 3, 2, 1, 2, 1, 2, 2, 1, 1, 3, 1, 1, 1, 1, 1, 2, 3, 3, 2, 1, 3, 1, 2, 1, 1, 2, 2, 3, 2, 3, 1, 3, 1, 2, 2, 2, 2, 3, 3, 1, 2, 1, 2, 3, 1, 3, 1, 2, 2, 3, 2, 1, 3, 1, 3, 1, 3, 2, 3, 3, 3, 1, 3, 1, 1, 1, 2, 2, 3, 3, 3, 1, 1, 3, 1, 3, 2, 1, 2, 3, 2, 1, 3, 2, 2, 1, 2, 3, 1, 2, 2, 2, 1, 2, 1, 3, 2, 3, 1, 3, 2, 3, 2, 2, 1, 2, 1, 2, 2, 3, 2, 3, 2, 2, 2, 2, 2, 2, 1, 3, 1, 3, 1, 2, 1, 1, 3, 3, 1, 2, 1, 3, 1, 3, 3, 3, 3, 2, 2, 3, 2, 1, 3, 3, 2, 3, 2, 3, 2, 2, 3, 2, 3, 3, 2, 3, 2, 2, 1, 2, 1, 3, 1, 1, 3, 2, 3, 1, 3, 1, 2, 2, 3, 3, 1, 1, 1, 2, 1, 2, 2, 2, 1, 3, 2, 2, 2, 1, 3, 2, 3, 3, 1, 1, 2, 1, 2, 1, 3, 1, 2, 3, 3, 2, 1, 3, 3, 1, 3, 3, 3, 1, 3, 3, 1, 2, 3, 2, 3, 2, 2, 1, 2, 3, 2, 2, 2, 3, 2, 1, 3, 2, 1, 3, 3, 1, 1, 2, 2, 3, 2, 2, 2, 2, 3, 1, 3, 3, 2, 1, 2, 3, 2, 1, 3, 2, 1, 2, 1, 1, 3, 2, 3, 1, 3, 3, 2, 2, 1, 2, 3, 2, 1, 3, 1, 2, 3, 1, 1, 1, 3, 3, 2, 2, 3, 3, 1, 1, 3, 3, 3, 3, 2, 1, 3, 2, 1, 1, 1, 3, 2, 1, 1, 1, 1, 2, 3, 2, 2, 2, 2, 3, 3, 2, 1, 3, 1, 1, 3, 2, 3, 1, 2, 3, 1, 2, 2, 3, 1, 2, 2, 1, 2, 2, 2, 3, 3, 2, 3, 1, 1, 3, 2, 2, 1, 1, 2, 2, 1, 2, 2, 1, 2, 1, 1, 3, 2, 1, 1, 3, 2, 1, 2, 1, 3, 1, 2, 3, 3, 1, 1, 2, 2, 2, 2, 3, 2, 2, 1, 3, 2, 1, 1, 1, 3, 3, 3, 1, 1, 1, 3, 3, 2, 3, 3, 1, 2, 2, 2, 3, 2, 1, 3, 1, 2, 1, 1, 3, 1, 3, 1, 1, 2, 2, 2, 2, 1, 3, 2, 1, 1, 2, 1, 3, 3, 2, 1, 1, 3, 2, 3, 3, 1, 3, 3, 2, 2, 2, 1, 3, 1, 2, 1, 2, 2, 2, 2, 3, 3, 3, 2, 2, 2, 2, 1, 2, 2, 2, 3, 3, 1, 2, 3, 2, 1, 1, 3, 2, 3, 3, 1, 2, 2, 1, 3, 2, 3, 3, 3, 3, 3, 3, 2, 2, 2, 2, 1, 1, 3, 2, 1, 1, 2, 2, 1, 2, 3, 3, 2, 3, 2, 2, 2, 3, 2, 1, 3, 2, 3, 2, 2, 3, 1, 1, 1, 1, 3, 1, 1, 3, 2, 2, 2, 1, 3, 1, 3, 1, 3, 2, 1, 3, 1, 3, 1, 3, 3, 2, 1, 1, 2, 3, 3, 1, 1, 1, 3, 2, 1, 2, 2, 1, 1, 2, 3, 2, 3, 2, 2, 2, 1, 1, 2, 1, 3, 1, 3, 1, 3, 2, 2, 1, 1, 1, 3, 1, 3, 2, 1, 2, 1, 2, 3, 2, 3, 3, 2, 3, 1, 3, 2, 2, 3, 2, 1, 1, 2, 2, 2, 2, 3, 3, 1, 3, 2, 1, 2, 1, 2, 2, 1, 1, 3, 3, 1, 3, 3, 1, 1, 1, 2, 2, 2, 1, 3, 2, 2, 3, 2, 1, 3, 2, 1, 3, 1, 1, 2, 1, 1, 3, 2, 1, 1, 3, 2, 1, 3, 2, 3, 3, 3, 1, 2, 1, 1, 2, 2, 2, 2, 1, 1, 3, 2, 2, 1, 2, 1, 2, 2, 2, 2, 1, 2, 1, 3, 3, 2, 3, 3, 2, 2, 2, 2, 3, 3, 3, 1, 3, 3, 3, 1, 2, 1, 2, 3, 1, 1, 2, 2, 2, 2, 3, 3, 3, 1, 3, 1, 1, 1, 3, 2, 3, 1, 3, 3, 3, 1, 1, 2, 2, 3, 2, 2, 2, 3, 1, 2, 3, 2, 3, 2, 3, 2, 1, 1, 2, 2, 3, 1, 3, 2, 1, 1, 2, 2, 2, 1, 1, 3, 3, 1, 2, 1, 3, 1, 2, 3, 2, 1, 2, 3, 1, 3, 3, 1, 3, 2, 3, 2, 3, 3, 3, 3, 2, 1, 1, 1, 3, 2, 3, 3, 2, 1, 2, 1, 1, 1, 2, 3, 2, 3, 2, 1, 2, 2, 2, 3, 3, 2, 3, 2, 3, 1, 2, 3, 3, 3, 2, 2, 2, 1, 3, 2, 1, 3, 3, 2, 1, 1, 2, 2, 2, 2, 2, 3, 1, 2, 2, 3, 2, 1, 3, 3, 2, 3, 3, 2, 2, 3, 2, 1, 1, 2, 3, 1, 3, 2, 2, 1, 3, 2, 1, 2, 2, 1, 1, 2, 2, 1, 2, 3, 1, 2, 2, 3, 1, 2, 3, 2, 2, 1, 3, 1, 3, 1, 3, 2, 3, 1, 1, 2, 3, 1, 3, 2, 3, 1, 3, 2, 1, 2, 3, 3, 2, 2, 3, 3, 2, 3, 3, 2, 3, 2, 1, 1, 2, 3, 2, 1, 3, 2, 3, 1, 1, 2, 3, 1, 1, 1, 1, 2, 1, 1, 1, 1, 1, 1, 3, 2, 2, 1, 2, 1, 1, 1, 3, 2, 2, 3, 2, 1, 1, 3, 3, 2, 3, 1, 3, 1, 2, 1, 1, 1, 1, 3, 3, 1, 1, 2, 1, 3, 2, 3, 1, 3, 2, 2, 3, 1, 2, 1, 2, 2, 3, 3, 3, 2, 3, 3, 3, 1, 2, 3, 2, 1, 2, 2, 2, 1, 3, 1, 1, 2, 3, 2, 2, 1, 1, 2, 2, 2, 2, 2, 1, 2, 1, 1, 3, 2, 1, 3, 1, 1, 3, 3, 1, 2, 3, 2, 3, 1, 2, 3, 3, 2, 3, 3, 1, 3, 3, 1, 3, 3, 1, 3, 1, 1, 3, 2, 1, 1, 3, 3, 2, 2, 1, 2, 1, 1, 2, 3, 3, 2, 1, 3, 3, 3, 3, 1, 2, 1, 1, 2, 2, 2, 1, 1, 1, 1, 1, 2, 2, 1, 3, 3, 1, 2, 3, 1, 1, 3, 2, 3, 2, 3, 3, 2, 3, 2, 2, 3, 2, 1, 3, 2, 2, 2, 3, 2, 2, 1, 2, 3, 3, 3, 1, 1, 2, 1, 2, 3, 1, 3, 2, 3, 3, 1, 1, 1, 3, 3, 2, 1, 1, 1, 3, 1, 3, 2, 1, 1, 1, 3, 2, 3, 1, 3, 1, 1, 3, 3, 1, 2, 2, 1, 3, 2, 1, 3, 3, 3, 2, 1, 2, 1, 3, 2, 1, 3, 3, 3, 1, 1, 2, 1, 3, 2, 3, 1, 1, 2, 2, 3, 3, 2, 3, 1, 3, 1, 2, 2, 2, 2, 2, 1, 1, 2, 2, 2, 3, 1, 1, 2, 3, 2, 2, 3, 3, 2, 1, 2, 3, 3, 3, 3, 2, 2, 1, 2, 2, 1, 1, 2, 1, 2, 2, 1, 1, 1, 2, 1, 3, 3, 1, 2, 2, 2, 2, 1, 3, 1, 2, 1, 1, 1, 2, 1, 2, 3, 1, 1, 3, 3, 3, 2, 2, 3, 1, 1, 1, 1, 2, 1, 2, 2, 2, 2, 3, 2, 2, 2, 1, 2, 1, 3, 2, 3, 2, 2, 2, 1, 1, 1, 2, 1, 3, 3, 2, 3, 2, 1, 3, 2, 3, 1, 1, 1, 3, 1, 2, 1, 3, 1, 1, 2, 2, 3, 3, 3, 2, 2, 3, 1, 1, 1, 2, 1, 3, 3, 1, 1, 3, 1, 2, 1, 3, 1, 2, 3, 1, 2, 1, 3, 2, 2, 1, 3, 1, 2, 1, 2, 1, 1, 1, 3, 1, 2, 3, 2, 2, 3, 3, 1, 1, 1, 1, 2, 2, 3, 3, 1, 1, 3, 2, 2, 1, 3, 3, 2, 3, 3, 2, 3, 2, 1, 1, 1, 3, 3, 2, 3, 1, 3, 3, 2, 2, 2, 2, 3, 2, 3, 1, 3, 1, 3, 3, 3, 1, 2, 3, 3, 2, 1, 2, 3, 3, 1, 3, 1, 2, 3, 1, 2, 2, 3, 2, 3, 1, 2, 2, 1, 1, 2, 2, 2, 3, 3, 3, 2, 1, 3, 3, 2, 1, 2, 1, 3, 1, 1, 1, 1, 2, 3, 2, 1, 1, 2, 2, 3, 1, 3, 3, 3, 1, 3, 1, 1, 3, 3, 3, 3, 3, 2, 1, 1, 2, 2, 3, 2, 1, 1, 3, 2, 3, 3, 1, 2, 1, 3, 1, 1, 1, 3, 1, 3, 3, 1, 3, 3, 2, 1, 3, 2, 1, 3, 3, 3, 2, 1, 2, 3, 1, 1, 1, 2, 3, 3, 2, 2, 1, 3, 1, 3, 1, 3, 2, 1, 3, 2, 1, 1, 2, 1, 3, 2, 1, 3, 3, 3, 3, 2, 2, 2, 3, 2, 2, 2, 3, 2, 1, 3, 1, 3, 2, 2, 3, 2, 3, 3, 1, 3, 3, 2, 3, 2, 1, 3, 1, 1, 1, 1, 2, 1, 1, 1, 1, 1, 3, 1, 3, 2, 2, 2, 1, 3, 1, 2, 1, 3, 3, 3, 2, 1, 3, 1, 2, 2, 2, 3, 1, 1, 1, 2, 1, 3, 3, 3, 1, 3, 1, 1, 1, 3, 3, 3, 1, 3, 3, 3, 3, 3, 1, 1, 3, 2, 1, 2, 3, 2, 3, 2, 3, 2, 2, 3, 1, 1, 1, 3, 2, 2, 2, 3, 1, 1, 1, 3, 3, 2, 3, 1, 1, 3, 1, 1, 3, 2, 3, 2, 2, 3, 1, 3, 3, 1, 3, 1, 3, 3, 1, 3, 1, 1, 1, 3, 2, 3, 2, 2, 2, 1, 2, 3, 2, 3, 1, 3, 1, 1, 3, 1, 2, 2, 2, 1, 1, 2, 2, 2, 2, 3, 2, 2, 2, 2, 2, 2, 3, 3, 2, 3, 3, 1, 3, 3, 1, 1, 3, 3, 2, 3, 1, 2, 2, 3, 1, 2, 1, 3, 2, 1, 3, 2, 2, 2, 1, 1, 3, 1, 2, 3, 3, 2, 2, 1, 1, 1, 3, 2, 1, 1, 3, 3, 1, 2, 2, 1, 2, 2, 3, 1, 3, 1, 3, 2, 3, 2, 3, 1, 3, 2, 2, 2, 3, 3, 3, 1, 3, 1, 1, 2, 3, 2, 2, 2, 1, 3, 2, 1, 1, 2, 2, 3, 1, 3, 2, 3, 1, 3, 2, 2, 1, 2, 2, 2, 2, 3, 1, 1, 3, 3, 1, 3, 2, 2, 2, 3, 2, 1, 2, 3, 1, 2, 1, 2, 1, 3, 3, 1, 3, 1, 3, 1, 3, 2, 1, 2, 1, 1, 1, 2, 1, 1, 3, 3, 3, 3, 2, 2, 3, 2, 3, 1, 1, 1, 2, 2, 2, 3, 2, 3, 3, 2, 3, 1, 3, 2, 3, 3, 2, 1, 2, 3, 2, 3, 1, 1, 3, 2, 1, 3, 2, 1, 2, 2, 3, 1, 2, 1, 2, 1, 2, 1, 2, 1, 2, 1, 2, 2, 1, 1, 1, 3, 3, 3, 1, 2, 2, 3, 2, 3, 3, 3, 1, 2, 1, 2, 3, 1, 2, 3, 1, 2, 3, 1, 1, 2, 2, 2, 1, 3, 3, 1, 2, 2, 1, 1, 1, 2, 3, 3, 1, 3, 1, 2, 2, 2, 2, 2, 1, 3, 3, 1, 3, 1, 2, 2, 3, 3, 3, 3, 2, 2, 2, 3, 1, 1, 2, 1, 2, 1, 1, 1, 3, 1, 2, 2, 3, 3, 1, 2, 3, 3, 3, 1, 2, 3, 3, 1, 3, 3, 1, 2, 2, 3, 2, 3, 3, 3, 1, 1, 1, 3, 2, 3, 3, 3, 1, 3, 2, 3, 3, 2, 2, 3, 2, 2, 3, 2, 1, 1, 3, 2, 3, 2, 2, 3, 2, 1, 1, 2, 3, 3, 1, 1, 1, 2, 3, 3, 1, 1, 2, 3, 3, 2, 3, 1, 2, 3, 1, 1, 2, 3, 1, 1, 1, 1, 1, 3, 2, 2, 3, 2, 3, 3, 3, 2, 1, 2, 3, 2, 3, 1, 3, 1, 1, 2, 3, 2, 1, 1, 3, 3, 3, 1, 3, 2, 2, 2, 1, 1, 1, 2, 3, 3, 2, 1, 3, 2, 1, 3, 2, 2, 1, 3, 1, 1, 3, 3, 2, 3, 1, 3, 1, 3, 3, 2, 2, 2, 2, 2, 3, 2, 3, 1, 1, 3, 2, 3, 1, 3, 2, 1, 1, 2, 1, 2, 1, 3, 3, 2, 2, 2, 1, 2, 3, 3, 2, 1, 3, 2, 2, 1, 2, 2, 2, 3, 3, 2, 1, 1, 3, 2, 1, 1, 2, 3, 2, 3, 2, 2, 2, 3, 3, 2, 2, 2, 3, 2, 1, 3, 1, 1, 2, 3, 3, 2, 3, 1, 1, 2, 2, 2, 3, 3, 3, 2, 2, 3, 3, 1, 2, 2, 1, 3, 3, 3, 1, 1, 2, 3, 3, 3, 1, 2, 1, 3, 2, 1, 3, 1, 3, 3, 2, 1, 3, 3, 3, 2, 1, 3, 3, 1, 1, 3, 2, 1, 2, 1, 2, 3, 2, 1, 3, 3, 2, 2, 1, 3, 2, 2, 1, 2, 2, 2, 1, 1, 3, 3, 3, 3, 1, 3, 2, 2, 3, 1, 3, 2, 2, 2, 3, 2, 2, 3, 2, 1, 1, 1, 1, 1, 3, 3, 1, 1, 3, 3, 2, 3, 1, 1, 2, 1, 3, 2, 3, 1, 2, 3, 2, 3, 3, 1, 3, 2, 1, 3, 2, 1, 1, 2, 2, 2, 2, 1, 2, 3, 2, 2, 2, 3, 1, 3, 2, 2, 2, 2, 3, 1, 1, 1, 1, 3, 1, 3, 2, 2, 1, 3, 1, 1, 3, 1, 3, 3, 1, 3, 1, 2, 2, 3, 1, 1, 3, 2, 3, 2, 2, 3, 2, 1, 1, 1, 2, 1, 3, 3, 3, 1, 1, 2, 3, 3, 3, 2, 3, 2, 3, 2, 1, 1, 1, 1, 3, 2, 1, 2, 1, 3, 3, 1, 1, 2, 3, 3, 3, 3, 2, 1, 3, 1, 1, 3, 3, 1, 2, 3, 3, 2, 2, 2, 3, 2, 1, 2, 3, 1, 2, 3, 2, 3, 1, 3, 1, 3, 2, 3, 1, 3, 3, 3, 1, 1, 2, 3, 3, 2, 2, 1, 3, 2, 2, 2, 3, 1, 1, 3, 3, 2, 2, 3, 1, 3, 2, 3, 2, 1, 3, 1, 2, 2, 2, 3, 2, 3, 3, 1, 2, 1, 2, 3, 3, 2, 3, 3, 1, 2, 3, 2, 2, 1, 2, 1, 3, 2, 2, 1, 3, 2, 3, 2, 2, 1, 3, 2, 1, 3, 3, 2, 3, 1, 1, 1, 1, 1, 3, 3, 1, 3, 1, 2, 2, 3, 1, 1, 2, 1, 1, 3, 2, 2, 3, 1, 1, 1, 3, 3, 3, 2, 3, 2, 2, 2, 2, 1, 2, 2, 1, 3, 1, 1, 2, 2, 2, 2, 1, 3, 3, 1, 3, 1, 1, 3, 3, 1, 3, 3, 1, 1, 1, 1, 3, 3, 2, 3, 1, 3, 2, 1, 1, 1, 1, 1, 2, 2, 1, 1, 2, 2, 3, 1, 3, 2, 3, 2, 2, 1, 2, 1, 2, 2, 3, 2, 1, 2, 2, 1, 1, 3, 2, 1, 1, 3, 1, 2, 2, 3, 1, 2, 3, 3, 1, 1, 3, 2, 1, 2, 1, 1, 1, 3, 1, 1, 2, 1, 2, 3, 2, 1, 3, 2, 1, 1, 1, 1, 1, 2, 3, 2, 1, 2, 1, 2, 1, 2, 1, 1, 1, 2, 3, 1, 2, 2, 1, 1, 2, 3, 1, 2, 2, 2, 3, 2, 2, 2, 2, 2, 2, 3, 3, 3, 3, 2, 2, 2, 1, 1, 3, 2, 2, 2, 1, 3, 1, 1, 1, 3, 2, 1, 3, 1, 1, 1, 3, 2, 3, 2, 3, 2, 3, 1, 2, 3, 2, 2, 3, 3, 3, 3, 2, 2, 2, 3, 1, 2, 3, 2, 3, 1, 3, 1, 1, 1, 3, 1, 1, 1, 3, 3, 3, 1, 1, 1, 1, 1, 1, 2, 3, 3, 3, 3, 2, 1, 3, 1, 2, 2, 2, 1, 3, 2, 3, 2, 3, 2, 2, 1, 1, 3, 3, 1, 2, 2, 2, 1, 1, 2, 2, 2, 2, 2, 3, 1, 2, 1, 2, 3, 3, 2, 1, 1, 2, 3, 3, 3, 2, 2, 1, 1, 1, 3, 3, 3, 1, 2, 2, 2, 2, 2, 1, 1, 1, 3, 1, 3, 3, 2, 1, 1, 3, 2, 2, 1, 1, 1, 1, 2, 3, 3, 1, 1, 1, 2, 2, 2, 1, 1, 3, 3, 2, 3, 2, 1, 3, 2, 3, 2, 2, 3, 2, 2, 1, 1, 1, 2, 3, 1, 3, 3, 1, 1, 3, 3, 3, 1, 2, 1, 1, 3, 1, 3, 1, 1, 2, 1, 2, 1, 2, 3, 3, 1, 2, 1, 2, 3, 3, 1, 1, 2, 3, 2, 2, 1, 2, 1, 2, 3, 3, 2, 3, 3, 2, 2, 2, 2, 1, 2, 3, 3, 2, 1, 3, 2, 2, 3, 1, 3, 1, 3, 3, 1, 2, 2, 3, 1, 2, 1, 2, 1, 1, 1, 3, 2, 3, 3, 2, 1, 2, 2, 1, 3, 2, 1, 1, 3, 1, 2, 1, 2, 3, 2, 3, 2, 3, 3, 3, 1, 1, 3, 3, 3, 1, 2, 2, 2, 3, 3, 2, 3, 3, 3, 2, 2, 1, 2, 1, 1, 1, 1, 3, 1, 1, 3, 2, 1, 1, 2, 3, 3, 3, 3, 1, 2, 3, 3, 3, 1, 2, 3, 2, 3, 1, 3, 1, 2, 1, 2, 1, 3, 3, 3, 3, 1, 2, 2, 2, 1, 2, 3, 2, 3, 3, 3, 1, 2, 2, 3, 2, 3, 2, 1, 1, 2, 2, 1, 2, 2, 1, 1, 1, 2, 1, 3, 3, 1, 1, 1, 2, 2, 2, 1, 2, 3, 1, 1, 1, 2, 3, 1, 1, 2, 1, 1, 2, 1, 3, 3, 2, 2, 3, 1, 3, 2, 1, 1, 2, 2, 1, 3, 2, 1, 1, 1, 1, 3, 1, 2, 1, 1, 3, 3, 1, 2, 2, 3, 1, 3, 3, 2, 1, 1, 1, 1, 1, 2, 2, 1, 2, 2, 1, 2, 1, 2, 3, 2, 2, 3, 3, 1, 1, 2, 3, 1, 1, 3, 2, 3, 2, 3, 3, 2, 2, 2, 1, 1, 2, 1, 3, 3, 2, 2, 1, 2, 3, 3, 1, 3, 1, 2, 1, 1, 2, 2, 1, 1, 2, 3, 1, 2, 3, 2, 1, 1, 2, 2, 3, 3, 1, 3, 3, 3, 2, 2, 1, 2, 3, 3, 3, 2, 3, 3, 2, 2, 1, 2, 1, 3, 3, 1, 2, 1, 1, 2, 2, 3, 2, 1, 3, 1, 1, 3, 2, 3, 1, 1, 1, 2, 2, 2, 2, 3, 2, 2, 1, 1, 2, 2, 1, 1, 3, 1, 2, 1, 3, 2, 2, 3, 1, 2, 3, 1, 2, 1, 1, 1, 3, 3, 2, 1, 3, 1, 3, 2, 1, 2, 2, 2, 2, 3, 3, 3, 3, 3, 3, 2, 3, 1, 2, 2, 2, 3, 2, 3, 3, 1, 2, 1, 2, 2, 1, 2, 3, 3, 3, 2, 3, 2, 2, 1, 2, 1, 2, 1, 3, 1, 3, 1, 3, 2, 1, 1, 3, 3, 3, 3, 2, 3, 2, 2, 2, 2, 3, 1, 3, 2, 3, 3, 2, 3, 1, 3, 3, 1, 3, 3, 3, 1, 1, 1, 2, 1, 1, 3, 3, 1, 1, 2, 1, 3, 2, 1, 1, 1, 3, 3, 2, 2, 2, 2, 3, 2, 2, 1, 3, 3, 1, 3, 2, 2, 2, 2, 3, 3, 2, 1, 2, 1, 2, 2, 3, 2, 2, 1, 2, 2, 3, 3, 3, 1, 1, 1, 2, 1, 2, 2, 3, 1, 2, 2, 2, 2, 2, 1, 3, 1, 1, 3, 3, 1, 2, 1, 2, 3, 2, 2, 2, 1, 2, 2, 1, 2, 2, 1, 2, 3, 1, 2, 3, 2, 2, 1, 1, 1, 1, 1, 1, 2, 3, 3, 3, 1, 1, 3, 2, 3, 3, 1, 1, 2, 3, 3, 3, 1, 1, 1, 1, 2, 2, 1, 3, 1, 2, 3, 2, 1, 2, 2, 2, 3, 1, 1, 2, 1, 2, 1, 3, 3, 2, 1, 2, 2, 3, 1, 2, 1, 2, 2, 1, 3, 2, 1, 1, 1, 3, 2, 2, 3, 3, 2, 3, 3, 2, 3, 1, 2, 2, 2, 2, 3, 1, 2, 2, 1, 1, 3, 1, 1, 1, 2, 3, 1, 1, 2, 1, 1, 3, 2, 1, 3, 2, 1, 3, 1, 2, 3, 3, 3, 2, 2, 3, 2, 2, 2, 1, 1, 1, 1, 3, 3, 2, 2, 1, 2, 3, 3, 3, 1, 2, 1, 3, 2, 3, 2, 2, 1, 1, 1, 2, 1, 1, 3, 1, 3, 3, 1, 1, 1, 3, 1, 2, 3, 2, 2, 1, 2, 2, 2, 3, 2, 1, 2, 1, 3, 2, 3, 3, 3, 1, 1, 2, 2, 3, 3, 3, 2, 1, 3, 3, 1, 1, 3, 1, 1, 3, 2, 3, 1, 1, 1, 2, 2, 1, 1, 1, 2, 1, 1, 1, 3, 3, 3, 1, 3, 2, 3, 2, 3, 1, 3, 2, 1, 3, 2, 1, 2, 3, 2, 3, 3, 3, 3, 3, 1, 2, 2, 3, 3, 3, 2, 2, 1, 1, 3, 3, 1, 2, 3, 3, 1, 3, 3, 1, 2, 1, 3, 3, 3, 1, 3, 2, 3, 1, 3, 1, 2, 2, 1, 2, 2, 3, 3, 2, 1, 1, 3, 3, 3, 2, 3, 1, 2, 3, 2, 1, 1, 3, 1, 1, 3, 2, 3, 1, 1, 2, 3, 1, 3, 2, 1, 2, 3, 1, 3, 1, 1, 3, 3, 1, 2, 2, 1, 3, 1, 2, 1, 2, 1, 3, 3, 3, 2, 3, 2, 1, 2, 3, 3, 2, 2, 2, 2, 1, 1, 3, 2, 3, 3, 2, 3, 3, 1, 2, 3, 3, 1, 2, 3, 2, 2, 2, 1, 3, 3, 2, 2, 3, 2, 3, 1, 2, 1, 2, 3, 1, 1, 3, 2, 3, 2, 2, 2, 1, 3, 3, 3, 1, 2, 1, 3, 2, 2, 1, 2, 1, 3, 1, 3, 3, 1, 2, 3, 3, 2, 3, 1, 1, 2, 2, 2, 2, 1, 2, 2, 2, 3, 1, 2, 2, 2, 1, 1, 2, 3, 2, 2, 1, 2, 3, 3, 2, 3, 2, 3, 2, 2, 3, 3, 1, 1, 2, 2, 1, 2, 3, 1, 1, 3, 3, 1, 3, 2, 3, 1, 3, 1, 3, 1, 2, 1, 1, 3, 2, 1, 2, 3, 2, 1, 1, 1, 2, 1, 1, 1, 1, 2, 2, 3, 3, 3, 1, 1, 2, 1, 2, 3, 1, 1, 1, 1, 1, 1, 3, 3, 2, 2, 2, 1, 3, 3, 1, 2, 1, 1, 2, 3, 3, 2, 3, 1, 2, 2, 1, 1, 1, 2, 2, 3, 1, 3, 2, 1, 3, 2, 1, 2, 3, 1, 2, 3, 2, 1, 2, 2, 1, 3, 3, 2, 1, 2, 3, 1, 1, 3, 3, 3, 1, 2, 1, 3, 3, 1, 2, 2, 3, 1, 3, 2, 3, 2, 3, 2, 2, 1, 3, 1, 1, 2, 1, 1, 3, 1, 1, 1, 3, 2, 1, 3, 3, 1, 3, 1, 1, 1, 2, 1, 1, 2, 2, 2, 2, 1, 2, 1, 3, 1, 2, 2, 1, 1, 1, 1, 2, 1, 3, 1, 3, 1, 3, 3, 2, 3, 1, 3, 2, 2, 3, 2, 3, 3, 1, 2, 2, 3, 2, 1, 2, 2, 3, 1, 2, 2, 2, 1, 3, 1, 2, 1, 2, 3, 1, 3, 3, 2, 2, 2, 3, 3, 2, 1, 1, 2, 3, 2, 2, 2, 2, 3, 2, 2, 2, 2, 1, 1, 1, 3, 1, 3, 1, 3, 2, 1, 1, 2, 2, 3, 3, 2, 3, 1, 2, 1, 1, 1, 1, 2, 2, 3, 2, 2, 3, 1, 2, 3, 2, 3, 3, 1, 3, 1, 2, 3, 1, 2, 3, 3, 1, 3, 3, 1, 2, 1, 3, 3, 2, 3, 3, 3, 2, 3, 2, 1, 1, 2, 1, 2, 3, 3, 1, 3, 3, 3, 2, 1, 2, 3, 3, 2, 1, 2, 3, 3, 3, 1, 2, 2, 1, 1, 2, 3, 3, 1, 2, 3, 2, 1, 1, 3, 1, 1, 2, 3, 3, 1, 1, 2, 1, 2, 2, 2, 3, 3, 1, 2, 1, 2, 1, 3, 1, 1, 1, 2, 2, 2, 2, 2, 2, 3, 1, 1, 1, 3, 1, 2, 2, 2, 2, 3, 3, 2, 3, 3, 3, 2, 1, 1, 2, 2, 1, 2, 2, 3, 3, 2, 1, 2, 1, 1, 3, 2, 2, 2, 2, 2, 3, 2, 3, 2, 2, 2, 3, 1, 3, 3, 2, 3, 3, 1, 2, 3, 3, 2, 1, 2, 1, 2, 2, 2, 2, 3, 3, 3, 3, 3, 3, 2, 2, 3, 1, 3, 1, 3, 2, 1, 3, 2, 3, 1, 3, 2, 2, 1, 3, 3, 1, 2, 3, 2, 3, 3, 3, 1, 2, 2, 2, 1, 2, 3, 2, 1, 3, 2, 2, 2, 2, 1, 1, 3, 1, 2, 3, 2, 2, 2, 2, 1, 3, 1, 1, 3, 3, 1, 2, 1, 2, 3, 1, 1, 1, 1, 1, 3, 2, 2, 3, 3, 1, 2, 1, 2, 2, 3, 3, 3, 3, 2, 2, 2, 2, 1, 3, 1, 3, 1, 1, 2, 2, 2, 1, 2, 1, 2, 1, 3, 3, 3, 2, 3, 1, 2, 1, 2, 1, 3, 2, 2, 1, 3, 2, 2, 3, 1, 3, 1, 3, 2, 1, 2, 1, 2, 2, 1, 3, 3, 3, 3, 2, 3, 3, 3, 2, 2, 1, 3, 3, 1, 3, 3, 3, 3, 2, 3, 3, 3, 2, 3, 3, 3, 2, 1, 3, 2, 3, 3, 2, 1, 2, 1, 3, 3, 3, 2, 2, 2, 1, 3, 3, 2, 3, 1, 2, 2, 2, 3, 3, 2, 3, 2, 2, 3, 3, 3, 3, 3, 3, 2, 2, 3, 3, 1, 3, 1, 1, 1, 3, 3, 1, 3, 2, 2, 3, 2, 2, 2, 1, 1, 3, 1, 1, 3, 3, 1, 2, 1, 3, 3, 2, 2, 3, 2, 1, 3, 2, 3, 2, 2, 1, 3, 1, 2, 3, 2, 2, 3, 2, 3, 2, 2, 1, 1, 2, 2, 1, 3, 1, 2, 3, 3, 1, 1, 1, 1, 3, 1, 3, 1, 2, 2, 3, 1, 1, 3, 3, 2, 2, 2, 3, 1, 2, 2, 2, 2, 1, 2, 1, 1, 2, 2, 2, 1, 2, 2, 3, 2, 2, 3, 1, 1, 2, 1, 3, 2, 1, 3, 3, 3, 1, 2, 2, 2, 2, 2, 2, 2, 3, 1, 2, 1, 1, 3, 3, 1, 3, 2, 2, 2, 3, 1, 2, 2, 2, 1, 1, 1, 3, 1, 2, 3, 2, 1, 2, 1, 1, 3, 3, 1, 1, 1, 2, 2, 3, 1, 3, 2, 2, 3, 3, 1, 2, 2, 1, 3, 3, 2, 1, 3, 3, 1, 3, 2, 1, 1, 3, 1, 1, 1, 3, 3, 2, 3, 2, 2, 2, 2, 2, 2, 2, 1, 2, 2, 3, 2, 3, 3, 1, 2, 3, 2, 3, 2, 2, 2, 2, 3, 2, 3, 1, 2, 3, 2, 3, 1, 2, 1, 1, 2, 1, 2, 1, 2, 1, 2, 2, 1, 3, 3, 1, 2, 2, 3, 3, 2, 2, 1, 2, 1, 1, 3, 1, 1, 1, 2, 1, 1, 1, 2, 1, 3, 2, 3, 1, 3, 1, 3, 3, 1, 1, 1, 3, 3, 1, 1, 2, 2, 1, 2, 2, 2, 2, 2, 1, 1, 2, 3, 2, 2, 3, 2, 1, 3, 3, 1, 2, 2, 3, 1, 1, 1, 2, 1, 1, 1, 2, 2, 2, 3, 1, 2, 2, 2, 2, 1, 3, 1, 3, 2, 3, 1, 1, 3, 3, 2, 2, 3, 1, 2, 1, 2, 1, 3, 1, 2, 3, 1, 1, 1, 3, 1, 1, 1, 1, 2, 3, 2, 1, 3, 3, 1, 2, 1, 2, 1, 1, 1, 2, 1, 1, 3, 2, 3, 2, 1, 1, 1, 2, 3, 2, 2, 3, 2, 1, 2, 1, 2, 2, 2, 3, 1, 3, 3, 3, 3, 2, 2, 1, 3, 1, 2, 2, 2, 1, 2, 2, 3, 1, 3, 2, 1, 1, 3, 1, 3, 2, 3, 2, 3, 1, 1, 2, 2, 3, 1, 3, 3, 1, 2, 1, 1, 1, 1, 1, 3, 2, 2, 1, 2, 1, 1, 3, 3, 2, 2, 2, 1, 2, 2, 3, 2, 3, 2, 3, 1, 3, 2, 1, 3, 3, 1, 2, 2, 2, 3, 2, 1, 3, 1, 1, 3, 2, 3, 3, 3, 3, 1, 2, 2, 1, 2, 3, 2, 3, 2, 1, 3, 2, 3, 2, 1, 2, 3, 3, 2, 1, 3, 2, 2, 2, 2, 3, 2, 2, 2, 2, 1, 2, 3, 3, 3, 2, 3, 1, 3, 3, 1, 2, 1, 2, 2, 1, 1, 3, 3, 3, 1, 2, 1, 1, 1, 2, 1, 2, 1, 2, 3, 1, 1, 3, 2, 3, 3, 3, 3, 2, 3, 3, 2, 2, 1, 3, 2, 3, 2, 2, 1, 2, 3, 2, 3, 3, 2, 3, 2, 1, 3, 2, 3, 1, 2, 2, 2, 3, 1, 1, 1, 2, 1, 1, 3, 2, 2, 2, 1, 1, 2, 3, 3, 1, 3, 2, 3, 3, 2, 3, 1, 2, 2, 3, 1, 2, 2, 2, 3, 2, 3, 2, 2, 1, 3, 1, 1, 1, 1, 1, 3, 2, 2, 3, 3, 1, 2, 2, 1, 1, 3, 1, 2, 3, 1, 2, 3, 2, 3, 1, 3, 2, 1, 2, 2, 1, 2, 3, 3, 3, 2, 2, 1, 3, 3, 2, 2, 2, 3, 2, 3, 3, 2, 3, 1, 3, 1, 3, 3, 2, 3, 2, 1, 1, 3, 2, 1, 3, 1, 1, 2, 1, 1, 2, 2, 2, 3, 1, 3, 2, 2, 3, 2, 1, 2, 2, 3, 1, 2, 2, 3, 2, 2, 1, 2, 3, 3, 3, 1, 2, 2, 2, 3, 3, 2, 1, 1, 1, 3, 2, 1, 3, 1, 3, 1, 3, 3, 2, 3, 2, 3, 1, 2, 3, 3, 1, 3, 3, 2, 2, 3, 1, 2, 2, 2, 3, 1, 3, 1, 3, 1, 2, 3, 2, 2, 3, 2, 2, 2, 2, 1, 2, 2, 3, 3, 2, 3, 3, 2, 2, 2, 2, 1, 3, 1, 1, 2, 3, 3, 1, 3, 2, 3, 3, 3, 1, 3, 3, 1, 3, 1, 3, 3, 2, 3, 3, 2, 1, 1, 3, 1, 3, 3, 2, 1, 1, 2, 2, 1, 3, 3, 3, 1, 2, 3, 3, 2, 1, 3, 3, 2, 1, 2, 3, 2, 1, 2, 2, 1, 2, 1, 2, 1, 2, 3, 1, 3, 1, 1, 3, 3, 1, 1, 3, 2, 3, 2, 3, 1, 1, 2, 3, 3, 2, 2, 1, 2, 1, 3, 2, 1, 3, 1, 3, 3, 3, 3, 1, 1, 2, 2, 2, 1, 3, 3, 1, 1, 3, 3, 2, 3, 3, 3, 3, 1, 1, 2, 3, 3, 3, 1, 3, 3, 3, 2, 2, 2, 3, 2, 2, 1, 2, 2, 1, 2, 3, 1, 2, 3, 1, 2, 2, 3, 1, 1, 1, 1, 3, 2, 2, 1, 1, 2, 1, 3, 2, 2, 2, 3, 2, 3, 1, 2, 2, 3, 3, 1, 2, 2, 1, 2, 1, 3, 3, 1, 2, 1, 3, 2, 1, 1, 3, 2, 1, 3, 1, 3, 3, 1, 1, 2, 3, 3, 2, 2, 3, 2, 1, 2, 3, 2, 3, 2, 3, 3, 3, 2, 2, 1, 3, 2, 1, 2, 1, 3, 1, 3, 3, 3, 1, 1, 3, 2, 2, 1, 3, 1, 3, 1, 1, 1, 3, 3, 2, 1, 2, 2, 1, 1, 3, 2, 3, 3, 1, 1, 3, 1, 1, 3, 1, 3, 1, 1, 2, 2, 1, 2, 3, 3, 2, 1, 2, 2, 2, 1, 3, 2, 2, 1, 3, 1, 1, 2, 2, 3, 3, 3, 3, 2, 1, 2, 3, 3, 3, 3, 1, 3, 1, 3, 2, 1, 1, 2, 2, 2, 1, 2, 1, 3, 1, 2, 2, 1, 1, 2, 2, 3, 1, 3, 3, 1, 3, 3, 2, 2, 2, 1, 3, 3, 3, 1, 1, 2, 1, 3, 2, 1, 3, 2, 1, 1, 2, 2, 3, 2, 1, 3, 1, 1, 2, 2, 3, 3, 1, 2, 1, 3, 3, 1, 1, 1, 1, 2, 1, 1, 2, 3, 3, 3, 2, 1, 1, 1, 2, 1, 1, 2, 3, 3, 3, 1, 3, 3, 1, 3, 3, 2, 2, 1, 2, 2, 2, 1, 2, 3, 1, 3, 2, 1, 1, 3, 3, 3, 1, 1, 1, 2, 1, 3, 1, 2, 2, 2, 1, 3, 3, 2, 3, 1, 2, 1, 2, 1, 1, 2, 1, 3, 1, 3, 3, 2, 1, 1, 3, 1, 3, 1, 2, 3, 3, 1, 3, 2, 3, 2, 3, 2, 3, 1, 3, 1, 2, 2, 3, 3, 2, 3, 3, 3, 3, 3, 1, 3, 3, 1, 2, 1, 3, 2, 3, 2, 2, 3, 2, 2, 1, 3, 2, 3, 3, 2, 1, 2, 1, 2, 3, 1, 1, 1, 3, 3, 3, 1, 1, 3, 3, 3, 2, 2, 2, 1, 3, 2, 3, 3, 2, 3, 3, 1, 2, 2, 2, 3, 2, 1, 2, 1, 1, 2, 1, 2, 1, 2, 2, 3, 1, 3, 1, 2, 2, 3, 1, 3, 3, 2, 2, 3, 2, 2, 3, 3, 1, 2, 2, 3, 2, 2, 3, 2, 3, 1, 3, 1, 3, 3, 2, 2, 1, 2, 1, 1, 1, 1, 1, 3, 2, 1, 3, 3, 3, 3, 2, 1, 3, 1, 3, 2, 3, 1, 3, 2, 1, 3, 3, 1, 2, 2, 2, 2, 1, 3, 2, 1, 3, 2, 1, 2, 1, 2, 2, 2, 3, 3, 1, 3, 2, 3, 3, 3, 1, 1, 1, 2, 1, 1, 2, 2, 3, 1, 3, 3, 2, 3, 2, 3, 1, 3, 2, 2, 2, 3, 1, 3, 1, 3, 2, 2, 1, 3, 2, 1, 1, 1, 3, 3, 1, 2, 3, 2, 2, 2, 1, 3, 1, 3, 2, 2, 2, 1, 2, 2, 1, 2, 3, 3, 3, 3, 3, 1, 3, 3, 3, 3, 3, 3, 2, 1, 2, 3, 1, 3, 2, 1, 3, 3, 1, 2, 3, 2, 3, 1, 3, 1, 2, 3, 2, 3, 3, 2, 1, 2, 3, 1, 1, 1, 2, 1, 2, 1, 1, 2, 3, 2, 1, 2, 3, 2, 1, 1, 2, 3, 2, 1, 3, 2, 1, 2, 1, 2, 2, 3, 3, 1, 1, 1, 2, 1, 2, 3, 2, 3, 2, 2, 3, 3, 1, 2, 2, 1, 3, 1, 1, 2, 1, 1, 2, 3, 1, 1, 2, 3, 2, 1, 3, 2, 3, 3, 3, 3, 3, 2, 3, 3, 2, 2, 1, 2, 3, 3, 3, 2, 2, 2, 3, 3, 1, 1, 3, 1, 2, 3, 2, 1, 2, 1, 1, 3, 1, 3, 2, 2, 3, 3, 3, 1, 3, 2, 2, 1, 1, 2, 1, 3, 2, 1, 3, 3, 2, 2, 3, 2, 3, 2, 3, 1, 2, 2, 1, 1, 1, 3, 2, 1, 2, 3, 2, 1, 2, 3, 3, 1, 3, 2, 2, 3, 1, 1, 2, 2, 2, 2, 3, 3, 1, 3, 3, 2, 2, 2, 1, 3, 3, 3, 1, 1, 3, 2, 3, 1, 3, 2, 2, 3, 2, 3, 2, 3, 2, 3, 3, 2, 2, 3, 1, 3, 1, 3, 3, 3, 2, 2, 1, 1, 1, 2, 1, 3, 2, 3, 2, 1, 1, 1, 3, 3, 1, 2, 2, 1, 1, 1, 3, 3, 2, 3, 1, 1, 1, 3, 2, 3, 2, 3, 2, 2, 3, 3, 2, 3, 1, 3, 3, 1, 3, 1, 1, 2, 1, 3, 3, 3, 1, 2, 3, 2, 3, 2, 3, 1, 1, 2, 3, 3, 2, 1, 1, 2, 2, 2, 1, 3, 1, 2, 1, 2, 1, 3, 2, 1, 3, 2, 3, 2, 1, 3, 2, 2, 2, 1, 2, 3, 1, 3, 3, 2, 2, 2, 1, 1, 1, 2, 3, 1, 2, 3, 2, 1, 3, 3, 1, 1, 1, 2, 1, 3, 2, 3, 3, 1, 2, 1, 2, 2, 3, 3, 2, 3, 1, 1, 3, 2, 1, 1, 3, 3, 3, 1, 1, 3, 3, 1, 1, 3, 3, 3, 1, 3, 1, 1, 2, 2, 2, 3, 2, 2, 2, 3, 2, 3, 3, 1, 1, 2, 3, 3, 2, 1, 2, 2, 3, 1, 2, 2, 1, 3, 1, 2, 3, 3, 1, 3, 1, 1, 1, 2, 2, 1, 2, 2, 1, 1, 1, 2, 1, 1, 1, 3, 2, 3, 2, 3, 1, 1, 2, 1, 2, 3, 1, 2, 3, 1, 1, 2, 1, 1, 3, 1, 1, 3, 3, 2, 2, 1, 2, 3, 3, 1, 1, 2, 3, 2, 1, 1, 1, 1, 3, 1, 3, 3, 2, 2, 2, 3, 1, 1, 2, 2, 1, 3, 2, 2, 1, 1, 1, 1, 2, 2, 2, 3, 3, 2, 1, 1, 3, 1, 1, 2, 1, 2, 1, 2, 1, 1, 1, 3, 2, 3, 1, 3, 3, 3, 3, 1, 3, 3, 3, 1, 2, 1, 2, 2, 1, 2, 2, 2, 2, 3, 3, 3, 2, 1, 1, 2, 2, 2, 1, 3, 2, 1, 1, 3, 1, 2, 2, 3, 1, 3, 2, 1, 2, 2, 3, 2, 3, 2, 3, 1, 2, 2, 1, 1, 3, 2, 3, 1, 2, 3, 3, 2, 3, 2, 3, 2, 1, 1, 3, 1, 3, 1, 1, 1, 2, 2, 3, 1, 3, 1, 3, 1, 2, 2, 3, 1, 2, 1, 3, 2, 2, 1, 2, 2, 3, 2, 2, 1, 3, 3, 2, 3, 2, 3, 2, 1, 3, 3, 2, 1, 2, 1, 1, 1, 3, 3, 2, 3, 1, 1, 2, 3, 2, 2, 3, 3, 2, 2, 1, 1, 1, 3, 2, 2, 3, 3, 3, 1, 3, 1, 3, 1, 2, 1, 1, 1, 2, 2, 1, 1, 3, 1, 1, 1, 3, 2, 2, 2, 3, 3, 1, 1, 2, 1, 3, 2, 3, 2, 3, 1, 1, 2, 2, 3, 3, 1, 3, 3, 1, 1, 3, 3, 3, 3, 3, 2, 2, 1, 3, 1, 1, 2, 3, 3, 3, 1, 2, 1, 1, 1, 1, 3, 1, 1, 2, 1, 1, 2, 1, 2, 2, 1, 1, 2, 1, 3, 1, 1, 3, 3, 1, 1, 1, 3, 3, 1, 2, 1, 2, 2, 1, 1, 1, 2, 1, 2, 3, 3, 3, 1, 3, 2, 3, 1, 1, 3, 3, 1, 1, 3, 3, 3, 3, 2, 1, 1, 2, 3, 2, 2, 3, 1, 1, 1, 3, 3, 3, 1, 2, 1, 2, 3, 1, 1, 1, 2, 1, 2, 3, 1, 3, 3, 2, 2, 3, 1, 3, 1, 3, 1, 2, 2, 3, 2, 1, 1, 3, 2, 2, 3, 2, 2, 2, 3, 1, 2, 2, 1, 1, 3, 1, 1, 1, 1, 2, 2, 2, 3, 1, 1, 3, 3, 2, 1, 3, 1, 2, 1, 3, 3, 3, 2, 2, 3, 3, 1, 3, 1, 3, 2, 3, 2, 3, 3, 1, 3, 3, 1, 2, 2, 1, 2, 2, 1, 2, 1, 3, 3, 2, 2, 3, 2, 1, 3, 1, 3, 2, 3, 1, 3, 1, 2, 1, 3, 2, 3, 1, 2, 2, 3, 2, 2, 1, 2, 1, 2, 2, 3, 2, 1, 1, 3, 3, 1, 2, 1, 1, 2, 2, 2, 1, 2, 3, 3, 1, 1, 2, 1, 1, 2, 2, 2, 1, 3, 3, 2, 2, 1, 3, 1, 2, 2, 2, 2, 1, 2, 3, 3, 1, 2, 1, 1, 1, 3, 1, 3, 3, 3, 2, 1, 3, 3, 2, 3, 3, 1, 2, 2, 2, 1, 3, 2, 2, 1, 3, 2, 2, 1, 1, 3, 3, 1, 3, 2, 1, 1, 3, 2, 3, 2, 3, 3, 1, 3, 2, 3, 1, 1, 3, 3, 2, 1, 3, 1, 2, 1, 1, 3, 2, 1, 2, 2, 1, 1, 3, 1, 1, 3, 3, 1, 1, 2, 1, 1, 2, 1, 3, 2, 1, 2, 1, 2, 1, 3, 3, 3, 2, 2, 3, 2, 1, 3, 2, 3, 2, 2, 3, 3, 1, 3, 1, 2, 3, 2, 3, 1, 2, 2, 3, 3, 1, 1, 2, 3, 1, 2, 3, 2, 2, 2, 2, 1, 3, 3, 1, 3, 2, 1, 3, 2, 2, 3, 2, 3, 3, 1, 3, 1, 1, 3, 2, 3, 3, 1, 2, 2, 1, 2, 2, 3, 2, 2, 3, 1, 3, 1, 1, 2, 3, 2, 2, 2, 1, 1, 2, 3, 1, 3, 1, 2, 1, 2, 2, 3, 3, 1, 3, 1, 1, 3, 3, 1, 2, 1, 3, 2, 3, 3, 1, 1, 2, 2, 2, 1, 2, 3, 2, 1, 1, 2, 1, 1, 3, 1, 2, 2, 2, 1, 3, 3, 3, 2, 2, 3, 1, 1, 3, 3, 3, 1, 2, 2, 1, 2, 1, 3, 1, 1, 2, 1, 3, 1, 3, 1, 3, 3, 3, 1, 3, 1, 2, 2, 3, 3, 1, 3, 3, 3, 1, 3, 2, 1, 3, 1, 1, 1, 2, 3, 2, 3, 3, 3, 2, 3, 3, 1, 2, 1, 3, 2, 1, 2, 1, 3, 2, 2, 2, 3, 1, 3, 1, 3, 2, 3, 3, 2, 2, 1, 2, 3, 2, 3, 1, 2, 2, 2, 1, 1, 1, 3, 2, 3, 2, 3, 1, 3, 3, 1, 1, 2, 3, 3, 1, 1, 3, 2, 3, 1, 1, 3, 3, 1, 2, 1, 2, 2, 2, 2, 2, 2, 3, 3, 2, 1, 2, 3, 2, 1, 3, 2, 3, 3, 2, 2, 1, 1, 2, 3, 2, 2, 1, 3, 3, 2, 1, 2, 2, 1, 3, 1, 3, 1, 3, 3, 2, 1, 3, 2, 2, 3, 2, 2, 3, 3, 1, 2, 1, 2, 2, 3, 3, 3, 3, 1, 2, 1, 2, 3, 1, 3, 3, 1, 1, 1, 2, 3, 1, 1, 2, 2, 1, 2, 3, 2, 3, 3, 3, 2, 2, 2, 1, 1, 2, 2, 1, 3, 2, 3, 2, 1, 2, 1, 3, 3, 1, 2, 1, 1, 1, 2, 2, 2, 1, 1, 2, 1, 3, 3, 1, 2, 1, 3, 2, 2, 3, 3, 1, 2, 1, 2, 3, 3, 1, 3, 3, 1, 3, 1, 3, 3, 2, 1, 3, 3, 2, 3, 2, 3, 2, 2, 1, 2, 2, 3, 3, 1, 2, 2, 2, 3, 1, 1, 3, 1, 3, 2, 3, 1, 1, 3, 1, 2, 1, 1, 1, 3, 2, 2, 2, 3, 1, 1, 3, 3, 3, 3, 3, 2, 3, 3, 2, 3, 1, 3, 1, 1, 3, 2, 1, 2, 3, 1, 3, 2, 2, 1, 1, 1, 1, 1, 1, 1, 1, 2, 3, 3, 1, 1, 1, 1, 3, 2, 1, 3, 1, 2, 3, 1, 1, 2, 1, 3, 2, 2, 2, 2, 2, 3, 1, 1, 2, 2, 3, 3, 2, 1, 3, 1, 1, 1, 1, 3, 3, 2, 2, 2, 2, 2, 2, 1, 3, 2, 1, 2, 2, 3, 1, 3, 3, 3, 1, 3, 3, 2, 1, 2, 3, 1, 2, 2, 1, 3, 2, 2, 2, 2, 1, 1, 3, 1, 1, 2, 3, 2, 3, 3, 2, 2, 1, 1, 2, 1, 1, 1, 3, 1, 1, 2, 2, 1, 3, 1, 2, 2, 1, 2, 1, 1, 1, 3, 1, 3, 2, 3, 3, 3, 1, 3, 1, 1, 1, 1, 1, 3, 3, 3, 1, 3, 1, 1, 3, 2, 3, 3, 1, 3, 3, 1, 2, 2, 2, 2, 1, 1, 3, 1, 3, 3, 3, 1, 1, 1, 1, 1, 1, 2, 2, 2, 1, 2, 2, 1, 3, 3, 1, 3, 2, 3, 2, 2, 3, 1, 3, 3, 1, 1, 2, 1, 1, 1, 2, 2, 1, 1, 2, 1, 2, 1, 3, 1, 1, 3, 1, 2, 1, 1, 2, 1, 1, 1, 2, 1, 2, 2, 2, 3, 3, 2, 3, 2, 3, 2, 2, 1, 1, 1, 1, 3, 1, 2, 1, 1, 2, 2, 2, 2, 3, 3, 3, 3, 1, 1, 3, 3, 1, 3, 3, 3, 1, 3, 1, 1, 2, 1, 3, 2, 3, 1, 3, 3, 3, 2, 3, 2, 3, 1, 2, 1, 3, 1, 2, 1, 2, 2, 2, 3, 2, 1, 2, 1, 3, 3, 3, 2, 2, 2, 2, 2, 1, 2, 2, 1, 2, 3, 2, 2, 1, 1, 2, 1, 1, 2, 3, 2, 3, 2, 2, 1, 3, 3, 3, 2, 2, 2, 1, 3, 3, 2, 1, 1, 1, 2, 1, 1, 2, 3, 2, 2, 1, 1, 2, 2, 1, 1, 2, 3, 2, 2, 2, 3, 3, 3, 2, 1, 1, 3, 2, 2, 3, 2, 2, 3, 3, 1, 3, 2, 3, 2, 1, 2, 3, 2, 2, 1, 1, 3, 1, 1, 1, 3, 2, 3, 3, 2, 3, 2, 1, 2, 1, 3, 1, 1, 3, 2, 2, 3, 3, 3, 2, 2, 3, 3, 2, 2, 3, 3, 1, 3, 1, 1, 2, 3, 3, 2, 1, 1, 2, 3, 3, 3, 1, 1, 3, 2, 3, 3, 1, 1, 3, 2, 2, 2, 1, 3, 1, 1, 1, 3, 1, 2, 2, 2, 2, 2, 2, 1, 1, 2, 2, 2, 2, 2, 2, 2, 2, 3, 2, 3, 1, 3, 2, 2, 1, 1, 2, 3, 2, 3, 3, 3, 1, 3, 3, 2, 3, 3, 2, 2, 1, 1, 2, 2, 3, 3, 1, 2, 3, 1, 1, 2, 1, 2, 2, 2, 2, 2, 2, 3, 1, 2, 1, 1, 2, 3, 1, 3, 2, 2, 1, 3, 2, 3, 3, 3, 3, 1, 1, 1, 1, 1, 1, 2, 3, 2, 2, 3, 3, 3, 3, 1, 1, 2, 2, 2, 2, 2, 3, 2, 1, 2, 1, 1, 3, 3, 2, 3, 1, 1, 1, 1, 2, 3, 3, 3, 3, 2, 2, 3, 3, 3, 1, 3, 2, 2, 1, 3, 1, 3, 1, 1, 1, 2, 3, 2, 3, 2, 1, 2, 2, 1, 3, 3, 2, 1, 3, 1, 1, 2, 3, 2, 2, 2, 1, 2, 2, 3, 2, 1, 3, 2, 1, 3, 1, 3, 3, 3, 3, 1, 2, 1, 3, 2, 3, 3, 2, 2, 1, 3, 2, 2, 2, 1, 2, 2, 2, 3, 1, 1, 2, 2, 3, 3, 2, 1, 1, 3, 1, 2, 3, 2, 2, 3, 1, 1, 2, 2, 3, 3, 2, 1, 1, 2, 2, 1, 1, 2, 3, 2, 1, 2, 3, 2, 1, 3, 3, 2, 2, 2, 1, 3, 1, 3, 2, 3, 2, 2, 1, 2, 1, 3, 2, 1, 3, 3, 1, 3, 3, 2, 2, 1, 3, 2, 1, 2, 3, 2, 3, 3, 2, 1, 3, 2, 3, 1, 3, 1, 1, 2, 3, 3, 2, 1, 3, 1, 3, 2, 3, 1, 3, 1, 1, 2, 2, 3, 2, 3, 3, 3, 1, 1, 2, 1, 1, 2, 3, 3, 2, 2, 3, 1, 2, 3, 1, 1, 2, 3, 1, 1, 1, 2, 2, 2, 3, 3, 2, 2, 3, 3, 3, 2, 2, 2, 3, 3, 3, 3, 3, 3, 1, 1, 2, 3, 2, 2, 3, 1, 3, 2, 2, 3, 3, 3, 1, 2, 2, 2, 1, 1, 3, 2, 2, 2, 1, 3, 3, 2, 2, 1, 1, 1, 3, 2, 1, 1, 1, 2, 3, 3, 3, 1, 2, 3, 2, 3, 2, 1, 3, 1, 1, 3, 3, 2, 3, 1, 2, 1, 1, 3, 3, 2, 3, 1, 2, 2, 1, 1, 2, 1, 1, 1, 3, 3, 2, 2, 3, 3, 2, 1, 2, 3, 1, 2, 1, 2, 3, 2, 3, 1, 2, 3, 2, 1, 3, 2, 2, 3, 3, 1, 1, 3, 2, 3, 1, 1, 1, 2, 1, 1, 1, 1, 2, 1, 1, 3, 2, 2, 3, 1, 1, 3, 1, 3, 1, 1, 2, 1, 3, 3, 1, 1, 3, 1, 2, 1, 1, 3, 2, 1, 1, 2, 2, 1, 2, 3, 3, 2, 3, 1, 1, 1, 1, 1, 2, 3, 2, 1, 2, 3, 3, 1, 1, 1, 2, 3, 3, 1, 3, 3, 2, 3, 1, 2, 3, 1, 1, 2, 1, 2, 3, 2, 1, 2, 1, 3, 3, 2, 1, 2, 3, 3, 1, 2, 2, 3, 1, 3, 2, 2, 3, 1, 2, 1, 1, 3, 3, 1, 1, 1, 1, 3, 3, 3, 2, 2, 2, 2, 1, 3, 2, 2, 1, 2, 3, 2, 2, 3, 3, 2, 2, 3, 1, 2, 1, 3, 3, 2, 1, 3, 3, 1, 1, 1, 1, 1, 2, 3, 2, 1, 1, 1, 1, 2, 2, 2, 1, 3, 3, 1, 1, 1, 2, 1, 1, 1, 1, 1, 3, 3, 3, 2, 1, 1, 1, 2, 2, 2, 2, 1, 3, 1, 3, 1, 1, 2, 3, 1, 2, 1, 3, 2, 2, 3, 3, 1, 1, 3, 1, 1, 1, 2, 2, 3, 1, 3, 2, 3, 2, 2, 2, 1, 2, 3, 1, 1, 1, 2, 1, 2, 2, 3, 1, 3, 1, 2, 1, 3, 3, 1, 3, 1, 3, 2, 1, 2, 3, 2, 1, 1, 3, 2, 2, 2, 1, 1, 2, 2, 2, 2, 1, 3, 1, 3, 2, 2, 2, 2, 3, 2, 1, 1, 2, 3, 2, 3, 1, 2, 1, 1, 1, 1, 3, 3, 1, 1, 3, 3, 2, 2, 2, 1, 1, 3, 1, 2, 1, 2, 3, 1, 1, 2, 1, 1, 2, 1, 1, 2, 1, 2, 1, 2, 1, 2, 1, 1, 3, 1, 2, 1, 1, 2, 3, 2, 2, 3, 1, 2, 3, 2, 3, 2, 3, 2, 3, 2, 1, 3, 1, 3, 3, 3, 1, 3, 3, 3, 3, 2, 3, 1, 1, 2, 3, 1, 3, 3, 1, 1, 1, 3, 2, 2, 2, 1, 1, 3, 3, 1, 1, 3, 1, 3, 1, 1, 1, 2, 1, 3, 2, 3, 3, 1, 2, 1, 2, 1, 3, 2, 1, 3, 1, 2, 2, 1, 2, 1, 2, 1, 2, 2, 1, 1, 1, 2, 1, 3, 1, 3, 3, 3, 1, 3, 2, 1, 2, 1, 1, 2, 3, 1, 1, 1, 2, 1, 3, 3, 1, 2, 1, 2, 2, 1, 2, 2, 3, 2, 1, 1, 1, 1, 3, 3, 2, 1, 1, 3, 1, 2, 3, 2, 2, 1, 1, 1, 2, 3, 3, 3, 2, 2, 1, 3, 2, 2, 3, 3, 3, 2, 3, 1, 1, 3, 2, 1, 3, 1, 3, 2, 1, 1, 2, 3, 3, 2, 3, 1, 3, 3, 1, 3, 1, 3, 1, 2, 1, 3, 2, 2, 3, 2, 2, 1, 2, 2, 2, 1, 2, 1, 3, 2, 1, 2, 1, 2, 1, 1, 3, 2, 1, 3, 2, 3, 2, 1, 2, 3, 2, 3, 2, 1, 1, 3, 3, 2, 2, 1, 1, 3, 3, 2, 1, 3, 2, 3, 1, 3, 1, 2, 1, 1, 2, 2, 1, 2, 2, 3, 1, 3, 1, 1, 3, 3, 2, 2, 2, 3, 3, 3, 3, 3, 1, 1, 1, 3, 2, 1, 3, 1, 2, 1, 3, 2, 3, 1, 2, 3, 2, 3, 3, 1, 3, 3, 2, 3, 2, 3, 3, 3, 1, 3, 3, 2, 1, 2, 1, 1, 2, 1, 3, 1, 2, 1, 1, 3, 3, 1, 3, 3, 3, 2, 2, 1, 1, 1, 3, 1, 1, 3, 2, 2, 1, 2, 1, 2, 2, 1, 2, 3, 3, 2, 2, 3, 2, 3, 1, 2, 3, 2, 2, 2, 3, 1, 3, 3, 3, 1, 1, 1, 3, 2, 3, 3, 1, 1, 3, 2, 2, 3, 2, 1, 2, 2, 1, 3, 2, 1, 2, 3, 2, 1, 3, 2, 1, 3, 1, 1, 2, 1, 3, 1, 3, 2, 1, 3, 3, 3, 2, 1, 3, 1, 3, 1, 3, 1, 3, 1, 3, 1, 1, 1, 3, 1, 1, 1, 3, 2, 1, 3, 3, 1, 2, 3, 3, 3, 2, 3, 3, 3, 1, 3, 1, 2, 2, 3, 3, 2, 2, 2, 2, 3, 3, 1, 3, 1, 3, 2, 1, 1, 3, 2, 3, 1, 3, 1, 1, 1, 2, 2, 1, 2, 2, 3, 2, 1, 1, 1, 1, 2, 3, 3, 3, 1, 2, 2, 1, 3, 2, 1, 3, 1, 1, 3, 3, 1, 2, 2, 3, 1, 2, 3, 1, 3, 3, 3, 2, 1, 3, 1, 2, 1, 1, 3, 3, 3, 2, 1, 1, 3, 3, 3, 2, 3, 1, 3, 1, 1, 3, 2, 2, 3, 1, 2, 3, 3, 3, 2, 1, 3, 2, 1, 3, 2, 1, 3, 1, 3, 1, 1, 1, 3, 1, 2, 1, 1, 1, 3, 2, 3, 2, 2, 3, 1, 3, 2, 2, 2, 2, 1, 1, 3, 3, 2, 1, 3, 1, 2, 3, 1, 1, 1, 1, 2, 1, 2, 1, 1, 2, 1, 1, 1, 1, 2, 1, 3, 3, 3, 2, 3, 1, 1, 3, 2, 3, 3, 3, 1, 2, 3, 1, 3, 3, 2, 2, 1, 2, 1, 2, 2, 1, 3, 3, 3, 2, 3, 2, 2, 1, 1, 2, 3, 2, 2, 2, 2, 3, 2, 3, 3, 3, 3, 2, 2, 3, 2, 3, 2, 1, 1, 2, 3, 2, 2, 3, 2, 2, 3, 2, 2, 1, 3, 2, 2, 2, 1, 2, 1, 3, 1, 1, 3, 1, 1, 3, 1, 3, 3, 2, 2, 1, 1, 2, 1, 2, 2, 2, 1, 3, 2, 3, 1, 3, 2, 2, 2, 3, 1, 1, 1, 1, 3, 3, 1, 2, 2, 1, 2, 3, 1, 2, 3, 1, 1, 1, 1, 3, 1, 2, 3, 3, 1, 1, 1, 3, 3, 2, 2, 1, 1, 1, 2, 2, 2, 3, 3, 2, 3, 1, 2, 2, 3, 2, 1, 3, 1, 2, 3, 3, 1, 1, 1, 2, 3, 1, 2, 2, 1, 3, 3, 3, 1, 3, 2, 3, 2, 1, 2, 1, 1, 1, 1, 2, 1, 3, 2, 3, 2, 1, 2, 2, 1, 1, 2, 1, 1, 3, 1, 2, 3, 2, 3, 3, 3, 2, 2, 1, 3, 1, 2, 3, 2, 3, 2, 1, 2, 2, 1, 1, 3, 2, 3, 1, 2, 2, 3, 2, 3, 3, 1, 1, 2, 1, 1, 2, 2, 3, 2, 1, 1, 1, 3, 2, 1, 3, 1, 3, 3, 2, 3, 3, 1, 2, 3, 1, 3, 2, 2, 1, 1, 2, 2, 1, 3, 3, 2, 1, 3, 1, 2, 1, 2, 1, 3, 1, 2, 3, 1, 2, 2, 2, 2, 1, 1, 3, 2, 3, 2, 2, 3, 1, 1, 1, 2, 3, 1, 3, 1, 1, 3, 1, 1, 3, 3, 2, 3, 2, 1, 2, 1, 1, 2, 3, 1, 2, 2, 3, 2, 3, 1, 2, 1, 1, 2, 3, 3, 3, 2, 3, 2, 1, 2, 3, 2, 1, 3, 3, 3, 3, 3, 3, 1, 1, 3, 3, 1, 1, 1, 3, 3, 1, 3, 1, 2, 2, 1, 2, 3, 2, 2, 3, 1, 3, 3, 3, 1, 1, 1, 1, 2, 1, 2, 1, 1, 3, 2, 2, 1, 1, 1, 1, 3, 1, 3, 1, 2, 3, 2, 1, 3, 2, 2, 1, 3, 2, 1, 1, 3, 2, 3, 1, 2, 2, 2, 2, 1, 1, 3, 2, 3, 3, 3, 1, 2, 2, 1, 1, 3, 2, 1, 1, 1, 2, 3, 3, 1, 2, 3, 1, 2, 2, 2, 2, 3, 1, 3, 2, 3, 1, 2, 2, 3, 3, 2, 3, 1, 1, 1, 1, 2, 3, 2, 3, 1, 3, 2, 3, 2, 2, 3, 1, 3, 1, 3, 1, 3, 1, 2, 1, 2, 1, 2, 1, 1, 2, 2, 3, 1, 3, 2, 3, 2, 3, 1, 1, 1, 2, 3, 3, 3, 3, 2, 1, 1, 3, 3, 3, 1, 2, 3, 1, 2, 3, 2, 2, 2, 2, 1, 3, 2, 3, 3, 2, 2, 3, 2, 2, 3, 1, 3, 1, 2, 2, 3, 3, 1, 3, 3, 2, 3, 2, 1, 1, 3, 1, 2, 2, 3, 3, 3, 2, 2, 1, 3, 3, 3, 2, 3, 3, 3, 1, 3, 2, 2, 3, 3, 2, 3, 2, 1, 1, 1, 3, 1, 1, 1, 1, 1, 2, 1, 2, 3, 2, 3, 1, 3, 1, 3, 3, 3, 2, 2, 3, 1, 1, 2, 2, 3, 3, 2, 1, 1, 3, 1, 2, 2, 3, 3, 3, 3, 3, 2, 2, 1, 2, 2, 2, 3, 2, 3, 2, 1, 2, 1, 1, 1, 2, 2, 2, 2, 3, 2, 3, 3, 3, 3, 1, 2, 1, 1, 2, 3, 2, 2, 1, 2, 2, 3, 3, 1, 1, 3, 1, 3, 3, 2, 3, 2, 2, 2, 1, 1, 3, 1, 2, 1, 2, 3, 1, 3, 2, 1, 2, 2, 2, 2, 3, 3, 3, 2, 1, 2, 1, 2, 1, 3, 2, 1, 3, 3, 3, 2, 2, 3, 3, 3, 1, 3, 2, 1, 1, 2, 1, 1, 3, 3, 3, 2, 3, 3, 3, 2, 1, 1, 2, 1, 2, 3, 1, 3, 1, 3, 2, 1, 1, 2, 3, 2, 2, 1, 2, 1, 3, 1, 1, 3, 1, 1, 2, 3, 2, 1, 1, 2, 1, 3, 2, 2, 3, 2, 3, 1, 3, 2, 1, 1, 1, 3, 2, 1, 2, 2, 3, 3, 3, 3, 3, 2, 2, 3, 1, 2, 3, 1, 1, 2, 2, 1, 1, 2, 3, 1, 3, 3, 3, 3, 2, 1, 2, 3, 2, 3, 2, 1, 1, 3, 3, 3, 3, 3, 2, 2, 2, 3, 1, 3, 3, 2, 2, 1, 1, 2, 2, 1, 2, 1, 3, 2, 3, 2, 3, 1, 1, 2, 1, 2, 3, 3, 3, 1, 1, 2, 2, 3, 3, 3, 2, 1, 2, 1, 3, 1, 1, 1, 2, 1, 1, 3, 3, 2, 3, 3, 1, 3, 3, 3, 1, 1, 3, 3, 3, 3, 2, 3, 1, 1, 3, 2, 3, 1, 2, 1, 3, 2, 1, 2, 2, 1, 2, 2, 1, 2, 3, 2, 3, 1, 3, 1, 2, 1, 1, 2, 1, 1, 2, 3, 1, 3, 3, 2, 3, 1, 2, 2, 2, 1, 1, 1, 3, 3, 2, 1, 1, 3, 2, 3, 3, 3, 2, 2, 2, 1, 3, 3, 3, 3, 1, 3, 3, 3, 2, 3, 2, 3, 3, 2, 2, 3, 3, 1, 2, 2, 2, 2, 3, 2, 3, 2, 2, 2, 2, 1, 1, 1, 1, 1, 2, 1, 3, 2, 2, 2, 2, 2, 3, 1, 2, 3, 3, 3, 2, 2, 2, 2, 1, 3, 3, 2, 2, 1, 3, 2, 2, 1, 2, 2, 1, 1, 1, 2, 3, 3, 2, 3, 2, 2, 1, 2, 3, 2, 3, 2, 2, 1, 1, 3, 2, 3, 1, 1, 3, 3, 2, 2, 2, 3, 2, 2, 1, 1, 1, 1, 2, 2, 1, 1, 1, 3, 1, 2, 1, 2, 1, 2, 3, 2, 3, 1, 3, 1, 2, 1, 3, 3, 2, 2, 3, 1, 1, 1, 3, 3, 3, 3, 3, 3, 2, 2, 3, 1, 3, 1, 3, 1, 1, 1, 1, 1, 2, 1, 3, 2, 2, 3, 1, 1, 2, 2, 2, 2, 2, 1, 1, 1, 3, 3, 2, 1, 2, 3, 3, 1, 1, 2, 2, 2, 2, 3, 1, 1, 1, 2, 2, 1, 2, 1, 2, 2, 1, 1, 1, 3, 1, 1, 2, 3, 2, 3, 1, 2, 3, 2, 1, 1, 2, 2, 3, 1, 2, 1, 1, 3, 1, 1, 1, 2, 1, 3, 1, 2, 3, 2, 3, 3, 2, 3, 2, 1, 1, 3, 2, 3, 1, 3, 3, 3, 3, 2, 3, 3, 3, 2, 2, 1, 2, 1, 3, 3, 2, 3, 1, 1, 2, 1, 2, 2, 1, 1, 3, 2, 1, 1, 3, 1, 1, 3, 1, 3, 3, 3, 2, 1, 3, 1, 2, 1, 2, 2, 1, 1, 1, 3, 1, 2, 2, 2, 3, 3, 1, 1, 1, 3, 1, 2, 2, 1, 1, 1, 3, 3, 3, 2, 3, 2, 2, 3, 3, 3, 2, 1, 3, 2, 3, 1, 2, 1, 1, 1, 3, 2, 3, 2, 1, 2, 3, 2, 2, 2, 1, 3, 2, 1, 3, 2, 2, 1, 1, 2, 1, 2, 1, 1, 1, 1, 3, 1, 3, 1, 1, 2, 3, 3, 3, 2, 1, 2, 2, 3, 2, 1, 2, 1, 1, 1, 3, 2, 2, 1, 3, 1, 2, 3, 2, 2, 2, 3, 3, 2, 1, 3, 1, 3, 3, 3, 2, 3, 2, 1, 3, 2, 1, 2, 3, 2, 2, 3, 3, 3, 2, 3, 1, 3, 1, 3, 2, 3, 2, 2, 3, 1, 3, 1, 2, 1, 2, 2, 1, 3, 2, 1, 2, 2, 3, 3, 1, 2, 2, 1, 2, 1, 2, 3, 3, 3, 1, 1, 2, 3, 1, 1, 2, 1, 3, 3, 2, 3, 3, 1, 1, 3, 2, 3, 2, 2, 3, 1, 3, 3, 3, 1, 1, 3, 1, 1, 2, 2, 1, 2, 1, 2, 1, 2, 1, 3, 1, 1, 3, 2, 3, 2, 1, 3, 2, 3, 2, 1, 2, 1, 2, 2, 1, 3, 1, 2, 2, 1, 2, 2, 2, 3, 3, 3, 2, 1, 3, 1, 3, 1, 1, 3, 3, 2, 2, 1, 2, 1, 3, 1, 2, 3, 2, 3, 2, 1, 1, 2, 2, 1, 1, 2, 2, 2, 2, 2, 1, 3, 1, 2, 1, 1, 2, 2, 2, 1, 2, 1, 3, 1, 2, 2, 3, 3, 1, 2, 1, 3, 3, 1, 3, 2, 3, 3, 2, 3, 1, 1, 3, 3, 3, 3, 1, 1, 2, 2, 1, 3, 1, 1, 1, 2, 1, 2, 2, 2, 1, 3, 1, 1, 2, 2, 1, 3, 2, 1, 2, 2, 3, 1, 1, 2, 3, 2, 2, 3, 3, 3, 1, 2, 2, 2, 2, 3, 1, 1, 3, 1, 1, 3, 1, 1, 2, 2, 3, 3, 2, 2, 1, 3, 3, 3, 1, 3, 1, 2, 2, 1, 3, 3, 2, 2, 3, 1, 1, 2, 3, 3, 1, 1, 2, 2, 2, 3, 1, 2, 2, 2, 1, 3, 2, 1, 2, 3, 3, 3, 2, 2, 2, 2, 3, 1, 3, 2, 1, 1, 2, 1, 1, 3, 1, 2, 1, 2, 2, 3, 3, 3, 1, 2, 1, 3, 1, 2, 1, 1, 2, 3, 2, 3, 1, 2, 1, 3, 2, 3, 1, 2, 1, 1, 1, 2, 2, 1, 2, 1, 1, 2, 2, 1, 1, 2, 3, 3, 2, 3, 1, 3, 2, 2, 1, 2, 3, 3, 1, 2, 2, 3, 2, 1, 1, 3, 3, 2, 1, 2, 3, 2, 1, 2, 1, 2, 2, 1, 1, 1, 2, 2, 1, 3, 3, 2, 2, 3, 3, 1, 3, 1, 2, 3, 2, 3, 3, 3, 2, 2, 1, 3, 3, 1, 2, 1, 1, 3, 3, 2, 1, 2, 1, 2, 2, 3, 2, 1, 3, 3, 2, 3, 3, 3, 2, 1, 3, 1, 2, 2, 3, 3, 1, 2, 2, 3, 2, 2, 2, 2, 3, 3, 2, 2, 1, 1, 1, 2, 2, 3, 1, 2, 1, 2, 3, 1, 2, 2, 2, 3, 3, 3, 2, 1, 2, 3, 3, 3, 2, 1, 3, 2, 1, 1, 1, 1, 3, 1, 1, 2, 3, 3, 1, 2, 3, 3, 3, 3, 1, 3, 3, 2, 2, 1, 1, 2, 3, 1, 1, 1, 1, 2, 2, 2, 1, 2, 1, 3, 2, 1, 3, 2, 2, 1, 3, 1, 2, 3, 1, 3, 1, 2, 3, 2, 2, 2, 2, 3, 1, 3, 2, 2, 1, 2, 2, 2, 2, 3, 1, 3, 2, 1]\n"
     ]
    }
   ],
   "source": [
    "'''\n",
    "limiting the maximum review length to 20 by truncating longer reviews and padding\n",
    "shorter reviews with a null value (0)\n",
    "'''\n",
    "print(w2v_pretrain_train_x[0], w2v_pretrain_train_y)\n"
   ]
  }
 ],
 "metadata": {
  "kernelspec": {
   "display_name": "Python 3 (ipykernel)",
   "language": "python",
   "name": "python3"
  },
  "language_info": {
   "codemirror_mode": {
    "name": "ipython",
    "version": 3
   },
   "file_extension": ".py",
   "mimetype": "text/x-python",
   "name": "python",
   "nbconvert_exporter": "python",
   "pygments_lexer": "ipython3",
   "version": "3.10.4"
  }
 },
 "nbformat": 4,
 "nbformat_minor": 5
}
