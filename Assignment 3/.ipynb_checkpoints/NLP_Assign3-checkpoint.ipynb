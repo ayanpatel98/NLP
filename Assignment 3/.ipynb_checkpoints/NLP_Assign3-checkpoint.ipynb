{
 "cells": [
  {
   "cell_type": "markdown",
   "metadata": {
    "id": "KfeUuCmyJ9iP"
   },
   "source": [
    "Word Representation -> One Hot Vector with padding\n",
    "\n",
    "Training Model ->\n",
    "\n",
    "Bi-LSTM with dropouts"
   ]
  },
  {
   "cell_type": "code",
   "execution_count": null,
   "metadata": {
    "id": "cJ3comhk8KrH"
   },
   "outputs": [],
   "source": []
  },
  {
   "cell_type": "code",
   "execution_count": null,
   "metadata": {
    "id": "FKlVrj0o-jSw"
   },
   "outputs": [],
   "source": [
    "%matplotlib inline\n",
    "import numpy as np\n",
    "import matplotlib.pyplot as plt\n",
    "from sklearn.datasets import load_files\n",
    "from sklearn.feature_extraction.text import TfidfVectorizer\n",
    "from sklearn.naive_bayes import MultinomialNB\n",
    "from sklearn.metrics import classification_report, accuracy_score\n",
    "from sklearn.feature_extraction.text import CountVectorizer\n",
    "from sklearn.naive_bayes import MultinomialNB\n",
    "from sklearn.metrics import classification_report, accuracy_score\n",
    "from keras.datasets import imdb\n",
    "from keras.preprocessing.text import Tokenizer\n",
    "from keras import models\n",
    "from keras import layers\n",
    "import tensorflow as tf\n",
    "from tensorflow.keras.layers import Embedding\n",
    "from tensorflow.keras.preprocessing.sequence import pad_sequences\n",
    "from tensorflow.keras.models import Sequential\n",
    "from tensorflow.keras.preprocessing.text import one_hot\n",
    "from tensorflow.keras.layers import LSTM\n",
    "from tensorflow.keras.layers import Dense\n",
    "from tensorflow.keras.layers import Bidirectional\n",
    "from tensorflow.keras.layers import Dropout\n"
   ]
  },
  {
   "cell_type": "code",
   "execution_count": null,
   "metadata": {
    "id": "FnchWXnE_z3O"
   },
   "outputs": [],
   "source": [
    "train, dev, test = [], [], []\n",
    "\n",
    "for x in open('sample_data/train_enc.tsv', encoding='utf-8'):\n",
    "    x = x.rstrip('\\n\\r').split('\\t')\n",
    "    # x[0] will be the label (0 or 1), and x[1] will be the ciphertext sentence.\n",
    "    x[0] = int(x[0]) \n",
    "    train.append(x)\n",
    "#print (len(train))\n",
    "#print (train[:3])\n",
    "\n",
    "for x in open('sample_data/dev_enc.tsv', encoding='utf-8'):\n",
    "    x = x.rstrip('\\n\\r').split('\\t')\n",
    "    # x[0] will be the label (0 or 1), and x[1] will be the ciphertext sentence.\n",
    "    x[0] = int(x[0]) \n",
    "    dev.append(x)\n",
    "#print (len(dev))\n",
    "#print (dev[:3])\n",
    "x_train = []\n",
    "y_train = []\n",
    "\n",
    "for z in train:\n",
    "    x_train.append(z[1])\n",
    "    y_train.append(z[0])\n",
    "\n",
    "    \n",
    "x_dev = []\n",
    "y_dev = []\n",
    "\n",
    "for z in dev:\n",
    "    x_dev.append(z[1])\n",
    "    y_dev.append(z[0])\n"
   ]
  },
  {
   "cell_type": "code",
   "execution_count": null,
   "metadata": {
    "id": "PekzMrdP_7yT"
   },
   "outputs": [],
   "source": []
  },
  {
   "cell_type": "code",
   "execution_count": null,
   "metadata": {
    "colab": {
     "base_uri": "https://localhost:8080/"
    },
    "id": "Wk3gMfDH_74T",
    "outputId": "29242956-db92-4c73-a978-0ff64c21555b"
   },
   "outputs": [
    {
     "name": "stdout",
     "output_type": "stream",
     "text": [
      "Model: \"sequential_2\"\n",
      "_________________________________________________________________\n",
      " Layer (type)                Output Shape              Param #   \n",
      "=================================================================\n",
      " embedding (Embedding)       (None, 40, 80)            400000    \n",
      "                                                                 \n",
      " dropout (Dropout)           (None, 40, 80)            0         \n",
      "                                                                 \n",
      " bidirectional (Bidirectiona  (None, 400)              449600    \n",
      " l)                                                              \n",
      "                                                                 \n",
      " dropout_1 (Dropout)         (None, 400)               0         \n",
      "                                                                 \n",
      " dense (Dense)               (None, 1)                 401       \n",
      "                                                                 \n",
      "=================================================================\n",
      "Total params: 850,001\n",
      "Trainable params: 850,001\n",
      "Non-trainable params: 0\n",
      "_________________________________________________________________\n",
      "None\n"
     ]
    }
   ],
   "source": [
    "##model with dropouts\n",
    "##creating the model\n",
    "vocabulary_size = 5000\n",
    "sent_length = 40\n",
    "from tensorflow.keras.layers import Dropout\n",
    "embedding_feature_vector = 80#sentence will be represented in 80 dimensions\n",
    "model1 = Sequential()\n",
    "model1.add(Embedding(vocabulary_size, embedding_feature_vector, input_length = sent_length))\n",
    "#model.add(LSTM(100))\n",
    "model1.add(Dropout(0.3))\n",
    "model1.add(Bidirectional(LSTM(200)))\n",
    "model1.add(Dropout(0.3))\n",
    "model1.add(Dense(1,activation='sigmoid'))\n",
    "model1.compile(loss='binary_crossentropy',optimizer='adam',metrics=['accuracy'])\n",
    "print(model1.summary())\n"
   ]
  },
  {
   "cell_type": "code",
   "execution_count": null,
   "metadata": {
    "colab": {
     "base_uri": "https://localhost:8080/"
    },
    "id": "fnaPrPpLASvc",
    "outputId": "222202d0-dddd-4f0e-bad8-d555fad5950a"
   },
   "outputs": [
    {
     "name": "stdout",
     "output_type": "stream",
     "text": [
      "[[   0    0    0 ... 2812 1508 4228]\n",
      " [   0    0    0 ... 4517  326 2006]\n",
      " [   0    0    0 ... 1501   21  282]\n",
      " ...\n",
      " [   0    0    0 ... 1333 4139 2195]\n",
      " [   0    0    0 ... 2080 3018 4932]\n",
      " [   0    0    0 ...  152  792 4953]]\n"
     ]
    }
   ],
   "source": [
    "onehotrep = [one_hot(words,vocabulary_size) for words in x_train]\n",
    "embedded_docs = pad_sequences(onehotrep,padding = 'pre',maxlen= sent_length)\n",
    "print(embedded_docs)\n",
    "\n",
    "import numpy as np\n",
    "training_x = np.array(embedded_docs)\n",
    "training_y = np.array(y_train)\n",
    "\n",
    "onehotrep_dev = [one_hot(words,vocabulary_size) for words in x_dev]\n",
    "sent_length = 40\n",
    "embedded_docs_dev = pad_sequences(onehotrep_dev,padding = 'pre',maxlen= sent_length)\n",
    "\n",
    "\n",
    "dev_x = np.array(embedded_docs_dev)\n",
    "dev_y = np.array(y_dev)"
   ]
  },
  {
   "cell_type": "code",
   "execution_count": null,
   "metadata": {
    "id": "eZykhcsDDc8_"
   },
   "outputs": [],
   "source": []
  },
  {
   "cell_type": "code",
   "execution_count": null,
   "metadata": {
    "colab": {
     "base_uri": "https://localhost:8080/"
    },
    "id": "4A-90a81A2qN",
    "outputId": "efcbd71e-5329-4286-856c-eb2244e6e72d"
   },
   "outputs": [
    {
     "name": "stdout",
     "output_type": "stream",
     "text": [
      "Epoch 1/10\n",
      "507/507 [==============================] - 72s 133ms/step - loss: 0.5701 - accuracy: 0.6924 - val_loss: 0.4676 - val_accuracy: 0.7824\n",
      "Epoch 2/10\n",
      "507/507 [==============================] - 65s 128ms/step - loss: 0.3918 - accuracy: 0.8318 - val_loss: 0.4307 - val_accuracy: 0.8125\n",
      "Epoch 3/10\n",
      "507/507 [==============================] - 65s 127ms/step - loss: 0.3031 - accuracy: 0.8759 - val_loss: 0.4150 - val_accuracy: 0.8362\n",
      "Epoch 4/10\n",
      "507/507 [==============================] - 65s 128ms/step - loss: 0.2419 - accuracy: 0.9035 - val_loss: 0.4562 - val_accuracy: 0.8387\n",
      "Epoch 5/10\n",
      "507/507 [==============================] - 66s 131ms/step - loss: 0.2016 - accuracy: 0.9213 - val_loss: 0.4564 - val_accuracy: 0.8436\n",
      "Epoch 6/10\n",
      "507/507 [==============================] - 65s 128ms/step - loss: 0.1791 - accuracy: 0.9310 - val_loss: 0.4913 - val_accuracy: 0.8446\n",
      "Epoch 7/10\n",
      "507/507 [==============================] - 67s 132ms/step - loss: 0.1473 - accuracy: 0.9435 - val_loss: 0.5264 - val_accuracy: 0.8476\n",
      "Epoch 8/10\n",
      "507/507 [==============================] - 67s 131ms/step - loss: 0.1292 - accuracy: 0.9519 - val_loss: 0.5629 - val_accuracy: 0.8481\n",
      "Epoch 9/10\n",
      "507/507 [==============================] - 67s 131ms/step - loss: 0.1132 - accuracy: 0.9558 - val_loss: 0.5808 - val_accuracy: 0.8505\n",
      "Epoch 10/10\n",
      "507/507 [==============================] - 73s 143ms/step - loss: 0.1039 - accuracy: 0.9613 - val_loss: 0.5752 - val_accuracy: 0.8515\n"
     ]
    },
    {
     "data": {
      "text/plain": [
       "<keras.callbacks.History at 0x7f29a18c74d0>"
      ]
     },
     "execution_count": 8,
     "metadata": {},
     "output_type": "execute_result"
    }
   ],
   "source": [
    "model1.fit(training_x, training_y, validation_data=(dev_x,dev_y),epochs = 10, batch_size = 32)"
   ]
  },
  {
   "cell_type": "code",
   "execution_count": null,
   "metadata": {
    "id": "AQpvuRpMDeaU"
   },
   "outputs": [],
   "source": [
    "test = []\n",
    "for x in open('sample_data/test_enc_unlabeled.tsv', encoding='utf-8'):\n",
    "    x = x.rstrip('\\n\\r')\n",
    "    test.append(x)\n",
    "\n",
    "onehotreptest = [one_hot(words,vocabulary_size) for words in test]\n",
    "embedded_docstest = pad_sequences(onehotreptest,padding = 'pre',maxlen= sent_length)\n",
    "\n",
    "testing_x = np.array(embedded_docstest)\n",
    "ans = model1.predict(testing_x)\n",
    "final_ans = []\n",
    "for x in range(len(ans)):\n",
    "    if ans[x] >=0.5:\n",
    "        final_ans.append(1)\n",
    "        #ans[x] = ans[x][1]\n",
    "    else:\n",
    "        final_ans.append(0)\n",
    "        #ans[x] = ans[x][1]\n",
    "#ans = ans.tolist()  \n",
    "#print(final_ans)      \n",
    "str_ans = \"\"\n",
    "for x in range(len(final_ans)):\n",
    "  str_ans+=str(final_ans[x])+\"\\n\"\n",
    "#print(ans[0])\n",
    "str_ans = str_ans[:-1]\n",
    "with open(\"output_answer_file\",'w',encoding='utf8') as f:\n",
    "  f.write(str_ans)\n",
    "\n",
    "  \n",
    "\n",
    "#model1.predict()"
   ]
  },
  {
   "cell_type": "markdown",
   "metadata": {
    "id": "rVFECWP6KWT-"
   },
   "source": [
    "Word representation -> bag of words\n",
    "\n",
    "Training Model ->\n",
    "Bidirectional GRU\n"
   ]
  },
  {
   "cell_type": "code",
   "execution_count": null,
   "metadata": {
    "id": "aujuEWQSLjGN"
   },
   "outputs": [],
   "source": [
    "import tensorflow as tf\n",
    "from tensorflow.keras.preprocessing.text import Tokenizer\n",
    "from tensorflow.keras.preprocessing.sequence import pad_sequences\n",
    "from tensorflow.keras.models import Sequential\n",
    "from tensorflow.keras.layers import Embedding, Dense, GRU, Dropout, Bidirectional, SpatialDropout1D\n",
    "from tensorflow.keras.utils import to_categorical"
   ]
  },
  {
   "cell_type": "code",
   "execution_count": null,
   "metadata": {
    "id": "N3pJ-RAZLvg7"
   },
   "outputs": [],
   "source": [
    "tokenizer = Tokenizer()\n",
    "tokenizer.fit_on_texts(x_train)"
   ]
  },
  {
   "cell_type": "code",
   "execution_count": null,
   "metadata": {
    "id": "Ngeuao2gL7Tc"
   },
   "outputs": [],
   "source": [
    "vocabulary_size = len(tokenizer.word_index) + 1\n",
    "row_max_length = max([len(x.split()) for x in x_train])"
   ]
  },
  {
   "cell_type": "code",
   "execution_count": null,
   "metadata": {
    "id": "eRSE21rDL-kT"
   },
   "outputs": [],
   "source": [
    "X_train_tokens = tokenizer.texts_to_sequences(x_train)\n",
    "X_test_tokens = tokenizer.texts_to_sequences(x_dev)"
   ]
  },
  {
   "cell_type": "code",
   "execution_count": null,
   "metadata": {
    "id": "FlgUA-OdMRN2"
   },
   "outputs": [],
   "source": [
    "X_train_pad = pad_sequences(X_train_tokens, maxlen=row_max_length, padding='post')\n",
    "X_test_pad = pad_sequences(X_test_tokens, maxlen=row_max_length, padding='post')"
   ]
  },
  {
   "cell_type": "code",
   "execution_count": null,
   "metadata": {
    "id": "J0aYwJruMw5H"
   },
   "outputs": [],
   "source": [
    "y_train_cat = to_categorical(y_train)\n",
    "y_test_cat = to_categorical(y_dev)\n",
    "target_length = y_train_cat.shape[1]"
   ]
  },
  {
   "cell_type": "code",
   "execution_count": null,
   "metadata": {
    "id": "bMRrVCwcMYzF"
   },
   "outputs": [],
   "source": [
    "EMBEDDING_DIM = 256\n",
    "\n",
    "model = Sequential()\n",
    "model.add(Embedding(vocabulary_size, EMBEDDING_DIM, input_length=row_max_length))\n",
    "model.add(SpatialDropout1D(0.2))\n",
    "model.add(Bidirectional(GRU(128)))\n",
    "model.add(Dense(128, activation='relu'))\n",
    "model.add(Dropout(0.2))\n",
    "model.add(Dense(target_length, activation='softmax'))\n",
    "model.compile(loss='categorical_crossentropy', optimizer='adam', metrics=['accuracy'])"
   ]
  },
  {
   "cell_type": "code",
   "execution_count": null,
   "metadata": {
    "colab": {
     "base_uri": "https://localhost:8080/"
    },
    "id": "zWljyU9NMsq3",
    "outputId": "2896abc5-5c8a-4777-d9e2-a7d23bddfe97"
   },
   "outputs": [
    {
     "name": "stdout",
     "output_type": "stream",
     "text": [
      "Epoch 1/5\n",
      "127/127 [==============================] - 47s 373ms/step - loss: 0.0170 - accuracy: 0.9881 - val_loss: 1.3628 - val_accuracy: 0.8683\n",
      "Epoch 2/5\n",
      "127/127 [==============================] - 47s 373ms/step - loss: 0.0169 - accuracy: 0.9879 - val_loss: 1.4042 - val_accuracy: 0.8673\n"
     ]
    }
   ],
   "source": [
    "callback = tf.keras.callbacks.EarlyStopping(monitor='val_loss', patience=1)\n",
    "history = model.fit(X_train_pad, y_train_cat, epochs=5, validation_data=(X_test_pad, y_test_cat), batch_size=128, callbacks=[callback])\n",
    "#history = model.fit(X_train_pad, y_train_cat, epochs=10, validation_data=(X_test_pad, y_test_cat), batch_size=32)"
   ]
  },
  {
   "cell_type": "code",
   "execution_count": null,
   "metadata": {
    "id": "uU8v_eyqM8Fx"
   },
   "outputs": [],
   "source": []
  },
  {
   "cell_type": "markdown",
   "metadata": {
    "id": "A9fhonf3sbR8"
   },
   "source": [
    "Tf-idf vector\n",
    "\n",
    "SVM\n"
   ]
  },
  {
   "cell_type": "code",
   "execution_count": null,
   "metadata": {
    "colab": {
     "base_uri": "https://localhost:8080/"
    },
    "id": "vvO4ydIrYQNR",
    "outputId": "bdd243a8-d72f-4e29-e691-f3adf928c14a"
   },
   "outputs": [
    {
     "data": {
      "text/plain": [
       "TfidfVectorizer(decode_error='ignore')"
      ]
     },
     "execution_count": 22,
     "metadata": {},
     "output_type": "execute_result"
    }
   ],
   "source": [
    "from sklearn.feature_extraction.text import TfidfVectorizer\n",
    "#vectorizer = TfidfVectorizer(max_features = 10000, decode_error=\"ignore\")\n",
    "vectorizer = TfidfVectorizer(decode_error=\"ignore\")\n",
    "vectorizer.fit(x_train)"
   ]
  },
  {
   "cell_type": "code",
   "execution_count": null,
   "metadata": {
    "colab": {
     "base_uri": "https://localhost:8080/"
    },
    "id": "Z7q_ekdDYxt4",
    "outputId": "2b9539c1-809c-4d77-b7f7-cab216402f71"
   },
   "outputs": [
    {
     "data": {
      "text/plain": [
       "SVC()"
      ]
     },
     "execution_count": 23,
     "metadata": {},
     "output_type": "execute_result"
    }
   ],
   "source": [
    "from sklearn import svm\n",
    "cls = svm.SVC()\n",
    "cls.fit(vectorizer.transform(x_train),y_train)"
   ]
  },
  {
   "cell_type": "code",
   "execution_count": null,
   "metadata": {
    "colab": {
     "base_uri": "https://localhost:8080/"
    },
    "id": "mSS0oiunY6QR",
    "outputId": "5a5d30f7-1e1c-4619-b86b-302243d0b1d3"
   },
   "outputs": [
    {
     "name": "stdout",
     "output_type": "stream",
     "text": [
      "              precision    recall  f1-score   support\n",
      "\n",
      "           0       0.81      0.82      0.81       952\n",
      "           1       0.84      0.83      0.83      1075\n",
      "\n",
      "    accuracy                           0.82      2027\n",
      "   macro avg       0.82      0.82      0.82      2027\n",
      "weighted avg       0.82      0.82      0.82      2027\n",
      "\n"
     ]
    }
   ],
   "source": [
    "from sklearn.metrics import classification_report, accuracy_score\n",
    "\n",
    "y_pred = cls.predict(vectorizer.transform(x_dev))\n",
    "print(classification_report(y_dev, y_pred))"
   ]
  },
  {
   "cell_type": "markdown",
   "metadata": {
    "id": "JlN7ZedwdP0d"
   },
   "source": []
  },
  {
   "cell_type": "markdown",
   "metadata": {
    "id": "MKvzDfX_aI7t"
   },
   "source": [
    "one-hot encoding + SVM"
   ]
  },
  {
   "cell_type": "code",
   "execution_count": null,
   "metadata": {
    "colab": {
     "base_uri": "https://localhost:8080/"
    },
    "id": "4emf7QgLaPKA",
    "outputId": "50614107-8a58-4006-d350-ec3e2546281f"
   },
   "outputs": [
    {
     "name": "stdout",
     "output_type": "stream",
     "text": [
      "[[   0    0    0 ... 2297 4482 4424]\n",
      " [   0    0    0 ... 1653 1000 2602]\n",
      " [   0    0    0 ... 3159 1126  303]\n",
      " ...\n",
      " [   0    0    0 ... 1335   55 3940]\n",
      " [   0    0    0 ... 2709 1579 4226]\n",
      " [   0    0    0 ... 2750 1667  649]]\n"
     ]
    }
   ],
   "source": [
    "vocabulary_size = 5000\n",
    "\n",
    "onehotrep = [one_hot(words,vocabulary_size) for words in x_train]\n",
    "sent_length = 40\n",
    "onehot = pad_sequences(onehotrep,padding = 'pre',maxlen= sent_length)\n",
    "print(onehot)"
   ]
  },
  {
   "cell_type": "code",
   "execution_count": null,
   "metadata": {
    "colab": {
     "base_uri": "https://localhost:8080/"
    },
    "id": "9lGzg0G1aeRl",
    "outputId": "5db43e12-d47b-43f4-b7c7-bcfaf3bd41e1"
   },
   "outputs": [
    {
     "data": {
      "text/plain": [
       "SVC()"
      ]
     },
     "execution_count": 10,
     "metadata": {},
     "output_type": "execute_result"
    }
   ],
   "source": [
    "from sklearn import svm\n",
    "cls = svm.SVC()\n",
    "cls.fit(onehot,y_train)"
   ]
  },
  {
   "cell_type": "code",
   "execution_count": null,
   "metadata": {
    "colab": {
     "base_uri": "https://localhost:8080/"
    },
    "id": "YGNTSdeHafGQ",
    "outputId": "214aa665-0133-4306-c544-9ad361ed7e35"
   },
   "outputs": [
    {
     "name": "stdout",
     "output_type": "stream",
     "text": [
      "0.53330044400592\n",
      "              precision    recall  f1-score   support\n",
      "\n",
      "           0       0.50      0.51      0.51       952\n",
      "           1       0.56      0.56      0.56      1075\n",
      "\n",
      "    accuracy                           0.53      2027\n",
      "   macro avg       0.53      0.53      0.53      2027\n",
      "weighted avg       0.53      0.53      0.53      2027\n",
      "\n"
     ]
    }
   ],
   "source": [
    "onehotrepdev = [one_hot(words,vocabulary_size) for words in x_dev]\n",
    "sent_length = 40\n",
    "onehotdev = pad_sequences(onehotrepdev,padding = 'pre',maxlen= sent_length)\n",
    "y_pred = cls.predict(onehotdev)\n",
    "print(accuracy_score(y_dev,y_pred))\n",
    "print(classification_report(y_dev, y_pred))"
   ]
  },
  {
   "cell_type": "code",
   "execution_count": null,
   "metadata": {
    "id": "M2MIiLYabQn7"
   },
   "outputs": [],
   "source": []
  },
  {
   "cell_type": "markdown",
   "metadata": {
    "id": "aHcApAl5bV1R"
   },
   "source": [
    "Count Vectorizer + SVM"
   ]
  },
  {
   "cell_type": "code",
   "execution_count": null,
   "metadata": {
    "colab": {
     "base_uri": "https://localhost:8080/"
    },
    "id": "oYLRNRZsbY3Z",
    "outputId": "e0996b9b-6c9d-48c0-9762-1ae592fcd56a"
   },
   "outputs": [
    {
     "data": {
      "text/plain": [
       "CountVectorizer(decode_error='ignore')"
      ]
     },
     "execution_count": 12,
     "metadata": {},
     "output_type": "execute_result"
    }
   ],
   "source": [
    "#vectorizer = TfidfVectorizer(max_features = 10000, decode_error=\"ignore\")\n",
    "vectorizer = CountVectorizer(decode_error=\"ignore\")\n",
    "vectorizer.fit(x_train)"
   ]
  },
  {
   "cell_type": "code",
   "execution_count": null,
   "metadata": {
    "colab": {
     "base_uri": "https://localhost:8080/"
    },
    "id": "ZHZXMlg7bc_S",
    "outputId": "40061a87-33d7-47d9-bea9-c3fd64bc89f6"
   },
   "outputs": [
    {
     "data": {
      "text/plain": [
       "SVC()"
      ]
     },
     "execution_count": 13,
     "metadata": {},
     "output_type": "execute_result"
    }
   ],
   "source": [
    "cls = svm.SVC()\n",
    "cls.fit(vectorizer.transform(x_train),y_train)"
   ]
  },
  {
   "cell_type": "code",
   "execution_count": null,
   "metadata": {
    "colab": {
     "base_uri": "https://localhost:8080/"
    },
    "id": "-tXbJlmZbkK0",
    "outputId": "dd817e7d-a319-4223-d886-22812e043746"
   },
   "outputs": [
    {
     "name": "stdout",
     "output_type": "stream",
     "text": [
      "0.8643315244203256\n",
      "              precision    recall  f1-score   support\n",
      "\n",
      "           0       0.84      0.88      0.86       952\n",
      "           1       0.89      0.85      0.87      1075\n",
      "\n",
      "    accuracy                           0.86      2027\n",
      "   macro avg       0.86      0.87      0.86      2027\n",
      "weighted avg       0.87      0.86      0.86      2027\n",
      "\n"
     ]
    }
   ],
   "source": [
    "y_pred = cls.predict(vectorizer.transform(x_dev))\n",
    "print(accuracy_score(y_dev,y_pred))\n",
    "print(classification_report(y_dev, y_pred))"
   ]
  },
  {
   "cell_type": "code",
   "execution_count": null,
   "metadata": {
    "id": "Mj6T1Jv7b_sm"
   },
   "outputs": [],
   "source": []
  },
  {
   "cell_type": "markdown",
   "metadata": {
    "id": "XfcbXdLNdQwS"
   },
   "source": [
    "Tf-idf + SGD (Stochastic Gradient Descent)"
   ]
  },
  {
   "cell_type": "code",
   "execution_count": null,
   "metadata": {
    "id": "A2cb9A5CdVOL"
   },
   "outputs": [],
   "source": [
    "from sklearn.linear_model import SGDClassifier"
   ]
  },
  {
   "cell_type": "code",
   "execution_count": null,
   "metadata": {
    "colab": {
     "base_uri": "https://localhost:8080/"
    },
    "id": "htusm_ZRdXuO",
    "outputId": "371ddb2e-9f3f-4301-e197-9a77d8a43ccb"
   },
   "outputs": [
    {
     "data": {
      "text/plain": [
       "TfidfVectorizer(decode_error='ignore')"
      ]
     },
     "execution_count": 16,
     "metadata": {},
     "output_type": "execute_result"
    }
   ],
   "source": [
    "from sklearn.feature_extraction.text import TfidfVectorizer\n",
    "#vectorizer = TfidfVectorizer(max_features = 10000, decode_error=\"ignore\")\n",
    "vectorizer = TfidfVectorizer(decode_error=\"ignore\")\n",
    "vectorizer.fit(x_train)"
   ]
  },
  {
   "cell_type": "code",
   "execution_count": null,
   "metadata": {
    "colab": {
     "base_uri": "https://localhost:8080/"
    },
    "id": "8bIzZGxAdanu",
    "outputId": "e64472c4-8f9b-4918-98bb-f9c750612b95"
   },
   "outputs": [
    {
     "name": "stderr",
     "output_type": "stream",
     "text": [
      "/usr/local/lib/python3.7/dist-packages/sklearn/linear_model/_stochastic_gradient.py:700: ConvergenceWarning: Maximum number of iteration reached before convergence. Consider increasing max_iter to improve the fit.\n",
      "  ConvergenceWarning,\n"
     ]
    },
    {
     "data": {
      "text/plain": [
       "SGDClassifier(max_iter=10)"
      ]
     },
     "execution_count": 32,
     "metadata": {},
     "output_type": "execute_result"
    }
   ],
   "source": [
    "clf = SGDClassifier(loss=\"hinge\", penalty=\"l2\", max_iter=10)\n",
    "#clf = SGDClassifier(loss=\"squared_error\", penalty=\"l2\", max_iter=10)\n",
    "#clf = SGDClassifier(loss=\"log\", penalty=\"l2\", max_iter=10)\n",
    "clf.fit(vectorizer.transform(x_train),y_train)"
   ]
  },
  {
   "cell_type": "code",
   "execution_count": null,
   "metadata": {
    "colab": {
     "base_uri": "https://localhost:8080/"
    },
    "id": "XNOUbLLPdla-",
    "outputId": "6b6eb795-63e4-45a2-ebb3-d238078518ea"
   },
   "outputs": [
    {
     "name": "stdout",
     "output_type": "stream",
     "text": [
      "              precision    recall  f1-score   support\n",
      "\n",
      "           0       0.82      0.85      0.84       952\n",
      "           1       0.87      0.84      0.85      1075\n",
      "\n",
      "    accuracy                           0.85      2027\n",
      "   macro avg       0.84      0.85      0.84      2027\n",
      "weighted avg       0.85      0.85      0.85      2027\n",
      "\n"
     ]
    }
   ],
   "source": [
    "\n",
    "y_pred = clf.predict(vectorizer.transform(x_dev))\n",
    "print(classification_report(y_dev, y_pred))"
   ]
  },
  {
   "cell_type": "code",
   "execution_count": null,
   "metadata": {
    "id": "Rz2rCOwmdtT9"
   },
   "outputs": [],
   "source": [
    "#"
   ]
  },
  {
   "cell_type": "markdown",
   "metadata": {
    "id": "6wtWALawezxq"
   },
   "source": [
    "Tf-idf with lightgbm classifier"
   ]
  },
  {
   "cell_type": "code",
   "execution_count": null,
   "metadata": {
    "colab": {
     "base_uri": "https://localhost:8080/"
    },
    "id": "4hch1jiGe2oB",
    "outputId": "057fcf1e-43b0-43d0-d3ca-25ea774af3e2"
   },
   "outputs": [
    {
     "data": {
      "text/plain": [
       "LGBMClassifier()"
      ]
     },
     "execution_count": 34,
     "metadata": {},
     "output_type": "execute_result"
    }
   ],
   "source": [
    "import lightgbm as lgb\n",
    "clf = lgb.LGBMClassifier()\n",
    "clf.fit(vectorizer.transform(x_train),y_train)"
   ]
  },
  {
   "cell_type": "code",
   "execution_count": null,
   "metadata": {
    "colab": {
     "base_uri": "https://localhost:8080/"
    },
    "id": "6inDMBfOe_l5",
    "outputId": "c8a207de-3ae5-4b60-ba5f-5e2d92dbdd75"
   },
   "outputs": [
    {
     "name": "stdout",
     "output_type": "stream",
     "text": [
      "              precision    recall  f1-score   support\n",
      "\n",
      "           0       0.76      0.79      0.78       952\n",
      "           1       0.81      0.79      0.80      1075\n",
      "\n",
      "    accuracy                           0.79      2027\n",
      "   macro avg       0.79      0.79      0.79      2027\n",
      "weighted avg       0.79      0.79      0.79      2027\n",
      "\n"
     ]
    }
   ],
   "source": [
    "\n",
    "y_pred = clf.predict(vectorizer.transform(x_dev))\n",
    "\n",
    "print(classification_report(y_dev, y_pred))"
   ]
  },
  {
   "cell_type": "code",
   "execution_count": null,
   "metadata": {
    "id": "vCVKNA9RfEN8"
   },
   "outputs": [],
   "source": []
  },
  {
   "cell_type": "markdown",
   "metadata": {
    "id": "T4a5V3Dg8MBQ"
   },
   "source": [
    "Tf-idf \n",
    "with Bidirectional LSTM"
   ]
  },
  {
   "cell_type": "code",
   "execution_count": null,
   "metadata": {
    "colab": {
     "base_uri": "https://localhost:8080/"
    },
    "id": "EWOYuOWC8QUx",
    "outputId": "5730a93b-1934-4fbb-cb17-dd76a0c3b68f"
   },
   "outputs": [
    {
     "data": {
      "text/plain": [
       "TfidfVectorizer(decode_error='ignore', max_features=50)"
      ]
     },
     "execution_count": 36,
     "metadata": {},
     "output_type": "execute_result"
    }
   ],
   "source": [
    "from sklearn.feature_extraction.text import TfidfVectorizer\n",
    "#vectorizer = TfidfVectorizer(max_features = 10000, decode_error=\"ignore\")\n",
    "vectorizer = TfidfVectorizer(max_features = 50, decode_error=\"ignore\")\n",
    "vectorizer.fit(x_train)"
   ]
  },
  {
   "cell_type": "code",
   "execution_count": null,
   "metadata": {
    "colab": {
     "base_uri": "https://localhost:8080/"
    },
    "id": "wLBi6eQm8len",
    "outputId": "ff21bb08-faec-4365-b5f9-896b688e9659"
   },
   "outputs": [
    {
     "name": "stdout",
     "output_type": "stream",
     "text": [
      "Model: \"sequential_2\"\n",
      "_________________________________________________________________\n",
      " Layer (type)                Output Shape              Param #   \n",
      "=================================================================\n",
      " embedding_2 (Embedding)     (None, 50, 80)            400000    \n",
      "                                                                 \n",
      " dropout_4 (Dropout)         (None, 50, 80)            0         \n",
      "                                                                 \n",
      " bidirectional_2 (Bidirectio  (None, 400)              449600    \n",
      " nal)                                                            \n",
      "                                                                 \n",
      " dropout_5 (Dropout)         (None, 400)               0         \n",
      "                                                                 \n",
      " dense_2 (Dense)             (None, 1)                 401       \n",
      "                                                                 \n",
      "=================================================================\n",
      "Total params: 850,001\n",
      "Trainable params: 850,001\n",
      "Non-trainable params: 0\n",
      "_________________________________________________________________\n",
      "None\n"
     ]
    }
   ],
   "source": [
    "##model with dropouts\n",
    "##creating the model\n",
    "vocabulary_size = 5000\n",
    "sent_length = 50\n",
    "from tensorflow.keras.layers import Dropout\n",
    "embedding_feature_vector = 80#sentence will be represented in 80 dimensions\n",
    "model1 = Sequential()\n",
    "model1.add(Embedding(vocabulary_size, embedding_feature_vector, input_length = sent_length))\n",
    "#model.add(LSTM(100))\n",
    "model1.add(Dropout(0.3))\n",
    "model1.add(Bidirectional(LSTM(200)))\n",
    "model1.add(Dropout(0.3))\n",
    "model1.add(Dense(1,activation='sigmoid'))\n",
    "model1.compile(loss='binary_crossentropy',optimizer='adam',metrics=['accuracy'])\n",
    "print(model1.summary())\n"
   ]
  },
  {
   "cell_type": "code",
   "execution_count": null,
   "metadata": {
    "colab": {
     "base_uri": "https://localhost:8080/"
    },
    "id": "zEtpNrU38l8I",
    "outputId": "1aee76b3-8559-4e55-d8da-8b0932af2fb9"
   },
   "outputs": [
    {
     "name": "stdout",
     "output_type": "stream",
     "text": [
      "[[0.         0.         0.         ... 0.         0.39916048 0.        ]\n",
      " [0.         0.         0.         ... 0.         0.         0.        ]\n",
      " [0.         0.         0.         ... 0.         0.         0.        ]\n",
      " ...\n",
      " [0.         0.         0.         ... 0.         0.         0.        ]\n",
      " [0.         0.         0.         ... 0.         0.         0.        ]\n",
      " [0.         0.         0.         ... 0.         0.         0.        ]]\n"
     ]
    }
   ],
   "source": [
    "ip_x = vectorizer.transform(x_train).toarray()\n",
    "dev_x = vectorizer.transform(x_dev).toarray()\n",
    "\n",
    "training_y = np.array(y_train)\n",
    "dev_y = np.array(y_dev)\n",
    "print(ip_x)"
   ]
  },
  {
   "cell_type": "code",
   "execution_count": null,
   "metadata": {
    "colab": {
     "base_uri": "https://localhost:8080/"
    },
    "id": "4ZRV3co08yq2",
    "outputId": "c759e166-3c08-4ed1-ef66-96766394082b"
   },
   "outputs": [
    {
     "data": {
      "text/plain": [
       "(16220, 50)"
      ]
     },
     "execution_count": 39,
     "metadata": {},
     "output_type": "execute_result"
    }
   ],
   "source": [
    "ip_x.shape"
   ]
  },
  {
   "cell_type": "code",
   "execution_count": null,
   "metadata": {
    "colab": {
     "base_uri": "https://localhost:8080/"
    },
    "id": "OAquNCaD80U_",
    "outputId": "8ffadbc6-740f-4289-9c4e-c1d89fa20480"
   },
   "outputs": [
    {
     "name": "stdout",
     "output_type": "stream",
     "text": [
      "Epoch 1/10\n",
      "1014/1014 [==============================] - 221s 217ms/step - loss: 0.6965 - accuracy: 0.4979 - val_loss: 0.6944 - val_accuracy: 0.4697\n",
      "Epoch 2/10\n",
      "1014/1014 [==============================] - 219s 216ms/step - loss: 0.6933 - accuracy: 0.5057 - val_loss: 0.6927 - val_accuracy: 0.4702\n",
      "Epoch 3/10\n",
      "1014/1014 [==============================] - 218s 215ms/step - loss: 0.6932 - accuracy: 0.5004 - val_loss: 0.6948 - val_accuracy: 0.4706\n"
     ]
    },
    {
     "data": {
      "text/plain": [
       "<keras.callbacks.History at 0x7fc7015fd2d0>"
      ]
     },
     "execution_count": 43,
     "metadata": {},
     "output_type": "execute_result"
    }
   ],
   "source": [
    "callback = tf.keras.callbacks.EarlyStopping(monitor='val_loss', patience=1)\n",
    "model1.fit(ip_x, training_y, validation_data=(dev_x,dev_y),epochs = 10, batch_size = 16, callbacks = [callback])"
   ]
  },
  {
   "cell_type": "code",
   "execution_count": null,
   "metadata": {
    "id": "qdvmAjH19QNI"
   },
   "outputs": [],
   "source": []
  },
  {
   "cell_type": "markdown",
   "metadata": {
    "id": "lRuBygFBgwuK"
   },
   "source": [
    "Trying out simple NN with dense and droupout layers"
   ]
  },
  {
   "cell_type": "code",
   "execution_count": null,
   "metadata": {
    "id": "9kyIjKrNgz2n"
   },
   "outputs": [],
   "source": []
  },
  {
   "cell_type": "code",
   "execution_count": null,
   "metadata": {
    "colab": {
     "base_uri": "https://localhost:8080/"
    },
    "id": "GJ_XaPekhEyq",
    "outputId": "e98b6672-dbbc-433a-b295-a90c52d11e36"
   },
   "outputs": [
    {
     "data": {
      "text/plain": [
       "TfidfVectorizer(decode_error='ignore')"
      ]
     },
     "execution_count": 3,
     "metadata": {},
     "output_type": "execute_result"
    }
   ],
   "source": [
    "from sklearn.feature_extraction.text import TfidfVectorizer\n",
    "#vectorizer = TfidfVectorizer(max_features = 10000, decode_error=\"ignore\")\n",
    "vectorizer = TfidfVectorizer(decode_error=\"ignore\")\n",
    "vectorizer.fit(x_train)\n"
   ]
  },
  {
   "cell_type": "code",
   "execution_count": null,
   "metadata": {
    "id": "rhUN6fybhFCQ"
   },
   "outputs": [],
   "source": [
    "\"\"\"\n",
    "model = Sequential()\n",
    "model.add(Dense(100, activation = 'relu'))\n",
    "model.add(Dropout(0.3))\n",
    "model.add(Dense(50, activation = 'relu'))\n",
    "model.add(Dropout(0.3))\n",
    "model.add(Dense(25, activation = 'relu'))\n",
    "model.add(Dense(1, activation = 'sigmoid'))\n",
    "model.compile(loss='binary_crossentropy',optimizer='adam',metrics=['accuracy'])\n",
    "\"\"\"\n",
    "\n",
    "model = Sequential()\n",
    "model.add(Dense(150, activation = 'relu'))\n",
    "model.add(Dropout(0.3))\n",
    "model.add(Dense(75, activation = 'relu'))\n",
    "model.add(Dropout(0.3))\n",
    "model.add(Dense(27, activation = 'relu'))\n",
    "model.add(Dense(1, activation = 'sigmoid'))\n",
    "model.compile(loss='binary_crossentropy',optimizer='adam',metrics=['accuracy'])\n"
   ]
  },
  {
   "cell_type": "code",
   "execution_count": null,
   "metadata": {
    "colab": {
     "base_uri": "https://localhost:8080/"
    },
    "id": "GNFPltR2hvOv",
    "outputId": "3cf2fe71-9bda-410f-a09b-0092464cd06d"
   },
   "outputs": [
    {
     "name": "stdout",
     "output_type": "stream",
     "text": [
      "(16220, 17248)\n"
     ]
    }
   ],
   "source": [
    "ip_x = vectorizer.transform(x_train).toarray()\n",
    "dev_x = vectorizer.transform(x_dev).toarray()\n",
    "\n",
    "print(ip_x.shape)\n",
    "training_y = np.array(y_train)\n",
    "dev_y = np.array(y_dev)\n",
    "#print(ip_x)"
   ]
  },
  {
   "cell_type": "code",
   "execution_count": null,
   "metadata": {
    "colab": {
     "base_uri": "https://localhost:8080/"
    },
    "id": "kVk5lid_h1s4",
    "outputId": "8b24ddc7-ccdc-4641-fe42-d23ec8373e23"
   },
   "outputs": [
    {
     "name": "stdout",
     "output_type": "stream",
     "text": [
      "Epoch 1/10\n",
      "1014/1014 [==============================] - 24s 24ms/step - loss: 0.0259 - accuracy: 0.9835\n",
      "Epoch 2/10\n",
      "1014/1014 [==============================] - 16s 16ms/step - loss: 0.0272 - accuracy: 0.9840\n",
      "Epoch 3/10\n",
      "1014/1014 [==============================] - 16s 16ms/step - loss: 0.0249 - accuracy: 0.9853\n",
      "Epoch 4/10\n",
      "1014/1014 [==============================] - 16s 16ms/step - loss: 0.0247 - accuracy: 0.9846\n",
      "Epoch 5/10\n",
      "1014/1014 [==============================] - 16s 16ms/step - loss: 0.0256 - accuracy: 0.9848\n",
      "Epoch 6/10\n",
      "1014/1014 [==============================] - 16s 16ms/step - loss: 0.0241 - accuracy: 0.9837\n",
      "Epoch 7/10\n",
      "1014/1014 [==============================] - 16s 16ms/step - loss: 0.0232 - accuracy: 0.9856\n",
      "Epoch 8/10\n",
      "1014/1014 [==============================] - 16s 16ms/step - loss: 0.0220 - accuracy: 0.9857\n",
      "Epoch 9/10\n",
      "1014/1014 [==============================] - 16s 16ms/step - loss: 0.0214 - accuracy: 0.9857\n",
      "Epoch 10/10\n",
      "1014/1014 [==============================] - 16s 16ms/step - loss: 0.0209 - accuracy: 0.9862\n"
     ]
    },
    {
     "data": {
      "text/plain": [
       "<keras.callbacks.History at 0x7f3ce1330e50>"
      ]
     },
     "execution_count": 7,
     "metadata": {},
     "output_type": "execute_result"
    }
   ],
   "source": [
    "model.fit(ip_x, training_y, epochs = 10, batch_size = 16)"
   ]
  },
  {
   "cell_type": "code",
   "execution_count": null,
   "metadata": {
    "id": "I10yD65uh2DP"
   },
   "outputs": [],
   "source": [
    "dev_ans_try = model.predict(dev_x)"
   ]
  },
  {
   "cell_type": "code",
   "execution_count": null,
   "metadata": {
    "colab": {
     "base_uri": "https://localhost:8080/"
    },
    "id": "QrxxvFucENeo",
    "outputId": "0216b0f0-5032-4116-870d-b752047171f7"
   },
   "outputs": [
    {
     "name": "stdout",
     "output_type": "stream",
     "text": [
      "              precision    recall  f1-score   support\n",
      "\n",
      "         0.0       0.88      0.88      0.88       953\n",
      "         1.0       0.89      0.89      0.89      1074\n",
      "\n",
      "    accuracy                           0.89      2027\n",
      "   macro avg       0.89      0.89      0.89      2027\n",
      "weighted avg       0.89      0.89      0.89      2027\n",
      "\n"
     ]
    }
   ],
   "source": [
    "## if threshold = 0.75\n",
    "## for class1 recall goes above 91\n",
    "threshold = 0.5\n",
    "for x in range(len(dev_ans_try)):\n",
    "  if dev_ans_try[x] >= threshold:\n",
    "    dev_ans_try[x] = 1\n",
    "\n",
    "  else:\n",
    "    dev_ans_try[x] = 0\n",
    "print(classification_report(dev_ans_try, dev_y))"
   ]
  },
  {
   "cell_type": "code",
   "execution_count": null,
   "metadata": {
    "id": "1Ibz508zER11"
   },
   "outputs": [],
   "source": []
  }
 ],
 "metadata": {
  "colab": {
   "provenance": []
  },
  "kernelspec": {
   "display_name": "Python 3",
   "name": "python3"
  },
  "language_info": {
   "name": "python"
  }
 },
 "nbformat": 4,
 "nbformat_minor": 0
}
